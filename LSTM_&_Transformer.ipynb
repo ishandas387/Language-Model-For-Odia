{
  "nbformat": 4,
  "nbformat_minor": 0,
  "metadata": {
    "colab": {
      "name": "LSTM_trial2.ipynb",
      "provenance": [],
      "collapsed_sections": [],
      "authorship_tag": "ABX9TyOmCD8E4VpKTQpCmVGUYnj4",
      "include_colab_link": true
    },
    "kernelspec": {
      "name": "python3",
      "display_name": "Python 3"
    },
    "accelerator": "GPU"
  },
  "cells": [
    {
      "cell_type": "markdown",
      "metadata": {
        "id": "view-in-github",
        "colab_type": "text"
      },
      "source": [
        "<a href=\"https://colab.research.google.com/github/ishandas387/Language-Model-For-Odia/blob/master/LSTM_%26_Transformer.ipynb\" target=\"_parent\"><img src=\"https://colab.research.google.com/assets/colab-badge.svg\" alt=\"Open In Colab\"/></a>"
      ]
    },
    {
      "cell_type": "markdown",
      "metadata": {
        "id": "PSngcEKuzXRT",
        "colab_type": "text"
      },
      "source": [
        "# Imports\n",
        "\n",
        "imports and installs thats needed\n"
      ]
    },
    {
      "cell_type": "code",
      "metadata": {
        "id": "06MM5PBMzMaP",
        "colab_type": "code",
        "colab": {
          "base_uri": "https://localhost:8080/",
          "height": 315
        },
        "outputId": "9c5d8a4e-b88b-407e-d930-8796a8771c48"
      },
      "source": [
        "!pip install chart_studio\n",
        "import numpy as np \n",
        "import pandas as pd\n",
        "import matplotlib.pyplot as plt\n",
        "import seaborn as sns\n",
        "from keras.preprocessing.text import Tokenizer\n",
        "from keras.preprocessing.sequence import pad_sequences\n",
        "from keras.models import Sequential\n",
        "from keras.optimizers import Adam\n",
        "from keras.layers import Dense, Embedding, LSTM, SpatialDropout1D\n",
        "from sklearn.model_selection import train_test_split\n",
        "from keras.utils.np_utils import to_categorical\n",
        "from keras.callbacks import EarlyStopping\n",
        "from keras.layers import Dropout\n",
        "import re\n",
        "from bs4 import BeautifulSoup\n",
        "import chart_studio as cs\n",
        "#import plotly.graph_objs as go\n",
        "#import plotly.plotly as py\n",
        "import cufflinks\n",
        "from IPython.core.interactiveshell import InteractiveShell\n",
        "#import plotly.figure_factory as ff\n",
        "InteractiveShell.ast_node_interactivity = 'all'\n",
        "from plotly.offline import iplot\n",
        "\n"
      ],
      "execution_count": 1,
      "outputs": [
        {
          "output_type": "stream",
          "text": [
            "Collecting chart_studio\n",
            "\u001b[?25l  Downloading https://files.pythonhosted.org/packages/ca/ce/330794a6b6ca4b9182c38fc69dd2a9cbff60fd49421cb8648ee5fee352dc/chart_studio-1.1.0-py3-none-any.whl (64kB)\n",
            "\r\u001b[K     |█████                           | 10kB 22.5MB/s eta 0:00:01\r\u001b[K     |██████████▏                     | 20kB 4.6MB/s eta 0:00:01\r\u001b[K     |███████████████▎                | 30kB 5.8MB/s eta 0:00:01\r\u001b[K     |████████████████████▍           | 40kB 5.9MB/s eta 0:00:01\r\u001b[K     |█████████████████████████▍      | 51kB 5.0MB/s eta 0:00:01\r\u001b[K     |██████████████████████████████▌ | 61kB 5.7MB/s eta 0:00:01\r\u001b[K     |████████████████████████████████| 71kB 4.1MB/s \n",
            "\u001b[?25hRequirement already satisfied: plotly in /usr/local/lib/python3.6/dist-packages (from chart_studio) (4.4.1)\n",
            "Requirement already satisfied: six in /usr/local/lib/python3.6/dist-packages (from chart_studio) (1.12.0)\n",
            "Requirement already satisfied: retrying>=1.3.3 in /usr/local/lib/python3.6/dist-packages (from chart_studio) (1.3.3)\n",
            "Requirement already satisfied: requests in /usr/local/lib/python3.6/dist-packages (from chart_studio) (2.23.0)\n",
            "Requirement already satisfied: idna<3,>=2.5 in /usr/local/lib/python3.6/dist-packages (from requests->chart_studio) (2.9)\n",
            "Requirement already satisfied: urllib3!=1.25.0,!=1.25.1,<1.26,>=1.21.1 in /usr/local/lib/python3.6/dist-packages (from requests->chart_studio) (1.24.3)\n",
            "Requirement already satisfied: chardet<4,>=3.0.2 in /usr/local/lib/python3.6/dist-packages (from requests->chart_studio) (3.0.4)\n",
            "Requirement already satisfied: certifi>=2017.4.17 in /usr/local/lib/python3.6/dist-packages (from requests->chart_studio) (2020.6.20)\n",
            "Installing collected packages: chart-studio\n",
            "Successfully installed chart-studio-1.1.0\n"
          ],
          "name": "stdout"
        },
        {
          "output_type": "stream",
          "text": [
            "/usr/local/lib/python3.6/dist-packages/statsmodels/tools/_testing.py:19: FutureWarning: pandas.util.testing is deprecated. Use the functions in the public API at pandas.testing instead.\n",
            "  import pandas.util.testing as tm\n",
            "Using TensorFlow backend.\n"
          ],
          "name": "stderr"
        }
      ]
    },
    {
      "cell_type": "markdown",
      "metadata": {
        "id": "bgHw_UibzsQ9",
        "colab_type": "text"
      },
      "source": [
        "Check the GPU"
      ]
    },
    {
      "cell_type": "code",
      "metadata": {
        "id": "aV-uNofUzpe9",
        "colab_type": "code",
        "colab": {
          "base_uri": "https://localhost:8080/",
          "height": 35
        },
        "outputId": "4fc45596-1f58-4a1e-e7fd-c32bea325485"
      },
      "source": [
        "%tensorflow_version 2.x\n",
        "import tensorflow as tf\n",
        "device_name = tf.test.gpu_device_name()\n",
        "if device_name != '/device:GPU:0':\n",
        "  raise SystemError('GPU device not found')\n",
        "print('Found GPU at: {}'.format(device_name))"
      ],
      "execution_count": 2,
      "outputs": [
        {
          "output_type": "stream",
          "text": [
            "Found GPU at: /device:GPU:0\n"
          ],
          "name": "stdout"
        }
      ]
    },
    {
      "cell_type": "markdown",
      "metadata": {
        "id": "Gu_AaiSXzzpD",
        "colab_type": "text"
      },
      "source": [
        "# Data"
      ]
    },
    {
      "cell_type": "code",
      "metadata": {
        "id": "y4Ygafs7zxiF",
        "colab_type": "code",
        "colab": {
          "base_uri": "https://localhost:8080/",
          "height": 202
        },
        "outputId": "e45adb53-d3f7-49f4-f03a-2c4288021629"
      },
      "source": [
        "df = pd.read_csv('odia_news_sambad_headlines.csv')\n",
        "df.tail()"
      ],
      "execution_count": 3,
      "outputs": [
        {
          "output_type": "execute_result",
          "data": {
            "text/html": [
              "<div>\n",
              "<style scoped>\n",
              "    .dataframe tbody tr th:only-of-type {\n",
              "        vertical-align: middle;\n",
              "    }\n",
              "\n",
              "    .dataframe tbody tr th {\n",
              "        vertical-align: top;\n",
              "    }\n",
              "\n",
              "    .dataframe thead th {\n",
              "        text-align: right;\n",
              "    }\n",
              "</style>\n",
              "<table border=\"1\" class=\"dataframe\">\n",
              "  <thead>\n",
              "    <tr style=\"text-align: right;\">\n",
              "      <th></th>\n",
              "      <th>headings</th>\n",
              "      <th>label</th>\n",
              "    </tr>\n",
              "  </thead>\n",
              "  <tbody>\n",
              "    <tr>\n",
              "      <th>24736</th>\n",
              "      <td>ଦିନକରେ ନିବେଶକ ହରାଇଲେ ୧.୭ ଲକ୍ଷ କୋଟି</td>\n",
              "      <td>business</td>\n",
              "    </tr>\n",
              "    <tr>\n",
              "      <th>24737</th>\n",
              "      <td>ସୋବିସ୍କୋ ବିସ୍କୁଟ ବିକ୍ରିରେ ୬୦% ବୃଦ୍ଧି</td>\n",
              "      <td>business</td>\n",
              "    </tr>\n",
              "    <tr>\n",
              "      <th>24738</th>\n",
              "      <td>ରାହୁଲଙ୍କ ସହ ଆଲୋଚନା ବେଳେ ରାଜନଙ୍କ ପରାମର୍ଶ: ଗରି...</td>\n",
              "      <td>business</td>\n",
              "    </tr>\n",
              "    <tr>\n",
              "      <th>24739</th>\n",
              "      <td>୨୦୨୦ ଏପ୍ରିଲ୍‌ରୁ ‘ବିଏସ୍‌-୪ କାର୍‌’ ବିକ୍ରି ବନ୍ଦ</td>\n",
              "      <td>business</td>\n",
              "    </tr>\n",
              "    <tr>\n",
              "      <th>24740</th>\n",
              "      <td>ଆମାଜନ୍‌ ପେ ଏବେ ଡୋମିନୋସ୍‌ରେ ଗ୍ରହଣୀୟ ହେବ</td>\n",
              "      <td>business</td>\n",
              "    </tr>\n",
              "  </tbody>\n",
              "</table>\n",
              "</div>"
            ],
            "text/plain": [
              "                                                headings     label\n",
              "24736               ଦିନକରେ ନିବେଶକ ହରାଇଲେ ୧.୭ ଲକ୍ଷ କୋଟି   business\n",
              "24737            ସୋବିସ୍କୋ ବିସ୍କୁଟ ବିକ୍ରିରେ ୬୦% ବୃଦ୍ଧି   business\n",
              "24738   ରାହୁଲଙ୍କ ସହ ଆଲୋଚନା ବେଳେ ରାଜନଙ୍କ ପରାମର୍ଶ: ଗରି...  business\n",
              "24739      ୨୦୨୦ ଏପ୍ରିଲ୍‌ରୁ ‘ବିଏସ୍‌-୪ କାର୍‌’ ବିକ୍ରି ବନ୍ଦ   business\n",
              "24740            ଆମାଜନ୍‌ ପେ ଏବେ ଡୋମିନୋସ୍‌ରେ ଗ୍ରହଣୀୟ ହେବ   business"
            ]
          },
          "metadata": {
            "tags": []
          },
          "execution_count": 3
        }
      ]
    },
    {
      "cell_type": "markdown",
      "metadata": {
        "id": "H7YOypru1tMa",
        "colab_type": "text"
      },
      "source": [
        "## Preprocessing\n",
        "\n",
        "Cleaining, shuffling stuff"
      ]
    },
    {
      "cell_type": "code",
      "metadata": {
        "id": "Ab-5A18p1810",
        "colab_type": "code",
        "colab": {
          "base_uri": "https://localhost:8080/",
          "height": 271
        },
        "outputId": "069055bb-9d53-4404-cd74-f6de90e2cf67"
      },
      "source": [
        "def to_label(label):\n",
        "  label = str(label)\n",
        "  if label == 'state':\n",
        "    return 0\n",
        "  elif label == 'sports':\n",
        "    return 1\n",
        "  else: \n",
        "    return 2\n",
        "\n",
        "df['label'] = df.label.apply(to_label)\n",
        "df.head()\n",
        "df['label'].value_counts()\n",
        "\n",
        "def remove_URL(text):\n",
        "    url = re.compile(r\"https?://\\S+|www\\.\\S+\")\n",
        "    return url.sub(r\"\", text)\n",
        "\n",
        "\n",
        "def remove_html(text):\n",
        "    html = re.compile(r\"<.*?>\")\n",
        "    return html.sub(r\"\", text)\n",
        "\n",
        "import string\n",
        "\n",
        "def remove_punct(text):\n",
        "    table = str.maketrans(\"\", \"\", string.punctuation)\n",
        "    return text.translate(table)\n",
        "\n",
        "def odia_num_remove(text):\n",
        "  text_new = \"\"\n",
        "  odia_num =['୦',         \n",
        "  '୧',\t\n",
        "\t'୨',\t\n",
        "\t'୩',\t\n",
        "\t'୪',\t\n",
        "\t'୫',\t\n",
        "\t'୬',\t\n",
        "\t'୭',\t\n",
        "\t'୮',\t\n",
        "\t'୯',\n",
        "  '‘',\n",
        "  '’']\n",
        "  for char in text:\n",
        "    if char not in odia_num:\n",
        "      text_new = text_new + char\n",
        "  return text_new\n"
      ],
      "execution_count": 5,
      "outputs": [
        {
          "output_type": "execute_result",
          "data": {
            "text/html": [
              "<div>\n",
              "<style scoped>\n",
              "    .dataframe tbody tr th:only-of-type {\n",
              "        vertical-align: middle;\n",
              "    }\n",
              "\n",
              "    .dataframe tbody tr th {\n",
              "        vertical-align: top;\n",
              "    }\n",
              "\n",
              "    .dataframe thead th {\n",
              "        text-align: right;\n",
              "    }\n",
              "</style>\n",
              "<table border=\"1\" class=\"dataframe\">\n",
              "  <thead>\n",
              "    <tr style=\"text-align: right;\">\n",
              "      <th></th>\n",
              "      <th>headings</th>\n",
              "      <th>label</th>\n",
              "    </tr>\n",
              "  </thead>\n",
              "  <tbody>\n",
              "    <tr>\n",
              "      <th>0</th>\n",
              "      <td>ବରଗଡ଼ରେ ଗଂଜେଇ, ସିରପ୍‌ ରାକେଟ୍‌ ଠାବ : ୭୨ କିଲୋ ଗ...</td>\n",
              "      <td>0</td>\n",
              "    </tr>\n",
              "    <tr>\n",
              "      <th>1</th>\n",
              "      <td>୨ଜଣ ବରିଷ୍ଠ ଓଏଏସ୍‌ଙ୍କୁ କୋଭିଡ୍‌ ହସ୍ପିଟାଲ ଦାୟିତ୍...</td>\n",
              "      <td>0</td>\n",
              "    </tr>\n",
              "    <tr>\n",
              "      <th>2</th>\n",
              "      <td>ଅଧ୍ୟାପକଙ୍କ ଅବସର ବୟସ ବୃଦ୍ଧିକୁ ନେଇ ମାମଲା</td>\n",
              "      <td>0</td>\n",
              "    </tr>\n",
              "    <tr>\n",
              "      <th>3</th>\n",
              "      <td>ଭଦ୍ରକ ବିଜେଡିର ବ୍ଲକ ଓ ପୌରାଞ୍ଚଳସ୍ତରୀୟ କର୍ମକର୍ତ...</td>\n",
              "      <td>0</td>\n",
              "    </tr>\n",
              "    <tr>\n",
              "      <th>4</th>\n",
              "      <td>ଆଜି ସର୍ବାଧିକ ୩୦୪ଜଣ କରୋନା ପଜିଟିଭ୍ ଚିହ୍ନଟ, ରାଜ୍...</td>\n",
              "      <td>0</td>\n",
              "    </tr>\n",
              "  </tbody>\n",
              "</table>\n",
              "</div>"
            ],
            "text/plain": [
              "                                            headings  label\n",
              "0   ବରଗଡ଼ରେ ଗଂଜେଇ, ସିରପ୍‌ ରାକେଟ୍‌ ଠାବ : ୭୨ କିଲୋ ଗ...      0\n",
              "1   ୨ଜଣ ବରିଷ୍ଠ ଓଏଏସ୍‌ଙ୍କୁ କୋଭିଡ୍‌ ହସ୍ପିଟାଲ ଦାୟିତ୍...      0\n",
              "2            ଅଧ୍ୟାପକଙ୍କ ଅବସର ବୟସ ବୃଦ୍ଧିକୁ ନେଇ ମାମଲା       0\n",
              "3   ଭଦ୍ରକ ବିଜେଡିର ବ୍ଲକ ଓ ପୌରାଞ୍ଚଳସ୍ତରୀୟ କର୍ମକର୍ତ...      0\n",
              "4   ଆଜି ସର୍ବାଧିକ ୩୦୪ଜଣ କରୋନା ପଜିଟିଭ୍ ଚିହ୍ନଟ, ରାଜ୍...      0"
            ]
          },
          "metadata": {
            "tags": []
          },
          "execution_count": 5
        },
        {
          "output_type": "execute_result",
          "data": {
            "text/plain": [
              "0    8980\n",
              "1    8969\n",
              "2    6792\n",
              "Name: label, dtype: int64"
            ]
          },
          "metadata": {
            "tags": []
          },
          "execution_count": 5
        }
      ]
    },
    {
      "cell_type": "code",
      "metadata": {
        "id": "USczgHq64MCZ",
        "colab_type": "code",
        "colab": {
          "base_uri": "https://localhost:8080/",
          "height": 35
        },
        "outputId": "81ddf834-44c8-4cf7-dbcd-5f9b660b538b"
      },
      "source": [
        "test_string=\"t're is, a test! www.googfle.com\\ // #test\"\n",
        "test_string = remove_URL(test_string)\n",
        "test_string = remove_html(test_string)\n",
        "print(remove_punct(test_string))"
      ],
      "execution_count": 6,
      "outputs": [
        {
          "output_type": "stream",
          "text": [
            "tre is a test   test\n"
          ],
          "name": "stdout"
        }
      ]
    },
    {
      "cell_type": "code",
      "metadata": {
        "id": "9HVvdV5mzoCE",
        "colab_type": "code",
        "colab": {
          "base_uri": "https://localhost:8080/",
          "height": 52
        },
        "outputId": "040f5fcf-7ed6-4428-a379-690957d68306"
      },
      "source": [
        "print(df.head(1))"
      ],
      "execution_count": 7,
      "outputs": [
        {
          "output_type": "stream",
          "text": [
            "                                            headings  label\n",
            "0   ବରଗଡ଼ରେ ଗଂଜେଇ, ସିରପ୍‌ ରାକେଟ୍‌ ଠାବ : ୭୨ କିଲୋ ଗ...      0\n"
          ],
          "name": "stdout"
        }
      ]
    },
    {
      "cell_type": "code",
      "metadata": {
        "id": "JnqPMQI24NbO",
        "colab_type": "code",
        "colab": {
          "base_uri": "https://localhost:8080/",
          "height": 355
        },
        "outputId": "c4ad62c9-c8e3-493b-ccc9-b1463237e241"
      },
      "source": [
        "df[\"headings\"] = df.headings.map(lambda x: remove_URL(x))\n",
        "df[\"headings\"] = df.headings.map(lambda x: remove_html(x))\n",
        "df[\"headings\"] = df.headings.map(lambda x: remove_punct(x))\n",
        "df[\"headings\"] = df.headings.map(lambda x: odia_num_remove(x))\n",
        "\n",
        "\n",
        "#Using regex with .str.findall and .str.join appears to be fastest:\n",
        "\n",
        "#df['headings'] = df['headings'].str.findall('\\w{3,}').str.join(' ')\n",
        "df['headings'] = df['headings'].str.split().map(lambda sl: \" \".join(s for s in sl if len(s) > 3))\n",
        "\n",
        "\n",
        "df.head(10)"
      ],
      "execution_count": 8,
      "outputs": [
        {
          "output_type": "execute_result",
          "data": {
            "text/html": [
              "<div>\n",
              "<style scoped>\n",
              "    .dataframe tbody tr th:only-of-type {\n",
              "        vertical-align: middle;\n",
              "    }\n",
              "\n",
              "    .dataframe tbody tr th {\n",
              "        vertical-align: top;\n",
              "    }\n",
              "\n",
              "    .dataframe thead th {\n",
              "        text-align: right;\n",
              "    }\n",
              "</style>\n",
              "<table border=\"1\" class=\"dataframe\">\n",
              "  <thead>\n",
              "    <tr style=\"text-align: right;\">\n",
              "      <th></th>\n",
              "      <th>headings</th>\n",
              "      <th>label</th>\n",
              "    </tr>\n",
              "  </thead>\n",
              "  <tbody>\n",
              "    <tr>\n",
              "      <th>0</th>\n",
              "      <td>ବରଗଡ଼ରେ ଗଂଜେଇ ସିରପ୍‌ ରାକେଟ୍‌ କିଲୋ ଗଂଜେଇ ବୋତଲ ...</td>\n",
              "      <td>0</td>\n",
              "    </tr>\n",
              "    <tr>\n",
              "      <th>1</th>\n",
              "      <td>ବରିଷ୍ଠ ଓଏଏସ୍‌ଙ୍କୁ କୋଭିଡ୍‌ ହସ୍ପିଟାଲ ଦାୟିତ୍ବ ଦେଲ...</td>\n",
              "      <td>0</td>\n",
              "    </tr>\n",
              "    <tr>\n",
              "      <th>2</th>\n",
              "      <td>ଅଧ୍ୟାପକଙ୍କ ଅବସର ବୃଦ୍ଧିକୁ ମାମଲା</td>\n",
              "      <td>0</td>\n",
              "    </tr>\n",
              "    <tr>\n",
              "      <th>3</th>\n",
              "      <td>ଭଦ୍ରକ ବିଜେଡିର ବ୍ଲକ ପୌରାଞ୍ଚଳସ୍ତରୀୟ କର୍ମକର୍ତ୍ତା...</td>\n",
              "      <td>0</td>\n",
              "    </tr>\n",
              "    <tr>\n",
              "      <th>4</th>\n",
              "      <td>ସର୍ବାଧିକ କରୋନା ପଜିଟିଭ୍ ଚିହ୍ନଟ ରାଜ୍ୟରେ ଆକ୍ରାନ୍ତ...</td>\n",
              "      <td>0</td>\n",
              "    </tr>\n",
              "    <tr>\n",
              "      <th>5</th>\n",
              "      <td>ରାଜ୍ୟର ହଜାର ପୂଜକଙ୍କୁ ସହାୟତା ସୋଏମଆଇ ସଂଗଠନ ବାରି...</td>\n",
              "      <td>0</td>\n",
              "    </tr>\n",
              "    <tr>\n",
              "      <th>6</th>\n",
              "      <td>ପୁଅର ଦୋଷ ପାଇଁ ଦୁଆର ବର୍ଷ ହେଲା ଘରକୁ ଫେରିପାରୁ ନା...</td>\n",
              "      <td>0</td>\n",
              "    </tr>\n",
              "    <tr>\n",
              "      <th>7</th>\n",
              "      <td>କଟକରେ ଏସ୍‌ଆଇଟି ବୈଠକ ନିର୍ବାଚନରେ କଳାଟଙ୍କା ଉପରେ</td>\n",
              "      <td>0</td>\n",
              "    </tr>\n",
              "    <tr>\n",
              "      <th>8</th>\n",
              "      <td>ଆନ୍ତଃରାଜ୍ୟ ଯାତାୟତ ପାଇଁ ଜାରି ହେଲା ଗାଇଡ୍‌ଲାଇନ୍‌ ...</td>\n",
              "      <td>0</td>\n",
              "    </tr>\n",
              "    <tr>\n",
              "      <th>9</th>\n",
              "      <td>କରୋନା ଖୋଲୁଛି ଗୁମର ଦୁର୍ନୀତିର ଦୁର୍ନାମ କେତେ</td>\n",
              "      <td>0</td>\n",
              "    </tr>\n",
              "  </tbody>\n",
              "</table>\n",
              "</div>"
            ],
            "text/plain": [
              "                                            headings  label\n",
              "0  ବରଗଡ଼ରେ ଗଂଜେଇ ସିରପ୍‌ ରାକେଟ୍‌ କିଲୋ ଗଂଜେଇ ବୋତଲ ...      0\n",
              "1  ବରିଷ୍ଠ ଓଏଏସ୍‌ଙ୍କୁ କୋଭିଡ୍‌ ହସ୍ପିଟାଲ ଦାୟିତ୍ବ ଦେଲ...      0\n",
              "2                     ଅଧ୍ୟାପକଙ୍କ ଅବସର ବୃଦ୍ଧିକୁ ମାମଲା      0\n",
              "3  ଭଦ୍ରକ ବିଜେଡିର ବ୍ଲକ ପୌରାଞ୍ଚଳସ୍ତରୀୟ କର୍ମକର୍ତ୍ତା...      0\n",
              "4  ସର୍ବାଧିକ କରୋନା ପଜିଟିଭ୍ ଚିହ୍ନଟ ରାଜ୍ୟରେ ଆକ୍ରାନ୍ତ...      0\n",
              "5  ରାଜ୍ୟର ହଜାର ପୂଜକଙ୍କୁ ସହାୟତା ସୋଏମଆଇ ସଂଗଠନ ବାରି...      0\n",
              "6  ପୁଅର ଦୋଷ ପାଇଁ ଦୁଆର ବର୍ଷ ହେଲା ଘରକୁ ଫେରିପାରୁ ନା...      0\n",
              "7      କଟକରେ ଏସ୍‌ଆଇଟି ବୈଠକ ନିର୍ବାଚନରେ କଳାଟଙ୍କା ଉପରେ      0\n",
              "8  ଆନ୍ତଃରାଜ୍ୟ ଯାତାୟତ ପାଇଁ ଜାରି ହେଲା ଗାଇଡ୍‌ଲାଇନ୍‌ ...      0\n",
              "9           କରୋନା ଖୋଲୁଛି ଗୁମର ଦୁର୍ନୀତିର ଦୁର୍ନାମ କେତେ      0"
            ]
          },
          "metadata": {
            "tags": []
          },
          "execution_count": 8
        }
      ]
    },
    {
      "cell_type": "code",
      "metadata": {
        "id": "77lj95SQ6TXy",
        "colab_type": "code",
        "colab": {
          "base_uri": "https://localhost:8080/",
          "height": 87
        },
        "outputId": "2e772eb2-eeea-4fe8-953d-21e334a89494"
      },
      "source": [
        "df['label'].value_counts()"
      ],
      "execution_count": 9,
      "outputs": [
        {
          "output_type": "execute_result",
          "data": {
            "text/plain": [
              "0    8980\n",
              "1    8969\n",
              "2    6792\n",
              "Name: label, dtype: int64"
            ]
          },
          "metadata": {
            "tags": []
          },
          "execution_count": 9
        }
      ]
    },
    {
      "cell_type": "code",
      "metadata": {
        "id": "nXqIuYe34T1Y",
        "colab_type": "code",
        "colab": {
          "base_uri": "https://localhost:8080/",
          "height": 355
        },
        "outputId": "8f165b57-6a73-4cc4-8c4b-1a35d95c7c9e"
      },
      "source": [
        "#shuffle\n",
        "df = df.sample(frac=1).reset_index(drop=True)\n",
        "df.head(10)"
      ],
      "execution_count": 10,
      "outputs": [
        {
          "output_type": "execute_result",
          "data": {
            "text/html": [
              "<div>\n",
              "<style scoped>\n",
              "    .dataframe tbody tr th:only-of-type {\n",
              "        vertical-align: middle;\n",
              "    }\n",
              "\n",
              "    .dataframe tbody tr th {\n",
              "        vertical-align: top;\n",
              "    }\n",
              "\n",
              "    .dataframe thead th {\n",
              "        text-align: right;\n",
              "    }\n",
              "</style>\n",
              "<table border=\"1\" class=\"dataframe\">\n",
              "  <thead>\n",
              "    <tr style=\"text-align: right;\">\n",
              "      <th></th>\n",
              "      <th>headings</th>\n",
              "      <th>label</th>\n",
              "    </tr>\n",
              "  </thead>\n",
              "  <tbody>\n",
              "    <tr>\n",
              "      <th>0</th>\n",
              "      <td>ପୂର୍ବତନ ବିଧାୟକଙ୍କ ଗାଡିକୁ ଗୁଳିମାଡ ଘଟଣା ସପ୍ତାହ ପ...</td>\n",
              "      <td>0</td>\n",
              "    </tr>\n",
              "    <tr>\n",
              "      <th>1</th>\n",
              "      <td>ଅନ୍ତଃଜିଲ୍ଲା କନିଷ୍ଠ ଥ୍ରୋ ବଲ୍‌ ପୁରୀକୁ ଦ୍ୱିମୁକୁଟ</td>\n",
              "      <td>1</td>\n",
              "    </tr>\n",
              "    <tr>\n",
              "      <th>2</th>\n",
              "      <td>ସେପ୍ଟେମ୍ବର ମିଳିବ ଗିଗା ଫାଇବର୍ ଟଙ୍କାରୁ ପ୍ଲାନ୍ ଆରମ୍ଭ</td>\n",
              "      <td>2</td>\n",
              "    </tr>\n",
              "    <tr>\n",
              "      <th>3</th>\n",
              "      <td>ସାଣ୍ଡିଜ୍ ଟାୱାର ପ୍ରତିଷ୍ଠାତା ସମ୍ମାନିତ</td>\n",
              "      <td>2</td>\n",
              "    </tr>\n",
              "    <tr>\n",
              "      <th>4</th>\n",
              "      <td>ରାଷ୍ଟ୍ରାୟତ ବ୍ୟାଙ୍କ ଉପରେ ଜରିମାନା ଲଗାଇଲା ରିଜର୍ଭ ...</td>\n",
              "      <td>2</td>\n",
              "    </tr>\n",
              "    <tr>\n",
              "      <th>5</th>\n",
              "      <td>ଚିନ୍ତାରେ ପୁଲିସ ଲକ୍‌ଡାଉନ୍‌ ଖିଲାପକାରୀଙ୍କୁ ଦଣ୍ଡ କ...</td>\n",
              "      <td>0</td>\n",
              "    </tr>\n",
              "    <tr>\n",
              "      <th>6</th>\n",
              "      <td>ଶକ୍ତିକାନ୍ତଙ୍କ ଦ୍ବିତୀୟ ଟନିକ୍ ପଶ୍ଚାତଗାମୀ ରେପୋ ହ...</td>\n",
              "      <td>2</td>\n",
              "    </tr>\n",
              "    <tr>\n",
              "      <th>7</th>\n",
              "      <td>କେତେ ଅଘଟଣ ସରକାର ଚେତିବେ</td>\n",
              "      <td>0</td>\n",
              "    </tr>\n",
              "    <tr>\n",
              "      <th>8</th>\n",
              "      <td>ବାସୁଦେବପୁର ଫୁଟ୍ ପାଣି ଟାଙ୍କି ଉପରେ ଟ୍ରାକ୍ଟର ଡ୍ରା...</td>\n",
              "      <td>0</td>\n",
              "    </tr>\n",
              "    <tr>\n",
              "      <th>9</th>\n",
              "      <td>ବିଏସ୍‌ଏନ୍‌ଏଲ୍‌କୁ ବଞ୍ଚାଇବାକୁ ଚାହୁଛୁ ମନ୍ତ୍ରୀ ରବି...</td>\n",
              "      <td>2</td>\n",
              "    </tr>\n",
              "  </tbody>\n",
              "</table>\n",
              "</div>"
            ],
            "text/plain": [
              "                                            headings  label\n",
              "0  ପୂର୍ବତନ ବିଧାୟକଙ୍କ ଗାଡିକୁ ଗୁଳିମାଡ ଘଟଣା ସପ୍ତାହ ପ...      0\n",
              "1      ଅନ୍ତଃଜିଲ୍ଲା କନିଷ୍ଠ ଥ୍ରୋ ବଲ୍‌ ପୁରୀକୁ ଦ୍ୱିମୁକୁଟ      1\n",
              "2  ସେପ୍ଟେମ୍ବର ମିଳିବ ଗିଗା ଫାଇବର୍ ଟଙ୍କାରୁ ପ୍ଲାନ୍ ଆରମ୍ଭ      2\n",
              "3                ସାଣ୍ଡିଜ୍ ଟାୱାର ପ୍ରତିଷ୍ଠାତା ସମ୍ମାନିତ      2\n",
              "4  ରାଷ୍ଟ୍ରାୟତ ବ୍ୟାଙ୍କ ଉପରେ ଜରିମାନା ଲଗାଇଲା ରିଜର୍ଭ ...      2\n",
              "5  ଚିନ୍ତାରେ ପୁଲିସ ଲକ୍‌ଡାଉନ୍‌ ଖିଲାପକାରୀଙ୍କୁ ଦଣ୍ଡ କ...      0\n",
              "6  ଶକ୍ତିକାନ୍ତଙ୍କ ଦ୍ବିତୀୟ ଟନିକ୍ ପଶ୍ଚାତଗାମୀ ରେପୋ ହ...      2\n",
              "7                             କେତେ ଅଘଟଣ ସରକାର ଚେତିବେ      0\n",
              "8  ବାସୁଦେବପୁର ଫୁଟ୍ ପାଣି ଟାଙ୍କି ଉପରେ ଟ୍ରାକ୍ଟର ଡ୍ରା...      0\n",
              "9  ବିଏସ୍‌ଏନ୍‌ଏଲ୍‌କୁ ବଞ୍ଚାଇବାକୁ ଚାହୁଛୁ ମନ୍ତ୍ରୀ ରବି...      2"
            ]
          },
          "metadata": {
            "tags": []
          },
          "execution_count": 10
        }
      ]
    },
    {
      "cell_type": "code",
      "metadata": {
        "id": "lvZAdkTp6W3l",
        "colab_type": "code",
        "colab": {
          "base_uri": "https://localhost:8080/",
          "height": 87
        },
        "outputId": "85e38f72-451b-4225-90dd-6be8b30b2c4c"
      },
      "source": [
        "df['label'].value_counts()"
      ],
      "execution_count": 11,
      "outputs": [
        {
          "output_type": "execute_result",
          "data": {
            "text/plain": [
              "0    8980\n",
              "1    8969\n",
              "2    6792\n",
              "Name: label, dtype: int64"
            ]
          },
          "metadata": {
            "tags": []
          },
          "execution_count": 11
        }
      ]
    },
    {
      "cell_type": "code",
      "metadata": {
        "id": "lagwrXF44e0O",
        "colab_type": "code",
        "colab": {
          "base_uri": "https://localhost:8080/",
          "height": 173
        },
        "outputId": "ac19bcc8-74c7-4657-8995-48f5297d0919"
      },
      "source": [
        "df.info()"
      ],
      "execution_count": 12,
      "outputs": [
        {
          "output_type": "stream",
          "text": [
            "<class 'pandas.core.frame.DataFrame'>\n",
            "RangeIndex: 24741 entries, 0 to 24740\n",
            "Data columns (total 2 columns):\n",
            " #   Column    Non-Null Count  Dtype \n",
            "---  ------    --------------  ----- \n",
            " 0   headings  24741 non-null  object\n",
            " 1   label     24741 non-null  int64 \n",
            "dtypes: int64(1), object(1)\n",
            "memory usage: 386.7+ KB\n"
          ],
          "name": "stdout"
        }
      ]
    },
    {
      "cell_type": "code",
      "metadata": {
        "id": "6HwLyzmy4gOs",
        "colab_type": "code",
        "colab": {}
      },
      "source": [
        "from collections import Counter\n",
        "\n",
        "# Count unique words\n",
        "def counter_word(text):\n",
        "    count = Counter()\n",
        "    for i in text.values:\n",
        "        for word in i.split():\n",
        "            count[word] += 1\n",
        "    return count"
      ],
      "execution_count": 13,
      "outputs": []
    },
    {
      "cell_type": "code",
      "metadata": {
        "id": "IxdbMlFu0nHP",
        "colab_type": "code",
        "colab": {}
      },
      "source": [
        "text = df['headings']\n",
        "\n",
        "counter = counter_word(text)"
      ],
      "execution_count": 14,
      "outputs": []
    },
    {
      "cell_type": "code",
      "metadata": {
        "id": "DKQtJvVS0rq0",
        "colab_type": "code",
        "colab": {
          "base_uri": "https://localhost:8080/",
          "height": 35
        },
        "outputId": "d53087b6-e01c-4b47-e5ac-15438a4ccf69"
      },
      "source": [
        "len(counter)"
      ],
      "execution_count": 15,
      "outputs": [
        {
          "output_type": "execute_result",
          "data": {
            "text/plain": [
              "31032"
            ]
          },
          "metadata": {
            "tags": []
          },
          "execution_count": 15
        }
      ]
    },
    {
      "cell_type": "code",
      "metadata": {
        "id": "FkbvH8UX4oYB",
        "colab_type": "code",
        "colab": {
          "base_uri": "https://localhost:8080/",
          "height": 299
        },
        "outputId": "88070d22-10c1-4a08-bca1-6ccb22b3da71"
      },
      "source": [
        "colum_len = df[\"headings\"].str.len()\n",
        "\n",
        "#this is just the string length not word count\n",
        "max_value = colum_len.max()\n",
        "#max_value\n",
        "\n",
        "#word count \n",
        "\n",
        "word_c =  df['headings'].str.split().str.len()\n",
        "word_c.mean()\n",
        "sns.distplot(word_c, color='red')\n"
      ],
      "execution_count": 16,
      "outputs": [
        {
          "output_type": "execute_result",
          "data": {
            "text/plain": [
              "6.860514934723738"
            ]
          },
          "metadata": {
            "tags": []
          },
          "execution_count": 16
        },
        {
          "output_type": "execute_result",
          "data": {
            "text/plain": [
              "<matplotlib.axes._subplots.AxesSubplot at 0x7f23204cea90>"
            ]
          },
          "metadata": {
            "tags": []
          },
          "execution_count": 16
        },
        {
          "output_type": "display_data",
          "data": {
            "image/png": "[encoded data removed]",
            "text/plain": [
              "<Figure size 432x288 with 1 Axes>"
            ]
          },
          "metadata": {
            "tags": [],
            "needs_background": "light"
          }
        }
      ]
    },
    {
      "cell_type": "markdown",
      "metadata": {
        "id": "j2eOx-EA4u_3",
        "colab_type": "text"
      },
      "source": [
        "## Text to sequence"
      ]
    },
    {
      "cell_type": "code",
      "metadata": {
        "id": "NXfegf4r5gB0",
        "colab_type": "code",
        "colab": {
          "base_uri": "https://localhost:8080/",
          "height": 156
        },
        "outputId": "8192a565-3181-45e7-8fcc-8249129304bc"
      },
      "source": [
        "## define word embedding props\n",
        "# max number of words to keep\n",
        "# embedding dimenssion\n",
        "# max seq length\n",
        "\n",
        "MAX_NB_WORDS = 15000\n",
        "#the average word length of heading is taken as max seq\n",
        "MAX_SEQ_LENGTH = 12\n",
        "EMBEDDING_DIM = 100\n",
        "\n",
        "tokenizer = Tokenizer(num_words=MAX_NB_WORDS,split=\" \", oov_token='<OOV>')\n",
        "tokenizer.fit_on_texts(df['headings'].values)\n",
        "word_index = tokenizer.word_index\n",
        "print('Found %s unique tokens'% len(word_index))\n",
        "\n",
        "X = tokenizer.texts_to_sequences(df['headings'].values)\n",
        "X = pad_sequences(X,maxlen=MAX_SEQ_LENGTH,padding=\"post\", truncating=\"post\")\n",
        "Y = pd.get_dummies(df['label']).values\n",
        "print(Y)\n"
      ],
      "execution_count": 17,
      "outputs": [
        {
          "output_type": "stream",
          "text": [
            "Found 31033 unique tokens\n",
            "[[1 0 0]\n",
            " [0 1 0]\n",
            " [0 0 1]\n",
            " ...\n",
            " [1 0 0]\n",
            " [0 0 1]\n",
            " [1 0 0]]\n"
          ],
          "name": "stdout"
        }
      ]
    },
    {
      "cell_type": "code",
      "metadata": {
        "id": "d0CBn9-S61fI",
        "colab_type": "code",
        "colab": {
          "base_uri": "https://localhost:8080/",
          "height": 52
        },
        "outputId": "c6e4dfc3-b256-4860-fa4f-439dbaf62a6c"
      },
      "source": [
        "# test the sequencing # reversing\n",
        "\n",
        "print(X[50])\n",
        "\n",
        "reverse_word_index = dict([(value, key) for (key, value) in word_index.items()])\n",
        "def decode(text):\n",
        "    return \" \".join([reverse_word_index.get(i, \"?\") for i in text])\n",
        "print(decode(X[50]))"
      ],
      "execution_count": 18,
      "outputs": [
        {
          "output_type": "stream",
          "text": [
            "[13113    41  1775   358  4076  5546   203  3635   953    45  2156   954]\n",
            "ଇଂଲାଣ୍ଡନ୍ୟୁଜିଲାଣ୍ଡ ମୁକାବିଲା ବିଶାଳ ସ୍କୋର ଆଡକୁ ଅଗ୍ରସର ହେଉଛି ଇଂଲାଣ୍ଡ ଆଜିର ବିଜେତା ସେମିଫାଇନାଲ ଖେଳିବ\n"
          ],
          "name": "stdout"
        }
      ]
    },
    {
      "cell_type": "code",
      "metadata": {
        "id": "mdojG9jkJa6s",
        "colab_type": "code",
        "colab": {
          "base_uri": "https://localhost:8080/",
          "height": 52
        },
        "outputId": "74e8738c-48fc-4fdf-f564-2d3a6637f29c"
      },
      "source": [
        "#building a reduced dataset for 4k records\n",
        "# this is extra \n",
        "X_reduced = X[1:4000]\n",
        "Y_reduced = Y[1:4000]\n",
        "X_reduced.shape\n",
        "Y_reduced.shape\n",
        "X_reduced[7]"
      ],
      "execution_count": 19,
      "outputs": [
        {
          "output_type": "execute_result",
          "data": {
            "text/plain": [
              "(3999, 12)"
            ]
          },
          "metadata": {
            "tags": []
          },
          "execution_count": 19
        },
        {
          "output_type": "execute_result",
          "data": {
            "text/plain": [
              "(3999, 3)"
            ]
          },
          "metadata": {
            "tags": []
          },
          "execution_count": 19
        },
        {
          "output_type": "execute_result",
          "data": {
            "text/plain": [
              "array([4692, 5541,  506, 3628,   20, 1772, 8784,  216,  408,    0,    0,\n",
              "          0], dtype=int32)"
            ]
          },
          "metadata": {
            "tags": []
          },
          "execution_count": 19
        }
      ]
    },
    {
      "cell_type": "markdown",
      "metadata": {
        "id": "p8MQxfWk7njb",
        "colab_type": "text"
      },
      "source": [
        "## Split"
      ]
    },
    {
      "cell_type": "code",
      "metadata": {
        "id": "DsmwQD_07kvw",
        "colab_type": "code",
        "colab": {
          "base_uri": "https://localhost:8080/",
          "height": 87
        },
        "outputId": "06066e6f-a0e1-4b92-d930-c7008a88981c"
      },
      "source": [
        "X_train,X_test, Y_train, Y_test = train_test_split(X,Y,test_size= 0.2, random_state= 50)\n",
        "print(X_train.shape)\n",
        "print(Y_train.shape)\n",
        "print(X_test.shape)\n",
        "print(Y_test.shape)"
      ],
      "execution_count": 20,
      "outputs": [
        {
          "output_type": "stream",
          "text": [
            "(19792, 12)\n",
            "(19792, 3)\n",
            "(4949, 12)\n",
            "(4949, 3)\n"
          ],
          "name": "stdout"
        }
      ]
    },
    {
      "cell_type": "code",
      "metadata": {
        "id": "Pk9LHIbMLt5R",
        "colab_type": "code",
        "colab": {
          "base_uri": "https://localhost:8080/",
          "height": 87
        },
        "outputId": "3b1a3bdf-1900-48f3-a4a6-d6a1b79a4a5d"
      },
      "source": [
        "X_train_r,X_test_r, Y_train_r, Y_test_r = train_test_split(X_reduced,Y_reduced,test_size= 0.2, random_state= 50)\n",
        "print(X_train_r.shape)\n",
        "print(Y_train_r.shape)\n",
        "print(X_test_r.shape)\n",
        "print(Y_test_r.shape)"
      ],
      "execution_count": 21,
      "outputs": [
        {
          "output_type": "stream",
          "text": [
            "(3199, 12)\n",
            "(3199, 3)\n",
            "(800, 12)\n",
            "(800, 3)\n"
          ],
          "name": "stdout"
        }
      ]
    },
    {
      "cell_type": "markdown",
      "metadata": {
        "id": "Co6AOfYP7yJV",
        "colab_type": "text"
      },
      "source": [
        "# Build Model - LSTM\n",
        "\n"
      ]
    },
    {
      "cell_type": "markdown",
      "metadata": {
        "id": "e8pc_chSiaua",
        "colab_type": "text"
      },
      "source": [
        "## Displaying history functions\n"
      ]
    },
    {
      "cell_type": "code",
      "metadata": {
        "id": "3CyqNKMFPGcq",
        "colab_type": "code",
        "colab": {}
      },
      "source": [
        "from keras.callbacks import ModelCheckpoint\n",
        "from keras.callbacks import EarlyStopping\n",
        "from keras.callbacks import LearningRateScheduler\n",
        "import math"
      ],
      "execution_count": 22,
      "outputs": []
    },
    {
      "cell_type": "code",
      "metadata": {
        "id": "stA1OUWS9Id9",
        "colab_type": "code",
        "colab": {}
      },
      "source": [
        "# display the train loss graph from history\n",
        "from matplotlib import pyplot\n",
        "\n",
        "def display_history_loss(history, model_name):\n",
        "  \n",
        "  pyplot.plot(history.history['loss'])\n",
        "  pyplot.plot(history.history['val_loss'])\n",
        "  pyplot.title('model train vs validation loss {}'.format(model_name))\n",
        "  pyplot.ylabel('loss')\n",
        "  pyplot.xlabel('epoch')\n",
        "  pyplot.legend(['train', 'validation'], loc='upper right')\n",
        "  pyplot.show()\n",
        "\n",
        "def plot_graphs(history, string):\n",
        "  plt.plot(history.history[string])\n",
        "  plt.plot(history.history['val_'+string])\n",
        "  plt.xlabel(\"Epochs\")\n",
        "  plt.ylabel(string)\n",
        "  plt.legend([string, 'val_'+string])\n",
        "  plt.show()\n",
        "  \n"
      ],
      "execution_count": 23,
      "outputs": []
    },
    {
      "cell_type": "code",
      "metadata": {
        "id": "66ezpkZw71vi",
        "colab_type": "code",
        "colab": {}
      },
      "source": [
        "def step_decay(epoch):\n",
        "  initial_lrate = 0.1\n",
        "  drop = 0.5\n",
        "  epochs_drop = 10.0\n",
        "  lrate = initial_lrate * math.pow(drop,  \n",
        "           math.floor((1+epoch)/epochs_drop))\n",
        "  return lrate\n"
      ],
      "execution_count": 24,
      "outputs": []
    },
    {
      "cell_type": "markdown",
      "metadata": {
        "id": "WUlb3RhiBv_F",
        "colab_type": "text"
      },
      "source": [
        "## Model 1 LSTM \n",
        "64 or node param - tanh - 0.1 dropout\n",
        "Dense layer -3 - softmax\n",
        "\n",
        "\n",
        "\n",
        "\n",
        "There is no final, definite, rule of thumb on how many nodes (or hidden neurons) or how many layers one should choose, and very often a trial and error approach will give you the best results for your individual problem. The most common framework for this is most likely the k-fold cross-validation. However, even for a testing procedure, we need to choose some (k) numbers of nodes.\n",
        "The following formula may give you a starting point:\n",
        "Image for post\n",
        "\n",
        "![alt text](https://miro.medium.com/max/228/1*9jY98E1ndGBcob6GypYM1Q.png)\n",
        "\n",
        "Nᵢ is the number of input neurons, Nₒ the number of output neurons, Nₛ the number of samples in the training data, and α represents a scaling factor that is usually between 2 and 10. We can calculate 8 different numbers to feed into our validation procedure and find the optimal model, based on the resulting validation loss."
      ]
    },
    {
      "cell_type": "code",
      "metadata": {
        "id": "VtwswYEg7vEp",
        "colab_type": "code",
        "colab": {}
      },
      "source": [
        "def single_lstm(nodes, **kwargs):\n",
        "  #as declared above earlier\n",
        "  MAX_NB_WORDS = 15000\n",
        "  EMBEDDING_DIM = 100\n",
        "  MAX_SEQ_LENGTH = 12\n",
        "  with tf.device('/device:GPU:0'):\n",
        "    model = Sequential()\n",
        "\n",
        "    model.add(Embedding(MAX_NB_WORDS, EMBEDDING_DIM, input_length=MAX_SEQ_LENGTH))\n",
        "    model.add(LSTM(nodes, activation=  kwargs.get('activation'), dropout=  kwargs.get('dropout')))\n",
        "  \n",
        "    model.add(Dense(3, activation= kwargs.get('dense_actv')))\n",
        "    optimizer = Adam(learning_rate=1e-5)\n",
        "    # Since one hot encoded. categoriacl crossentropy will work\n",
        "    model.compile(loss=\"categorical_crossentropy\", optimizer=optimizer, metrics=[\"accuracy\"])\n",
        "    model.summary()\n",
        "    filepath=\"weights-improvement-{epoch:02d}-{val_accuracy:.2f}.hdf5\"\n",
        "    checkpoint = ModelCheckpoint(filepath, monitor='val_accuracy', verbose=1, save_best_only=True, mode='max')\n",
        "    callbacks_list = [checkpoint]\n",
        "    # simple early stopping\n",
        "    es = EarlyStopping(monitor='val_loss', mode='min', verbose=1)\n",
        "    # learning rate decay\n",
        "    lrate = LearningRateScheduler(step_decay)\n",
        "    history = model.fit(kwargs.get('X_train'),\n",
        "                        kwargs.get('Y_train'), \n",
        "                        epochs= kwargs.get('epochs'), \n",
        "                        batch_size = 50,\n",
        "                        callbacks= [es],\n",
        "                        validation_data=(kwargs.get('X_test'),\n",
        "                                         kwargs.get('Y_test')),)\n",
        "    display_history_loss(history, \"single_lstm\")\n",
        "    plot_graphs(history, \"accuracy\")\n",
        "    score = model.evaluate(X_test, Y_test)\n",
        "    print(score[0])\n",
        "    print(score[1])"
      ],
      "execution_count": 38,
      "outputs": []
    },
    {
      "cell_type": "code",
      "metadata": {
        "id": "ebZN9QIXGoxq",
        "colab_type": "code",
        "colab": {
          "base_uri": "https://localhost:8080/",
          "height": 1000
        },
        "outputId": "5a4abee6-7e86-4ec3-9516-780474b6d468"
      },
      "source": [
        "single_lstm(64, activation = 'tanh', \n",
        "            dropout = 0.2, \n",
        "            dense_actv ='softmax',\n",
        "            epochs =60,\n",
        "            X_train = X_train_r,\n",
        "            Y_train = Y_train_r,\n",
        "            X_test = X_test_r,\n",
        "            Y_test = Y_test_r)"
      ],
      "execution_count": 41,
      "outputs": [
        {
          "output_type": "stream",
          "text": [
            "Model: \"sequential_10\"\n",
            "_________________________________________________________________\n",
            "Layer (type)                 Output Shape              Param #   \n",
            "=================================================================\n",
            "embedding_10 (Embedding)     (None, 12, 100)           1500000   \n",
            "_________________________________________________________________\n",
            "lstm_10 (LSTM)               (None, 64)                42240     \n",
            "_________________________________________________________________\n",
            "dense_10 (Dense)             (None, 3)                 195       \n",
            "=================================================================\n",
            "Total params: 1,542,435\n",
            "Trainable params: 1,542,435\n",
            "Non-trainable params: 0\n",
            "_________________________________________________________________\n"
          ],
          "name": "stdout"
        },
        {
          "output_type": "stream",
          "text": [
            "/usr/local/lib/python3.6/dist-packages/tensorflow/python/framework/indexed_slices.py:434: UserWarning:\n",
            "\n",
            "Converting sparse IndexedSlices to a dense Tensor of unknown shape. This may consume a large amount of memory.\n",
            "\n"
          ],
          "name": "stderr"
        },
        {
          "output_type": "stream",
          "text": [
            "Train on 3199 samples, validate on 800 samples\n",
            "Epoch 1/60\n",
            "3199/3199 [==============================] - 3s 1ms/step - loss: 1.0982 - accuracy: 0.3595 - val_loss: 1.0978 - val_accuracy: 0.4025\n",
            "Epoch 2/60\n",
            "3199/3199 [==============================] - 3s 865us/step - loss: 1.0972 - accuracy: 0.3954 - val_loss: 1.0967 - val_accuracy: 0.4512\n",
            "Epoch 3/60\n",
            "3199/3199 [==============================] - 3s 853us/step - loss: 1.0959 - accuracy: 0.4292 - val_loss: 1.0957 - val_accuracy: 0.4363\n",
            "Epoch 4/60\n",
            "3199/3199 [==============================] - 3s 894us/step - loss: 1.0952 - accuracy: 0.4348 - val_loss: 1.0948 - val_accuracy: 0.4300\n",
            "Epoch 5/60\n",
            "3199/3199 [==============================] - 3s 890us/step - loss: 1.0940 - accuracy: 0.4351 - val_loss: 1.0937 - val_accuracy: 0.4175\n",
            "Epoch 6/60\n",
            "3199/3199 [==============================] - 3s 893us/step - loss: 1.0932 - accuracy: 0.4326 - val_loss: 1.0928 - val_accuracy: 0.4200\n",
            "Epoch 7/60\n",
            "3199/3199 [==============================] - 3s 894us/step - loss: 1.0917 - accuracy: 0.4304 - val_loss: 1.0918 - val_accuracy: 0.4200\n",
            "Epoch 8/60\n",
            "3199/3199 [==============================] - 3s 898us/step - loss: 1.0908 - accuracy: 0.4342 - val_loss: 1.0908 - val_accuracy: 0.4187\n",
            "Epoch 9/60\n",
            "3199/3199 [==============================] - 3s 874us/step - loss: 1.0898 - accuracy: 0.4351 - val_loss: 1.0898 - val_accuracy: 0.4175\n",
            "Epoch 10/60\n",
            "3199/3199 [==============================] - 3s 889us/step - loss: 1.0889 - accuracy: 0.4351 - val_loss: 1.0887 - val_accuracy: 0.4187\n",
            "Epoch 11/60\n",
            "3199/3199 [==============================] - 3s 890us/step - loss: 1.0873 - accuracy: 0.4398 - val_loss: 1.0875 - val_accuracy: 0.4200\n",
            "Epoch 12/60\n",
            "3199/3199 [==============================] - 3s 861us/step - loss: 1.0857 - accuracy: 0.4439 - val_loss: 1.0862 - val_accuracy: 0.4225\n",
            "Epoch 13/60\n",
            "3199/3199 [==============================] - 3s 892us/step - loss: 1.0844 - accuracy: 0.4530 - val_loss: 1.0849 - val_accuracy: 0.4225\n",
            "Epoch 14/60\n",
            "3199/3199 [==============================] - 3s 899us/step - loss: 1.0828 - accuracy: 0.4536 - val_loss: 1.0833 - val_accuracy: 0.4275\n",
            "Epoch 15/60\n",
            "3199/3199 [==============================] - 3s 898us/step - loss: 1.0810 - accuracy: 0.4567 - val_loss: 1.0816 - val_accuracy: 0.4363\n",
            "Epoch 16/60\n",
            "3199/3199 [==============================] - 3s 885us/step - loss: 1.0785 - accuracy: 0.4661 - val_loss: 1.0797 - val_accuracy: 0.4375\n",
            "Epoch 17/60\n",
            "3199/3199 [==============================] - 3s 911us/step - loss: 1.0763 - accuracy: 0.4776 - val_loss: 1.0775 - val_accuracy: 0.4450\n",
            "Epoch 18/60\n",
            "3199/3199 [==============================] - 3s 897us/step - loss: 1.0734 - accuracy: 0.4802 - val_loss: 1.0750 - val_accuracy: 0.4538\n",
            "Epoch 19/60\n",
            "3199/3199 [==============================] - 3s 874us/step - loss: 1.0701 - accuracy: 0.4930 - val_loss: 1.0720 - val_accuracy: 0.4638\n",
            "Epoch 20/60\n",
            "3199/3199 [==============================] - 3s 883us/step - loss: 1.0660 - accuracy: 0.5005 - val_loss: 1.0683 - val_accuracy: 0.4787\n",
            "Epoch 21/60\n",
            "3199/3199 [==============================] - 3s 912us/step - loss: 1.0610 - accuracy: 0.5136 - val_loss: 1.0640 - val_accuracy: 0.4913\n",
            "Epoch 22/60\n",
            "3199/3199 [==============================] - 3s 880us/step - loss: 1.0547 - accuracy: 0.5195 - val_loss: 1.0586 - val_accuracy: 0.5038\n",
            "Epoch 23/60\n",
            "3199/3199 [==============================] - 3s 858us/step - loss: 1.0479 - accuracy: 0.5345 - val_loss: 1.0522 - val_accuracy: 0.5100\n",
            "Epoch 24/60\n",
            "3199/3199 [==============================] - 3s 861us/step - loss: 1.0385 - accuracy: 0.5542 - val_loss: 1.0441 - val_accuracy: 0.5188\n",
            "Epoch 25/60\n",
            "3199/3199 [==============================] - 3s 868us/step - loss: 1.0275 - accuracy: 0.5714 - val_loss: 1.0338 - val_accuracy: 0.5387\n",
            "Epoch 26/60\n",
            "3199/3199 [==============================] - 3s 896us/step - loss: 1.0125 - accuracy: 0.5846 - val_loss: 1.0211 - val_accuracy: 0.5638\n",
            "Epoch 27/60\n",
            "3199/3199 [==============================] - 3s 877us/step - loss: 0.9940 - accuracy: 0.5983 - val_loss: 1.0051 - val_accuracy: 0.5750\n",
            "Epoch 28/60\n",
            "3199/3199 [==============================] - 3s 917us/step - loss: 0.9708 - accuracy: 0.6180 - val_loss: 0.9858 - val_accuracy: 0.5962\n",
            "Epoch 29/60\n",
            "3199/3199 [==============================] - 3s 892us/step - loss: 0.9425 - accuracy: 0.6293 - val_loss: 0.9621 - val_accuracy: 0.6150\n",
            "Epoch 30/60\n",
            "3199/3199 [==============================] - 3s 907us/step - loss: 0.9089 - accuracy: 0.6427 - val_loss: 0.9353 - val_accuracy: 0.6212\n",
            "Epoch 31/60\n",
            "3199/3199 [==============================] - 3s 897us/step - loss: 0.8710 - accuracy: 0.6518 - val_loss: 0.9056 - val_accuracy: 0.6300\n",
            "Epoch 32/60\n",
            "3199/3199 [==============================] - 3s 920us/step - loss: 0.8261 - accuracy: 0.6624 - val_loss: 0.8749 - val_accuracy: 0.6325\n",
            "Epoch 33/60\n",
            "3199/3199 [==============================] - 3s 897us/step - loss: 0.7851 - accuracy: 0.6724 - val_loss: 0.8458 - val_accuracy: 0.6363\n",
            "Epoch 34/60\n",
            "3199/3199 [==============================] - 3s 887us/step - loss: 0.7434 - accuracy: 0.6821 - val_loss: 0.8195 - val_accuracy: 0.6400\n",
            "Epoch 35/60\n",
            "3199/3199 [==============================] - 3s 909us/step - loss: 0.7048 - accuracy: 0.6858 - val_loss: 0.7976 - val_accuracy: 0.6425\n",
            "Epoch 36/60\n",
            "3199/3199 [==============================] - 3s 892us/step - loss: 0.6720 - accuracy: 0.6918 - val_loss: 0.7791 - val_accuracy: 0.6450\n",
            "Epoch 37/60\n",
            "3199/3199 [==============================] - 3s 891us/step - loss: 0.6425 - accuracy: 0.6983 - val_loss: 0.7642 - val_accuracy: 0.6438\n",
            "Epoch 38/60\n",
            "3199/3199 [==============================] - 3s 895us/step - loss: 0.6156 - accuracy: 0.7008 - val_loss: 0.7514 - val_accuracy: 0.6500\n",
            "Epoch 39/60\n",
            "3199/3199 [==============================] - 3s 884us/step - loss: 0.5940 - accuracy: 0.7049 - val_loss: 0.7413 - val_accuracy: 0.6550\n",
            "Epoch 40/60\n",
            "3199/3199 [==============================] - 3s 875us/step - loss: 0.5777 - accuracy: 0.7068 - val_loss: 0.7325 - val_accuracy: 0.6525\n",
            "Epoch 41/60\n",
            "3199/3199 [==============================] - 3s 912us/step - loss: 0.5598 - accuracy: 0.7083 - val_loss: 0.7256 - val_accuracy: 0.6525\n",
            "Epoch 42/60\n",
            "3199/3199 [==============================] - 3s 902us/step - loss: 0.5458 - accuracy: 0.7096 - val_loss: 0.7196 - val_accuracy: 0.6525\n",
            "Epoch 43/60\n",
            "3199/3199 [==============================] - 3s 903us/step - loss: 0.5308 - accuracy: 0.7093 - val_loss: 0.7141 - val_accuracy: 0.6550\n",
            "Epoch 44/60\n",
            "3199/3199 [==============================] - 3s 904us/step - loss: 0.5189 - accuracy: 0.7130 - val_loss: 0.7096 - val_accuracy: 0.6562\n",
            "Epoch 45/60\n",
            "3199/3199 [==============================] - 3s 891us/step - loss: 0.5076 - accuracy: 0.7140 - val_loss: 0.7059 - val_accuracy: 0.6562\n",
            "Epoch 46/60\n",
            "3199/3199 [==============================] - 3s 882us/step - loss: 0.4999 - accuracy: 0.7133 - val_loss: 0.7021 - val_accuracy: 0.6575\n",
            "Epoch 47/60\n",
            "3199/3199 [==============================] - 3s 897us/step - loss: 0.4873 - accuracy: 0.7155 - val_loss: 0.6991 - val_accuracy: 0.6587\n",
            "Epoch 48/60\n",
            "3199/3199 [==============================] - 3s 867us/step - loss: 0.4775 - accuracy: 0.7171 - val_loss: 0.6965 - val_accuracy: 0.6587\n",
            "Epoch 49/60\n",
            "3199/3199 [==============================] - 3s 869us/step - loss: 0.4698 - accuracy: 0.7187 - val_loss: 0.6941 - val_accuracy: 0.6625\n",
            "Epoch 50/60\n",
            "3199/3199 [==============================] - 3s 893us/step - loss: 0.4620 - accuracy: 0.7165 - val_loss: 0.6911 - val_accuracy: 0.6637\n",
            "Epoch 51/60\n",
            "3199/3199 [==============================] - 3s 886us/step - loss: 0.4543 - accuracy: 0.7190 - val_loss: 0.6891 - val_accuracy: 0.6637\n",
            "Epoch 52/60\n",
            "3199/3199 [==============================] - 3s 861us/step - loss: 0.4463 - accuracy: 0.7230 - val_loss: 0.6870 - val_accuracy: 0.6650\n",
            "Epoch 53/60\n",
            "3199/3199 [==============================] - 3s 891us/step - loss: 0.4396 - accuracy: 0.7262 - val_loss: 0.6849 - val_accuracy: 0.6650\n",
            "Epoch 54/60\n",
            "3199/3199 [==============================] - 3s 901us/step - loss: 0.4309 - accuracy: 0.7309 - val_loss: 0.6832 - val_accuracy: 0.6587\n",
            "Epoch 55/60\n",
            "3199/3199 [==============================] - 3s 912us/step - loss: 0.4251 - accuracy: 0.7346 - val_loss: 0.6815 - val_accuracy: 0.6637\n",
            "Epoch 56/60\n",
            "3199/3199 [==============================] - 3s 907us/step - loss: 0.4186 - accuracy: 0.7418 - val_loss: 0.6803 - val_accuracy: 0.6650\n",
            "Epoch 57/60\n",
            "3199/3199 [==============================] - 3s 856us/step - loss: 0.4124 - accuracy: 0.7437 - val_loss: 0.6789 - val_accuracy: 0.6650\n",
            "Epoch 58/60\n",
            "3199/3199 [==============================] - 3s 891us/step - loss: 0.4042 - accuracy: 0.7518 - val_loss: 0.6777 - val_accuracy: 0.6737\n",
            "Epoch 59/60\n",
            "3199/3199 [==============================] - 3s 886us/step - loss: 0.4003 - accuracy: 0.7552 - val_loss: 0.6760 - val_accuracy: 0.6750\n",
            "Epoch 60/60\n",
            "3199/3199 [==============================] - 3s 887us/step - loss: 0.3929 - accuracy: 0.7546 - val_loss: 0.6750 - val_accuracy: 0.6762\n"
          ],
          "name": "stdout"
        },
        {
          "output_type": "display_data",
          "data": {
            "image/png": "[encoded data removed]",
            "text/plain": [
              "<Figure size 432x288 with 1 Axes>"
            ]
          },
          "metadata": {
            "tags": [],
            "needs_background": "light"
          }
        },
        {
          "output_type": "display_data",
          "data": {
            "image/png": "[encoded data removed]",
            "text/plain": [
              "<Figure size 432x288 with 1 Axes>"
            ]
          },
          "metadata": {
            "tags": [],
            "needs_background": "light"
          }
        },
        {
          "output_type": "stream",
          "text": [
            "4949/4949 [==============================] - 1s 175us/step\n",
            "0.5929618067851233\n",
            "0.7007476091384888\n"
          ],
          "name": "stdout"
        }
      ]
    },
    {
      "cell_type": "markdown",
      "metadata": {
        "id": "PRTXqi1ObvMN",
        "colab_type": "text"
      },
      "source": [
        "### Result\n",
        "\n",
        "So far the best has been noted with 64 node lstm with softmax dense activation.\n",
        "100 epochs. Batch size 100. Data 19K\n",
        "Validation loss on evaluate 0.7\n",
        "Accuracy 0.88\n",
        "Running time 599.544s\n"
      ]
    },
    {
      "cell_type": "code",
      "metadata": {
        "id": "TujqQtUim1Sw",
        "colab_type": "code",
        "colab": {
          "base_uri": "https://localhost:8080/",
          "height": 1000
        },
        "outputId": "8d637681-1188-4af1-81c8-a1987a6aa756"
      },
      "source": [
        "single_lstm(64, activation = 'tanh', \n",
        "            dropout = 0.2, \n",
        "            dense_actv ='softmax',\n",
        "            epochs =100,\n",
        "            X_train = X_train,\n",
        "            Y_train = Y_train,\n",
        "            X_test = X_test,\n",
        "            Y_test = Y_test)"
      ],
      "execution_count": 42,
      "outputs": [
        {
          "output_type": "stream",
          "text": [
            "Model: \"sequential_11\"\n",
            "_________________________________________________________________\n",
            "Layer (type)                 Output Shape              Param #   \n",
            "=================================================================\n",
            "embedding_11 (Embedding)     (None, 12, 100)           1500000   \n",
            "_________________________________________________________________\n",
            "lstm_11 (LSTM)               (None, 64)                42240     \n",
            "_________________________________________________________________\n",
            "dense_11 (Dense)             (None, 3)                 195       \n",
            "=================================================================\n",
            "Total params: 1,542,435\n",
            "Trainable params: 1,542,435\n",
            "Non-trainable params: 0\n",
            "_________________________________________________________________\n"
          ],
          "name": "stdout"
        },
        {
          "output_type": "stream",
          "text": [
            "/usr/local/lib/python3.6/dist-packages/tensorflow/python/framework/indexed_slices.py:434: UserWarning:\n",
            "\n",
            "Converting sparse IndexedSlices to a dense Tensor of unknown shape. This may consume a large amount of memory.\n",
            "\n"
          ],
          "name": "stderr"
        },
        {
          "output_type": "stream",
          "text": [
            "Train on 19792 samples, validate on 4949 samples\n",
            "Epoch 1/100\n",
            "19792/19792 [==============================] - 18s 916us/step - loss: 1.0945 - accuracy: 0.3754 - val_loss: 1.0906 - val_accuracy: 0.3920\n",
            "Epoch 2/100\n",
            "19792/19792 [==============================] - 18s 886us/step - loss: 1.0874 - accuracy: 0.3958 - val_loss: 1.0830 - val_accuracy: 0.4164\n",
            "Epoch 3/100\n",
            "19792/19792 [==============================] - 18s 888us/step - loss: 1.0787 - accuracy: 0.4238 - val_loss: 1.0718 - val_accuracy: 0.4502\n",
            "Epoch 4/100\n",
            "19792/19792 [==============================] - 18s 894us/step - loss: 1.0614 - accuracy: 0.4735 - val_loss: 1.0453 - val_accuracy: 0.5140\n",
            "Epoch 5/100\n",
            "19792/19792 [==============================] - 18s 891us/step - loss: 1.0106 - accuracy: 0.5526 - val_loss: 0.9624 - val_accuracy: 0.5872\n",
            "Epoch 6/100\n",
            "19792/19792 [==============================] - 18s 892us/step - loss: 0.8816 - accuracy: 0.6170 - val_loss: 0.8074 - val_accuracy: 0.6339\n",
            "Epoch 7/100\n",
            "19792/19792 [==============================] - 18s 899us/step - loss: 0.7419 - accuracy: 0.6518 - val_loss: 0.6935 - val_accuracy: 0.6634\n",
            "Epoch 8/100\n",
            "19792/19792 [==============================] - 18s 892us/step - loss: 0.6523 - accuracy: 0.6790 - val_loss: 0.6230 - val_accuracy: 0.6933\n",
            "Epoch 9/100\n",
            "19792/19792 [==============================] - 18s 897us/step - loss: 0.5905 - accuracy: 0.7112 - val_loss: 0.5766 - val_accuracy: 0.7292\n",
            "Epoch 10/100\n",
            "19792/19792 [==============================] - 17s 873us/step - loss: 0.5453 - accuracy: 0.7479 - val_loss: 0.5424 - val_accuracy: 0.7565\n",
            "Epoch 11/100\n",
            "19792/19792 [==============================] - 17s 879us/step - loss: 0.5066 - accuracy: 0.7823 - val_loss: 0.5131 - val_accuracy: 0.7820\n",
            "Epoch 12/100\n",
            "19792/19792 [==============================] - 17s 882us/step - loss: 0.4717 - accuracy: 0.8066 - val_loss: 0.4878 - val_accuracy: 0.8010\n",
            "Epoch 13/100\n",
            "19792/19792 [==============================] - 18s 895us/step - loss: 0.4414 - accuracy: 0.8269 - val_loss: 0.4666 - val_accuracy: 0.8113\n",
            "Epoch 14/100\n",
            "19792/19792 [==============================] - 17s 873us/step - loss: 0.4157 - accuracy: 0.8404 - val_loss: 0.4496 - val_accuracy: 0.8194\n",
            "Epoch 15/100\n",
            "19792/19792 [==============================] - 17s 883us/step - loss: 0.3929 - accuracy: 0.8507 - val_loss: 0.4363 - val_accuracy: 0.8246\n",
            "Epoch 16/100\n",
            "19792/19792 [==============================] - 18s 884us/step - loss: 0.3698 - accuracy: 0.8609 - val_loss: 0.4252 - val_accuracy: 0.8317\n",
            "Epoch 17/100\n",
            "19792/19792 [==============================] - 17s 882us/step - loss: 0.3530 - accuracy: 0.8723 - val_loss: 0.4157 - val_accuracy: 0.8335\n",
            "Epoch 18/100\n",
            "19792/19792 [==============================] - 18s 887us/step - loss: 0.3365 - accuracy: 0.8768 - val_loss: 0.4069 - val_accuracy: 0.8408\n",
            "Epoch 19/100\n",
            "19792/19792 [==============================] - 18s 886us/step - loss: 0.3197 - accuracy: 0.8851 - val_loss: 0.3992 - val_accuracy: 0.8456\n",
            "Epoch 20/100\n",
            "19792/19792 [==============================] - 18s 888us/step - loss: 0.3031 - accuracy: 0.8941 - val_loss: 0.3922 - val_accuracy: 0.8478\n",
            "Epoch 21/100\n",
            "19792/19792 [==============================] - 17s 881us/step - loss: 0.2891 - accuracy: 0.8979 - val_loss: 0.3856 - val_accuracy: 0.8537\n",
            "Epoch 22/100\n",
            "19792/19792 [==============================] - 17s 876us/step - loss: 0.2775 - accuracy: 0.9029 - val_loss: 0.3800 - val_accuracy: 0.8580\n",
            "Epoch 23/100\n",
            "19792/19792 [==============================] - 17s 877us/step - loss: 0.2641 - accuracy: 0.9081 - val_loss: 0.3740 - val_accuracy: 0.8606\n",
            "Epoch 24/100\n",
            "19792/19792 [==============================] - 18s 886us/step - loss: 0.2475 - accuracy: 0.9133 - val_loss: 0.3695 - val_accuracy: 0.8626\n",
            "Epoch 25/100\n",
            "19792/19792 [==============================] - 17s 884us/step - loss: 0.2378 - accuracy: 0.9179 - val_loss: 0.3641 - val_accuracy: 0.8677\n",
            "Epoch 26/100\n",
            "19792/19792 [==============================] - 17s 870us/step - loss: 0.2284 - accuracy: 0.9233 - val_loss: 0.3600 - val_accuracy: 0.8697\n",
            "Epoch 27/100\n",
            "19792/19792 [==============================] - 17s 877us/step - loss: 0.2183 - accuracy: 0.9273 - val_loss: 0.3566 - val_accuracy: 0.8707\n",
            "Epoch 28/100\n",
            "19792/19792 [==============================] - 17s 882us/step - loss: 0.2057 - accuracy: 0.9305 - val_loss: 0.3539 - val_accuracy: 0.8737\n",
            "Epoch 29/100\n",
            "19792/19792 [==============================] - 17s 884us/step - loss: 0.1995 - accuracy: 0.9325 - val_loss: 0.3527 - val_accuracy: 0.8739\n",
            "Epoch 30/100\n",
            "19792/19792 [==============================] - 17s 883us/step - loss: 0.1936 - accuracy: 0.9350 - val_loss: 0.3494 - val_accuracy: 0.8767\n",
            "Epoch 31/100\n",
            "19792/19792 [==============================] - 18s 894us/step - loss: 0.1888 - accuracy: 0.9360 - val_loss: 0.3484 - val_accuracy: 0.8778\n",
            "Epoch 32/100\n",
            "19792/19792 [==============================] - 17s 870us/step - loss: 0.1818 - accuracy: 0.9376 - val_loss: 0.3467 - val_accuracy: 0.8784\n",
            "Epoch 33/100\n",
            "19792/19792 [==============================] - 17s 881us/step - loss: 0.1770 - accuracy: 0.9404 - val_loss: 0.3444 - val_accuracy: 0.8792\n",
            "Epoch 34/100\n",
            "19792/19792 [==============================] - 18s 888us/step - loss: 0.1666 - accuracy: 0.9448 - val_loss: 0.3449 - val_accuracy: 0.8804\n",
            "Epoch 00034: early stopping\n"
          ],
          "name": "stdout"
        },
        {
          "output_type": "display_data",
          "data": {
            "image/png": "[encoded data removed]",
            "text/plain": [
              "<Figure size 432x288 with 1 Axes>"
            ]
          },
          "metadata": {
            "tags": [],
            "needs_background": "light"
          }
        },
        {
          "output_type": "display_data",
          "data": {
            "image/png": "[encoded data removed]",
            "text/plain": [
              "<Figure size 432x288 with 1 Axes>"
            ]
          },
          "metadata": {
            "tags": [],
            "needs_background": "light"
          }
        },
        {
          "output_type": "stream",
          "text": [
            "4949/4949 [==============================] - 1s 171us/step\n",
            "0.34485184323741924\n",
            "0.880379855632782\n"
          ],
          "name": "stdout"
        }
      ]
    },
    {
      "cell_type": "code",
      "metadata": {
        "id": "HvkZtHcdprNz",
        "colab_type": "code",
        "colab": {
          "base_uri": "https://localhost:8080/",
          "height": 1000
        },
        "outputId": "75dadd64-3fb8-492b-e497-f50fd9fe9cb3"
      },
      "source": [
        "single_lstm(20, activation = 'tanh', \n",
        "            dropout = 0.25, \n",
        "            dense_actv ='softmax',\n",
        "            epochs =60, \n",
        "            X_train = X_train_r,\n",
        "            Y_train = Y_train_r,\n",
        "            X_test = X_test_r,\n",
        "            Y_test = Y_test_r)"
      ],
      "execution_count": 43,
      "outputs": [
        {
          "output_type": "stream",
          "text": [
            "Model: \"sequential_12\"\n",
            "_________________________________________________________________\n",
            "Layer (type)                 Output Shape              Param #   \n",
            "=================================================================\n",
            "embedding_12 (Embedding)     (None, 12, 100)           1500000   \n",
            "_________________________________________________________________\n",
            "lstm_12 (LSTM)               (None, 20)                9680      \n",
            "_________________________________________________________________\n",
            "dense_12 (Dense)             (None, 3)                 63        \n",
            "=================================================================\n",
            "Total params: 1,509,743\n",
            "Trainable params: 1,509,743\n",
            "Non-trainable params: 0\n",
            "_________________________________________________________________\n"
          ],
          "name": "stdout"
        },
        {
          "output_type": "stream",
          "text": [
            "/usr/local/lib/python3.6/dist-packages/tensorflow/python/framework/indexed_slices.py:434: UserWarning:\n",
            "\n",
            "Converting sparse IndexedSlices to a dense Tensor of unknown shape. This may consume a large amount of memory.\n",
            "\n"
          ],
          "name": "stderr"
        },
        {
          "output_type": "stream",
          "text": [
            "Train on 3199 samples, validate on 800 samples\n",
            "Epoch 1/60\n",
            "3199/3199 [==============================] - 3s 977us/step - loss: 1.0991 - accuracy: 0.3204 - val_loss: 1.0976 - val_accuracy: 0.3638\n",
            "Epoch 2/60\n",
            "3199/3199 [==============================] - 3s 865us/step - loss: 1.0983 - accuracy: 0.3348 - val_loss: 1.0967 - val_accuracy: 0.3825\n",
            "Epoch 3/60\n",
            "3199/3199 [==============================] - 3s 888us/step - loss: 1.0974 - accuracy: 0.3601 - val_loss: 1.0959 - val_accuracy: 0.3825\n",
            "Epoch 4/60\n",
            "3199/3199 [==============================] - 3s 856us/step - loss: 1.0962 - accuracy: 0.3682 - val_loss: 1.0951 - val_accuracy: 0.3862\n",
            "Epoch 5/60\n",
            "3199/3199 [==============================] - 3s 878us/step - loss: 1.0953 - accuracy: 0.3814 - val_loss: 1.0943 - val_accuracy: 0.3913\n",
            "Epoch 6/60\n",
            "3199/3199 [==============================] - 3s 857us/step - loss: 1.0944 - accuracy: 0.3904 - val_loss: 1.0936 - val_accuracy: 0.3913\n",
            "Epoch 7/60\n",
            "3199/3199 [==============================] - 3s 858us/step - loss: 1.0936 - accuracy: 0.3854 - val_loss: 1.0928 - val_accuracy: 0.3925\n",
            "Epoch 8/60\n",
            "3199/3199 [==============================] - 3s 869us/step - loss: 1.0932 - accuracy: 0.3857 - val_loss: 1.0921 - val_accuracy: 0.3938\n",
            "Epoch 9/60\n",
            "3199/3199 [==============================] - 3s 856us/step - loss: 1.0923 - accuracy: 0.3864 - val_loss: 1.0914 - val_accuracy: 0.3963\n",
            "Epoch 10/60\n",
            "3199/3199 [==============================] - 3s 851us/step - loss: 1.0912 - accuracy: 0.3889 - val_loss: 1.0907 - val_accuracy: 0.3963\n",
            "Epoch 11/60\n",
            "3199/3199 [==============================] - 3s 863us/step - loss: 1.0900 - accuracy: 0.3898 - val_loss: 1.0900 - val_accuracy: 0.3950\n",
            "Epoch 12/60\n",
            "3199/3199 [==============================] - 3s 882us/step - loss: 1.0891 - accuracy: 0.3942 - val_loss: 1.0893 - val_accuracy: 0.3950\n",
            "Epoch 13/60\n",
            "3199/3199 [==============================] - 3s 827us/step - loss: 1.0888 - accuracy: 0.3942 - val_loss: 1.0886 - val_accuracy: 0.3975\n",
            "Epoch 14/60\n",
            "3199/3199 [==============================] - 3s 857us/step - loss: 1.0874 - accuracy: 0.3914 - val_loss: 1.0878 - val_accuracy: 0.3975\n",
            "Epoch 15/60\n",
            "3199/3199 [==============================] - 3s 860us/step - loss: 1.0865 - accuracy: 0.3961 - val_loss: 1.0871 - val_accuracy: 0.3975\n",
            "Epoch 16/60\n",
            "3199/3199 [==============================] - 3s 858us/step - loss: 1.0865 - accuracy: 0.3964 - val_loss: 1.0863 - val_accuracy: 0.4000\n",
            "Epoch 17/60\n",
            "3199/3199 [==============================] - 3s 887us/step - loss: 1.0855 - accuracy: 0.3995 - val_loss: 1.0856 - val_accuracy: 0.4000\n",
            "Epoch 18/60\n",
            "3199/3199 [==============================] - 3s 865us/step - loss: 1.0844 - accuracy: 0.3979 - val_loss: 1.0848 - val_accuracy: 0.4025\n",
            "Epoch 19/60\n",
            "3199/3199 [==============================] - 3s 884us/step - loss: 1.0830 - accuracy: 0.4026 - val_loss: 1.0839 - val_accuracy: 0.4038\n",
            "Epoch 20/60\n",
            "3199/3199 [==============================] - 3s 882us/step - loss: 1.0823 - accuracy: 0.4039 - val_loss: 1.0831 - val_accuracy: 0.4062\n",
            "Epoch 21/60\n",
            "3199/3199 [==============================] - 3s 865us/step - loss: 1.0811 - accuracy: 0.4064 - val_loss: 1.0821 - val_accuracy: 0.4075\n",
            "Epoch 22/60\n",
            "3199/3199 [==============================] - 3s 868us/step - loss: 1.0807 - accuracy: 0.4073 - val_loss: 1.0812 - val_accuracy: 0.4075\n",
            "Epoch 23/60\n",
            "3199/3199 [==============================] - 3s 890us/step - loss: 1.0788 - accuracy: 0.4098 - val_loss: 1.0802 - val_accuracy: 0.4087\n",
            "Epoch 24/60\n",
            "3199/3199 [==============================] - 3s 869us/step - loss: 1.0777 - accuracy: 0.4179 - val_loss: 1.0791 - val_accuracy: 0.4100\n",
            "Epoch 25/60\n",
            "3199/3199 [==============================] - 3s 839us/step - loss: 1.0765 - accuracy: 0.4148 - val_loss: 1.0780 - val_accuracy: 0.4112\n",
            "Epoch 26/60\n",
            "3199/3199 [==============================] - 3s 879us/step - loss: 1.0746 - accuracy: 0.4220 - val_loss: 1.0768 - val_accuracy: 0.4137\n",
            "Epoch 27/60\n",
            "3199/3199 [==============================] - 3s 859us/step - loss: 1.0731 - accuracy: 0.4236 - val_loss: 1.0754 - val_accuracy: 0.4150\n",
            "Epoch 28/60\n",
            "3199/3199 [==============================] - 3s 854us/step - loss: 1.0708 - accuracy: 0.4289 - val_loss: 1.0741 - val_accuracy: 0.4187\n",
            "Epoch 29/60\n",
            "3199/3199 [==============================] - 3s 887us/step - loss: 1.0689 - accuracy: 0.4329 - val_loss: 1.0726 - val_accuracy: 0.4212\n",
            "Epoch 30/60\n",
            "3199/3199 [==============================] - 3s 858us/step - loss: 1.0675 - accuracy: 0.4408 - val_loss: 1.0710 - val_accuracy: 0.4275\n",
            "Epoch 31/60\n",
            "3199/3199 [==============================] - 3s 845us/step - loss: 1.0649 - accuracy: 0.4455 - val_loss: 1.0692 - val_accuracy: 0.4300\n",
            "Epoch 32/60\n",
            "3199/3199 [==============================] - 3s 850us/step - loss: 1.0626 - accuracy: 0.4492 - val_loss: 1.0673 - val_accuracy: 0.4350\n",
            "Epoch 33/60\n",
            "3199/3199 [==============================] - 3s 871us/step - loss: 1.0609 - accuracy: 0.4570 - val_loss: 1.0653 - val_accuracy: 0.4375\n",
            "Epoch 34/60\n",
            "3199/3199 [==============================] - 3s 881us/step - loss: 1.0577 - accuracy: 0.4614 - val_loss: 1.0631 - val_accuracy: 0.4412\n",
            "Epoch 35/60\n",
            "3199/3199 [==============================] - 3s 865us/step - loss: 1.0546 - accuracy: 0.4720 - val_loss: 1.0607 - val_accuracy: 0.4475\n",
            "Epoch 36/60\n",
            "3199/3199 [==============================] - 3s 844us/step - loss: 1.0513 - accuracy: 0.4792 - val_loss: 1.0581 - val_accuracy: 0.4512\n",
            "Epoch 37/60\n",
            "3199/3199 [==============================] - 3s 861us/step - loss: 1.0486 - accuracy: 0.4814 - val_loss: 1.0552 - val_accuracy: 0.4538\n",
            "Epoch 38/60\n",
            "3199/3199 [==============================] - 3s 858us/step - loss: 1.0437 - accuracy: 0.4933 - val_loss: 1.0522 - val_accuracy: 0.4613\n",
            "Epoch 39/60\n",
            "3199/3199 [==============================] - 3s 873us/step - loss: 1.0403 - accuracy: 0.5011 - val_loss: 1.0488 - val_accuracy: 0.4750\n",
            "Epoch 40/60\n",
            "3199/3199 [==============================] - 3s 853us/step - loss: 1.0353 - accuracy: 0.5105 - val_loss: 1.0451 - val_accuracy: 0.4825\n",
            "Epoch 41/60\n",
            "3199/3199 [==============================] - 3s 866us/step - loss: 1.0306 - accuracy: 0.5186 - val_loss: 1.0411 - val_accuracy: 0.4888\n",
            "Epoch 42/60\n",
            "3199/3199 [==============================] - 3s 881us/step - loss: 1.0250 - accuracy: 0.5299 - val_loss: 1.0367 - val_accuracy: 0.4988\n",
            "Epoch 43/60\n",
            "3199/3199 [==============================] - 3s 874us/step - loss: 1.0206 - accuracy: 0.5383 - val_loss: 1.0319 - val_accuracy: 0.5088\n",
            "Epoch 44/60\n",
            "3199/3199 [==============================] - 3s 845us/step - loss: 1.0148 - accuracy: 0.5483 - val_loss: 1.0267 - val_accuracy: 0.5150\n",
            "Epoch 45/60\n",
            "3199/3199 [==============================] - 3s 902us/step - loss: 1.0071 - accuracy: 0.5608 - val_loss: 1.0211 - val_accuracy: 0.5312\n",
            "Epoch 46/60\n",
            "3199/3199 [==============================] - 3s 826us/step - loss: 0.9993 - accuracy: 0.5702 - val_loss: 1.0149 - val_accuracy: 0.5425\n",
            "Epoch 47/60\n",
            "3199/3199 [==============================] - 3s 870us/step - loss: 0.9907 - accuracy: 0.5786 - val_loss: 1.0082 - val_accuracy: 0.5462\n",
            "Epoch 48/60\n",
            "3199/3199 [==============================] - 3s 844us/step - loss: 0.9829 - accuracy: 0.5899 - val_loss: 1.0010 - val_accuracy: 0.5512\n",
            "Epoch 49/60\n",
            "3199/3199 [==============================] - 3s 863us/step - loss: 0.9735 - accuracy: 0.5989 - val_loss: 0.9932 - val_accuracy: 0.5650\n",
            "Epoch 50/60\n",
            "3199/3199 [==============================] - 3s 862us/step - loss: 0.9620 - accuracy: 0.6146 - val_loss: 0.9847 - val_accuracy: 0.5763\n",
            "Epoch 51/60\n",
            "3199/3199 [==============================] - 3s 864us/step - loss: 0.9517 - accuracy: 0.6258 - val_loss: 0.9757 - val_accuracy: 0.5838\n",
            "Epoch 52/60\n",
            "3199/3199 [==============================] - 3s 880us/step - loss: 0.9391 - accuracy: 0.6405 - val_loss: 0.9660 - val_accuracy: 0.5913\n",
            "Epoch 53/60\n",
            "3199/3199 [==============================] - 3s 857us/step - loss: 0.9267 - accuracy: 0.6436 - val_loss: 0.9557 - val_accuracy: 0.5962\n",
            "Epoch 54/60\n",
            "3199/3199 [==============================] - 3s 866us/step - loss: 0.9139 - accuracy: 0.6493 - val_loss: 0.9449 - val_accuracy: 0.6050\n",
            "Epoch 55/60\n",
            "3199/3199 [==============================] - 3s 899us/step - loss: 0.9013 - accuracy: 0.6593 - val_loss: 0.9335 - val_accuracy: 0.6125\n",
            "Epoch 56/60\n",
            "3199/3199 [==============================] - 3s 884us/step - loss: 0.8859 - accuracy: 0.6683 - val_loss: 0.9216 - val_accuracy: 0.6212\n",
            "Epoch 57/60\n",
            "3199/3199 [==============================] - 3s 865us/step - loss: 0.8708 - accuracy: 0.6746 - val_loss: 0.9092 - val_accuracy: 0.6237\n",
            "Epoch 58/60\n",
            "3199/3199 [==============================] - 3s 886us/step - loss: 0.8549 - accuracy: 0.6833 - val_loss: 0.8967 - val_accuracy: 0.6363\n",
            "Epoch 59/60\n",
            "3199/3199 [==============================] - 3s 849us/step - loss: 0.8390 - accuracy: 0.6880 - val_loss: 0.8838 - val_accuracy: 0.6413\n",
            "Epoch 60/60\n",
            "3199/3199 [==============================] - 3s 866us/step - loss: 0.8243 - accuracy: 0.6902 - val_loss: 0.8708 - val_accuracy: 0.6425\n"
          ],
          "name": "stdout"
        },
        {
          "output_type": "display_data",
          "data": {
            "image/png": "[encoded data removed]",
            "text/plain": [
              "<Figure size 432x288 with 1 Axes>"
            ]
          },
          "metadata": {
            "tags": [],
            "needs_background": "light"
          }
        },
        {
          "output_type": "display_data",
          "data": {
            "image/png": "[encoded data removed]",
            "text/plain": [
              "<Figure size 432x288 with 1 Axes>"
            ]
          },
          "metadata": {
            "tags": [],
            "needs_background": "light"
          }
        },
        {
          "output_type": "stream",
          "text": [
            "4949/4949 [==============================] - 1s 171us/step\n",
            "0.8638305705733963\n",
            "0.664982795715332\n"
          ],
          "name": "stdout"
        }
      ]
    },
    {
      "cell_type": "code",
      "metadata": {
        "id": "QBRZ-aalQCv6",
        "colab_type": "code",
        "colab": {
          "base_uri": "https://localhost:8080/",
          "height": 957
        },
        "outputId": "5ccc162a-9192-49e7-98f9-c972e5dbff7b"
      },
      "source": [
        "single_lstm(64, activation = 'tanh', \n",
        "            dropout = 0.25, \n",
        "            dense_actv ='softmax',\n",
        "            epochs =50, \n",
        "            X_train = X_train,\n",
        "            Y_train = Y_train,\n",
        "            X_test = X_test,\n",
        "            Y_test = Y_test)"
      ],
      "execution_count": 105,
      "outputs": [
        {
          "output_type": "stream",
          "text": [
            "Model: \"sequential_23\"\n",
            "_________________________________________________________________\n",
            "Layer (type)                 Output Shape              Param #   \n",
            "=================================================================\n",
            "embedding_23 (Embedding)     (None, 10, 100)           1500000   \n",
            "_________________________________________________________________\n",
            "lstm_26 (LSTM)               (None, 64)                42240     \n",
            "_________________________________________________________________\n",
            "dense_21 (Dense)             (None, 3)                 195       \n",
            "=================================================================\n",
            "Total params: 1,542,435\n",
            "Trainable params: 1,542,435\n",
            "Non-trainable params: 0\n",
            "_________________________________________________________________\n"
          ],
          "name": "stdout"
        },
        {
          "output_type": "stream",
          "text": [
            "/usr/local/lib/python3.6/dist-packages/tensorflow/python/framework/indexed_slices.py:434: UserWarning:\n",
            "\n",
            "Converting sparse IndexedSlices to a dense Tensor of unknown shape. This may consume a large amount of memory.\n",
            "\n"
          ],
          "name": "stderr"
        },
        {
          "output_type": "stream",
          "text": [
            "Train on 19792 samples, validate on 4949 samples\n",
            "Epoch 1/50\n",
            "19792/19792 [==============================] - 27s 1ms/step - loss: 0.4284 - accuracy: 0.8274 - val_loss: 0.2469 - val_accuracy: 0.9153\n",
            "Epoch 2/50\n",
            "19792/19792 [==============================] - 26s 1ms/step - loss: 0.1408 - accuracy: 0.9532 - val_loss: 0.2521 - val_accuracy: 0.9172\n",
            "Epoch 3/50\n",
            "19792/19792 [==============================] - 27s 1ms/step - loss: 0.0716 - accuracy: 0.9765 - val_loss: 0.2765 - val_accuracy: 0.9105\n",
            "Epoch 4/50\n",
            "19792/19792 [==============================] - 26s 1ms/step - loss: 0.0489 - accuracy: 0.9841 - val_loss: 0.3480 - val_accuracy: 0.9018\n",
            "Epoch 5/50\n",
            "19792/19792 [==============================] - 27s 1ms/step - loss: 0.0333 - accuracy: 0.9898 - val_loss: 0.3590 - val_accuracy: 0.9056\n",
            "Epoch 6/50\n",
            "19792/19792 [==============================] - 27s 1ms/step - loss: 0.0276 - accuracy: 0.9916 - val_loss: 0.4091 - val_accuracy: 0.9038\n",
            "Epoch 7/50\n",
            "19792/19792 [==============================] - 27s 1ms/step - loss: 0.0245 - accuracy: 0.9923 - val_loss: 0.3786 - val_accuracy: 0.9077\n",
            "Epoch 00007: early stopping\n"
          ],
          "name": "stdout"
        },
        {
          "output_type": "display_data",
          "data": {
            "image/png": "[encoded data removed]",
            "text/plain": [
              "<Figure size 432x288 with 1 Axes>"
            ]
          },
          "metadata": {
            "tags": [],
            "needs_background": "light"
          }
        },
        {
          "output_type": "stream",
          "text": [
            "4949/4949 [==============================] - 1s 159us/step\n",
            "0.3785712786357956\n",
            "0.9076581001281738\n"
          ],
          "name": "stdout"
        }
      ]
    },
    {
      "cell_type": "code",
      "metadata": {
        "id": "WuVMduoQ79zX",
        "colab_type": "code",
        "colab": {
          "base_uri": "https://localhost:8080/",
          "height": 1000
        },
        "outputId": "4c017286-668b-4e34-cf97-4664b1b8da93"
      },
      "source": [
        "\n",
        "single_lstm(300, activation = 'tanh', \n",
        "            dropout = 0.25, \n",
        "            dense_actv ='softmax',\n",
        "            epochs =100, \n",
        "            X_train = X_train,\n",
        "            Y_train = Y_train,\n",
        "            X_test = X_test,\n",
        "            Y_test = Y_test)"
      ],
      "execution_count": 92,
      "outputs": [
        {
          "output_type": "stream",
          "text": [
            "Model: \"sequential_19\"\n",
            "_________________________________________________________________\n",
            "Layer (type)                 Output Shape              Param #   \n",
            "=================================================================\n",
            "embedding_19 (Embedding)     (None, 10, 100)           1500000   \n",
            "_________________________________________________________________\n",
            "lstm_22 (LSTM)               (None, 300)               481200    \n",
            "_________________________________________________________________\n",
            "dense_17 (Dense)             (None, 3)                 903       \n",
            "=================================================================\n",
            "Total params: 1,982,103\n",
            "Trainable params: 1,982,103\n",
            "Non-trainable params: 0\n",
            "_________________________________________________________________\n"
          ],
          "name": "stdout"
        },
        {
          "output_type": "stream",
          "text": [
            "/usr/local/lib/python3.6/dist-packages/tensorflow/python/framework/indexed_slices.py:434: UserWarning:\n",
            "\n",
            "Converting sparse IndexedSlices to a dense Tensor of unknown shape. This may consume a large amount of memory.\n",
            "\n"
          ],
          "name": "stderr"
        },
        {
          "output_type": "stream",
          "text": [
            "Train on 19792 samples, validate on 4949 samples\n",
            "Epoch 1/20\n",
            "19792/19792 [==============================] - 30s 2ms/step - loss: 0.4458 - accuracy: 0.8162 - val_loss: 0.2654 - val_accuracy: 0.9050\n",
            "Epoch 2/20\n",
            "19792/19792 [==============================] - 29s 1ms/step - loss: 0.1485 - accuracy: 0.9486 - val_loss: 0.2480 - val_accuracy: 0.9121\n",
            "Epoch 3/20\n",
            "19792/19792 [==============================] - 31s 2ms/step - loss: 0.0801 - accuracy: 0.9732 - val_loss: 0.3317 - val_accuracy: 0.9062\n",
            "Epoch 4/20\n",
            "19792/19792 [==============================] - 30s 2ms/step - loss: 0.0522 - accuracy: 0.9833 - val_loss: 0.3240 - val_accuracy: 0.9091\n",
            "Epoch 5/20\n",
            "19792/19792 [==============================] - 30s 2ms/step - loss: 0.0432 - accuracy: 0.9863 - val_loss: 0.3768 - val_accuracy: 0.8986\n",
            "Epoch 6/20\n",
            "19792/19792 [==============================] - 29s 1ms/step - loss: 0.0313 - accuracy: 0.9903 - val_loss: 0.3865 - val_accuracy: 0.9008\n",
            "Epoch 7/20\n",
            "19792/19792 [==============================] - 30s 1ms/step - loss: 0.0257 - accuracy: 0.9919 - val_loss: 0.4469 - val_accuracy: 0.9004\n",
            "Epoch 8/20\n",
            "19792/19792 [==============================] - 30s 1ms/step - loss: 0.0183 - accuracy: 0.9941 - val_loss: 0.5353 - val_accuracy: 0.8939\n",
            "Epoch 9/20\n",
            "19792/19792 [==============================] - 30s 2ms/step - loss: 0.0195 - accuracy: 0.9941 - val_loss: 0.4385 - val_accuracy: 0.9006\n",
            "Epoch 10/20\n",
            "19792/19792 [==============================] - 30s 1ms/step - loss: 0.0163 - accuracy: 0.9947 - val_loss: 0.5702 - val_accuracy: 0.8897\n",
            "Epoch 11/20\n",
            "19792/19792 [==============================] - 30s 2ms/step - loss: 0.0136 - accuracy: 0.9952 - val_loss: 0.5411 - val_accuracy: 0.8965\n",
            "Epoch 12/20\n",
            "19792/19792 [==============================] - 31s 2ms/step - loss: 0.0125 - accuracy: 0.9953 - val_loss: 0.5427 - val_accuracy: 0.8959\n",
            "Epoch 13/20\n",
            "19792/19792 [==============================] - 29s 1ms/step - loss: 0.0122 - accuracy: 0.9951 - val_loss: 0.5390 - val_accuracy: 0.8967\n",
            "Epoch 14/20\n",
            "19792/19792 [==============================] - 30s 2ms/step - loss: 0.0133 - accuracy: 0.9954 - val_loss: 0.5409 - val_accuracy: 0.8961\n",
            "Epoch 15/20\n",
            "19792/19792 [==============================] - 31s 2ms/step - loss: 0.0096 - accuracy: 0.9963 - val_loss: 0.6144 - val_accuracy: 0.8913\n",
            "Epoch 16/20\n",
            "19792/19792 [==============================] - 29s 1ms/step - loss: 0.0105 - accuracy: 0.9960 - val_loss: 0.6069 - val_accuracy: 0.8959\n",
            "Epoch 17/20\n",
            "19792/19792 [==============================] - 29s 1ms/step - loss: 0.0083 - accuracy: 0.9962 - val_loss: 0.6212 - val_accuracy: 0.8961\n",
            "Epoch 18/20\n",
            "19792/19792 [==============================] - 29s 1ms/step - loss: 0.0083 - accuracy: 0.9966 - val_loss: 0.5918 - val_accuracy: 0.8998\n",
            "Epoch 19/20\n",
            "19792/19792 [==============================] - 29s 1ms/step - loss: 0.0071 - accuracy: 0.9969 - val_loss: 0.5920 - val_accuracy: 0.8969\n",
            "Epoch 20/20\n",
            "19792/19792 [==============================] - 29s 1ms/step - loss: 0.0067 - accuracy: 0.9973 - val_loss: 0.6476 - val_accuracy: 0.9010\n"
          ],
          "name": "stdout"
        },
        {
          "output_type": "display_data",
          "data": {
            "image/png": "[encoded data removed]",
            "text/plain": [
              "<Figure size 432x288 with 1 Axes>"
            ]
          },
          "metadata": {
            "tags": [],
            "needs_background": "light"
          }
        },
        {
          "output_type": "stream",
          "text": [
            "4949/4949 [==============================] - 1s 205us/step\n",
            "0.6476344711593809\n",
            "0.9009901285171509\n"
          ],
          "name": "stdout"
        }
      ]
    },
    {
      "cell_type": "markdown",
      "metadata": {
        "id": "kXRX_WUd1E4J",
        "colab_type": "text"
      },
      "source": [
        "## Model 2 double layer LSTM "
      ]
    },
    {
      "cell_type": "code",
      "metadata": {
        "id": "z_qdIz8004wt",
        "colab_type": "code",
        "colab": {}
      },
      "source": [
        "def double_lstm(nodes, **kwargs):\n",
        "  #as declared above earlier\n",
        "  MAX_NB_WORDS = 15000\n",
        "  EMBEDDING_DIM = 100\n",
        "  MAX_SEQ_LENGTH = 12\n",
        "  with tf.device('/device:GPU:0'):\n",
        "    model = Sequential()\n",
        "\n",
        "    model.add(Embedding(MAX_NB_WORDS, EMBEDDING_DIM, input_length=MAX_SEQ_LENGTH))\n",
        "    model.add(LSTM(nodes, activation=  kwargs.get('activation'), dropout=  kwargs.get('dropout'), return_sequences=True ))\n",
        "    model.add(LSTM(64, activation=  kwargs.get('activation'), dropout=  kwargs.get('dropout') ))\n",
        "    model.add(Dense(30,activation= kwargs.get('dense_actv')))\n",
        "    model.add(Dense(3, activation= kwargs.get('dense_actv')))\n",
        "    #optimizer = Adam(learning_rate=3e-4)\n",
        "    # Since one hot encoded. categoriacl crossentropy will work\n",
        "    model.compile(loss=\"categorical_crossentropy\", optimizer='adam', metrics=[\"accuracy\"])\n",
        "    model.summary()\n",
        "    history = model.fit(kwargs.get('X_train'), kwargs.get('Y_train'), epochs= kwargs.get('epochs'), validation_data=(kwargs.get('X_test'), kwargs.get('Y_test')),)\n",
        "    display_history_loss(history, \"double_lstm\")\n",
        "    score = model.evaluate(X_test, Y_test)\n",
        "    print(score[0])\n",
        "    print(score[1])"
      ],
      "execution_count": 85,
      "outputs": []
    },
    {
      "cell_type": "code",
      "metadata": {
        "id": "e1iJpmyC3-Sj",
        "colab_type": "code",
        "colab": {
          "base_uri": "https://localhost:8080/",
          "height": 797
        },
        "outputId": "3c9979ef-fe03-4a38-b16a-28d4c1ff77a8"
      },
      "source": [
        "double_lstm(100, activation = 'tanh',  \n",
        "            dense_actv ='softmax',\n",
        "            epochs =20, \n",
        "            X_train = X_train,\n",
        "            Y_train = Y_train,\n",
        "            X_test = X_test,\n",
        "            Y_test = Y_test)"
      ],
      "execution_count": 87,
      "outputs": [
        {
          "output_type": "stream",
          "text": [
            "Model: \"sequential_10\"\n",
            "_________________________________________________________________\n",
            "Layer (type)                 Output Shape              Param #   \n",
            "=================================================================\n",
            "embedding_10 (Embedding)     (None, 12, 100)           1500000   \n",
            "_________________________________________________________________\n",
            "lstm_13 (LSTM)               (None, 12, 100)           80400     \n",
            "_________________________________________________________________\n",
            "lstm_14 (LSTM)               (None, 64)                42240     \n",
            "_________________________________________________________________\n",
            "dense_13 (Dense)             (None, 30)                1950      \n",
            "_________________________________________________________________\n",
            "dense_14 (Dense)             (None, 3)                 93        \n",
            "=================================================================\n",
            "Total params: 1,624,683\n",
            "Trainable params: 1,624,683\n",
            "Non-trainable params: 0\n",
            "_________________________________________________________________\n"
          ],
          "name": "stdout"
        },
        {
          "output_type": "stream",
          "text": [
            "/usr/local/lib/python3.6/dist-packages/tensorflow/python/framework/indexed_slices.py:434: UserWarning:\n",
            "\n",
            "Converting sparse IndexedSlices to a dense Tensor of unknown shape. This may consume a large amount of memory.\n",
            "\n"
          ],
          "name": "stderr"
        },
        {
          "output_type": "stream",
          "text": [
            "Train on 19792 samples, validate on 4949 samples\n",
            "Epoch 1/20\n",
            " 7840/19792 [==========>...................] - ETA: 20s - loss: 0.9482 - accuracy: 0.6028"
          ],
          "name": "stdout"
        },
        {
          "output_type": "error",
          "ename": "KeyboardInterrupt",
          "evalue": "ignored",
          "traceback": [
            "\u001b[0;31m---------------------------------------------------------------------------\u001b[0m",
            "\u001b[0;31mKeyboardInterrupt\u001b[0m                         Traceback (most recent call last)",
            "\u001b[0;32m<ipython-input-87-3be27ac77fe7>\u001b[0m in \u001b[0;36m<module>\u001b[0;34m()\u001b[0m\n\u001b[1;32m      6\u001b[0m             \u001b[0mY_train\u001b[0m \u001b[0;34m=\u001b[0m \u001b[0mY_train\u001b[0m\u001b[0;34m,\u001b[0m\u001b[0;34m\u001b[0m\u001b[0;34m\u001b[0m\u001b[0m\n\u001b[1;32m      7\u001b[0m             \u001b[0mX_test\u001b[0m \u001b[0;34m=\u001b[0m \u001b[0mX_test\u001b[0m\u001b[0;34m,\u001b[0m\u001b[0;34m\u001b[0m\u001b[0;34m\u001b[0m\u001b[0m\n\u001b[0;32m----> 8\u001b[0;31m             Y_test = Y_test)\n\u001b[0m",
            "\u001b[0;32m<ipython-input-85-90f3645d687b>\u001b[0m in \u001b[0;36mdouble_lstm\u001b[0;34m(nodes, **kwargs)\u001b[0m\n\u001b[1;32m     16\u001b[0m     \u001b[0mmodel\u001b[0m\u001b[0;34m.\u001b[0m\u001b[0mcompile\u001b[0m\u001b[0;34m(\u001b[0m\u001b[0mloss\u001b[0m\u001b[0;34m=\u001b[0m\u001b[0;34m\"categorical_crossentropy\"\u001b[0m\u001b[0;34m,\u001b[0m \u001b[0moptimizer\u001b[0m\u001b[0;34m=\u001b[0m\u001b[0;34m'adam'\u001b[0m\u001b[0;34m,\u001b[0m \u001b[0mmetrics\u001b[0m\u001b[0;34m=\u001b[0m\u001b[0;34m[\u001b[0m\u001b[0;34m\"accuracy\"\u001b[0m\u001b[0;34m]\u001b[0m\u001b[0;34m)\u001b[0m\u001b[0;34m\u001b[0m\u001b[0;34m\u001b[0m\u001b[0m\n\u001b[1;32m     17\u001b[0m     \u001b[0mmodel\u001b[0m\u001b[0;34m.\u001b[0m\u001b[0msummary\u001b[0m\u001b[0;34m(\u001b[0m\u001b[0;34m)\u001b[0m\u001b[0;34m\u001b[0m\u001b[0;34m\u001b[0m\u001b[0m\n\u001b[0;32m---> 18\u001b[0;31m     \u001b[0mhistory\u001b[0m \u001b[0;34m=\u001b[0m \u001b[0mmodel\u001b[0m\u001b[0;34m.\u001b[0m\u001b[0mfit\u001b[0m\u001b[0;34m(\u001b[0m\u001b[0mkwargs\u001b[0m\u001b[0;34m.\u001b[0m\u001b[0mget\u001b[0m\u001b[0;34m(\u001b[0m\u001b[0;34m'X_train'\u001b[0m\u001b[0;34m)\u001b[0m\u001b[0;34m,\u001b[0m \u001b[0mkwargs\u001b[0m\u001b[0;34m.\u001b[0m\u001b[0mget\u001b[0m\u001b[0;34m(\u001b[0m\u001b[0;34m'Y_train'\u001b[0m\u001b[0;34m)\u001b[0m\u001b[0;34m,\u001b[0m \u001b[0mepochs\u001b[0m\u001b[0;34m=\u001b[0m \u001b[0mkwargs\u001b[0m\u001b[0;34m.\u001b[0m\u001b[0mget\u001b[0m\u001b[0;34m(\u001b[0m\u001b[0;34m'epochs'\u001b[0m\u001b[0;34m)\u001b[0m\u001b[0;34m,\u001b[0m \u001b[0mvalidation_data\u001b[0m\u001b[0;34m=\u001b[0m\u001b[0;34m(\u001b[0m\u001b[0mkwargs\u001b[0m\u001b[0;34m.\u001b[0m\u001b[0mget\u001b[0m\u001b[0;34m(\u001b[0m\u001b[0;34m'X_test'\u001b[0m\u001b[0;34m)\u001b[0m\u001b[0;34m,\u001b[0m \u001b[0mkwargs\u001b[0m\u001b[0;34m.\u001b[0m\u001b[0mget\u001b[0m\u001b[0;34m(\u001b[0m\u001b[0;34m'Y_test'\u001b[0m\u001b[0;34m)\u001b[0m\u001b[0;34m)\u001b[0m\u001b[0;34m,\u001b[0m\u001b[0;34m)\u001b[0m\u001b[0;34m\u001b[0m\u001b[0;34m\u001b[0m\u001b[0m\n\u001b[0m\u001b[1;32m     19\u001b[0m     \u001b[0mdisplay_history_loss\u001b[0m\u001b[0;34m(\u001b[0m\u001b[0mhistory\u001b[0m\u001b[0;34m,\u001b[0m \u001b[0;34m\"double_lstm\"\u001b[0m\u001b[0;34m)\u001b[0m\u001b[0;34m\u001b[0m\u001b[0;34m\u001b[0m\u001b[0m\n\u001b[1;32m     20\u001b[0m     \u001b[0mscore\u001b[0m \u001b[0;34m=\u001b[0m \u001b[0mmodel\u001b[0m\u001b[0;34m.\u001b[0m\u001b[0mevaluate\u001b[0m\u001b[0;34m(\u001b[0m\u001b[0mX_test\u001b[0m\u001b[0;34m,\u001b[0m \u001b[0mY_test\u001b[0m\u001b[0;34m)\u001b[0m\u001b[0;34m\u001b[0m\u001b[0;34m\u001b[0m\u001b[0m\n",
            "\u001b[0;32m/usr/local/lib/python3.6/dist-packages/keras/engine/training.py\u001b[0m in \u001b[0;36mfit\u001b[0;34m(self, x, y, batch_size, epochs, verbose, callbacks, validation_split, validation_data, shuffle, class_weight, sample_weight, initial_epoch, steps_per_epoch, validation_steps, validation_freq, max_queue_size, workers, use_multiprocessing, **kwargs)\u001b[0m\n\u001b[1;32m   1237\u001b[0m                                         \u001b[0msteps_per_epoch\u001b[0m\u001b[0;34m=\u001b[0m\u001b[0msteps_per_epoch\u001b[0m\u001b[0;34m,\u001b[0m\u001b[0;34m\u001b[0m\u001b[0;34m\u001b[0m\u001b[0m\n\u001b[1;32m   1238\u001b[0m                                         \u001b[0mvalidation_steps\u001b[0m\u001b[0;34m=\u001b[0m\u001b[0mvalidation_steps\u001b[0m\u001b[0;34m,\u001b[0m\u001b[0;34m\u001b[0m\u001b[0;34m\u001b[0m\u001b[0m\n\u001b[0;32m-> 1239\u001b[0;31m                                         validation_freq=validation_freq)\n\u001b[0m\u001b[1;32m   1240\u001b[0m \u001b[0;34m\u001b[0m\u001b[0m\n\u001b[1;32m   1241\u001b[0m     def evaluate(self,\n",
            "\u001b[0;32m/usr/local/lib/python3.6/dist-packages/keras/engine/training_arrays.py\u001b[0m in \u001b[0;36mfit_loop\u001b[0;34m(model, fit_function, fit_inputs, out_labels, batch_size, epochs, verbose, callbacks, val_function, val_inputs, shuffle, initial_epoch, steps_per_epoch, validation_steps, validation_freq)\u001b[0m\n\u001b[1;32m    194\u001b[0m                     \u001b[0mins_batch\u001b[0m\u001b[0;34m[\u001b[0m\u001b[0mi\u001b[0m\u001b[0;34m]\u001b[0m \u001b[0;34m=\u001b[0m \u001b[0mins_batch\u001b[0m\u001b[0;34m[\u001b[0m\u001b[0mi\u001b[0m\u001b[0;34m]\u001b[0m\u001b[0;34m.\u001b[0m\u001b[0mtoarray\u001b[0m\u001b[0;34m(\u001b[0m\u001b[0;34m)\u001b[0m\u001b[0;34m\u001b[0m\u001b[0;34m\u001b[0m\u001b[0m\n\u001b[1;32m    195\u001b[0m \u001b[0;34m\u001b[0m\u001b[0m\n\u001b[0;32m--> 196\u001b[0;31m                 \u001b[0mouts\u001b[0m \u001b[0;34m=\u001b[0m \u001b[0mfit_function\u001b[0m\u001b[0;34m(\u001b[0m\u001b[0mins_batch\u001b[0m\u001b[0;34m)\u001b[0m\u001b[0;34m\u001b[0m\u001b[0;34m\u001b[0m\u001b[0m\n\u001b[0m\u001b[1;32m    197\u001b[0m                 \u001b[0mouts\u001b[0m \u001b[0;34m=\u001b[0m \u001b[0mto_list\u001b[0m\u001b[0;34m(\u001b[0m\u001b[0mouts\u001b[0m\u001b[0;34m)\u001b[0m\u001b[0;34m\u001b[0m\u001b[0;34m\u001b[0m\u001b[0m\n\u001b[1;32m    198\u001b[0m                 \u001b[0;32mfor\u001b[0m \u001b[0ml\u001b[0m\u001b[0;34m,\u001b[0m \u001b[0mo\u001b[0m \u001b[0;32min\u001b[0m \u001b[0mzip\u001b[0m\u001b[0;34m(\u001b[0m\u001b[0mout_labels\u001b[0m\u001b[0;34m,\u001b[0m \u001b[0mouts\u001b[0m\u001b[0;34m)\u001b[0m\u001b[0;34m:\u001b[0m\u001b[0;34m\u001b[0m\u001b[0;34m\u001b[0m\u001b[0m\n",
            "\u001b[0;32m/usr/local/lib/python3.6/dist-packages/tensorflow/python/keras/backend.py\u001b[0m in \u001b[0;36m__call__\u001b[0;34m(self, inputs)\u001b[0m\n\u001b[1;32m   3790\u001b[0m         \u001b[0mvalue\u001b[0m \u001b[0;34m=\u001b[0m \u001b[0mmath_ops\u001b[0m\u001b[0;34m.\u001b[0m\u001b[0mcast\u001b[0m\u001b[0;34m(\u001b[0m\u001b[0mvalue\u001b[0m\u001b[0;34m,\u001b[0m \u001b[0mtensor\u001b[0m\u001b[0;34m.\u001b[0m\u001b[0mdtype\u001b[0m\u001b[0;34m)\u001b[0m\u001b[0;34m\u001b[0m\u001b[0;34m\u001b[0m\u001b[0m\n\u001b[1;32m   3791\u001b[0m       \u001b[0mconverted_inputs\u001b[0m\u001b[0;34m.\u001b[0m\u001b[0mappend\u001b[0m\u001b[0;34m(\u001b[0m\u001b[0mvalue\u001b[0m\u001b[0;34m)\u001b[0m\u001b[0;34m\u001b[0m\u001b[0;34m\u001b[0m\u001b[0m\n\u001b[0;32m-> 3792\u001b[0;31m     \u001b[0moutputs\u001b[0m \u001b[0;34m=\u001b[0m \u001b[0mself\u001b[0m\u001b[0;34m.\u001b[0m\u001b[0m_graph_fn\u001b[0m\u001b[0;34m(\u001b[0m\u001b[0;34m*\u001b[0m\u001b[0mconverted_inputs\u001b[0m\u001b[0;34m)\u001b[0m\u001b[0;34m\u001b[0m\u001b[0;34m\u001b[0m\u001b[0m\n\u001b[0m\u001b[1;32m   3793\u001b[0m \u001b[0;34m\u001b[0m\u001b[0m\n\u001b[1;32m   3794\u001b[0m     \u001b[0;31m# EagerTensor.numpy() will often make a copy to ensure memory safety.\u001b[0m\u001b[0;34m\u001b[0m\u001b[0;34m\u001b[0m\u001b[0;34m\u001b[0m\u001b[0m\n",
            "\u001b[0;32m/usr/local/lib/python3.6/dist-packages/tensorflow/python/eager/function.py\u001b[0m in \u001b[0;36m__call__\u001b[0;34m(self, *args, **kwargs)\u001b[0m\n\u001b[1;32m   1603\u001b[0m       \u001b[0mTypeError\u001b[0m\u001b[0;34m:\u001b[0m \u001b[0mFor\u001b[0m \u001b[0minvalid\u001b[0m \u001b[0mpositional\u001b[0m\u001b[0;34m/\u001b[0m\u001b[0mkeyword\u001b[0m \u001b[0margument\u001b[0m \u001b[0mcombinations\u001b[0m\u001b[0;34m.\u001b[0m\u001b[0;34m\u001b[0m\u001b[0;34m\u001b[0m\u001b[0m\n\u001b[1;32m   1604\u001b[0m     \"\"\"\n\u001b[0;32m-> 1605\u001b[0;31m     \u001b[0;32mreturn\u001b[0m \u001b[0mself\u001b[0m\u001b[0;34m.\u001b[0m\u001b[0m_call_impl\u001b[0m\u001b[0;34m(\u001b[0m\u001b[0margs\u001b[0m\u001b[0;34m,\u001b[0m \u001b[0mkwargs\u001b[0m\u001b[0;34m)\u001b[0m\u001b[0;34m\u001b[0m\u001b[0;34m\u001b[0m\u001b[0m\n\u001b[0m\u001b[1;32m   1606\u001b[0m \u001b[0;34m\u001b[0m\u001b[0m\n\u001b[1;32m   1607\u001b[0m   \u001b[0;32mdef\u001b[0m \u001b[0m_call_impl\u001b[0m\u001b[0;34m(\u001b[0m\u001b[0mself\u001b[0m\u001b[0;34m,\u001b[0m \u001b[0margs\u001b[0m\u001b[0;34m,\u001b[0m \u001b[0mkwargs\u001b[0m\u001b[0;34m,\u001b[0m \u001b[0mcancellation_manager\u001b[0m\u001b[0;34m=\u001b[0m\u001b[0;32mNone\u001b[0m\u001b[0;34m)\u001b[0m\u001b[0;34m:\u001b[0m\u001b[0;34m\u001b[0m\u001b[0;34m\u001b[0m\u001b[0m\n",
            "\u001b[0;32m/usr/local/lib/python3.6/dist-packages/tensorflow/python/eager/function.py\u001b[0m in \u001b[0;36m_call_impl\u001b[0;34m(self, args, kwargs, cancellation_manager)\u001b[0m\n\u001b[1;32m   1643\u001b[0m       raise TypeError(\"Keyword arguments {} unknown. Expected {}.\".format(\n\u001b[1;32m   1644\u001b[0m           list(kwargs.keys()), list(self._arg_keywords)))\n\u001b[0;32m-> 1645\u001b[0;31m     \u001b[0;32mreturn\u001b[0m \u001b[0mself\u001b[0m\u001b[0;34m.\u001b[0m\u001b[0m_call_flat\u001b[0m\u001b[0;34m(\u001b[0m\u001b[0margs\u001b[0m\u001b[0;34m,\u001b[0m \u001b[0mself\u001b[0m\u001b[0;34m.\u001b[0m\u001b[0mcaptured_inputs\u001b[0m\u001b[0;34m,\u001b[0m \u001b[0mcancellation_manager\u001b[0m\u001b[0;34m)\u001b[0m\u001b[0;34m\u001b[0m\u001b[0;34m\u001b[0m\u001b[0m\n\u001b[0m\u001b[1;32m   1646\u001b[0m \u001b[0;34m\u001b[0m\u001b[0m\n\u001b[1;32m   1647\u001b[0m   \u001b[0;32mdef\u001b[0m \u001b[0m_filtered_call\u001b[0m\u001b[0;34m(\u001b[0m\u001b[0mself\u001b[0m\u001b[0;34m,\u001b[0m \u001b[0margs\u001b[0m\u001b[0;34m,\u001b[0m \u001b[0mkwargs\u001b[0m\u001b[0;34m)\u001b[0m\u001b[0;34m:\u001b[0m\u001b[0;34m\u001b[0m\u001b[0;34m\u001b[0m\u001b[0m\n",
            "\u001b[0;32m/usr/local/lib/python3.6/dist-packages/tensorflow/python/eager/function.py\u001b[0m in \u001b[0;36m_call_flat\u001b[0;34m(self, args, captured_inputs, cancellation_manager)\u001b[0m\n\u001b[1;32m   1744\u001b[0m       \u001b[0;31m# No tape is watching; skip to running the function.\u001b[0m\u001b[0;34m\u001b[0m\u001b[0;34m\u001b[0m\u001b[0;34m\u001b[0m\u001b[0m\n\u001b[1;32m   1745\u001b[0m       return self._build_call_outputs(self._inference_function.call(\n\u001b[0;32m-> 1746\u001b[0;31m           ctx, args, cancellation_manager=cancellation_manager))\n\u001b[0m\u001b[1;32m   1747\u001b[0m     forward_backward = self._select_forward_and_backward_functions(\n\u001b[1;32m   1748\u001b[0m         \u001b[0margs\u001b[0m\u001b[0;34m,\u001b[0m\u001b[0;34m\u001b[0m\u001b[0;34m\u001b[0m\u001b[0m\n",
            "\u001b[0;32m/usr/local/lib/python3.6/dist-packages/tensorflow/python/eager/function.py\u001b[0m in \u001b[0;36mcall\u001b[0;34m(self, ctx, args, cancellation_manager)\u001b[0m\n\u001b[1;32m    596\u001b[0m               \u001b[0minputs\u001b[0m\u001b[0;34m=\u001b[0m\u001b[0margs\u001b[0m\u001b[0;34m,\u001b[0m\u001b[0;34m\u001b[0m\u001b[0;34m\u001b[0m\u001b[0m\n\u001b[1;32m    597\u001b[0m               \u001b[0mattrs\u001b[0m\u001b[0;34m=\u001b[0m\u001b[0mattrs\u001b[0m\u001b[0;34m,\u001b[0m\u001b[0;34m\u001b[0m\u001b[0;34m\u001b[0m\u001b[0m\n\u001b[0;32m--> 598\u001b[0;31m               ctx=ctx)\n\u001b[0m\u001b[1;32m    599\u001b[0m         \u001b[0;32melse\u001b[0m\u001b[0;34m:\u001b[0m\u001b[0;34m\u001b[0m\u001b[0;34m\u001b[0m\u001b[0m\n\u001b[1;32m    600\u001b[0m           outputs = execute.execute_with_cancellation(\n",
            "\u001b[0;32m/usr/local/lib/python3.6/dist-packages/tensorflow/python/eager/execute.py\u001b[0m in \u001b[0;36mquick_execute\u001b[0;34m(op_name, num_outputs, inputs, attrs, ctx, name)\u001b[0m\n\u001b[1;32m     58\u001b[0m     \u001b[0mctx\u001b[0m\u001b[0;34m.\u001b[0m\u001b[0mensure_initialized\u001b[0m\u001b[0;34m(\u001b[0m\u001b[0;34m)\u001b[0m\u001b[0;34m\u001b[0m\u001b[0;34m\u001b[0m\u001b[0m\n\u001b[1;32m     59\u001b[0m     tensors = pywrap_tfe.TFE_Py_Execute(ctx._handle, device_name, op_name,\n\u001b[0;32m---> 60\u001b[0;31m                                         inputs, attrs, num_outputs)\n\u001b[0m\u001b[1;32m     61\u001b[0m   \u001b[0;32mexcept\u001b[0m \u001b[0mcore\u001b[0m\u001b[0;34m.\u001b[0m\u001b[0m_NotOkStatusException\u001b[0m \u001b[0;32mas\u001b[0m \u001b[0me\u001b[0m\u001b[0;34m:\u001b[0m\u001b[0;34m\u001b[0m\u001b[0;34m\u001b[0m\u001b[0m\n\u001b[1;32m     62\u001b[0m     \u001b[0;32mif\u001b[0m \u001b[0mname\u001b[0m \u001b[0;32mis\u001b[0m \u001b[0;32mnot\u001b[0m \u001b[0;32mNone\u001b[0m\u001b[0;34m:\u001b[0m\u001b[0;34m\u001b[0m\u001b[0;34m\u001b[0m\u001b[0m\n",
            "\u001b[0;31mKeyboardInterrupt\u001b[0m: "
          ]
        }
      ]
    },
    {
      "cell_type": "markdown",
      "metadata": {
        "id": "6Sjt_G-hBkFb",
        "colab_type": "text"
      },
      "source": [
        "## Model 3 bidirectional LSTM\n",
        "\n",
        "\n",
        "Now we can implement LSTM. Here is my code that I build a tf.keras.Sequential model and start with an embedding layer. An embedding layer stores one vector per word. When called, it converts the sequences of word indices into sequences of vectors. After training, words with similar meanings often have the similar vectors.\n",
        "\n",
        "Next is how to implement LSTM in code. The Bidirectional wrapper is used with a LSTM layer, this propagates the input forwards and backwards through the LSTM layer and then concatenates the outputs. This helps LSTM to learn long term dependencies. We then fit it to a dense neural network to do classification.\n",
        "\n",
        "This index-lookup is much more efficient than the equivalent operation of passing a one-hot encoded vector through a tf.keras.layers.Dense layer."
      ]
    },
    {
      "cell_type": "code",
      "metadata": {
        "id": "1uWGQWWl9w-p",
        "colab_type": "code",
        "colab": {
          "base_uri": "https://localhost:8080/",
          "height": 295
        },
        "outputId": "227cf619-a6c8-4398-ad45-118c57822e78"
      },
      "source": [
        "model2 = tf.keras.Sequential([\n",
        "    # Add an Embedding layer expecting input vocab of size 1500, and output embedding dimension of size 64 we set at the top\n",
        "    tf.keras.layers.Embedding(MAX_NB_WORDS, EMBEDDING_DIM),\n",
        "    tf.keras.layers.Bidirectional(tf.keras.layers.LSTM(EMBEDDING_DIM)),\n",
        "    #tf.keras.layers.Bidirectional(tf.keras.layers.LSTM(32)),\n",
        "    # use ReLU in place of tanh function since they are very good alternatives of each other.\n",
        "    tf.keras.layers.Dense(EMBEDDING_DIM, activation='relu'),\n",
        "    # Add a Dense layer with 6 units and softmax activation.\n",
        "    # When we have multiple outputs, softmax convert outputs layers into a probability distribution.\n",
        "    tf.keras.layers.Dense(3, activation='softmax')\n",
        "])\n",
        "model2.summary()"
      ],
      "execution_count": null,
      "outputs": [
        {
          "output_type": "stream",
          "text": [
            "Model: \"sequential_2\"\n",
            "_________________________________________________________________\n",
            "Layer (type)                 Output Shape              Param #   \n",
            "=================================================================\n",
            "embedding_2 (Embedding)      (None, None, 100)         1500000   \n",
            "_________________________________________________________________\n",
            "bidirectional_2 (Bidirection (None, 200)               160800    \n",
            "_________________________________________________________________\n",
            "dense_4 (Dense)              (None, 100)               20100     \n",
            "_________________________________________________________________\n",
            "dense_5 (Dense)              (None, 3)                 303       \n",
            "=================================================================\n",
            "Total params: 1,681,203\n",
            "Trainable params: 1,681,203\n",
            "Non-trainable params: 0\n",
            "_________________________________________________________________\n"
          ],
          "name": "stdout"
        }
      ]
    },
    {
      "cell_type": "code",
      "metadata": {
        "id": "DvnHsYWR-Mhb",
        "colab_type": "code",
        "colab": {}
      },
      "source": [
        "model2.compile(loss=\"categorical_crossentropy\", optimizer='adam', metrics=[\"accuracy\"])"
      ],
      "execution_count": null,
      "outputs": []
    },
    {
      "cell_type": "code",
      "metadata": {
        "id": "_qnSSePE-27a",
        "colab_type": "code",
        "colab": {
          "base_uri": "https://localhost:8080/",
          "height": 193
        },
        "outputId": "f1371902-b198-415c-cc3d-8fcc7bab76d3"
      },
      "source": [
        "with tf.device('/device:GPU:0'):\n",
        "   history2 = model2.fit(\n",
        "      X_train, Y_train, epochs=5, validation_data=(X_test, Y_test),\n",
        "  )"
      ],
      "execution_count": null,
      "outputs": [
        {
          "output_type": "stream",
          "text": [
            "619/619 [==============================] - 7s 11ms/step - loss: 0.4552 - accuracy: 0.8047 - val_loss: 0.2391 - val_accuracy: 0.9125\n",
            "Epoch 2/5\n",
            "619/619 [==============================] - 7s 11ms/step - loss: 0.1339 - accuracy: 0.9527 - val_loss: 0.2314 - val_accuracy: 0.9168\n",
            "Epoch 3/5\n",
            "619/619 [==============================] - 6s 10ms/step - loss: 0.0651 - accuracy: 0.9785 - val_loss: 0.2549 - val_accuracy: 0.9163\n",
            "Epoch 4/5\n",
            "619/619 [==============================] - 6s 10ms/step - loss: 0.0400 - accuracy: 0.9876 - val_loss: 0.2990 - val_accuracy: 0.9107\n",
            "Epoch 5/5\n",
            "619/619 [==============================] - 6s 10ms/step - loss: 0.0281 - accuracy: 0.9911 - val_loss: 0.3515 - val_accuracy: 0.9085\n"
          ],
          "name": "stdout"
        }
      ]
    },
    {
      "cell_type": "code",
      "metadata": {
        "id": "j14lHG9c_1Sh",
        "colab_type": "code",
        "colab": {
          "base_uri": "https://localhost:8080/",
          "height": 541
        },
        "outputId": "0cb63b21-145e-4412-ae00-a23f262a058c"
      },
      "source": [
        "plot_graphs(history2, \"accuracy\")\n",
        "plot_graphs(history2, \"loss\")  "
      ],
      "execution_count": null,
      "outputs": [
        {
          "output_type": "display_data",
          "data": {
            "image/png": "[encoded data removed]",
            "text/plain": [
              "<Figure size 432x288 with 1 Axes>"
            ]
          },
          "metadata": {
            "tags": [],
            "needs_background": "light"
          }
        },
        {
          "output_type": "display_data",
          "data": {
            "image/png": "[encoded data removed]",
            "text/plain": [
              "<Figure size 432x288 with 1 Axes>"
            ]
          },
          "metadata": {
            "tags": [],
            "needs_background": "light"
          }
        }
      ]
    },
    {
      "cell_type": "markdown",
      "metadata": {
        "id": "fdEICPDOEKUT",
        "colab_type": "text"
      },
      "source": [
        "# Build Model - Transformer\n",
        "\n",
        "\n",
        "Transformer layer outputs one vector for each time step of our input sequence. Here, we take the mean across all time steps and use a feed forward network on top of it to classify text."
      ]
    },
    {
      "cell_type": "code",
      "metadata": {
        "id": "a5QL3V2wEPvL",
        "colab_type": "code",
        "colab": {}
      },
      "source": [
        "import tensorflow as tf\n",
        "from tensorflow import keras\n",
        "from tensorflow.keras import layers\n",
        "from tensorflow.keras import optimizers as tfopt\n",
        "\n",
        "class MultiHeadSelfAttention(layers.Layer):\n",
        "    def __init__(self, embed_dim, num_heads=8):\n",
        "        super(MultiHeadSelfAttention, self).__init__()\n",
        "        self.embed_dim = embed_dim\n",
        "        self.num_heads = num_heads\n",
        "        if embed_dim % num_heads != 0:\n",
        "            raise ValueError(\n",
        "                f\"embedding dimension = {embed_dim} should be divisible by number of heads = {num_heads}\"\n",
        "            )\n",
        "        self.projection_dim = embed_dim // num_heads\n",
        "        self.query_dense = layers.Dense(embed_dim)\n",
        "        self.key_dense = layers.Dense(embed_dim)\n",
        "        self.value_dense = layers.Dense(embed_dim)\n",
        "        self.combine_heads = layers.Dense(embed_dim)\n",
        "\n",
        "    def attention(self, query, key, value):\n",
        "        score = tf.matmul(query, key, transpose_b=True)\n",
        "        dim_key = tf.cast(tf.shape(key)[-1], tf.float32)\n",
        "        scaled_score = score / tf.math.sqrt(dim_key)\n",
        "        weights = tf.nn.softmax(scaled_score, axis=-1)\n",
        "        output = tf.matmul(weights, value)\n",
        "        return output, weights\n",
        "\n",
        "    def separate_heads(self, x, batch_size):\n",
        "        x = tf.reshape(x, (batch_size, -1, self.num_heads, self.projection_dim))\n",
        "        return tf.transpose(x, perm=[0, 2, 1, 3])\n",
        "\n",
        "    def call(self, inputs):\n",
        "        # x.shape = [batch_size, seq_len, embedding_dim]\n",
        "        batch_size = tf.shape(inputs)[0]\n",
        "        query = self.query_dense(inputs)  # (batch_size, seq_len, embed_dim)\n",
        "        key = self.key_dense(inputs)  # (batch_size, seq_len, embed_dim)\n",
        "        value = self.value_dense(inputs)  # (batch_size, seq_len, embed_dim)\n",
        "        query = self.separate_heads(\n",
        "            query, batch_size\n",
        "        )  # (batch_size, num_heads, seq_len, projection_dim)\n",
        "        key = self.separate_heads(\n",
        "            key, batch_size\n",
        "        )  # (batch_size, num_heads, seq_len, projection_dim)\n",
        "        value = self.separate_heads(\n",
        "            value, batch_size\n",
        "        )  # (batch_size, num_heads, seq_len, projection_dim)\n",
        "        attention, weights = self.attention(query, key, value)\n",
        "        attention = tf.transpose(\n",
        "            attention, perm=[0, 2, 1, 3]\n",
        "        )  # (batch_size, seq_len, num_heads, projection_dim)\n",
        "        concat_attention = tf.reshape(\n",
        "            attention, (batch_size, -1, self.embed_dim)\n",
        "        )  # (batch_size, seq_len, embed_dim)\n",
        "        output = self.combine_heads(\n",
        "            concat_attention\n",
        "        )  # (batch_size, seq_len, embed_dim)\n",
        "        return output\n",
        "\n",
        "class TransformerBlock(layers.Layer):\n",
        "    def __init__(self, embed_dim, num_heads, ff_dim, rate=0.1):\n",
        "        super(TransformerBlock, self).__init__()\n",
        "        self.att = MultiHeadSelfAttention(embed_dim, num_heads)\n",
        "        self.ffn = keras.Sequential(\n",
        "            [layers.Dense(ff_dim, activation=\"relu\"), layers.Dense(embed_dim),]\n",
        "        )\n",
        "        self.layernorm1 = layers.LayerNormalization(epsilon=1e-6)\n",
        "        self.layernorm2 = layers.LayerNormalization(epsilon=1e-6)\n",
        "        self.dropout1 = layers.Dropout(rate)\n",
        "        self.dropout2 = layers.Dropout(rate)\n",
        "\n",
        "    def call(self, inputs, training):\n",
        "        attn_output = self.att(inputs)\n",
        "        attn_output = self.dropout1(attn_output, training=training)\n",
        "        out1 = self.layernorm1(inputs + attn_output)\n",
        "        ffn_output = self.ffn(out1)\n",
        "        ffn_output = self.dropout2(ffn_output, training=training)\n",
        "        return self.layernorm2(out1 + ffn_output)\n",
        "\n",
        "#Two seperate embedding layers, one for tokens, one for token index (positions).\n",
        "\n",
        "class TokenAndPositionEmbedding(layers.Layer):\n",
        "    def __init__(self, maxlen, vocab_size, embed_dim):\n",
        "        super(TokenAndPositionEmbedding, self).__init__()\n",
        "        self.token_emb = layers.Embedding(input_dim=vocab_size, output_dim=embed_dim)\n",
        "        self.pos_emb = layers.Embedding(input_dim=maxlen, output_dim=embed_dim)\n",
        "\n",
        "    def call(self, x):\n",
        "        maxlen = tf.shape(x)[-1]\n",
        "        positions = tf.range(start=0, limit=maxlen, delta=1)\n",
        "        positions = self.pos_emb(positions)\n",
        "        x = self.token_emb(x)\n",
        "        return x + positions"
      ],
      "execution_count": 52,
      "outputs": []
    },
    {
      "cell_type": "code",
      "metadata": {
        "id": "fOJyqaH3E4Sk",
        "colab_type": "code",
        "colab": {}
      },
      "source": [
        "maxlen = 12\n",
        "vocab_size = 15000\n",
        "#X_train = keras.preprocessing.sequence.pad_sequences(X_train, maxlen=maxlen)\n",
        "#X_test = keras.preprocessing.sequence.pad_sequences(X_test, maxlen=maxlen)"
      ],
      "execution_count": 46,
      "outputs": []
    },
    {
      "cell_type": "code",
      "metadata": {
        "id": "IFLE91vrFOf6",
        "colab_type": "code",
        "colab": {
          "base_uri": "https://localhost:8080/",
          "height": 35
        },
        "outputId": "43104853-cbb6-476a-fae0-cfb288bdc5f0"
      },
      "source": [
        "X_train.shape"
      ],
      "execution_count": 47,
      "outputs": [
        {
          "output_type": "execute_result",
          "data": {
            "text/plain": [
              "(19792, 12)"
            ]
          },
          "metadata": {
            "tags": []
          },
          "execution_count": 47
        }
      ]
    },
    {
      "cell_type": "code",
      "metadata": {
        "id": "KywH_NwgK2Id",
        "colab_type": "code",
        "colab": {
          "base_uri": "https://localhost:8080/",
          "height": 52
        },
        "outputId": "5ff94915-a100-4747-e463-d7b512056e6d"
      },
      "source": [
        "X_train[100]"
      ],
      "execution_count": 48,
      "outputs": [
        {
          "output_type": "execute_result",
          "data": {
            "text/plain": [
              "array([  222,   557,   118, 12571,  2539, 12902,   161,     0,     0,\n",
              "           0,     0,     0], dtype=int32)"
            ]
          },
          "metadata": {
            "tags": []
          },
          "execution_count": 48
        }
      ]
    },
    {
      "cell_type": "code",
      "metadata": {
        "id": "0cV63Z46FSf8",
        "colab_type": "code",
        "colab": {}
      },
      "source": [
        "embed_dim = 100  # Embedding size for each token\n",
        "num_heads = 2  # Number of attention heads\n",
        "ff_dim = 32  # Hidden layer size in feed forward network inside transformer\n",
        "keras.backend.clear_session()\n",
        "inputs = layers.Input(shape=(maxlen,))\n",
        "embedding_layer = TokenAndPositionEmbedding(maxlen, vocab_size, embed_dim)\n",
        "x = embedding_layer(inputs)\n",
        "transformer_block = TransformerBlock(embed_dim, num_heads, ff_dim)\n",
        "x = transformer_block(x)\n",
        "x = layers.GlobalAveragePooling1D()(x)\n",
        "x = layers.Dropout(0.25)(x)\n",
        "x = layers.Dense(20, activation=\"softmax\")(x)\n",
        "x = layers.Dropout(0.1)(x)\n",
        "outputs = layers.Dense(3, activation=\"softmax\")(x)\n",
        "\n",
        "model_transformer = keras.Model(inputs=inputs, outputs=outputs)"
      ],
      "execution_count": 54,
      "outputs": []
    },
    {
      "cell_type": "markdown",
      "metadata": {
        "id": "0Rx1gKcmcYcI",
        "colab_type": "text"
      },
      "source": [
        "## Result\n",
        "\n",
        "100 epochs, 100 batch. 19k data training. Dense softmax activation. and extra more layer of danse 20 has given similar kind but better result achieved in LSTM model 1 with 64.\n",
        "\n",
        "acc 0.898 - better\n",
        "val_loss 0.7 - similar\n",
        "runtime 204.79s - less than half of LSTM model1 "
      ]
    },
    {
      "cell_type": "code",
      "metadata": {
        "id": "1wx9uR0QFalZ",
        "colab_type": "code",
        "colab": {
          "base_uri": "https://localhost:8080/",
          "height": 1000
        },
        "outputId": "13263f9b-fd2b-4f7b-f8ca-cd4a6049f370"
      },
      "source": [
        "with tf.device('/device:GPU:0'):\n",
        "  optimizer_t = tfopt.Adam(learning_rate=1e-5)\n",
        "  model_transformer.compile(loss=\"categorical_crossentropy\", optimizer=optimizer_t, metrics=[\"accuracy\"])\n",
        "  model_transformer.summary()\n",
        "  history_transformer = model_transformer.fit(\n",
        "      X_train, Y_train, batch_size=100, epochs=40, validation_data=(X_test, Y_test)\n",
        "  )"
      ],
      "execution_count": 55,
      "outputs": [
        {
          "output_type": "stream",
          "text": [
            "Model: \"model\"\n",
            "_________________________________________________________________\n",
            "Layer (type)                 Output Shape              Param #   \n",
            "=================================================================\n",
            "input_1 (InputLayer)         [(None, 12)]              0         \n",
            "_________________________________________________________________\n",
            "token_and_position_embedding (None, 12, 100)           1501200   \n",
            "_________________________________________________________________\n",
            "transformer_block (Transform (None, 12, 100)           47332     \n",
            "_________________________________________________________________\n",
            "global_average_pooling1d (Gl (None, 100)               0         \n",
            "_________________________________________________________________\n",
            "dropout_2 (Dropout)          (None, 100)               0         \n",
            "_________________________________________________________________\n",
            "dense_6 (Dense)              (None, 20)                2020      \n",
            "_________________________________________________________________\n",
            "dropout_3 (Dropout)          (None, 20)                0         \n",
            "_________________________________________________________________\n",
            "dense_7 (Dense)              (None, 3)                 63        \n",
            "=================================================================\n",
            "Total params: 1,550,615\n",
            "Trainable params: 1,550,615\n",
            "Non-trainable params: 0\n",
            "_________________________________________________________________\n",
            "Epoch 1/40\n",
            "198/198 [==============================] - 6s 28ms/step - loss: 1.0987 - accuracy: 0.3407 - val_loss: 1.0891 - val_accuracy: 0.4310\n",
            "Epoch 2/40\n",
            "198/198 [==============================] - 5s 25ms/step - loss: 1.0839 - accuracy: 0.4511 - val_loss: 1.0747 - val_accuracy: 0.4906\n",
            "Epoch 3/40\n",
            "198/198 [==============================] - 5s 26ms/step - loss: 1.0678 - accuracy: 0.4714 - val_loss: 1.0555 - val_accuracy: 0.4979\n",
            "Epoch 4/40\n",
            "198/198 [==============================] - 5s 25ms/step - loss: 1.0487 - accuracy: 0.4890 - val_loss: 1.0366 - val_accuracy: 0.5146\n",
            "Epoch 5/40\n",
            "198/198 [==============================] - 5s 25ms/step - loss: 1.0313 - accuracy: 0.5077 - val_loss: 1.0206 - val_accuracy: 0.5316\n",
            "Epoch 6/40\n",
            "198/198 [==============================] - 5s 25ms/step - loss: 1.0172 - accuracy: 0.5175 - val_loss: 1.0068 - val_accuracy: 0.5498\n",
            "Epoch 7/40\n",
            "198/198 [==============================] - 5s 25ms/step - loss: 1.0023 - accuracy: 0.5399 - val_loss: 0.9917 - val_accuracy: 0.5745\n",
            "Epoch 8/40\n",
            "198/198 [==============================] - 5s 25ms/step - loss: 0.9861 - accuracy: 0.5662 - val_loss: 0.9750 - val_accuracy: 0.6027\n",
            "Epoch 9/40\n",
            "198/198 [==============================] - 5s 26ms/step - loss: 0.9677 - accuracy: 0.5935 - val_loss: 0.9573 - val_accuracy: 0.6369\n",
            "Epoch 10/40\n",
            "198/198 [==============================] - 5s 25ms/step - loss: 0.9495 - accuracy: 0.6227 - val_loss: 0.9414 - val_accuracy: 0.6692\n",
            "Epoch 11/40\n",
            "198/198 [==============================] - 5s 25ms/step - loss: 0.9367 - accuracy: 0.6444 - val_loss: 0.9284 - val_accuracy: 0.6862\n",
            "Epoch 12/40\n",
            "198/198 [==============================] - 5s 25ms/step - loss: 0.9220 - accuracy: 0.6624 - val_loss: 0.9181 - val_accuracy: 0.6910\n",
            "Epoch 13/40\n",
            "198/198 [==============================] - 5s 25ms/step - loss: 0.9116 - accuracy: 0.6763 - val_loss: 0.9096 - val_accuracy: 0.6985\n",
            "Epoch 14/40\n",
            "198/198 [==============================] - 5s 25ms/step - loss: 0.9014 - accuracy: 0.6816 - val_loss: 0.9026 - val_accuracy: 0.6981\n",
            "Epoch 15/40\n",
            "198/198 [==============================] - 5s 25ms/step - loss: 0.8948 - accuracy: 0.6833 - val_loss: 0.8969 - val_accuracy: 0.7012\n",
            "Epoch 16/40\n",
            "198/198 [==============================] - 5s 25ms/step - loss: 0.8873 - accuracy: 0.6851 - val_loss: 0.8916 - val_accuracy: 0.7030\n",
            "Epoch 17/40\n",
            "198/198 [==============================] - 5s 25ms/step - loss: 0.8811 - accuracy: 0.6881 - val_loss: 0.8857 - val_accuracy: 0.7088\n",
            "Epoch 18/40\n",
            "198/198 [==============================] - 5s 25ms/step - loss: 0.8697 - accuracy: 0.7092 - val_loss: 0.8671 - val_accuracy: 0.7238\n",
            "Epoch 19/40\n",
            "198/198 [==============================] - 5s 26ms/step - loss: 0.8402 - accuracy: 0.7413 - val_loss: 0.8331 - val_accuracy: 0.7941\n",
            "Epoch 20/40\n",
            "198/198 [==============================] - 5s 25ms/step - loss: 0.8157 - accuracy: 0.7896 - val_loss: 0.8152 - val_accuracy: 0.8303\n",
            "Epoch 21/40\n",
            "198/198 [==============================] - 5s 26ms/step - loss: 0.7967 - accuracy: 0.8159 - val_loss: 0.8018 - val_accuracy: 0.8452\n",
            "Epoch 22/40\n",
            "198/198 [==============================] - 5s 25ms/step - loss: 0.7833 - accuracy: 0.8313 - val_loss: 0.7914 - val_accuracy: 0.8598\n",
            "Epoch 23/40\n",
            "198/198 [==============================] - 5s 25ms/step - loss: 0.7726 - accuracy: 0.8399 - val_loss: 0.7832 - val_accuracy: 0.8634\n",
            "Epoch 24/40\n",
            "198/198 [==============================] - 5s 25ms/step - loss: 0.7621 - accuracy: 0.8493 - val_loss: 0.7755 - val_accuracy: 0.8713\n",
            "Epoch 25/40\n",
            "198/198 [==============================] - 5s 25ms/step - loss: 0.7522 - accuracy: 0.8611 - val_loss: 0.7692 - val_accuracy: 0.8757\n",
            "Epoch 26/40\n",
            "198/198 [==============================] - 5s 25ms/step - loss: 0.7444 - accuracy: 0.8667 - val_loss: 0.7639 - val_accuracy: 0.8773\n",
            "Epoch 27/40\n",
            "198/198 [==============================] - 5s 25ms/step - loss: 0.7371 - accuracy: 0.8720 - val_loss: 0.7589 - val_accuracy: 0.8842\n",
            "Epoch 28/40\n",
            "198/198 [==============================] - 5s 25ms/step - loss: 0.7317 - accuracy: 0.8750 - val_loss: 0.7544 - val_accuracy: 0.8856\n",
            "Epoch 29/40\n",
            "198/198 [==============================] - 5s 25ms/step - loss: 0.7254 - accuracy: 0.8794 - val_loss: 0.7504 - val_accuracy: 0.8877\n",
            "Epoch 30/40\n",
            "198/198 [==============================] - 5s 25ms/step - loss: 0.7205 - accuracy: 0.8833 - val_loss: 0.7467 - val_accuracy: 0.8897\n",
            "Epoch 31/40\n",
            "198/198 [==============================] - 5s 26ms/step - loss: 0.7160 - accuracy: 0.8849 - val_loss: 0.7432 - val_accuracy: 0.8881\n",
            "Epoch 32/40\n",
            "198/198 [==============================] - 5s 27ms/step - loss: 0.7117 - accuracy: 0.8880 - val_loss: 0.7399 - val_accuracy: 0.8909\n",
            "Epoch 33/40\n",
            "198/198 [==============================] - 5s 27ms/step - loss: 0.7062 - accuracy: 0.8941 - val_loss: 0.7368 - val_accuracy: 0.8915\n",
            "Epoch 34/40\n",
            "198/198 [==============================] - 5s 25ms/step - loss: 0.7036 - accuracy: 0.9156 - val_loss: 0.7340 - val_accuracy: 0.8931\n",
            "Epoch 35/40\n",
            "198/198 [==============================] - 5s 25ms/step - loss: 0.6976 - accuracy: 0.9151 - val_loss: 0.7311 - val_accuracy: 0.8947\n",
            "Epoch 36/40\n",
            "198/198 [==============================] - 5s 25ms/step - loss: 0.6929 - accuracy: 0.9156 - val_loss: 0.7284 - val_accuracy: 0.8959\n",
            "Epoch 37/40\n",
            "198/198 [==============================] - 5s 25ms/step - loss: 0.6902 - accuracy: 0.9108 - val_loss: 0.7261 - val_accuracy: 0.8953\n",
            "Epoch 38/40\n",
            "198/198 [==============================] - 5s 25ms/step - loss: 0.6860 - accuracy: 0.9121 - val_loss: 0.7234 - val_accuracy: 0.8969\n",
            "Epoch 39/40\n",
            "198/198 [==============================] - 5s 24ms/step - loss: 0.6823 - accuracy: 0.9101 - val_loss: 0.7215 - val_accuracy: 0.8978\n",
            "Epoch 40/40\n",
            "198/198 [==============================] - 5s 25ms/step - loss: 0.6789 - accuracy: 0.9109 - val_loss: 0.7187 - val_accuracy: 0.8988\n"
          ],
          "name": "stdout"
        }
      ]
    },
    {
      "cell_type": "code",
      "metadata": {
        "id": "cDlheBHRN-Uw",
        "colab_type": "code",
        "colab": {
          "base_uri": "https://localhost:8080/",
          "height": 295
        },
        "outputId": "d7b9281f-aa0a-491b-e4d5-88f322707ebe"
      },
      "source": [
        "display_history_loss(history_transformer, \"transformer\")"
      ],
      "execution_count": 56,
      "outputs": [
        {
          "output_type": "display_data",
          "data": {
            "image/png": "[encoded data removed]",
            "text/plain": [
              "<Figure size 432x288 with 1 Axes>"
            ]
          },
          "metadata": {
            "tags": [],
            "needs_background": "light"
          }
        }
      ]
    },
    {
      "cell_type": "code",
      "metadata": {
        "id": "FyzUVXo2F87Y",
        "colab_type": "code",
        "colab": {
          "base_uri": "https://localhost:8080/",
          "height": 87
        },
        "outputId": "5b699bbd-bd61-4e25-f72f-a23aab8b3651"
      },
      "source": [
        "print(X_test.shape)\n",
        "score_transformer = model_transformer.evaluate(X_test,Y_test)\n",
        "print(score_transformer[0])\n",
        "print(score_transformer[1])"
      ],
      "execution_count": 57,
      "outputs": [
        {
          "output_type": "stream",
          "text": [
            "(4949, 12)\n",
            "155/155 [==============================] - 1s 6ms/step - loss: 0.7187 - accuracy: 0.8988\n",
            "0.7186862826347351\n",
            "0.8987674117088318\n"
          ],
          "name": "stdout"
        }
      ]
    }
  ]
}