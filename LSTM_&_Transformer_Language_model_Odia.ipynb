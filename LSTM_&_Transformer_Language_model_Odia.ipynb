{
  "nbformat": 4,
  "nbformat_minor": 0,
  "metadata": {
    "colab": {
      "name": "LSTM_&_Transformer_Language_model_Odia.ipynb",
      "provenance": [],
      "collapsed_sections": [],
      "toc_visible": true,
      "authorship_tag": "ABX9TyM8t7B1F9kr0o87JVGe7f1x",
      "include_colab_link": true
    },
    "kernelspec": {
      "name": "python3",
      "display_name": "Python 3"
    },
    "accelerator": "GPU"
  },
  "cells": [
    {
      "cell_type": "markdown",
      "metadata": {
        "id": "view-in-github",
        "colab_type": "text"
      },
      "source": [
        "<a href=\"https://colab.research.google.com/github/ishandas387/Language-Model-For-Odia/blob/master/LSTM_%26_Transformer_Language_model_Odia.ipynb\" target=\"_parent\"><img src=\"https://colab.research.google.com/assets/colab-badge.svg\" alt=\"Open In Colab\"/></a>"
      ]
    },
    {
      "cell_type": "markdown",
      "metadata": {
        "id": "PSngcEKuzXRT",
        "colab_type": "text"
      },
      "source": [
        "# Imports\n",
        "\n",
        "imports and installs thats needed\n"
      ]
    },
    {
      "cell_type": "code",
      "metadata": {
        "id": "06MM5PBMzMaP",
        "colab_type": "code",
        "colab": {
          "base_uri": "https://localhost:8080/",
          "height": 300
        },
        "outputId": "a6156c74-eaf3-418e-cd9a-74118ef6711a"
      },
      "source": [
        "!pip install chart_studio\n",
        "import numpy as np \n",
        "import pandas as pd\n",
        "import matplotlib.pyplot as plt\n",
        "import seaborn as sns\n",
        "from keras.preprocessing.text import Tokenizer\n",
        "from keras.preprocessing.sequence import pad_sequences\n",
        "from keras.models import Sequential\n",
        "from keras.optimizers import Adam\n",
        "from keras.layers import Dense, Embedding, LSTM, SpatialDropout1D\n",
        "from sklearn.model_selection import train_test_split\n",
        "from keras.utils.np_utils import to_categorical\n",
        "from keras.callbacks import EarlyStopping\n",
        "from keras.layers import Dropout\n",
        "import re\n",
        "from bs4 import BeautifulSoup\n",
        "import chart_studio as cs\n",
        "#import plotly.graph_objs as go\n",
        "#import plotly.plotly as py\n",
        "import cufflinks\n",
        "from IPython.core.interactiveshell import InteractiveShell\n",
        "#import plotly.figure_factory as ff\n",
        "InteractiveShell.ast_node_interactivity = 'all'\n",
        "from plotly.offline import iplot\n",
        "\n"
      ],
      "execution_count": 1,
      "outputs": [
        {
          "output_type": "stream",
          "text": [
            "Collecting chart_studio\n",
            "\u001b[?25l  Downloading https://files.pythonhosted.org/packages/ca/ce/330794a6b6ca4b9182c38fc69dd2a9cbff60fd49421cb8648ee5fee352dc/chart_studio-1.1.0-py3-none-any.whl (64kB)\n",
            "\r\u001b[K     |█████                           | 10kB 14.9MB/s eta 0:00:01\r\u001b[K     |██████████▏                     | 20kB 3.3MB/s eta 0:00:01\r\u001b[K     |███████████████▎                | 30kB 4.1MB/s eta 0:00:01\r\u001b[K     |████████████████████▍           | 40kB 4.4MB/s eta 0:00:01\r\u001b[K     |█████████████████████████▍      | 51kB 3.8MB/s eta 0:00:01\r\u001b[K     |██████████████████████████████▌ | 61kB 4.2MB/s eta 0:00:01\r\u001b[K     |████████████████████████████████| 71kB 3.4MB/s \n",
            "\u001b[?25hRequirement already satisfied: requests in /usr/local/lib/python3.6/dist-packages (from chart_studio) (2.23.0)\n",
            "Requirement already satisfied: plotly in /usr/local/lib/python3.6/dist-packages (from chart_studio) (4.4.1)\n",
            "Requirement already satisfied: six in /usr/local/lib/python3.6/dist-packages (from chart_studio) (1.15.0)\n",
            "Requirement already satisfied: retrying>=1.3.3 in /usr/local/lib/python3.6/dist-packages (from chart_studio) (1.3.3)\n",
            "Requirement already satisfied: chardet<4,>=3.0.2 in /usr/local/lib/python3.6/dist-packages (from requests->chart_studio) (3.0.4)\n",
            "Requirement already satisfied: certifi>=2017.4.17 in /usr/local/lib/python3.6/dist-packages (from requests->chart_studio) (2020.6.20)\n",
            "Requirement already satisfied: idna<3,>=2.5 in /usr/local/lib/python3.6/dist-packages (from requests->chart_studio) (2.10)\n",
            "Requirement already satisfied: urllib3!=1.25.0,!=1.25.1,<1.26,>=1.21.1 in /usr/local/lib/python3.6/dist-packages (from requests->chart_studio) (1.24.3)\n",
            "Installing collected packages: chart-studio\n",
            "Successfully installed chart-studio-1.1.0\n"
          ],
          "name": "stdout"
        },
        {
          "output_type": "stream",
          "text": [
            "/usr/local/lib/python3.6/dist-packages/statsmodels/tools/_testing.py:19: FutureWarning: pandas.util.testing is deprecated. Use the functions in the public API at pandas.testing instead.\n",
            "  import pandas.util.testing as tm\n"
          ],
          "name": "stderr"
        }
      ]
    },
    {
      "cell_type": "markdown",
      "metadata": {
        "id": "bgHw_UibzsQ9",
        "colab_type": "text"
      },
      "source": [
        "Check the GPU"
      ]
    },
    {
      "cell_type": "code",
      "metadata": {
        "id": "aV-uNofUzpe9",
        "colab_type": "code",
        "colab": {
          "base_uri": "https://localhost:8080/",
          "height": 34
        },
        "outputId": "6642d0d4-58f8-4dc3-e1a9-75930e2b2df5"
      },
      "source": [
        "%tensorflow_version 2.x\n",
        "import tensorflow as tf\n",
        "device_name = tf.test.gpu_device_name()\n",
        "if device_name != '/device:GPU:0':\n",
        "  raise SystemError('GPU device not found')\n",
        "print('Found GPU at: {}'.format(device_name))"
      ],
      "execution_count": 2,
      "outputs": [
        {
          "output_type": "stream",
          "text": [
            "Found GPU at: /device:GPU:0\n"
          ],
          "name": "stdout"
        }
      ]
    },
    {
      "cell_type": "markdown",
      "metadata": {
        "id": "Gu_AaiSXzzpD",
        "colab_type": "text"
      },
      "source": [
        "# Data"
      ]
    },
    {
      "cell_type": "code",
      "metadata": {
        "id": "y4Ygafs7zxiF",
        "colab_type": "code",
        "colab": {
          "base_uri": "https://localhost:8080/",
          "height": 199
        },
        "outputId": "7391467a-c162-4c38-bf56-384c608bd364"
      },
      "source": [
        "df = pd.read_csv('odia_news_sambad_headlines_balance.csv')\n",
        "df.head()"
      ],
      "execution_count": 3,
      "outputs": [
        {
          "output_type": "execute_result",
          "data": {
            "text/html": [
              "<div>\n",
              "<style scoped>\n",
              "    .dataframe tbody tr th:only-of-type {\n",
              "        vertical-align: middle;\n",
              "    }\n",
              "\n",
              "    .dataframe tbody tr th {\n",
              "        vertical-align: top;\n",
              "    }\n",
              "\n",
              "    .dataframe thead th {\n",
              "        text-align: right;\n",
              "    }\n",
              "</style>\n",
              "<table border=\"1\" class=\"dataframe\">\n",
              "  <thead>\n",
              "    <tr style=\"text-align: right;\">\n",
              "      <th></th>\n",
              "      <th>headings</th>\n",
              "      <th>label</th>\n",
              "    </tr>\n",
              "  </thead>\n",
              "  <tbody>\n",
              "    <tr>\n",
              "      <th>0</th>\n",
              "      <td>ନୂଆପଡ଼ାର ମାଓପ୍ରବଣ ୮ଟି ପଞ୍ଚାୟତରେ ଥିବା ଅସ୍ଥାୟୀ ସ...</td>\n",
              "      <td>state</td>\n",
              "    </tr>\n",
              "    <tr>\n",
              "      <th>1</th>\n",
              "      <td>ରାଜ୍ୟର ସୀମା ଜଗିବା ଦୁଃସାଧ୍ୟ, ପଞ୍ଚାୟତମାନେ ଚାହିଁ...</td>\n",
              "      <td>state</td>\n",
              "    </tr>\n",
              "    <tr>\n",
              "      <th>2</th>\n",
              "      <td>ଶଙ୍କରାଚାର୍ଯ୍ୟଙ୍କୁ ଭେଟି ସ୍ନାନଯାତ୍ରାକୁ ନିମନ୍ତ୍ର...</td>\n",
              "      <td>state</td>\n",
              "    </tr>\n",
              "    <tr>\n",
              "      <th>3</th>\n",
              "      <td>ରାଜ୍ୟର ଆର୍ଥିକ ସ୍ଥିତି ଉପରେ କରୋନା ମାଡ଼ : କେନ୍ଦ୍...</td>\n",
              "      <td>state</td>\n",
              "    </tr>\n",
              "    <tr>\n",
              "      <th>4</th>\n",
              "      <td>କଟକ ବଡ଼ ଡାକ୍ତରଖାନା ହେବ ବିଶ୍ୱସ୍ତରୀୟ : କ୍ୱାର୍ଟର୍...</td>\n",
              "      <td>state</td>\n",
              "    </tr>\n",
              "  </tbody>\n",
              "</table>\n",
              "</div>"
            ],
            "text/plain": [
              "                                            headings  label\n",
              "0   ନୂଆପଡ଼ାର ମାଓପ୍ରବଣ ୮ଟି ପଞ୍ଚାୟତରେ ଥିବା ଅସ୍ଥାୟୀ ସ...  state\n",
              "1   ରାଜ୍ୟର ସୀମା ଜଗିବା ଦୁଃସାଧ୍ୟ, ପଞ୍ଚାୟତମାନେ ଚାହିଁ...  state\n",
              "2   ଶଙ୍କରାଚାର୍ଯ୍ୟଙ୍କୁ ଭେଟି ସ୍ନାନଯାତ୍ରାକୁ ନିମନ୍ତ୍ର...  state\n",
              "3   ରାଜ୍ୟର ଆର୍ଥିକ ସ୍ଥିତି ଉପରେ କରୋନା ମାଡ଼ : କେନ୍ଦ୍...  state\n",
              "4   କଟକ ବଡ଼ ଡାକ୍ତରଖାନା ହେବ ବିଶ୍ୱସ୍ତରୀୟ : କ୍ୱାର୍ଟର୍...  state"
            ]
          },
          "metadata": {
            "tags": []
          },
          "execution_count": 3
        }
      ]
    },
    {
      "cell_type": "markdown",
      "metadata": {
        "id": "H7YOypru1tMa",
        "colab_type": "text"
      },
      "source": [
        "## Preprocessing\n",
        "\n",
        "Cleaining, shuffling stuff"
      ]
    },
    {
      "cell_type": "code",
      "metadata": {
        "id": "Ab-5A18p1810",
        "colab_type": "code",
        "colab": {
          "base_uri": "https://localhost:8080/",
          "height": 270
        },
        "outputId": "63abdd7e-2556-4538-85a2-81b3ce3c5859"
      },
      "source": [
        "def to_label(label):\n",
        "  label = str(label)\n",
        "  if label == 'state':\n",
        "    return 0\n",
        "  elif label == 'sports':\n",
        "    return 1\n",
        "  else: \n",
        "    return 2\n",
        "\n",
        "df['label'] = df.label.apply(to_label)\n",
        "df.head()\n",
        "df['label'].value_counts()\n",
        "\n",
        "def remove_URL(text):\n",
        "    url = re.compile(r\"https?://\\S+|www\\.\\S+\")\n",
        "    return url.sub(r\"\", text)\n",
        "\n",
        "\n",
        "def remove_html(text):\n",
        "    html = re.compile(r\"<.*?>\")\n",
        "    return html.sub(r\"\", text)\n",
        "\n",
        "import string\n",
        "\n",
        "def remove_punct(text):\n",
        "    table = str.maketrans(\"\", \"\", string.punctuation)\n",
        "    return text.translate(table)\n",
        "\n",
        "def odia_num_remove(text):\n",
        "  text_new = \"\"\n",
        "  odia_num =['୦',         \n",
        "  '୧',\t\n",
        "\t'୨',\t\n",
        "\t'୩',\t\n",
        "\t'୪',\t\n",
        "\t'୫',\t\n",
        "\t'୬',\t\n",
        "\t'୭',\t\n",
        "\t'୮',\t\n",
        "\t'୯',\n",
        "  '‘',\n",
        "  '’']\n",
        "  for char in text:\n",
        "    if char not in odia_num:\n",
        "      text_new = text_new + char\n",
        "  return text_new\n"
      ],
      "execution_count": 4,
      "outputs": [
        {
          "output_type": "execute_result",
          "data": {
            "text/html": [
              "<div>\n",
              "<style scoped>\n",
              "    .dataframe tbody tr th:only-of-type {\n",
              "        vertical-align: middle;\n",
              "    }\n",
              "\n",
              "    .dataframe tbody tr th {\n",
              "        vertical-align: top;\n",
              "    }\n",
              "\n",
              "    .dataframe thead th {\n",
              "        text-align: right;\n",
              "    }\n",
              "</style>\n",
              "<table border=\"1\" class=\"dataframe\">\n",
              "  <thead>\n",
              "    <tr style=\"text-align: right;\">\n",
              "      <th></th>\n",
              "      <th>headings</th>\n",
              "      <th>label</th>\n",
              "    </tr>\n",
              "  </thead>\n",
              "  <tbody>\n",
              "    <tr>\n",
              "      <th>0</th>\n",
              "      <td>ନୂଆପଡ଼ାର ମାଓପ୍ରବଣ ୮ଟି ପଞ୍ଚାୟତରେ ଥିବା ଅସ୍ଥାୟୀ ସ...</td>\n",
              "      <td>0</td>\n",
              "    </tr>\n",
              "    <tr>\n",
              "      <th>1</th>\n",
              "      <td>ରାଜ୍ୟର ସୀମା ଜଗିବା ଦୁଃସାଧ୍ୟ, ପଞ୍ଚାୟତମାନେ ଚାହିଁ...</td>\n",
              "      <td>0</td>\n",
              "    </tr>\n",
              "    <tr>\n",
              "      <th>2</th>\n",
              "      <td>ଶଙ୍କରାଚାର୍ଯ୍ୟଙ୍କୁ ଭେଟି ସ୍ନାନଯାତ୍ରାକୁ ନିମନ୍ତ୍ର...</td>\n",
              "      <td>0</td>\n",
              "    </tr>\n",
              "    <tr>\n",
              "      <th>3</th>\n",
              "      <td>ରାଜ୍ୟର ଆର୍ଥିକ ସ୍ଥିତି ଉପରେ କରୋନା ମାଡ଼ : କେନ୍ଦ୍...</td>\n",
              "      <td>0</td>\n",
              "    </tr>\n",
              "    <tr>\n",
              "      <th>4</th>\n",
              "      <td>କଟକ ବଡ଼ ଡାକ୍ତରଖାନା ହେବ ବିଶ୍ୱସ୍ତରୀୟ : କ୍ୱାର୍ଟର୍...</td>\n",
              "      <td>0</td>\n",
              "    </tr>\n",
              "  </tbody>\n",
              "</table>\n",
              "</div>"
            ],
            "text/plain": [
              "                                            headings  label\n",
              "0   ନୂଆପଡ଼ାର ମାଓପ୍ରବଣ ୮ଟି ପଞ୍ଚାୟତରେ ଥିବା ଅସ୍ଥାୟୀ ସ...      0\n",
              "1   ରାଜ୍ୟର ସୀମା ଜଗିବା ଦୁଃସାଧ୍ୟ, ପଞ୍ଚାୟତମାନେ ଚାହିଁ...      0\n",
              "2   ଶଙ୍କରାଚାର୍ଯ୍ୟଙ୍କୁ ଭେଟି ସ୍ନାନଯାତ୍ରାକୁ ନିମନ୍ତ୍ର...      0\n",
              "3   ରାଜ୍ୟର ଆର୍ଥିକ ସ୍ଥିତି ଉପରେ କରୋନା ମାଡ଼ : କେନ୍ଦ୍...      0\n",
              "4   କଟକ ବଡ଼ ଡାକ୍ତରଖାନା ହେବ ବିଶ୍ୱସ୍ତରୀୟ : କ୍ୱାର୍ଟର୍...      0"
            ]
          },
          "metadata": {
            "tags": []
          },
          "execution_count": 4
        },
        {
          "output_type": "execute_result",
          "data": {
            "text/plain": [
              "0    6981\n",
              "1    6967\n",
              "2    6792\n",
              "Name: label, dtype: int64"
            ]
          },
          "metadata": {
            "tags": []
          },
          "execution_count": 4
        }
      ]
    },
    {
      "cell_type": "code",
      "metadata": {
        "id": "USczgHq64MCZ",
        "colab_type": "code",
        "colab": {
          "base_uri": "https://localhost:8080/",
          "height": 34
        },
        "outputId": "6a31affd-9c07-4bd5-e368-dcc2399dea5d"
      },
      "source": [
        "test_string=\"t're is, a test! www.googfle.com\\ // #test\"\n",
        "test_string = remove_URL(test_string)\n",
        "test_string = remove_html(test_string)\n",
        "print(remove_punct(test_string))"
      ],
      "execution_count": 5,
      "outputs": [
        {
          "output_type": "stream",
          "text": [
            "tre is a test   test\n"
          ],
          "name": "stdout"
        }
      ]
    },
    {
      "cell_type": "code",
      "metadata": {
        "id": "9HVvdV5mzoCE",
        "colab_type": "code",
        "colab": {
          "base_uri": "https://localhost:8080/",
          "height": 52
        },
        "outputId": "1575a6d5-2eb0-420e-8831-45dc222d3d31"
      },
      "source": [
        "print(df.head(1))"
      ],
      "execution_count": 6,
      "outputs": [
        {
          "output_type": "stream",
          "text": [
            "                                            headings  label\n",
            "0   ନୂଆପଡ଼ାର ମାଓପ୍ରବଣ ୮ଟି ପଞ୍ଚାୟତରେ ଥିବା ଅସ୍ଥାୟୀ ସ...      0\n"
          ],
          "name": "stdout"
        }
      ]
    },
    {
      "cell_type": "code",
      "metadata": {
        "id": "JnqPMQI24NbO",
        "colab_type": "code",
        "colab": {
          "base_uri": "https://localhost:8080/",
          "height": 351
        },
        "outputId": "fa6c706a-5255-4d0c-d4d1-306fe9a9718d"
      },
      "source": [
        "df[\"headings\"] = df.headings.map(lambda x: remove_URL(x))\n",
        "df[\"headings\"] = df.headings.map(lambda x: remove_html(x))\n",
        "df[\"headings\"] = df.headings.map(lambda x: remove_punct(x))\n",
        "df[\"headings\"] = df.headings.map(lambda x: odia_num_remove(x))\n",
        "\n",
        "\n",
        "#Using regex with .str.findall and .str.join appears to be fastest:\n",
        "\n",
        "#df['headings'] = df['headings'].str.findall('\\w{3,}').str.join(' ')\n",
        "df['headings'] = df['headings'].str.split().map(lambda sl: \" \".join(s for s in sl if len(s) > 3))\n",
        "\n",
        "\n",
        "df.head(10)"
      ],
      "execution_count": 7,
      "outputs": [
        {
          "output_type": "execute_result",
          "data": {
            "text/html": [
              "<div>\n",
              "<style scoped>\n",
              "    .dataframe tbody tr th:only-of-type {\n",
              "        vertical-align: middle;\n",
              "    }\n",
              "\n",
              "    .dataframe tbody tr th {\n",
              "        vertical-align: top;\n",
              "    }\n",
              "\n",
              "    .dataframe thead th {\n",
              "        text-align: right;\n",
              "    }\n",
              "</style>\n",
              "<table border=\"1\" class=\"dataframe\">\n",
              "  <thead>\n",
              "    <tr style=\"text-align: right;\">\n",
              "      <th></th>\n",
              "      <th>headings</th>\n",
              "      <th>label</th>\n",
              "    </tr>\n",
              "  </thead>\n",
              "  <tbody>\n",
              "    <tr>\n",
              "      <th>0</th>\n",
              "      <td>ନୂଆପଡ଼ାର ମାଓପ୍ରବଣ ପଞ୍ଚାୟତରେ ଥିବା ଅସ୍ଥାୟୀ ସ୍ବାସ୍...</td>\n",
              "      <td>0</td>\n",
              "    </tr>\n",
              "    <tr>\n",
              "      <th>1</th>\n",
              "      <td>ରାଜ୍ୟର ସୀମା ଜଗିବା ଦୁଃସାଧ୍ୟ ପଞ୍ଚାୟତମାନେ ଚାହିଁଲେ...</td>\n",
              "      <td>0</td>\n",
              "    </tr>\n",
              "    <tr>\n",
              "      <th>2</th>\n",
              "      <td>ଶଙ୍କରାଚାର୍ଯ୍ୟଙ୍କୁ ଭେଟି ସ୍ନାନଯାତ୍ରାକୁ ନିମନ୍ତ୍ରଣ...</td>\n",
              "      <td>0</td>\n",
              "    </tr>\n",
              "    <tr>\n",
              "      <th>3</th>\n",
              "      <td>ରାଜ୍ୟର ଆର୍ଥିକ ସ୍ଥିତି ଉପରେ କରୋନା ମାଡ଼ କେନ୍ଦ୍ର ଟ...</td>\n",
              "      <td>0</td>\n",
              "    </tr>\n",
              "    <tr>\n",
              "      <th>4</th>\n",
              "      <td>ଡାକ୍ତରଖାନା ବିଶ୍ୱସ୍ତରୀୟ କ୍ୱାର୍ଟର୍ସ ହେଲେ ବିଜୁଳିପ...</td>\n",
              "      <td>0</td>\n",
              "    </tr>\n",
              "    <tr>\n",
              "      <th>5</th>\n",
              "      <td>ବ୍ରହ୍ମପୁରରେ ଆଜିଠୁ ଦିନିଆ ସଟ୍‌ଡାଉନ୍ ବଜାରରେ ଅସମ୍ଭ...</td>\n",
              "      <td>0</td>\n",
              "    </tr>\n",
              "    <tr>\n",
              "      <th>6</th>\n",
              "      <td>ବିଜୟ କେତନଙ୍କ ଘରୋଇ ବ୍ୟାଙ୍କ ଅଧିକାରୀଙ୍କୁ ଜାମିନ</td>\n",
              "      <td>0</td>\n",
              "    </tr>\n",
              "    <tr>\n",
              "      <th>7</th>\n",
              "      <td>ବଲ୍‌ ସୁପ୍ରିମକୋର୍ଟରେ ପ୍ରଫୁଲ୍ଲ ଘଡ଼େଇ</td>\n",
              "      <td>0</td>\n",
              "    </tr>\n",
              "    <tr>\n",
              "      <th>8</th>\n",
              "      <td>ଆଇଆଇଏମ୍‌ ସମ୍ବଲପୁରରେ ଜାତୀୟ ସମ୍ମିଳନୀ ଉଦ୍‌ଘାଟିତ ହ...</td>\n",
              "      <td>0</td>\n",
              "    </tr>\n",
              "    <tr>\n",
              "      <th>9</th>\n",
              "      <td>ପହଞ୍ଚିବ ଗୋଟିଏ ଶ୍ରମିକ ଟ୍ରେନ୍‌</td>\n",
              "      <td>0</td>\n",
              "    </tr>\n",
              "  </tbody>\n",
              "</table>\n",
              "</div>"
            ],
            "text/plain": [
              "                                            headings  label\n",
              "0  ନୂଆପଡ଼ାର ମାଓପ୍ରବଣ ପଞ୍ଚାୟତରେ ଥିବା ଅସ୍ଥାୟୀ ସ୍ବାସ୍...      0\n",
              "1  ରାଜ୍ୟର ସୀମା ଜଗିବା ଦୁଃସାଧ୍ୟ ପଞ୍ଚାୟତମାନେ ଚାହିଁଲେ...      0\n",
              "2  ଶଙ୍କରାଚାର୍ଯ୍ୟଙ୍କୁ ଭେଟି ସ୍ନାନଯାତ୍ରାକୁ ନିମନ୍ତ୍ରଣ...      0\n",
              "3  ରାଜ୍ୟର ଆର୍ଥିକ ସ୍ଥିତି ଉପରେ କରୋନା ମାଡ଼ କେନ୍ଦ୍ର ଟ...      0\n",
              "4  ଡାକ୍ତରଖାନା ବିଶ୍ୱସ୍ତରୀୟ କ୍ୱାର୍ଟର୍ସ ହେଲେ ବିଜୁଳିପ...      0\n",
              "5  ବ୍ରହ୍ମପୁରରେ ଆଜିଠୁ ଦିନିଆ ସଟ୍‌ଡାଉନ୍ ବଜାରରେ ଅସମ୍ଭ...      0\n",
              "6       ବିଜୟ କେତନଙ୍କ ଘରୋଇ ବ୍ୟାଙ୍କ ଅଧିକାରୀଙ୍କୁ ଜାମିନ      0\n",
              "7                 ବଲ୍‌ ସୁପ୍ରିମକୋର୍ଟରେ ପ୍ରଫୁଲ୍ଲ ଘଡ଼େଇ      0\n",
              "8  ଆଇଆଇଏମ୍‌ ସମ୍ବଲପୁରରେ ଜାତୀୟ ସମ୍ମିଳନୀ ଉଦ୍‌ଘାଟିତ ହ...      0\n",
              "9                      ପହଞ୍ଚିବ ଗୋଟିଏ ଶ୍ରମିକ ଟ୍ରେନ୍‌      0"
            ]
          },
          "metadata": {
            "tags": []
          },
          "execution_count": 7
        }
      ]
    },
    {
      "cell_type": "code",
      "metadata": {
        "id": "77lj95SQ6TXy",
        "colab_type": "code",
        "colab": {
          "base_uri": "https://localhost:8080/",
          "height": 87
        },
        "outputId": "e7b045ce-f95f-462b-9b98-979e5a91ba15"
      },
      "source": [
        "df['label'].value_counts()"
      ],
      "execution_count": 8,
      "outputs": [
        {
          "output_type": "execute_result",
          "data": {
            "text/plain": [
              "0    6981\n",
              "1    6967\n",
              "2    6792\n",
              "Name: label, dtype: int64"
            ]
          },
          "metadata": {
            "tags": []
          },
          "execution_count": 8
        }
      ]
    },
    {
      "cell_type": "code",
      "metadata": {
        "id": "nXqIuYe34T1Y",
        "colab_type": "code",
        "colab": {
          "base_uri": "https://localhost:8080/",
          "height": 351
        },
        "outputId": "bcd2fe29-6b1b-4b8f-8ad2-767b8daca91f"
      },
      "source": [
        "#shuffle\n",
        "df = df.sample(frac=1).reset_index(drop=True)\n",
        "df.head(10)"
      ],
      "execution_count": 9,
      "outputs": [
        {
          "output_type": "execute_result",
          "data": {
            "text/html": [
              "<div>\n",
              "<style scoped>\n",
              "    .dataframe tbody tr th:only-of-type {\n",
              "        vertical-align: middle;\n",
              "    }\n",
              "\n",
              "    .dataframe tbody tr th {\n",
              "        vertical-align: top;\n",
              "    }\n",
              "\n",
              "    .dataframe thead th {\n",
              "        text-align: right;\n",
              "    }\n",
              "</style>\n",
              "<table border=\"1\" class=\"dataframe\">\n",
              "  <thead>\n",
              "    <tr style=\"text-align: right;\">\n",
              "      <th></th>\n",
              "      <th>headings</th>\n",
              "      <th>label</th>\n",
              "    </tr>\n",
              "  </thead>\n",
              "  <tbody>\n",
              "    <tr>\n",
              "      <th>0</th>\n",
              "      <td>ଭାରତୀୟ ଟେଷ୍ଟ୍‌ ଘୋଷିତ ରାହୁଲ ବାଦ୍ ଶୁଭମନ୍‌ଙ୍କୁ ସ...</td>\n",
              "      <td>1</td>\n",
              "    </tr>\n",
              "    <tr>\n",
              "      <th>1</th>\n",
              "      <td>ମୁଦ୍ରା ଝଟ୍‌କା ଏନ୍‌ପିଏ ବୃଦ୍ଧିକୁ ଚିନ୍ତା ପ୍ରକଟ ଆର...</td>\n",
              "      <td>2</td>\n",
              "    </tr>\n",
              "    <tr>\n",
              "      <th>2</th>\n",
              "      <td>ବିଶ୍ୱ ବଜାରରେ ଡଲାରକୁ କମିଲା ସର୍ବନିମ୍ନ</td>\n",
              "      <td>2</td>\n",
              "    </tr>\n",
              "    <tr>\n",
              "      <th>3</th>\n",
              "      <td>ରାଜଧାନୀରେ ସମସ୍ତ ପାର୍କକୁ ମାର୍ଚ୍ଚ ଯାଏଁ ବନ୍ଦ ରଖିବ...</td>\n",
              "      <td>0</td>\n",
              "    </tr>\n",
              "    <tr>\n",
              "      <th>4</th>\n",
              "      <td>ଆଣ୍ଡାମାନ ନିକୋବର ଦ୍ଵୀପପୁଞ୍ଜରୁ ଫେରିଲେ ଓଡ଼ିଆ</td>\n",
              "      <td>0</td>\n",
              "    </tr>\n",
              "    <tr>\n",
              "      <th>5</th>\n",
              "      <td>କିମ୍ବଦନ୍ତୀ କପିଳ ଦେବଙ୍କୁ ଗଲ୍‌ଫ ଟ୍ରଫି</td>\n",
              "      <td>1</td>\n",
              "    </tr>\n",
              "    <tr>\n",
              "      <th>6</th>\n",
              "      <td>ବିଜୟ ହଜାରେ ଟ୍ରଫି ପରାଜୟ ଓଡ଼ିଶା ଅଭିଯାନ</td>\n",
              "      <td>1</td>\n",
              "    </tr>\n",
              "    <tr>\n",
              "      <th>7</th>\n",
              "      <td>ଅର୍ଥନୈତିକ ସର୍ଭେ ରିପୋର୍ଟ ଅଭିବୃଦ୍ଧି ଦେଶଠୁ ଅଧିକ</td>\n",
              "      <td>2</td>\n",
              "    </tr>\n",
              "    <tr>\n",
              "      <th>8</th>\n",
              "      <td>ଆଇପିଏଲ୍‌ ପାଇଁ ରିଲାଏନ୍ସ ଜିଓର ମିଳିବ ଜିବିର ଡାଟା</td>\n",
              "      <td>2</td>\n",
              "    </tr>\n",
              "    <tr>\n",
              "      <th>9</th>\n",
              "      <td>ଭାରତକୁ ଜାତିସଂଘରେ ସମାଲୋଚନା ମହଙ୍ଗା ପଡ଼ିବ ତୁର୍କୀ ...</td>\n",
              "      <td>2</td>\n",
              "    </tr>\n",
              "  </tbody>\n",
              "</table>\n",
              "</div>"
            ],
            "text/plain": [
              "                                            headings  label\n",
              "0  ଭାରତୀୟ ଟେଷ୍ଟ୍‌ ଘୋଷିତ ରାହୁଲ ବାଦ୍ ଶୁଭମନ୍‌ଙ୍କୁ ସ...      1\n",
              "1  ମୁଦ୍ରା ଝଟ୍‌କା ଏନ୍‌ପିଏ ବୃଦ୍ଧିକୁ ଚିନ୍ତା ପ୍ରକଟ ଆର...      2\n",
              "2                ବିଶ୍ୱ ବଜାରରେ ଡଲାରକୁ କମିଲା ସର୍ବନିମ୍ନ      2\n",
              "3  ରାଜଧାନୀରେ ସମସ୍ତ ପାର୍କକୁ ମାର୍ଚ୍ଚ ଯାଏଁ ବନ୍ଦ ରଖିବ...      0\n",
              "4          ଆଣ୍ଡାମାନ ନିକୋବର ଦ୍ଵୀପପୁଞ୍ଜରୁ ଫେରିଲେ ଓଡ଼ିଆ      0\n",
              "5                କିମ୍ବଦନ୍ତୀ କପିଳ ଦେବଙ୍କୁ ଗଲ୍‌ଫ ଟ୍ରଫି      1\n",
              "6               ବିଜୟ ହଜାରେ ଟ୍ରଫି ପରାଜୟ ଓଡ଼ିଶା ଅଭିଯାନ      1\n",
              "7     ଅର୍ଥନୈତିକ ସର୍ଭେ ରିପୋର୍ଟ ଅଭିବୃଦ୍ଧି ଦେଶଠୁ ଅଧିକ      2\n",
              "8       ଆଇପିଏଲ୍‌ ପାଇଁ ରିଲାଏନ୍ସ ଜିଓର ମିଳିବ ଜିବିର ଡାଟା      2\n",
              "9  ଭାରତକୁ ଜାତିସଂଘରେ ସମାଲୋଚନା ମହଙ୍ଗା ପଡ଼ିବ ତୁର୍କୀ ...      2"
            ]
          },
          "metadata": {
            "tags": []
          },
          "execution_count": 9
        }
      ]
    },
    {
      "cell_type": "code",
      "metadata": {
        "id": "lvZAdkTp6W3l",
        "colab_type": "code",
        "colab": {
          "base_uri": "https://localhost:8080/",
          "height": 87
        },
        "outputId": "2a0ef68b-e485-42ea-cc5c-b91285d8ead2"
      },
      "source": [
        "df['label'].value_counts()"
      ],
      "execution_count": 10,
      "outputs": [
        {
          "output_type": "execute_result",
          "data": {
            "text/plain": [
              "0    6981\n",
              "1    6967\n",
              "2    6792\n",
              "Name: label, dtype: int64"
            ]
          },
          "metadata": {
            "tags": []
          },
          "execution_count": 10
        }
      ]
    },
    {
      "cell_type": "code",
      "metadata": {
        "id": "lagwrXF44e0O",
        "colab_type": "code",
        "colab": {
          "base_uri": "https://localhost:8080/",
          "height": 175
        },
        "outputId": "04ddfc4f-4599-4b95-f79b-2507300c10bb"
      },
      "source": [
        "df.info()"
      ],
      "execution_count": 11,
      "outputs": [
        {
          "output_type": "stream",
          "text": [
            "<class 'pandas.core.frame.DataFrame'>\n",
            "RangeIndex: 20740 entries, 0 to 20739\n",
            "Data columns (total 2 columns):\n",
            " #   Column    Non-Null Count  Dtype \n",
            "---  ------    --------------  ----- \n",
            " 0   headings  20740 non-null  object\n",
            " 1   label     20740 non-null  int64 \n",
            "dtypes: int64(1), object(1)\n",
            "memory usage: 324.2+ KB\n"
          ],
          "name": "stdout"
        }
      ]
    },
    {
      "cell_type": "code",
      "metadata": {
        "id": "6HwLyzmy4gOs",
        "colab_type": "code",
        "colab": {}
      },
      "source": [
        "from collections import Counter\n",
        "\n",
        "# Count unique words\n",
        "def counter_word(text):\n",
        "    count = Counter()\n",
        "    for i in text.values:\n",
        "        for word in i.split():\n",
        "            count[word] += 1\n",
        "    return count"
      ],
      "execution_count": 12,
      "outputs": []
    },
    {
      "cell_type": "code",
      "metadata": {
        "id": "IxdbMlFu0nHP",
        "colab_type": "code",
        "colab": {}
      },
      "source": [
        "text = df['headings']\n",
        "\n",
        "counter = counter_word(text)"
      ],
      "execution_count": 13,
      "outputs": []
    },
    {
      "cell_type": "code",
      "metadata": {
        "id": "DKQtJvVS0rq0",
        "colab_type": "code",
        "colab": {
          "base_uri": "https://localhost:8080/",
          "height": 34
        },
        "outputId": "21db6281-9843-4bcf-d392-192424c792a7"
      },
      "source": [
        "len(counter)"
      ],
      "execution_count": 14,
      "outputs": [
        {
          "output_type": "execute_result",
          "data": {
            "text/plain": [
              "27858"
            ]
          },
          "metadata": {
            "tags": []
          },
          "execution_count": 14
        }
      ]
    },
    {
      "cell_type": "code",
      "metadata": {
        "id": "FkbvH8UX4oYB",
        "colab_type": "code",
        "colab": {
          "base_uri": "https://localhost:8080/",
          "height": 296
        },
        "outputId": "7348c5fa-6f43-42b3-ba43-c676b7a7e03e"
      },
      "source": [
        "colum_len = df[\"headings\"].str.len()\n",
        "\n",
        "#this is just the string length not word count\n",
        "max_value = colum_len.max()\n",
        "#max_value\n",
        "\n",
        "#word count \n",
        "\n",
        "word_c =  df['headings'].str.split().str.len()\n",
        "word_c.mean()\n",
        "sns.distplot(word_c, color='red')\n"
      ],
      "execution_count": 15,
      "outputs": [
        {
          "output_type": "execute_result",
          "data": {
            "text/plain": [
              "6.825120540019286"
            ]
          },
          "metadata": {
            "tags": []
          },
          "execution_count": 15
        },
        {
          "output_type": "execute_result",
          "data": {
            "text/plain": [
              "<matplotlib.axes._subplots.AxesSubplot at 0x7f114a60fc88>"
            ]
          },
          "metadata": {
            "tags": []
          },
          "execution_count": 15
        },
        {
          "output_type": "display_data",
          "data": {
            "image/png": "[encoded data removed]",
            "text/plain": [
              "<Figure size 432x288 with 1 Axes>"
            ]
          },
          "metadata": {
            "tags": [],
            "needs_background": "light"
          }
        }
      ]
    },
    {
      "cell_type": "code",
      "metadata": {
        "id": "VduRS59lnPWo",
        "colab_type": "code",
        "colab": {}
      },
      "source": [
        "from gensim.models.fasttext import FastText"
      ],
      "execution_count": null,
      "outputs": []
    },
    {
      "cell_type": "markdown",
      "metadata": {
        "id": "j2eOx-EA4u_3",
        "colab_type": "text"
      },
      "source": [
        "## Text to sequence"
      ]
    },
    {
      "cell_type": "code",
      "metadata": {
        "id": "NXfegf4r5gB0",
        "colab_type": "code",
        "colab": {
          "base_uri": "https://localhost:8080/",
          "height": 157
        },
        "outputId": "a9b1e755-8eac-4ab4-c2e2-0061f5134c64"
      },
      "source": [
        "## define word embedding props\n",
        "# max number of words to keep\n",
        "# embedding dimenssion\n",
        "# max seq length\n",
        "\n",
        "MAX_NB_WORDS = 15000\n",
        "#the average word length of heading is taken as max seq\n",
        "MAX_SEQ_LENGTH = 12\n",
        "EMBEDDING_DIM = 100\n",
        "\n",
        "tokenizer = Tokenizer(num_words=MAX_NB_WORDS,split=\" \", oov_token='<OOV>')\n",
        "tokenizer.fit_on_texts(df['headings'].values)\n",
        "word_index = tokenizer.word_index\n",
        "print('Found %s unique tokens'% len(word_index))\n",
        "\n",
        "X = tokenizer.texts_to_sequences(df['headings'].values)\n",
        "X = pad_sequences(X,maxlen=MAX_SEQ_LENGTH,padding=\"post\", truncating=\"post\")\n",
        "Y = pd.get_dummies(df['label']).values\n",
        "print(Y)\n"
      ],
      "execution_count": 16,
      "outputs": [
        {
          "output_type": "stream",
          "text": [
            "Found 27859 unique tokens\n",
            "[[0 1 0]\n",
            " [0 0 1]\n",
            " [0 0 1]\n",
            " ...\n",
            " [0 0 1]\n",
            " [1 0 0]\n",
            " [0 1 0]]\n"
          ],
          "name": "stdout"
        }
      ]
    },
    {
      "cell_type": "markdown",
      "metadata": {
        "id": "SZLNWuY-pXh1",
        "colab_type": "text"
      },
      "source": [
        "## FastText word embedding here\n",
        "\n",
        "The FastText word embedding is loaded here from gDrive."
      ]
    },
    {
      "cell_type": "code",
      "metadata": {
        "id": "_qVgRMbwztdE",
        "colab_type": "code",
        "colab": {
          "base_uri": "https://localhost:8080/",
          "height": 125
        },
        "outputId": "5f9aae8e-88cb-412e-9ffe-79b4c1fcc5af"
      },
      "source": [
        "from google.colab import drive\n",
        "drive.mount('/content/drive')"
      ],
      "execution_count": 17,
      "outputs": [
        {
          "output_type": "stream",
          "text": [
            "Go to this URL in a browser: https://accounts.google.com/o/oauth2/auth?client_id=947318989803-6bn6qk8qdgf4n4g3pfee6491hc0brc4i.apps.googleusercontent.com&redirect_uri=urn%3aietf%3awg%3aoauth%3a2.0%3aoob&scope=email%20https%3a%2f%2fwww.googleapis.com%2fauth%2fdocs.test%20https%3a%2f%2fwww.googleapis.com%2fauth%2fdrive%20https%3a%2f%2fwww.googleapis.com%2fauth%2fdrive.photos.readonly%20https%3a%2f%2fwww.googleapis.com%2fauth%2fpeopleapi.readonly&response_type=code\n",
            "\n",
            "Enter your authorization code:\n",
            "··········\n",
            "Mounted at /content/drive\n"
          ],
          "name": "stdout"
        }
      ]
    },
    {
      "cell_type": "code",
      "metadata": {
        "id": "Yo7HaJNJ0VJM",
        "colab_type": "code",
        "colab": {}
      },
      "source": [
        "import os, re, csv, math, codecs"
      ],
      "execution_count": 18,
      "outputs": []
    },
    {
      "cell_type": "code",
      "metadata": {
        "id": "lhi0sbsBz3TH",
        "colab_type": "code",
        "colab": {
          "base_uri": "https://localhost:8080/",
          "height": 52
        },
        "outputId": "3391a8b4-f5a9-4b68-9d8e-3f28738ea461"
      },
      "source": [
        "#load embeddings\n",
        "print('loading word embeddings...')\n",
        "embeddings_index = {}\n",
        "f = codecs.open('/content/drive/My Drive/collab_dataset/cc.or.300.vec', encoding='utf-8')\n",
        "for line in (f):\n",
        "    values = line.rstrip().rsplit(' ')\n",
        "    word = values[0]\n",
        "    coefs = np.asarray(values[1:], dtype='float32')\n",
        "    embeddings_index[word] = coefs\n",
        "f.close()\n",
        "print('found %s word vectors' % len(embeddings_index))"
      ],
      "execution_count": 19,
      "outputs": [
        {
          "output_type": "stream",
          "text": [
            "loading word embeddings...\n",
            "found 324930 word vectors\n"
          ],
          "name": "stdout"
        }
      ]
    },
    {
      "cell_type": "code",
      "metadata": {
        "id": "AtEPGqw_2e8C",
        "colab_type": "code",
        "colab": {
          "base_uri": "https://localhost:8080/",
          "height": 52
        },
        "outputId": "c1739bdb-3678-4128-b273-8565deb01330"
      },
      "source": [
        "#embedding matrix\n",
        "print('preparing embedding matrix...')\n",
        "words_not_found = []\n",
        "nb_words = min(MAX_NB_WORDS, len(word_index))\n",
        "embedding_matrix = np.zeros((nb_words, 300))\n",
        "\n",
        "for word, i in word_index.items():\n",
        "    if i >= nb_words:\n",
        "        continue\n",
        "    embedding_vector = embeddings_index.get(word)\n",
        "    if (embedding_vector is not None) and len(embedding_vector) > 0:\n",
        "        # words not found in embedding index will be all-zeros.\n",
        "        embedding_matrix[i] = embedding_vector\n",
        "    else:\n",
        "        words_not_found.append(word)\n",
        "print('number of null word embeddings: %d' % np.sum(np.sum(embedding_matrix, axis=1) == 0))"
      ],
      "execution_count": 20,
      "outputs": [
        {
          "output_type": "stream",
          "text": [
            "preparing embedding matrix...\n",
            "number of null word embeddings: 5609\n"
          ],
          "name": "stdout"
        }
      ]
    },
    {
      "cell_type": "code",
      "metadata": {
        "id": "d0CBn9-S61fI",
        "colab_type": "code",
        "colab": {
          "base_uri": "https://localhost:8080/",
          "height": 52
        },
        "outputId": "ce2860e3-c892-4ac2-a816-ba9fa40961d2"
      },
      "source": [
        "# test the sequencing # reversing\n",
        "\n",
        "print(X[51])\n",
        "\n",
        "reverse_word_index = dict([(value, key) for (key, value) in word_index.items()])\n",
        "def decode(text):\n",
        "    return \" \".join([reverse_word_index.get(i, \"?\") for i in text])\n",
        "print(decode(X[51\n",
        "]))"
      ],
      "execution_count": null,
      "outputs": [
        {
          "output_type": "stream",
          "text": [
            "[ 926 1119 3510 4819  552 2807    0    0    0    0    0    0]\n",
            "ରାଉରକେଲାରେ ଲିଟର ଚୋରା ବୋଲେରୋ ଅଭିଯୁକ୍ତ ଫେରାର୍ ? ? ? ? ? ?\n"
          ],
          "name": "stdout"
        }
      ]
    },
    {
      "cell_type": "markdown",
      "metadata": {
        "id": "XOhbNook_vYq",
        "colab_type": "text"
      },
      "source": [
        "## Creating 5 dataset of 500 data each for Test\n",
        "\n",
        "This is for testing and evaluating model\n",
        "\n",
        "This data is deleted from X and Y on which the model will be trained.\n",
        "\n",
        "Hence the models will be tested on this 5 datatsets separately. The models are not trained on these sets.\n",
        "\n",
        "X Y -> original dataset ~14K records\n",
        "X_test, Y_test -> Test split from X and Y 80-20\n",
        "\n",
        "\n",
        "X1_test , Y1_test new subsets from X and Y ~500 records which are not part of X and Y while training.\n",
        "Same for X2_test .... X5_test."
      ]
    },
    {
      "cell_type": "code",
      "metadata": {
        "id": "rfx1OA0p3zCr",
        "colab_type": "code",
        "colab": {
          "base_uri": "https://localhost:8080/",
          "height": 52
        },
        "outputId": "933fd497-e014-41e2-cafd-a326ab1df360"
      },
      "source": [
        "X[0]\n",
        "X.shape\n",
        "Y.shape"
      ],
      "execution_count": 21,
      "outputs": [
        {
          "output_type": "execute_result",
          "data": {
            "text/plain": [
              "array([   20,   106,  1186,   665,  1017, 11622,   316,     0,     0,\n",
              "           0,     0,     0], dtype=int32)"
            ]
          },
          "metadata": {
            "tags": []
          },
          "execution_count": 21
        },
        {
          "output_type": "execute_result",
          "data": {
            "text/plain": [
              "(20740, 12)"
            ]
          },
          "metadata": {
            "tags": []
          },
          "execution_count": 21
        },
        {
          "output_type": "execute_result",
          "data": {
            "text/plain": [
              "(20740, 3)"
            ]
          },
          "metadata": {
            "tags": []
          },
          "execution_count": 21
        }
      ]
    },
    {
      "cell_type": "code",
      "metadata": {
        "id": "n8SnKtrp22wW",
        "colab_type": "code",
        "colab": {
          "base_uri": "https://localhost:8080/",
          "height": 34
        },
        "outputId": "87369959-0020-420f-9438-1fbf33717dff"
      },
      "source": [
        "#extract 5 sets of data as testset for evaluating model\n",
        "X1_test = X[0:501]\n",
        "X = np.delete(X,np.s_[0:501], axis=0)\n",
        "Y1_test = Y[0:501]\n",
        "Y = np.delete(Y,np.s_[0:501], axis=0)\n",
        "X.shape\n",
        "Y.shape\n",
        "\n"
      ],
      "execution_count": 22,
      "outputs": [
        {
          "output_type": "execute_result",
          "data": {
            "text/plain": [
              "(20239, 12)"
            ]
          },
          "metadata": {
            "tags": []
          },
          "execution_count": 22
        },
        {
          "output_type": "execute_result",
          "data": {
            "text/plain": [
              "(20239, 3)"
            ]
          },
          "metadata": {
            "tags": []
          },
          "execution_count": 22
        }
      ]
    },
    {
      "cell_type": "code",
      "metadata": {
        "id": "zdxD9iGn4U3F",
        "colab_type": "code",
        "colab": {
          "base_uri": "https://localhost:8080/",
          "height": 87
        },
        "outputId": "a05341de-82f4-4de1-c114-b40ac3131fdc"
      },
      "source": [
        "X.shape\n",
        "X1_test.shape\n",
        "X1_test[0]\n",
        "print(\"--\")\n",
        "X[0]"
      ],
      "execution_count": 23,
      "outputs": [
        {
          "output_type": "execute_result",
          "data": {
            "text/plain": [
              "(20239, 12)"
            ]
          },
          "metadata": {
            "tags": []
          },
          "execution_count": 23
        },
        {
          "output_type": "execute_result",
          "data": {
            "text/plain": [
              "(501, 12)"
            ]
          },
          "metadata": {
            "tags": []
          },
          "execution_count": 23
        },
        {
          "output_type": "execute_result",
          "data": {
            "text/plain": [
              "array([   20,   106,  1186,   665,  1017, 11622,   316,     0,     0,\n",
              "           0,     0,     0], dtype=int32)"
            ]
          },
          "metadata": {
            "tags": []
          },
          "execution_count": 23
        },
        {
          "output_type": "stream",
          "text": [
            "--\n"
          ],
          "name": "stdout"
        },
        {
          "output_type": "execute_result",
          "data": {
            "text/plain": [
              "array([   23,   689, 12048, 12049, 12050,  1020,    43,     0,     0,\n",
              "           0,     0,     0], dtype=int32)"
            ]
          },
          "metadata": {
            "tags": []
          },
          "execution_count": 23
        }
      ]
    },
    {
      "cell_type": "code",
      "metadata": {
        "id": "_gNUEiRY_NfN",
        "colab_type": "code",
        "colab": {
          "base_uri": "https://localhost:8080/",
          "height": 34
        },
        "outputId": "f040cf89-4a1a-46b4-bfa1-c0c9e8b7c04d"
      },
      "source": [
        "X2_test = X[0:501]\n",
        "X = np.delete(X,np.s_[0:501], axis=0)\n",
        "Y2_test = Y[0:501]\n",
        "Y = np.delete(Y,np.s_[0:501], axis=0)\n",
        "X.shape\n",
        "Y.shape"
      ],
      "execution_count": 24,
      "outputs": [
        {
          "output_type": "execute_result",
          "data": {
            "text/plain": [
              "(19738, 12)"
            ]
          },
          "metadata": {
            "tags": []
          },
          "execution_count": 24
        },
        {
          "output_type": "execute_result",
          "data": {
            "text/plain": [
              "(19738, 3)"
            ]
          },
          "metadata": {
            "tags": []
          },
          "execution_count": 24
        }
      ]
    },
    {
      "cell_type": "code",
      "metadata": {
        "id": "M-r1A3vb_R8o",
        "colab_type": "code",
        "colab": {
          "base_uri": "https://localhost:8080/",
          "height": 87
        },
        "outputId": "1f394f14-585b-44cb-953b-62f457bb9b04"
      },
      "source": [
        "X.shape\n",
        "X2_test.shape\n",
        "X2_test[0]\n",
        "print(\"--\")\n",
        "X[0]"
      ],
      "execution_count": 25,
      "outputs": [
        {
          "output_type": "execute_result",
          "data": {
            "text/plain": [
              "(19738, 12)"
            ]
          },
          "metadata": {
            "tags": []
          },
          "execution_count": 25
        },
        {
          "output_type": "execute_result",
          "data": {
            "text/plain": [
              "(501, 12)"
            ]
          },
          "metadata": {
            "tags": []
          },
          "execution_count": 25
        },
        {
          "output_type": "execute_result",
          "data": {
            "text/plain": [
              "array([   23,   689, 12048, 12049, 12050,  1020,    43,     0,     0,\n",
              "           0,     0,     0], dtype=int32)"
            ]
          },
          "metadata": {
            "tags": []
          },
          "execution_count": 25
        },
        {
          "output_type": "stream",
          "text": [
            "--\n"
          ],
          "name": "stdout"
        },
        {
          "output_type": "execute_result",
          "data": {
            "text/plain": [
              "array([ 8112,  6175,   468, 12433,     0,     0,     0,     0,     0,\n",
              "           0,     0,     0], dtype=int32)"
            ]
          },
          "metadata": {
            "tags": []
          },
          "execution_count": 25
        }
      ]
    },
    {
      "cell_type": "code",
      "metadata": {
        "id": "EM6jthNg_YNF",
        "colab_type": "code",
        "colab": {
          "base_uri": "https://localhost:8080/",
          "height": 34
        },
        "outputId": "cb2b428e-2b8e-46df-e0ec-3374649f8198"
      },
      "source": [
        "X3_test = X[0:501]\n",
        "X = np.delete(X,np.s_[0:501], axis=0)\n",
        "Y3_test = Y[0:501]\n",
        "Y = np.delete(Y,np.s_[0:501], axis=0)\n",
        "X.shape\n",
        "Y.shape"
      ],
      "execution_count": 26,
      "outputs": [
        {
          "output_type": "execute_result",
          "data": {
            "text/plain": [
              "(19237, 12)"
            ]
          },
          "metadata": {
            "tags": []
          },
          "execution_count": 26
        },
        {
          "output_type": "execute_result",
          "data": {
            "text/plain": [
              "(19237, 3)"
            ]
          },
          "metadata": {
            "tags": []
          },
          "execution_count": 26
        }
      ]
    },
    {
      "cell_type": "code",
      "metadata": {
        "id": "BiWSDj6J_bU_",
        "colab_type": "code",
        "colab": {
          "base_uri": "https://localhost:8080/",
          "height": 87
        },
        "outputId": "d5110132-8f20-4e7b-ff4c-88fc53208b90"
      },
      "source": [
        "X.shape\n",
        "X3_test.shape\n",
        "X3_test[0]\n",
        "print(\"--\")\n",
        "X[0]"
      ],
      "execution_count": 27,
      "outputs": [
        {
          "output_type": "execute_result",
          "data": {
            "text/plain": [
              "(19237, 12)"
            ]
          },
          "metadata": {
            "tags": []
          },
          "execution_count": 27
        },
        {
          "output_type": "execute_result",
          "data": {
            "text/plain": [
              "(501, 12)"
            ]
          },
          "metadata": {
            "tags": []
          },
          "execution_count": 27
        },
        {
          "output_type": "execute_result",
          "data": {
            "text/plain": [
              "array([ 8112,  6175,   468, 12433,     0,     0,     0,     0,     0,\n",
              "           0,     0,     0], dtype=int32)"
            ]
          },
          "metadata": {
            "tags": []
          },
          "execution_count": 27
        },
        {
          "output_type": "stream",
          "text": [
            "--\n"
          ],
          "name": "stdout"
        },
        {
          "output_type": "execute_result",
          "data": {
            "text/plain": [
              "array([ 1394, 12852,  6287, 12853,    89,   393,     0,     0,     0,\n",
              "           0,     0,     0], dtype=int32)"
            ]
          },
          "metadata": {
            "tags": []
          },
          "execution_count": 27
        }
      ]
    },
    {
      "cell_type": "code",
      "metadata": {
        "id": "CLoXFwYa_f4k",
        "colab_type": "code",
        "colab": {
          "base_uri": "https://localhost:8080/",
          "height": 105
        },
        "outputId": "f259add9-c5a9-48f3-bd9d-734c69858cba"
      },
      "source": [
        "X4_test = X[0:501]\n",
        "X = np.delete(X,np.s_[0:501], axis=0)\n",
        "Y4_test = Y[0:501]\n",
        "Y = np.delete(Y,np.s_[0:501], axis=0)\n",
        "X.shape\n",
        "Y.shape\n",
        "\n",
        "X.shape\n",
        "X4_test.shape\n",
        "X4_test[0]\n",
        "print(\"--\")\n",
        "X[0]"
      ],
      "execution_count": 28,
      "outputs": [
        {
          "output_type": "execute_result",
          "data": {
            "text/plain": [
              "(18736, 12)"
            ]
          },
          "metadata": {
            "tags": []
          },
          "execution_count": 28
        },
        {
          "output_type": "execute_result",
          "data": {
            "text/plain": [
              "(18736, 3)"
            ]
          },
          "metadata": {
            "tags": []
          },
          "execution_count": 28
        },
        {
          "output_type": "execute_result",
          "data": {
            "text/plain": [
              "(18736, 12)"
            ]
          },
          "metadata": {
            "tags": []
          },
          "execution_count": 28
        },
        {
          "output_type": "execute_result",
          "data": {
            "text/plain": [
              "(501, 12)"
            ]
          },
          "metadata": {
            "tags": []
          },
          "execution_count": 28
        },
        {
          "output_type": "execute_result",
          "data": {
            "text/plain": [
              "array([ 1394, 12852,  6287, 12853,    89,   393,     0,     0,     0,\n",
              "           0,     0,     0], dtype=int32)"
            ]
          },
          "metadata": {
            "tags": []
          },
          "execution_count": 28
        },
        {
          "output_type": "stream",
          "text": [
            "--\n"
          ],
          "name": "stdout"
        },
        {
          "output_type": "execute_result",
          "data": {
            "text/plain": [
              "array([ 8435,  5193, 13224,   123,  8436, 13225,  3289,   585,   557,\n",
              "           0,     0,     0], dtype=int32)"
            ]
          },
          "metadata": {
            "tags": []
          },
          "execution_count": 28
        }
      ]
    },
    {
      "cell_type": "code",
      "metadata": {
        "id": "B1CB_Dk-_oRs",
        "colab_type": "code",
        "colab": {
          "base_uri": "https://localhost:8080/",
          "height": 105
        },
        "outputId": "2b0ea4b0-741e-4e14-8627-084113162965"
      },
      "source": [
        "X5_test = X[0:501]\n",
        "X = np.delete(X,np.s_[0:501], axis=0)\n",
        "Y5_test = Y[0:501]\n",
        "Y = np.delete(Y,np.s_[0:501], axis=0)\n",
        "X.shape\n",
        "Y.shape\n",
        "\n",
        "X.shape\n",
        "X5_test.shape\n",
        "X5_test[0]\n",
        "print(\"--\")\n",
        "X[0]"
      ],
      "execution_count": 29,
      "outputs": [
        {
          "output_type": "execute_result",
          "data": {
            "text/plain": [
              "(18235, 12)"
            ]
          },
          "metadata": {
            "tags": []
          },
          "execution_count": 29
        },
        {
          "output_type": "execute_result",
          "data": {
            "text/plain": [
              "(18235, 3)"
            ]
          },
          "metadata": {
            "tags": []
          },
          "execution_count": 29
        },
        {
          "output_type": "execute_result",
          "data": {
            "text/plain": [
              "(18235, 12)"
            ]
          },
          "metadata": {
            "tags": []
          },
          "execution_count": 29
        },
        {
          "output_type": "execute_result",
          "data": {
            "text/plain": [
              "(501, 12)"
            ]
          },
          "metadata": {
            "tags": []
          },
          "execution_count": 29
        },
        {
          "output_type": "execute_result",
          "data": {
            "text/plain": [
              "array([ 8435,  5193, 13224,   123,  8436, 13225,  3289,   585,   557,\n",
              "           0,     0,     0], dtype=int32)"
            ]
          },
          "metadata": {
            "tags": []
          },
          "execution_count": 29
        },
        {
          "output_type": "stream",
          "text": [
            "--\n"
          ],
          "name": "stdout"
        },
        {
          "output_type": "execute_result",
          "data": {
            "text/plain": [
              "array([  23, 1650,  539, 4911,  128, 1279,   12,   43,    0,    0,    0,\n",
              "          0], dtype=int32)"
            ]
          },
          "metadata": {
            "tags": []
          },
          "execution_count": 29
        }
      ]
    },
    {
      "cell_type": "markdown",
      "metadata": {
        "id": "p8MQxfWk7njb",
        "colab_type": "text"
      },
      "source": [
        "## Split\n",
        "\n",
        "Splitting 80 -20 .\n",
        "and splitting one reduced size dataset as well just in case for quick run.\n",
        "\n",
        "---\n",
        "X_train_r\n",
        "\n",
        "---\n"
      ]
    },
    {
      "cell_type": "code",
      "metadata": {
        "id": "DsmwQD_07kvw",
        "colab_type": "code",
        "colab": {
          "base_uri": "https://localhost:8080/",
          "height": 87
        },
        "outputId": "075935a1-6fc7-4ccf-f92b-5111be2ac3d2"
      },
      "source": [
        "X_train,X_test, Y_train, Y_test = train_test_split(X,Y,test_size= 0.2, random_state= 50)\n",
        "print(X_train.shape)\n",
        "print(Y_train.shape)\n",
        "print(X_test.shape)\n",
        "print(Y_test.shape)"
      ],
      "execution_count": 30,
      "outputs": [
        {
          "output_type": "stream",
          "text": [
            "(14588, 12)\n",
            "(14588, 3)\n",
            "(3647, 12)\n",
            "(3647, 3)\n"
          ],
          "name": "stdout"
        }
      ]
    },
    {
      "cell_type": "markdown",
      "metadata": {
        "id": "Co6AOfYP7yJV",
        "colab_type": "text"
      },
      "source": [
        "# Build Model - LSTM\n",
        "\n"
      ]
    },
    {
      "cell_type": "markdown",
      "metadata": {
        "id": "e8pc_chSiaua",
        "colab_type": "text"
      },
      "source": [
        "## Displaying history functions\n"
      ]
    },
    {
      "cell_type": "markdown",
      "metadata": {
        "id": "QNvnl8cOIxaN",
        "colab_type": "text"
      },
      "source": [
        "## Imports\n"
      ]
    },
    {
      "cell_type": "code",
      "metadata": {
        "id": "3CyqNKMFPGcq",
        "colab_type": "code",
        "colab": {}
      },
      "source": [
        "from keras.callbacks import ModelCheckpoint\n",
        "from keras.callbacks import EarlyStopping\n",
        "from keras.callbacks import LearningRateScheduler\n",
        "import math"
      ],
      "execution_count": 32,
      "outputs": []
    },
    {
      "cell_type": "markdown",
      "metadata": {
        "id": "Iv1HZAj9I1j7",
        "colab_type": "text"
      },
      "source": [
        "## Helper functions"
      ]
    },
    {
      "cell_type": "markdown",
      "metadata": {
        "id": "yz2vLjsDJCN8",
        "colab_type": "text"
      },
      "source": [
        "### Graph functions"
      ]
    },
    {
      "cell_type": "code",
      "metadata": {
        "id": "stA1OUWS9Id9",
        "colab_type": "code",
        "colab": {}
      },
      "source": [
        "# display the train loss graph from history\n",
        "from matplotlib import pyplot\n",
        "\n",
        "def display_history_loss(history, model_name):\n",
        "  \n",
        "  pyplot.plot(history.history['loss'])\n",
        "  pyplot.plot(history.history['val_loss'])\n",
        "  pyplot.title('model train vs validation loss {}'.format(model_name))\n",
        "  pyplot.ylabel('loss')\n",
        "  pyplot.xlabel('epoch')\n",
        "  pyplot.legend(['train', 'validation'], loc='upper right')\n",
        "  pyplot.show()\n",
        "\n",
        "def plot_graphs(history, string):\n",
        "  plt.plot(history.history[string])\n",
        "  plt.plot(history.history['val_'+string])\n",
        "  plt.xlabel(\"Epochs\")\n",
        "  plt.ylabel(string)\n",
        "  plt.legend([string, 'val_'+string])\n",
        "  plt.show()\n",
        "  \n"
      ],
      "execution_count": 33,
      "outputs": []
    },
    {
      "cell_type": "markdown",
      "metadata": {
        "id": "q6RUAk-EI4Zo",
        "colab_type": "text"
      },
      "source": [
        "### Precision Recall F1 functions"
      ]
    },
    {
      "cell_type": "code",
      "metadata": {
        "id": "XSBAnM2YnENm",
        "colab_type": "code",
        "colab": {}
      },
      "source": [
        "from keras import backend as K\n",
        "\n",
        "def recall_m(y_true, y_pred):\n",
        "    true_positives = K.sum(K.round(K.clip(y_true * y_pred, 0, 1)))\n",
        "    possible_positives = K.sum(K.round(K.clip(y_true, 0, 1)))\n",
        "    recall = true_positives / (possible_positives + K.epsilon())\n",
        "    return recall\n",
        "\n",
        "def precision_m(y_true, y_pred):\n",
        "    true_positives = K.sum(K.round(K.clip(y_true * y_pred, 0, 1)))\n",
        "    predicted_positives = K.sum(K.round(K.clip(y_pred, 0, 1)))\n",
        "    precision = true_positives / (predicted_positives + K.epsilon())\n",
        "    return precision\n",
        "\n",
        "def f1_m(y_true, y_pred):\n",
        "    precision = precision_m(y_true, y_pred)\n",
        "    recall = recall_m(y_true, y_pred)\n",
        "    return 2*((precision*recall)/(precision+recall+K.epsilon()))\n",
        "\n",
        "# compile the model\n",
        "#model.compile(optimizer='adam', loss='binary_crossentropy', metrics=['acc',f1_m,precision_m, recall_m])\n",
        "\n",
        "## evaluate the model\n",
        "#loss, accuracy, f1_score, precision, recall = model.evaluate(Xtest, ytest, verbose=0)\n"
      ],
      "execution_count": 34,
      "outputs": []
    },
    {
      "cell_type": "markdown",
      "metadata": {
        "id": "uBkVuhWpJGvk",
        "colab_type": "text"
      },
      "source": [
        "### Basic print function"
      ]
    },
    {
      "cell_type": "code",
      "metadata": {
        "id": "WOjU8MscFikK",
        "colab_type": "code",
        "colab": {}
      },
      "source": [
        "def print_stats(f1,precision, recall, acc):\n",
        "  print(\"#######################################################\")\n",
        "  print(\"F1        : {}\".format(f1))\n",
        "  print(\"Precision : {}\".format(precision))\n",
        "  print(\"Recall    : {}\".format(recall))\n",
        "  print(\"Accuracy  : {}\".format(acc))\n",
        "  print(\"#######################################################\")\n",
        "  \n",
        "  "
      ],
      "execution_count": 35,
      "outputs": []
    },
    {
      "cell_type": "markdown",
      "metadata": {
        "id": "_zVAHMSNJKuA",
        "colab_type": "text"
      },
      "source": [
        "### Step decay function\n",
        "\n",
        "Although not used currently. Can be used for gradual manipulation of learning rate."
      ]
    },
    {
      "cell_type": "code",
      "metadata": {
        "id": "66ezpkZw71vi",
        "colab_type": "code",
        "colab": {}
      },
      "source": [
        "def step_decay(epoch):\n",
        "  initial_lrate = 0.1\n",
        "  drop = 0.5\n",
        "  epochs_drop = 10.0\n",
        "  lrate = initial_lrate * math.pow(drop,  \n",
        "           math.floor((1+epoch)/epochs_drop))\n",
        "  return lrate\n"
      ],
      "execution_count": null,
      "outputs": []
    },
    {
      "cell_type": "markdown",
      "metadata": {
        "id": "WUlb3RhiBv_F",
        "colab_type": "text"
      },
      "source": [
        "## Model 1 LSTM \n",
        "32/64 or node param - tanh - 0.1 dropout\n",
        "Dense layer -3 - softmax\n",
        "\n",
        "\n",
        "\n",
        "\n",
        "There is no final, definite, rule of thumb on how many nodes (or hidden neurons) or how many layers one should choose, and very often a trial and error approach will give you the best results for your individual problem. The most common framework for this is most likely the k-fold cross-validation. However, even for a testing procedure, we need to choose some (k) numbers of nodes.\n",
        "The following formula may give you a starting point:\n",
        "Image for post\n",
        "\n",
        "![alt text](https://miro.medium.com/max/228/1*9jY98E1ndGBcob6GypYM1Q.png)\n",
        "\n",
        "Nᵢ is the number of input neurons, Nₒ the number of output neurons, Nₛ the number of samples in the training data, and α represents a scaling factor that is usually between 2 and 10. We can calculate 8 different numbers to feed into our validation procedure and find the optimal model, based on the resulting validation loss."
      ]
    },
    {
      "cell_type": "markdown",
      "metadata": {
        "id": "hz9GujA7caIR",
        "colab_type": "text"
      },
      "source": [
        "Keras Embedding Layer\n",
        "Keras offers an Embedding layer that can be used for neural networks on text data.\n",
        "\n",
        "---\n",
        "It requires that the input data be integer encoded, so that each word is represented by a unique integer.\n",
        "\n",
        "\n",
        "This data preparation step can be performed using \n",
        "the Tokenizer API also provided with Keras.\n",
        "\n",
        "---\n",
        "\n",
        "\n"
      ]
    },
    {
      "cell_type": "code",
      "metadata": {
        "id": "6SdAJ5J2BWDg",
        "colab_type": "code",
        "colab": {}
      },
      "source": [
        "def custom_evaluate(model, X, Y):\n",
        "    loss, acc, f1_score, precision, recall = model.evaluate(X, Y,  verbose=0 )\n",
        "    print(\"-------------------------------------\")\n",
        "    print_stats(f1_score, precision, recall, acc)"
      ],
      "execution_count": 36,
      "outputs": []
    },
    {
      "cell_type": "code",
      "metadata": {
        "id": "VtwswYEg7vEp",
        "colab_type": "code",
        "colab": {}
      },
      "source": [
        "def single_lstm(nodes, **kwargs):\n",
        "  #as declared above earlier\n",
        "  MAX_NB_WORDS = 15000\n",
        "  EMBEDDING_DIM = 100\n",
        "  MAX_SEQ_LENGTH = 12\n",
        "  with tf.device('/device:GPU:0'):\n",
        "    model = Sequential()\n",
        "\n",
        "    model.add(Embedding(MAX_NB_WORDS, EMBEDDING_DIM, input_length=MAX_SEQ_LENGTH))\n",
        "    model.add(LSTM(nodes, activation=  kwargs.get('activation'), dropout=  kwargs.get('dropout')))\n",
        "  \n",
        "    model.add(Dense(3, activation= kwargs.get('dense_actv')))\n",
        "    optimizer = Adam(learning_rate=1e-5)\n",
        "    # Since one hot encoded. categoriacl crossentropy will work\n",
        "    #model.compile(loss=\"categorical_crossentropy\", optimizer=optimizer, metrics=[\"accuracy\"])\n",
        "    model.compile(loss=\"categorical_crossentropy\", optimizer=optimizer, metrics=['acc',f1_m,precision_m, recall_m])\n",
        "    \n",
        "    model.summary()\n",
        "    filepath=\"weights-improvement-{epoch:02d}-{val_accuracy:.2f}.hdf5\"\n",
        "    checkpoint = ModelCheckpoint(filepath, monitor='val_accuracy', verbose=1, save_best_only=True, mode='max')\n",
        "    callbacks_list = [checkpoint]\n",
        "    # simple early stopping\n",
        "    es = EarlyStopping(monitor='val_loss', mode='min', verbose=1)\n",
        "    # learning rate decay\n",
        "    # not being used currently\n",
        "    lrate = LearningRateScheduler(step_decay)\n",
        "    history = model.fit(kwargs.get('X_train'),\n",
        "                        kwargs.get('Y_train'), \n",
        "                        epochs= kwargs.get('epochs'), \n",
        "                        batch_size = 100,\n",
        "                        callbacks= [es],\n",
        "                        validation_data=(kwargs.get('X_test'),\n",
        "                                         kwargs.get('Y_test')),)\n",
        "    display_history_loss(history, \"single_lstm\")\n",
        "    plot_graphs(history, \"acc\")\n",
        "    #score = model.evaluate(X_test, Y_test)\n",
        "    \n",
        "        \n",
        "    loss, acc, f1_score, precision, recall = model.evaluate(X_test, Y_test,  verbose=0 )\n",
        "    print_stats(f1_score, precision, recall, acc)\n",
        "    loss, acc, f1_score, precision, recall = model.evaluate(X1_test, Y1_test,  verbose=0 )\n",
        "    print_stats(f1_score, precision, recall, acc)\n",
        "    loss, acc, f1_score, precision, recall = model.evaluate(X2_test, Y2_test,  verbose=0 )\n",
        "    print_stats(f1_score, precision, recall, acc)\n",
        "    loss, acc, f1_score, precision, recall = model.evaluate(X3_test, Y3_test,  verbose=0 )\n",
        "    print_stats(f1_score, precision, recall, acc)\n",
        "    loss, acc, f1_score, precision, recall = model.evaluate(X4_test, Y4_test,  verbose=0 )\n",
        "    print_stats(f1_score, precision, recall, acc)\n",
        "    loss, acc, f1_score, precision, recall = model.evaluate(X5_test, Y5_test,  verbose=0 )\n",
        "    print_stats(f1_score, precision, recall, acc)\n",
        "    \n",
        "    #print(score[0])\n",
        "    #print(score[1])\n",
        "    #print(score)"
      ],
      "execution_count": null,
      "outputs": []
    },
    {
      "cell_type": "markdown",
      "metadata": {
        "id": "PRTXqi1ObvMN",
        "colab_type": "text"
      },
      "source": [
        "### Result\n",
        "\n",
        "So far the best has been noted with 64 node lstm with softmax dense activation.\n",
        "100 epochs. Batch size 100. Data 19K\n",
        "Validation loss on evaluate 0.7\n",
        "Accuracy 0.88\n",
        "Running time 599.544s\n"
      ]
    },
    {
      "cell_type": "code",
      "metadata": {
        "id": "TujqQtUim1Sw",
        "colab_type": "code",
        "colab": {
          "base_uri": "https://localhost:8080/",
          "height": 1000
        },
        "outputId": "ec0a54ff-ca61-4000-c0d3-1e642e218aca"
      },
      "source": [
        "single_lstm(64, activation = 'tanh', \n",
        "            dropout = 0.2, \n",
        "            dense_actv ='softmax',\n",
        "            epochs =100,\n",
        "            X_train = X_train,\n",
        "            Y_train = Y_train,\n",
        "            X_test = X_test,\n",
        "            Y_test = Y_test)"
      ],
      "execution_count": null,
      "outputs": [
        {
          "output_type": "stream",
          "text": [
            "Model: \"sequential_3\"\n",
            "_________________________________________________________________\n",
            "Layer (type)                 Output Shape              Param #   \n",
            "=================================================================\n",
            "embedding_3 (Embedding)      (None, 12, 100)           1500000   \n",
            "_________________________________________________________________\n",
            "lstm_3 (LSTM)                (None, 64)                42240     \n",
            "_________________________________________________________________\n",
            "dense_3 (Dense)              (None, 3)                 195       \n",
            "=================================================================\n",
            "Total params: 1,542,435\n",
            "Trainable params: 1,542,435\n",
            "Non-trainable params: 0\n",
            "_________________________________________________________________\n"
          ],
          "name": "stdout"
        },
        {
          "output_type": "stream",
          "text": [
            "/usr/local/lib/python3.6/dist-packages/tensorflow/python/framework/indexed_slices.py:434: UserWarning:\n",
            "\n",
            "Converting sparse IndexedSlices to a dense Tensor of unknown shape. This may consume a large amount of memory.\n",
            "\n"
          ],
          "name": "stderr"
        },
        {
          "output_type": "stream",
          "text": [
            "Train on 16592 samples, validate on 4148 samples\n",
            "Epoch 1/100\n",
            "16592/16592 [==============================] - 6s 346us/step - loss: 1.0987 - acc: 0.3400 - f1_m: 0.0000e+00 - precision_m: 0.0000e+00 - recall_m: 0.0000e+00 - val_loss: 1.0979 - val_acc: 0.3715 - val_f1_m: 0.0000e+00 - val_precision_m: 0.0000e+00 - val_recall_m: 0.0000e+00\n",
            "Epoch 2/100\n",
            "16592/16592 [==============================] - 5s 318us/step - loss: 1.0968 - acc: 0.3707 - f1_m: 0.0000e+00 - precision_m: 0.0000e+00 - recall_m: 0.0000e+00 - val_loss: 1.0958 - val_acc: 0.3645 - val_f1_m: 0.0000e+00 - val_precision_m: 0.0000e+00 - val_recall_m: 0.0000e+00\n",
            "Epoch 3/100\n",
            "16592/16592 [==============================] - 5s 313us/step - loss: 1.0948 - acc: 0.3728 - f1_m: 0.0000e+00 - precision_m: 0.0000e+00 - recall_m: 0.0000e+00 - val_loss: 1.0938 - val_acc: 0.3732 - val_f1_m: 0.0000e+00 - val_precision_m: 0.0000e+00 - val_recall_m: 0.0000e+00\n",
            "Epoch 4/100\n",
            "16592/16592 [==============================] - 5s 323us/step - loss: 1.0926 - acc: 0.3797 - f1_m: 0.0000e+00 - precision_m: 0.0000e+00 - recall_m: 0.0000e+00 - val_loss: 1.0915 - val_acc: 0.3797 - val_f1_m: 0.0000e+00 - val_precision_m: 0.0000e+00 - val_recall_m: 0.0000e+00\n",
            "Epoch 5/100\n",
            "16592/16592 [==============================] - 5s 319us/step - loss: 1.0903 - acc: 0.3857 - f1_m: 0.0000e+00 - precision_m: 0.0000e+00 - recall_m: 0.0000e+00 - val_loss: 1.0887 - val_acc: 0.3862 - val_f1_m: 0.0000e+00 - val_precision_m: 0.0000e+00 - val_recall_m: 0.0000e+00\n",
            "Epoch 6/100\n",
            "16592/16592 [==============================] - 5s 321us/step - loss: 1.0867 - acc: 0.3966 - f1_m: 0.0000e+00 - precision_m: 0.0000e+00 - recall_m: 0.0000e+00 - val_loss: 1.0848 - val_acc: 0.3968 - val_f1_m: 0.0000e+00 - val_precision_m: 0.0000e+00 - val_recall_m: 0.0000e+00\n",
            "Epoch 7/100\n",
            "16592/16592 [==============================] - 5s 319us/step - loss: 1.0820 - acc: 0.4122 - f1_m: 0.0000e+00 - precision_m: 0.0000e+00 - recall_m: 0.0000e+00 - val_loss: 1.0792 - val_acc: 0.4081 - val_f1_m: 0.0000e+00 - val_precision_m: 0.0000e+00 - val_recall_m: 0.0000e+00\n",
            "Epoch 8/100\n",
            "16592/16592 [==============================] - 5s 309us/step - loss: 1.0746 - acc: 0.4286 - f1_m: 0.0000e+00 - precision_m: 0.0000e+00 - recall_m: 0.0000e+00 - val_loss: 1.0705 - val_acc: 0.4325 - val_f1_m: 0.0000e+00 - val_precision_m: 0.0000e+00 - val_recall_m: 0.0000e+00\n",
            "Epoch 9/100\n",
            "16592/16592 [==============================] - 5s 313us/step - loss: 1.0625 - acc: 0.4571 - f1_m: 0.0000e+00 - precision_m: 0.0000e+00 - recall_m: 0.0000e+00 - val_loss: 1.0564 - val_acc: 0.4581 - val_f1_m: 0.0000e+00 - val_precision_m: 0.0000e+00 - val_recall_m: 0.0000e+00\n",
            "Epoch 10/100\n",
            "16592/16592 [==============================] - 5s 313us/step - loss: 1.0421 - acc: 0.4889 - f1_m: 1.1929e-04 - precision_m: 0.0060 - recall_m: 6.0241e-05 - val_loss: 1.0323 - val_acc: 0.4925 - val_f1_m: 4.7148e-04 - val_precision_m: 0.0238 - val_recall_m: 2.3810e-04\n",
            "Epoch 11/100\n",
            "16592/16592 [==============================] - 5s 307us/step - loss: 1.0081 - acc: 0.5262 - f1_m: 0.0224 - precision_m: 0.4913 - recall_m: 0.0116 - val_loss: 0.9917 - val_acc: 0.5260 - val_f1_m: 0.0672 - val_precision_m: 0.8932 - val_recall_m: 0.0352\n",
            "Epoch 12/100\n",
            "16592/16592 [==============================] - 5s 312us/step - loss: 0.9512 - acc: 0.5582 - f1_m: 0.2264 - precision_m: 0.8822 - recall_m: 0.1346 - val_loss: 0.9294 - val_acc: 0.5550 - val_f1_m: 0.3356 - val_precision_m: 0.7995 - val_recall_m: 0.2139\n",
            "Epoch 13/100\n",
            "16592/16592 [==============================] - 5s 306us/step - loss: 0.8749 - acc: 0.5868 - f1_m: 0.4606 - precision_m: 0.7829 - recall_m: 0.3302 - val_loss: 0.8561 - val_acc: 0.5856 - val_f1_m: 0.5064 - val_precision_m: 0.7536 - val_recall_m: 0.3829\n",
            "Epoch 14/100\n",
            "16592/16592 [==============================] - 5s 313us/step - loss: 0.7964 - acc: 0.6195 - f1_m: 0.5670 - precision_m: 0.7545 - recall_m: 0.4559 - val_loss: 0.7898 - val_acc: 0.6220 - val_f1_m: 0.5771 - val_precision_m: 0.7391 - val_recall_m: 0.4747\n",
            "Epoch 15/100\n",
            "16592/16592 [==============================] - 5s 310us/step - loss: 0.7299 - acc: 0.6477 - f1_m: 0.6157 - precision_m: 0.7552 - recall_m: 0.5208 - val_loss: 0.7357 - val_acc: 0.6451 - val_f1_m: 0.6089 - val_precision_m: 0.7400 - val_recall_m: 0.5182\n",
            "Epoch 16/100\n",
            "16592/16592 [==============================] - 5s 307us/step - loss: 0.6760 - acc: 0.6738 - f1_m: 0.6429 - precision_m: 0.7648 - recall_m: 0.5553 - val_loss: 0.6920 - val_acc: 0.6709 - val_f1_m: 0.6297 - val_precision_m: 0.7537 - val_recall_m: 0.5420\n",
            "Epoch 17/100\n",
            "16592/16592 [==============================] - 5s 315us/step - loss: 0.6317 - acc: 0.7026 - f1_m: 0.6600 - precision_m: 0.7784 - recall_m: 0.5738 - val_loss: 0.6559 - val_acc: 0.6876 - val_f1_m: 0.6395 - val_precision_m: 0.7659 - val_recall_m: 0.5504\n",
            "Epoch 18/100\n",
            "16592/16592 [==============================] - 5s 319us/step - loss: 0.5934 - acc: 0.7358 - f1_m: 0.6738 - precision_m: 0.7983 - recall_m: 0.5840 - val_loss: 0.6249 - val_acc: 0.7136 - val_f1_m: 0.6499 - val_precision_m: 0.7814 - val_recall_m: 0.5575\n",
            "Epoch 19/100\n",
            "16592/16592 [==============================] - 5s 312us/step - loss: 0.5599 - acc: 0.7651 - f1_m: 0.6980 - precision_m: 0.8160 - recall_m: 0.6107 - val_loss: 0.5976 - val_acc: 0.7336 - val_f1_m: 0.6816 - val_precision_m: 0.7921 - val_recall_m: 0.5990\n",
            "Epoch 20/100\n",
            "16592/16592 [==============================] - 5s 313us/step - loss: 0.5260 - acc: 0.7869 - f1_m: 0.7423 - precision_m: 0.8337 - recall_m: 0.6698 - val_loss: 0.5728 - val_acc: 0.7570 - val_f1_m: 0.7233 - val_precision_m: 0.8067 - val_recall_m: 0.6562\n",
            "Epoch 21/100\n",
            "16592/16592 [==============================] - 5s 311us/step - loss: 0.4976 - acc: 0.8086 - f1_m: 0.7776 - precision_m: 0.8453 - recall_m: 0.7206 - val_loss: 0.5506 - val_acc: 0.7751 - val_f1_m: 0.7567 - val_precision_m: 0.8195 - val_recall_m: 0.7033\n",
            "Epoch 22/100\n",
            "16592/16592 [==============================] - 5s 316us/step - loss: 0.4705 - acc: 0.8243 - f1_m: 0.8039 - precision_m: 0.8558 - recall_m: 0.7584 - val_loss: 0.5315 - val_acc: 0.7864 - val_f1_m: 0.7722 - val_precision_m: 0.8204 - val_recall_m: 0.7298\n",
            "Epoch 23/100\n",
            "16592/16592 [==============================] - 5s 313us/step - loss: 0.4466 - acc: 0.8355 - f1_m: 0.8196 - precision_m: 0.8608 - recall_m: 0.7825 - val_loss: 0.5151 - val_acc: 0.7970 - val_f1_m: 0.7853 - val_precision_m: 0.8245 - val_recall_m: 0.7500\n",
            "Epoch 24/100\n",
            "16592/16592 [==============================] - 5s 314us/step - loss: 0.4259 - acc: 0.8433 - f1_m: 0.8318 - precision_m: 0.8646 - recall_m: 0.8016 - val_loss: 0.5013 - val_acc: 0.8059 - val_f1_m: 0.7966 - val_precision_m: 0.8278 - val_recall_m: 0.7679\n",
            "Epoch 25/100\n",
            "16592/16592 [==============================] - 5s 310us/step - loss: 0.4049 - acc: 0.8542 - f1_m: 0.8453 - precision_m: 0.8720 - recall_m: 0.8204 - val_loss: 0.4907 - val_acc: 0.8105 - val_f1_m: 0.8009 - val_precision_m: 0.8278 - val_recall_m: 0.7760\n",
            "Epoch 26/100\n",
            "16592/16592 [==============================] - 5s 310us/step - loss: 0.3890 - acc: 0.8583 - f1_m: 0.8517 - precision_m: 0.8749 - recall_m: 0.8300 - val_loss: 0.4817 - val_acc: 0.8136 - val_f1_m: 0.8105 - val_precision_m: 0.8336 - val_recall_m: 0.7889\n",
            "Epoch 27/100\n",
            "16592/16592 [==============================] - 5s 305us/step - loss: 0.3735 - acc: 0.8652 - f1_m: 0.8589 - precision_m: 0.8773 - recall_m: 0.8413 - val_loss: 0.4741 - val_acc: 0.8180 - val_f1_m: 0.8145 - val_precision_m: 0.8337 - val_recall_m: 0.7963\n",
            "Epoch 28/100\n",
            "16592/16592 [==============================] - 5s 299us/step - loss: 0.3583 - acc: 0.8717 - f1_m: 0.8675 - precision_m: 0.8847 - recall_m: 0.8511 - val_loss: 0.4677 - val_acc: 0.8223 - val_f1_m: 0.8202 - val_precision_m: 0.8362 - val_recall_m: 0.8049\n",
            "Epoch 29/100\n",
            "16592/16592 [==============================] - 5s 298us/step - loss: 0.3457 - acc: 0.8796 - f1_m: 0.8755 - precision_m: 0.8896 - recall_m: 0.8620 - val_loss: 0.4620 - val_acc: 0.8264 - val_f1_m: 0.8243 - val_precision_m: 0.8379 - val_recall_m: 0.8113\n",
            "Epoch 30/100\n",
            "16592/16592 [==============================] - 5s 302us/step - loss: 0.3350 - acc: 0.8836 - f1_m: 0.8793 - precision_m: 0.8921 - recall_m: 0.8669 - val_loss: 0.4572 - val_acc: 0.8284 - val_f1_m: 0.8260 - val_precision_m: 0.8380 - val_recall_m: 0.8144\n",
            "Epoch 31/100\n",
            "16592/16592 [==============================] - 5s 300us/step - loss: 0.3246 - acc: 0.8878 - f1_m: 0.8844 - precision_m: 0.8964 - recall_m: 0.8729 - val_loss: 0.4527 - val_acc: 0.8320 - val_f1_m: 0.8293 - val_precision_m: 0.8415 - val_recall_m: 0.8175\n",
            "Epoch 32/100\n",
            "16592/16592 [==============================] - 5s 300us/step - loss: 0.3102 - acc: 0.8915 - f1_m: 0.8902 - precision_m: 0.9011 - recall_m: 0.8796 - val_loss: 0.4487 - val_acc: 0.8351 - val_f1_m: 0.8319 - val_precision_m: 0.8437 - val_recall_m: 0.8206\n",
            "Epoch 33/100\n",
            "16592/16592 [==============================] - 5s 300us/step - loss: 0.2983 - acc: 0.8984 - f1_m: 0.8966 - precision_m: 0.9059 - recall_m: 0.8877 - val_loss: 0.4458 - val_acc: 0.8368 - val_f1_m: 0.8344 - val_precision_m: 0.8453 - val_recall_m: 0.8240\n",
            "Epoch 34/100\n",
            "16592/16592 [==============================] - 5s 300us/step - loss: 0.2903 - acc: 0.9013 - f1_m: 0.9000 - precision_m: 0.9084 - recall_m: 0.8917 - val_loss: 0.4418 - val_acc: 0.8368 - val_f1_m: 0.8375 - val_precision_m: 0.8471 - val_recall_m: 0.8283\n",
            "Epoch 35/100\n",
            "16592/16592 [==============================] - 5s 300us/step - loss: 0.2826 - acc: 0.9044 - f1_m: 0.9036 - precision_m: 0.9117 - recall_m: 0.8957 - val_loss: 0.4380 - val_acc: 0.8373 - val_f1_m: 0.8381 - val_precision_m: 0.8469 - val_recall_m: 0.8294\n",
            "Epoch 36/100\n",
            "16592/16592 [==============================] - 5s 303us/step - loss: 0.2746 - acc: 0.9077 - f1_m: 0.9069 - precision_m: 0.9144 - recall_m: 0.8997 - val_loss: 0.4351 - val_acc: 0.8387 - val_f1_m: 0.8384 - val_precision_m: 0.8469 - val_recall_m: 0.8302\n",
            "Epoch 37/100\n",
            "16592/16592 [==============================] - 5s 309us/step - loss: 0.2630 - acc: 0.9101 - f1_m: 0.9096 - precision_m: 0.9164 - recall_m: 0.9030 - val_loss: 0.4319 - val_acc: 0.8406 - val_f1_m: 0.8413 - val_precision_m: 0.8498 - val_recall_m: 0.8330\n",
            "Epoch 38/100\n",
            "16592/16592 [==============================] - 5s 308us/step - loss: 0.2537 - acc: 0.9162 - f1_m: 0.9159 - precision_m: 0.9222 - recall_m: 0.9099 - val_loss: 0.4300 - val_acc: 0.8414 - val_f1_m: 0.8422 - val_precision_m: 0.8509 - val_recall_m: 0.8337\n",
            "Epoch 39/100\n",
            "16592/16592 [==============================] - 5s 307us/step - loss: 0.2461 - acc: 0.9167 - f1_m: 0.9164 - precision_m: 0.9220 - recall_m: 0.9109 - val_loss: 0.4271 - val_acc: 0.8431 - val_f1_m: 0.8439 - val_precision_m: 0.8512 - val_recall_m: 0.8368\n",
            "Epoch 40/100\n",
            "16592/16592 [==============================] - 5s 299us/step - loss: 0.2390 - acc: 0.9212 - f1_m: 0.9206 - precision_m: 0.9261 - recall_m: 0.9153 - val_loss: 0.4246 - val_acc: 0.8450 - val_f1_m: 0.8461 - val_precision_m: 0.8526 - val_recall_m: 0.8397\n",
            "Epoch 41/100\n",
            "16592/16592 [==============================] - 5s 298us/step - loss: 0.2345 - acc: 0.9231 - f1_m: 0.9233 - precision_m: 0.9281 - recall_m: 0.9185 - val_loss: 0.4233 - val_acc: 0.8474 - val_f1_m: 0.8476 - val_precision_m: 0.8536 - val_recall_m: 0.8418\n",
            "Epoch 42/100\n",
            "16592/16592 [==============================] - 5s 300us/step - loss: 0.2242 - acc: 0.9262 - f1_m: 0.9260 - precision_m: 0.9306 - recall_m: 0.9216 - val_loss: 0.4212 - val_acc: 0.8500 - val_f1_m: 0.8505 - val_precision_m: 0.8559 - val_recall_m: 0.8452\n",
            "Epoch 43/100\n",
            "16592/16592 [==============================] - 5s 292us/step - loss: 0.2152 - acc: 0.9294 - f1_m: 0.9290 - precision_m: 0.9340 - recall_m: 0.9241 - val_loss: 0.4200 - val_acc: 0.8493 - val_f1_m: 0.8504 - val_precision_m: 0.8570 - val_recall_m: 0.8440\n",
            "Epoch 44/100\n",
            "16592/16592 [==============================] - 5s 292us/step - loss: 0.2136 - acc: 0.9299 - f1_m: 0.9299 - precision_m: 0.9340 - recall_m: 0.9259 - val_loss: 0.4174 - val_acc: 0.8520 - val_f1_m: 0.8526 - val_precision_m: 0.8584 - val_recall_m: 0.8468\n",
            "Epoch 45/100\n",
            "16592/16592 [==============================] - 5s 295us/step - loss: 0.2050 - acc: 0.9326 - f1_m: 0.9329 - precision_m: 0.9373 - recall_m: 0.9285 - val_loss: 0.4157 - val_acc: 0.8525 - val_f1_m: 0.8534 - val_precision_m: 0.8584 - val_recall_m: 0.8485\n",
            "Epoch 46/100\n",
            "16592/16592 [==============================] - 5s 299us/step - loss: 0.2025 - acc: 0.9326 - f1_m: 0.9332 - precision_m: 0.9372 - recall_m: 0.9293 - val_loss: 0.4142 - val_acc: 0.8534 - val_f1_m: 0.8541 - val_precision_m: 0.8595 - val_recall_m: 0.8487\n",
            "Epoch 47/100\n",
            "16592/16592 [==============================] - 5s 307us/step - loss: 0.1947 - acc: 0.9365 - f1_m: 0.9368 - precision_m: 0.9409 - recall_m: 0.9328 - val_loss: 0.4136 - val_acc: 0.8554 - val_f1_m: 0.8555 - val_precision_m: 0.8610 - val_recall_m: 0.8502\n",
            "Epoch 48/100\n",
            "16592/16592 [==============================] - 5s 299us/step - loss: 0.1908 - acc: 0.9365 - f1_m: 0.9364 - precision_m: 0.9403 - recall_m: 0.9326 - val_loss: 0.4112 - val_acc: 0.8556 - val_f1_m: 0.8563 - val_precision_m: 0.8606 - val_recall_m: 0.8521\n",
            "Epoch 49/100\n",
            "16592/16592 [==============================] - 5s 293us/step - loss: 0.1856 - acc: 0.9382 - f1_m: 0.9380 - precision_m: 0.9413 - recall_m: 0.9347 - val_loss: 0.4109 - val_acc: 0.8578 - val_f1_m: 0.8575 - val_precision_m: 0.8618 - val_recall_m: 0.8533\n",
            "Epoch 50/100\n",
            "16592/16592 [==============================] - 5s 293us/step - loss: 0.1786 - acc: 0.9400 - f1_m: 0.9400 - precision_m: 0.9436 - recall_m: 0.9366 - val_loss: 0.4101 - val_acc: 0.8575 - val_f1_m: 0.8584 - val_precision_m: 0.8626 - val_recall_m: 0.8542\n",
            "Epoch 51/100\n",
            "16592/16592 [==============================] - 5s 292us/step - loss: 0.1776 - acc: 0.9414 - f1_m: 0.9415 - precision_m: 0.9450 - recall_m: 0.9380 - val_loss: 0.4093 - val_acc: 0.8568 - val_f1_m: 0.8583 - val_precision_m: 0.8628 - val_recall_m: 0.8540\n",
            "Epoch 52/100\n",
            "16592/16592 [==============================] - 5s 292us/step - loss: 0.1703 - acc: 0.9446 - f1_m: 0.9448 - precision_m: 0.9478 - recall_m: 0.9418 - val_loss: 0.4087 - val_acc: 0.8582 - val_f1_m: 0.8600 - val_precision_m: 0.8646 - val_recall_m: 0.8554\n",
            "Epoch 53/100\n",
            "16592/16592 [==============================] - 5s 294us/step - loss: 0.1657 - acc: 0.9465 - f1_m: 0.9465 - precision_m: 0.9498 - recall_m: 0.9433 - val_loss: 0.4084 - val_acc: 0.8590 - val_f1_m: 0.8608 - val_precision_m: 0.8652 - val_recall_m: 0.8566\n",
            "Epoch 54/100\n",
            "16592/16592 [==============================] - 5s 290us/step - loss: 0.1600 - acc: 0.9477 - f1_m: 0.9484 - precision_m: 0.9516 - recall_m: 0.9453 - val_loss: 0.4096 - val_acc: 0.8573 - val_f1_m: 0.8593 - val_precision_m: 0.8637 - val_recall_m: 0.8549\n",
            "Epoch 00054: early stopping\n"
          ],
          "name": "stdout"
        },
        {
          "output_type": "display_data",
          "data": {
            "image/png": "[encoded data removed]",
            "text/plain": [
              "<Figure size 432x288 with 1 Axes>"
            ]
          },
          "metadata": {
            "tags": [],
            "needs_background": "light"
          }
        },
        {
          "output_type": "display_data",
          "data": {
            "image/png": "[encoded data removed]",
            "text/plain": [
              "<Figure size 432x288 with 1 Axes>"
            ]
          },
          "metadata": {
            "tags": [],
            "needs_background": "light"
          }
        },
        {
          "output_type": "stream",
          "text": [
            "#######################################################\n",
            "F1        : 0.8583707213401794\n",
            "Precision : 0.8629058003425598\n",
            "Recall    : 0.8540384769439697\n",
            "Accuracy  : 0.8572806119918823\n",
            "#######################################################\n"
          ],
          "name": "stdout"
        }
      ]
    },
    {
      "cell_type": "code",
      "metadata": {
        "id": "mflD7jBS_t-S",
        "colab_type": "code",
        "colab": {
          "base_uri": "https://localhost:8080/",
          "height": 1000
        },
        "outputId": "be8aa554-22ad-4f52-f602-266477d27f82"
      },
      "source": [
        "single_lstm(64, activation = 'tanh', \n",
        "            dropout = 0.2, \n",
        "            dense_actv ='softmax',\n",
        "            epochs =100,\n",
        "            X_train = X_train,\n",
        "            Y_train = Y_train,\n",
        "            X_test = X_test,\n",
        "            Y_test = Y_test)"
      ],
      "execution_count": null,
      "outputs": [
        {
          "output_type": "stream",
          "text": [
            "Model: \"sequential_1\"\n",
            "_________________________________________________________________\n",
            "Layer (type)                 Output Shape              Param #   \n",
            "=================================================================\n",
            "embedding_1 (Embedding)      (None, 12, 100)           1500000   \n",
            "_________________________________________________________________\n",
            "lstm_1 (LSTM)                (None, 64)                42240     \n",
            "_________________________________________________________________\n",
            "dense_1 (Dense)              (None, 3)                 195       \n",
            "=================================================================\n",
            "Total params: 1,542,435\n",
            "Trainable params: 1,542,435\n",
            "Non-trainable params: 0\n",
            "_________________________________________________________________\n"
          ],
          "name": "stdout"
        },
        {
          "output_type": "stream",
          "text": [
            "/usr/local/lib/python3.6/dist-packages/tensorflow/python/framework/indexed_slices.py:434: UserWarning:\n",
            "\n",
            "Converting sparse IndexedSlices to a dense Tensor of unknown shape. This may consume a large amount of memory.\n",
            "\n"
          ],
          "name": "stderr"
        },
        {
          "output_type": "stream",
          "text": [
            "Train on 16592 samples, validate on 4148 samples\n",
            "Epoch 1/100\n",
            "16592/16592 [==============================] - 10s 611us/step - loss: 1.0978 - acc: 0.3525 - f1_m: 0.0000e+00 - precision_m: 0.0000e+00 - recall_m: 0.0000e+00 - val_loss: 1.0967 - val_acc: 0.3616 - val_f1_m: 0.0000e+00 - val_precision_m: 0.0000e+00 - val_recall_m: 0.0000e+00\n",
            "Epoch 2/100\n",
            "16592/16592 [==============================] - 8s 484us/step - loss: 1.0960 - acc: 0.3597 - f1_m: 0.0000e+00 - precision_m: 0.0000e+00 - recall_m: 0.0000e+00 - val_loss: 1.0948 - val_acc: 0.3635 - val_f1_m: 0.0000e+00 - val_precision_m: 0.0000e+00 - val_recall_m: 0.0000e+00\n",
            "Epoch 3/100\n",
            "16592/16592 [==============================] - 8s 476us/step - loss: 1.0940 - acc: 0.3674 - f1_m: 0.0000e+00 - precision_m: 0.0000e+00 - recall_m: 0.0000e+00 - val_loss: 1.0928 - val_acc: 0.3703 - val_f1_m: 0.0000e+00 - val_precision_m: 0.0000e+00 - val_recall_m: 0.0000e+00\n",
            "Epoch 4/100\n",
            "16592/16592 [==============================] - 8s 478us/step - loss: 1.0916 - acc: 0.3782 - f1_m: 0.0000e+00 - precision_m: 0.0000e+00 - recall_m: 0.0000e+00 - val_loss: 1.0901 - val_acc: 0.3799 - val_f1_m: 0.0000e+00 - val_precision_m: 0.0000e+00 - val_recall_m: 0.0000e+00\n",
            "Epoch 5/100\n",
            "16592/16592 [==============================] - 8s 488us/step - loss: 1.0883 - acc: 0.3877 - f1_m: 0.0000e+00 - precision_m: 0.0000e+00 - recall_m: 0.0000e+00 - val_loss: 1.0865 - val_acc: 0.3903 - val_f1_m: 0.0000e+00 - val_precision_m: 0.0000e+00 - val_recall_m: 0.0000e+00\n",
            "Epoch 6/100\n",
            "16592/16592 [==============================] - 8s 479us/step - loss: 1.0838 - acc: 0.4022 - f1_m: 0.0000e+00 - precision_m: 0.0000e+00 - recall_m: 0.0000e+00 - val_loss: 1.0810 - val_acc: 0.4118 - val_f1_m: 0.0000e+00 - val_precision_m: 0.0000e+00 - val_recall_m: 0.0000e+00\n",
            "Epoch 7/100\n",
            "16592/16592 [==============================] - 8s 479us/step - loss: 1.0765 - acc: 0.4229 - f1_m: 0.0000e+00 - precision_m: 0.0000e+00 - recall_m: 0.0000e+00 - val_loss: 1.0720 - val_acc: 0.4327 - val_f1_m: 0.0000e+00 - val_precision_m: 0.0000e+00 - val_recall_m: 0.0000e+00\n",
            "Epoch 8/100\n",
            "16592/16592 [==============================] - 8s 485us/step - loss: 1.0644 - acc: 0.4551 - f1_m: 0.0000e+00 - precision_m: 0.0000e+00 - recall_m: 0.0000e+00 - val_loss: 1.0564 - val_acc: 0.4667 - val_f1_m: 0.0000e+00 - val_precision_m: 0.0000e+00 - val_recall_m: 0.0000e+00\n",
            "Epoch 9/100\n",
            "16592/16592 [==============================] - 8s 475us/step - loss: 1.0424 - acc: 0.4934 - f1_m: 1.1929e-04 - precision_m: 0.0060 - recall_m: 6.0241e-05 - val_loss: 1.0281 - val_acc: 0.5084 - val_f1_m: 0.0000e+00 - val_precision_m: 0.0000e+00 - val_recall_m: 0.0000e+00\n",
            "Epoch 10/100\n",
            "16592/16592 [==============================] - 8s 478us/step - loss: 1.0028 - acc: 0.5353 - f1_m: 0.0319 - precision_m: 0.4770 - recall_m: 0.0168 - val_loss: 0.9778 - val_acc: 0.5456 - val_f1_m: 0.1113 - val_precision_m: 0.8908 - val_recall_m: 0.0598\n",
            "Epoch 11/100\n",
            "16592/16592 [==============================] - 8s 483us/step - loss: 0.9379 - acc: 0.5756 - f1_m: 0.2888 - precision_m: 0.8268 - recall_m: 0.1820 - val_loss: 0.9022 - val_acc: 0.5798 - val_f1_m: 0.4361 - val_precision_m: 0.8012 - val_recall_m: 0.3008\n",
            "Epoch 12/100\n",
            "16592/16592 [==============================] - 8s 475us/step - loss: 0.8521 - acc: 0.6034 - f1_m: 0.5134 - precision_m: 0.7701 - recall_m: 0.3880 - val_loss: 0.8188 - val_acc: 0.6140 - val_f1_m: 0.5652 - val_precision_m: 0.7661 - val_recall_m: 0.4485\n",
            "Epoch 13/100\n",
            "16592/16592 [==============================] - 8s 475us/step - loss: 0.7706 - acc: 0.6304 - f1_m: 0.5964 - precision_m: 0.7549 - recall_m: 0.4944 - val_loss: 0.7508 - val_acc: 0.6434 - val_f1_m: 0.6098 - val_precision_m: 0.7503 - val_recall_m: 0.5142\n",
            "Epoch 14/100\n",
            "16592/16592 [==============================] - 8s 480us/step - loss: 0.7071 - acc: 0.6550 - f1_m: 0.6330 - precision_m: 0.7565 - recall_m: 0.5451 - val_loss: 0.7019 - val_acc: 0.6685 - val_f1_m: 0.6316 - val_precision_m: 0.7572 - val_recall_m: 0.5424\n",
            "Epoch 15/100\n",
            "16592/16592 [==============================] - 8s 471us/step - loss: 0.6596 - acc: 0.6824 - f1_m: 0.6521 - precision_m: 0.7669 - recall_m: 0.5680 - val_loss: 0.6656 - val_acc: 0.6885 - val_f1_m: 0.6467 - val_precision_m: 0.7664 - val_recall_m: 0.5600\n",
            "Epoch 16/100\n",
            "16592/16592 [==============================] - 8s 484us/step - loss: 0.6233 - acc: 0.7035 - f1_m: 0.6630 - precision_m: 0.7779 - recall_m: 0.5786 - val_loss: 0.6375 - val_acc: 0.7054 - val_f1_m: 0.6535 - val_precision_m: 0.7767 - val_recall_m: 0.5648\n",
            "Epoch 17/100\n",
            "16592/16592 [==============================] - 8s 479us/step - loss: 0.5917 - acc: 0.7296 - f1_m: 0.6764 - precision_m: 0.7971 - recall_m: 0.5884 - val_loss: 0.6138 - val_acc: 0.7223 - val_f1_m: 0.6596 - val_precision_m: 0.7878 - val_recall_m: 0.5681\n",
            "Epoch 18/100\n",
            "16592/16592 [==============================] - 8s 472us/step - loss: 0.5637 - acc: 0.7542 - f1_m: 0.6859 - precision_m: 0.8103 - recall_m: 0.5955 - val_loss: 0.5927 - val_acc: 0.7411 - val_f1_m: 0.6696 - val_precision_m: 0.8037 - val_recall_m: 0.5748\n",
            "Epoch 19/100\n",
            "16592/16592 [==============================] - 8s 476us/step - loss: 0.5375 - acc: 0.7754 - f1_m: 0.7098 - precision_m: 0.8226 - recall_m: 0.6250 - val_loss: 0.5734 - val_acc: 0.7531 - val_f1_m: 0.6988 - val_precision_m: 0.8082 - val_recall_m: 0.6165\n",
            "Epoch 20/100\n",
            "16592/16592 [==============================] - 8s 485us/step - loss: 0.5139 - acc: 0.7947 - f1_m: 0.7424 - precision_m: 0.8358 - recall_m: 0.6686 - val_loss: 0.5557 - val_acc: 0.7633 - val_f1_m: 0.7267 - val_precision_m: 0.8096 - val_recall_m: 0.6599\n",
            "Epoch 21/100\n",
            "16592/16592 [==============================] - 8s 485us/step - loss: 0.4867 - acc: 0.8094 - f1_m: 0.7769 - precision_m: 0.8472 - recall_m: 0.7180 - val_loss: 0.5386 - val_acc: 0.7743 - val_f1_m: 0.7526 - val_precision_m: 0.8167 - val_recall_m: 0.6985\n",
            "Epoch 22/100\n",
            "16592/16592 [==============================] - 8s 489us/step - loss: 0.4648 - acc: 0.8235 - f1_m: 0.7996 - precision_m: 0.8535 - recall_m: 0.7527 - val_loss: 0.5236 - val_acc: 0.7866 - val_f1_m: 0.7688 - val_precision_m: 0.8188 - val_recall_m: 0.7249\n",
            "Epoch 23/100\n",
            "16592/16592 [==============================] - 8s 479us/step - loss: 0.4448 - acc: 0.8327 - f1_m: 0.8152 - precision_m: 0.8580 - recall_m: 0.7770 - val_loss: 0.5105 - val_acc: 0.7941 - val_f1_m: 0.7832 - val_precision_m: 0.8244 - val_recall_m: 0.7462\n",
            "Epoch 24/100\n",
            "16592/16592 [==============================] - 8s 497us/step - loss: 0.4243 - acc: 0.8462 - f1_m: 0.8313 - precision_m: 0.8654 - recall_m: 0.8002 - val_loss: 0.4996 - val_acc: 0.8014 - val_f1_m: 0.7917 - val_precision_m: 0.8255 - val_recall_m: 0.7607\n",
            "Epoch 25/100\n",
            "16592/16592 [==============================] - 8s 491us/step - loss: 0.4068 - acc: 0.8532 - f1_m: 0.8419 - precision_m: 0.8707 - recall_m: 0.8152 - val_loss: 0.4910 - val_acc: 0.8028 - val_f1_m: 0.7953 - val_precision_m: 0.8238 - val_recall_m: 0.7688\n",
            "Epoch 26/100\n",
            "16592/16592 [==============================] - 8s 478us/step - loss: 0.3879 - acc: 0.8608 - f1_m: 0.8514 - precision_m: 0.8753 - recall_m: 0.8289 - val_loss: 0.4843 - val_acc: 0.8076 - val_f1_m: 0.7987 - val_precision_m: 0.8222 - val_recall_m: 0.7767\n",
            "Epoch 27/100\n",
            "16592/16592 [==============================] - 8s 477us/step - loss: 0.3770 - acc: 0.8657 - f1_m: 0.8574 - precision_m: 0.8780 - recall_m: 0.8379 - val_loss: 0.4788 - val_acc: 0.8091 - val_f1_m: 0.8030 - val_precision_m: 0.8244 - val_recall_m: 0.7829\n",
            "Epoch 28/100\n",
            "16592/16592 [==============================] - 8s 470us/step - loss: 0.3640 - acc: 0.8717 - f1_m: 0.8641 - precision_m: 0.8826 - recall_m: 0.8466 - val_loss: 0.4747 - val_acc: 0.8129 - val_f1_m: 0.8075 - val_precision_m: 0.8257 - val_recall_m: 0.7903\n",
            "Epoch 29/100\n",
            "16592/16592 [==============================] - 8s 468us/step - loss: 0.3548 - acc: 0.8744 - f1_m: 0.8685 - precision_m: 0.8847 - recall_m: 0.8529 - val_loss: 0.4712 - val_acc: 0.8165 - val_f1_m: 0.8112 - val_precision_m: 0.8279 - val_recall_m: 0.7953\n",
            "Epoch 30/100\n",
            "16592/16592 [==============================] - 8s 483us/step - loss: 0.3441 - acc: 0.8781 - f1_m: 0.8728 - precision_m: 0.8871 - recall_m: 0.8590 - val_loss: 0.4689 - val_acc: 0.8187 - val_f1_m: 0.8120 - val_precision_m: 0.8272 - val_recall_m: 0.7974\n",
            "Epoch 31/100\n",
            "16592/16592 [==============================] - 8s 475us/step - loss: 0.3324 - acc: 0.8835 - f1_m: 0.8806 - precision_m: 0.8932 - recall_m: 0.8684 - val_loss: 0.4669 - val_acc: 0.8187 - val_f1_m: 0.8154 - val_precision_m: 0.8274 - val_recall_m: 0.8038\n",
            "Epoch 32/100\n",
            "16592/16592 [==============================] - 8s 480us/step - loss: 0.3265 - acc: 0.8875 - f1_m: 0.8826 - precision_m: 0.8950 - recall_m: 0.8706 - val_loss: 0.4646 - val_acc: 0.8209 - val_f1_m: 0.8186 - val_precision_m: 0.8299 - val_recall_m: 0.8076\n",
            "Epoch 33/100\n",
            "16592/16592 [==============================] - 8s 476us/step - loss: 0.3175 - acc: 0.8904 - f1_m: 0.8872 - precision_m: 0.8981 - recall_m: 0.8766 - val_loss: 0.4632 - val_acc: 0.8230 - val_f1_m: 0.8199 - val_precision_m: 0.8307 - val_recall_m: 0.8095\n",
            "Epoch 34/100\n",
            "16592/16592 [==============================] - 8s 487us/step - loss: 0.3107 - acc: 0.8930 - f1_m: 0.8904 - precision_m: 0.9006 - recall_m: 0.8804 - val_loss: 0.4621 - val_acc: 0.8228 - val_f1_m: 0.8212 - val_precision_m: 0.8315 - val_recall_m: 0.8112\n",
            "Epoch 35/100\n",
            "16592/16592 [==============================] - 8s 482us/step - loss: 0.3045 - acc: 0.8965 - f1_m: 0.8930 - precision_m: 0.9029 - recall_m: 0.8833 - val_loss: 0.4609 - val_acc: 0.8221 - val_f1_m: 0.8210 - val_precision_m: 0.8308 - val_recall_m: 0.8115\n",
            "Epoch 36/100\n",
            "16592/16592 [==============================] - 8s 475us/step - loss: 0.2985 - acc: 0.8989 - f1_m: 0.8962 - precision_m: 0.9048 - recall_m: 0.8878 - val_loss: 0.4589 - val_acc: 0.8269 - val_f1_m: 0.8239 - val_precision_m: 0.8333 - val_recall_m: 0.8148\n",
            "Epoch 37/100\n",
            "16592/16592 [==============================] - 8s 486us/step - loss: 0.2887 - acc: 0.9025 - f1_m: 0.9001 - precision_m: 0.9087 - recall_m: 0.8918 - val_loss: 0.4586 - val_acc: 0.8267 - val_f1_m: 0.8247 - val_precision_m: 0.8327 - val_recall_m: 0.8170\n",
            "Epoch 38/100\n",
            "16592/16592 [==============================] - 8s 481us/step - loss: 0.2859 - acc: 0.9035 - f1_m: 0.9015 - precision_m: 0.9086 - recall_m: 0.8946 - val_loss: 0.4577 - val_acc: 0.8276 - val_f1_m: 0.8272 - val_precision_m: 0.8343 - val_recall_m: 0.8203\n",
            "Epoch 39/100\n",
            "16592/16592 [==============================] - 8s 504us/step - loss: 0.2789 - acc: 0.9068 - f1_m: 0.9051 - precision_m: 0.9119 - recall_m: 0.8984 - val_loss: 0.4566 - val_acc: 0.8300 - val_f1_m: 0.8282 - val_precision_m: 0.8346 - val_recall_m: 0.8220\n",
            "Epoch 40/100\n",
            "16592/16592 [==============================] - 8s 485us/step - loss: 0.2722 - acc: 0.9090 - f1_m: 0.9083 - precision_m: 0.9145 - recall_m: 0.9022 - val_loss: 0.4554 - val_acc: 0.8320 - val_f1_m: 0.8317 - val_precision_m: 0.8393 - val_recall_m: 0.8243\n",
            "Epoch 41/100\n",
            "16592/16592 [==============================] - 8s 482us/step - loss: 0.2692 - acc: 0.9115 - f1_m: 0.9104 - precision_m: 0.9157 - recall_m: 0.9052 - val_loss: 0.4551 - val_acc: 0.8315 - val_f1_m: 0.8315 - val_precision_m: 0.8371 - val_recall_m: 0.8260\n",
            "Epoch 42/100\n",
            "16592/16592 [==============================] - 8s 478us/step - loss: 0.2610 - acc: 0.9148 - f1_m: 0.9139 - precision_m: 0.9195 - recall_m: 0.9085 - val_loss: 0.4543 - val_acc: 0.8334 - val_f1_m: 0.8331 - val_precision_m: 0.8391 - val_recall_m: 0.8272\n",
            "Epoch 43/100\n",
            "16592/16592 [==============================] - 8s 483us/step - loss: 0.2584 - acc: 0.9166 - f1_m: 0.9155 - precision_m: 0.9203 - recall_m: 0.9109 - val_loss: 0.4540 - val_acc: 0.8353 - val_f1_m: 0.8340 - val_precision_m: 0.8397 - val_recall_m: 0.8284\n",
            "Epoch 44/100\n",
            "16592/16592 [==============================] - 8s 488us/step - loss: 0.2508 - acc: 0.9193 - f1_m: 0.9185 - precision_m: 0.9230 - recall_m: 0.9139 - val_loss: 0.4533 - val_acc: 0.8363 - val_f1_m: 0.8363 - val_precision_m: 0.8419 - val_recall_m: 0.8308\n",
            "Epoch 45/100\n",
            "16592/16592 [==============================] - 8s 484us/step - loss: 0.2454 - acc: 0.9202 - f1_m: 0.9197 - precision_m: 0.9241 - recall_m: 0.9155 - val_loss: 0.4537 - val_acc: 0.8370 - val_f1_m: 0.8372 - val_precision_m: 0.8423 - val_recall_m: 0.8322\n",
            "Epoch 00045: early stopping\n"
          ],
          "name": "stdout"
        },
        {
          "output_type": "display_data",
          "data": {
            "image/png": "[encoded data removed]",
            "text/plain": [
              "<Figure size 432x288 with 1 Axes>"
            ]
          },
          "metadata": {
            "tags": [],
            "needs_background": "light"
          }
        },
        {
          "output_type": "display_data",
          "data": {
            "image/png": "[encoded data removed]",
            "text/plain": [
              "<Figure size 432x288 with 1 Axes>"
            ]
          },
          "metadata": {
            "tags": [],
            "needs_background": "light"
          }
        },
        {
          "output_type": "stream",
          "text": [
            "#######################################################\n",
            "F1        : 0.8367220759391785\n",
            "Precision : 0.8418501615524292\n",
            "Recall    : 0.83182692527771\n",
            "Accuracy  : 0.8370298743247986\n",
            "#######################################################\n"
          ],
          "name": "stdout"
        }
      ]
    },
    {
      "cell_type": "code",
      "metadata": {
        "id": "mJ26BOM0AZz_",
        "colab_type": "code",
        "colab": {
          "base_uri": "https://localhost:8080/",
          "height": 1000
        },
        "outputId": "bc715e28-46d2-4c79-dc10-fc1e2d66c5f1"
      },
      "source": [
        "with tf.device('/device:GPU:0'):\n",
        "  \n",
        "  single_lstm(64, activation = 'tanh', \n",
        "              dropout = 0.2, \n",
        "              dense_actv ='softmax',\n",
        "              epochs =100,\n",
        "              X_train = X_train,\n",
        "              Y_train = Y_train,\n",
        "              X_test = X_test,\n",
        "              Y_test = Y_test)"
      ],
      "execution_count": null,
      "outputs": [
        {
          "output_type": "stream",
          "text": [
            "Model: \"sequential_15\"\n",
            "_________________________________________________________________\n",
            "Layer (type)                 Output Shape              Param #   \n",
            "=================================================================\n",
            "embedding_21 (Embedding)     (None, 12, 100)           1500000   \n",
            "_________________________________________________________________\n",
            "lstm_14 (LSTM)               (None, 64)                42240     \n",
            "_________________________________________________________________\n",
            "dense_52 (Dense)             (None, 3)                 195       \n",
            "=================================================================\n",
            "Total params: 1,542,435\n",
            "Trainable params: 1,542,435\n",
            "Non-trainable params: 0\n",
            "_________________________________________________________________\n",
            "Epoch 1/100\n",
            "146/146 [==============================] - 3s 21ms/step - loss: 1.0985 - acc: 0.3471 - f1_m: 0.0000e+00 - precision_m: 0.0000e+00 - recall_m: 0.0000e+00 - val_loss: 1.0975 - val_acc: 0.3587 - val_f1_m: 0.0000e+00 - val_precision_m: 0.0000e+00 - val_recall_m: 0.0000e+00\n",
            "Epoch 2/100\n",
            "146/146 [==============================] - 3s 18ms/step - loss: 1.0968 - acc: 0.3590 - f1_m: 0.0000e+00 - precision_m: 0.0000e+00 - recall_m: 0.0000e+00 - val_loss: 1.0958 - val_acc: 0.3688 - val_f1_m: 0.0000e+00 - val_precision_m: 0.0000e+00 - val_recall_m: 0.0000e+00\n",
            "Epoch 3/100\n",
            "146/146 [==============================] - 3s 18ms/step - loss: 1.0951 - acc: 0.3715 - f1_m: 0.0000e+00 - precision_m: 0.0000e+00 - recall_m: 0.0000e+00 - val_loss: 1.0940 - val_acc: 0.3831 - val_f1_m: 0.0000e+00 - val_precision_m: 0.0000e+00 - val_recall_m: 0.0000e+00\n",
            "Epoch 4/100\n",
            "146/146 [==============================] - 3s 17ms/step - loss: 1.0931 - acc: 0.3857 - f1_m: 0.0000e+00 - precision_m: 0.0000e+00 - recall_m: 0.0000e+00 - val_loss: 1.0919 - val_acc: 0.3932 - val_f1_m: 0.0000e+00 - val_precision_m: 0.0000e+00 - val_recall_m: 0.0000e+00\n",
            "Epoch 5/100\n",
            "146/146 [==============================] - 3s 18ms/step - loss: 1.0906 - acc: 0.3952 - f1_m: 0.0000e+00 - precision_m: 0.0000e+00 - recall_m: 0.0000e+00 - val_loss: 1.0891 - val_acc: 0.4086 - val_f1_m: 0.0000e+00 - val_precision_m: 0.0000e+00 - val_recall_m: 0.0000e+00\n",
            "Epoch 6/100\n",
            "146/146 [==============================] - 3s 18ms/step - loss: 1.0874 - acc: 0.4125 - f1_m: 0.0000e+00 - precision_m: 0.0000e+00 - recall_m: 0.0000e+00 - val_loss: 1.0852 - val_acc: 0.4250 - val_f1_m: 0.0000e+00 - val_precision_m: 0.0000e+00 - val_recall_m: 0.0000e+00\n",
            "Epoch 7/100\n",
            "146/146 [==============================] - 3s 18ms/step - loss: 1.0827 - acc: 0.4297 - f1_m: 0.0000e+00 - precision_m: 0.0000e+00 - recall_m: 0.0000e+00 - val_loss: 1.0797 - val_acc: 0.4445 - val_f1_m: 0.0000e+00 - val_precision_m: 0.0000e+00 - val_recall_m: 0.0000e+00\n",
            "Epoch 8/100\n",
            "146/146 [==============================] - 3s 18ms/step - loss: 1.0757 - acc: 0.4511 - f1_m: 0.0000e+00 - precision_m: 0.0000e+00 - recall_m: 0.0000e+00 - val_loss: 1.0712 - val_acc: 0.4670 - val_f1_m: 0.0000e+00 - val_precision_m: 0.0000e+00 - val_recall_m: 0.0000e+00\n",
            "Epoch 9/100\n",
            "146/146 [==============================] - 3s 18ms/step - loss: 1.0645 - acc: 0.4814 - f1_m: 0.0000e+00 - precision_m: 0.0000e+00 - recall_m: 0.0000e+00 - val_loss: 1.0572 - val_acc: 0.5004 - val_f1_m: 0.0000e+00 - val_precision_m: 0.0000e+00 - val_recall_m: 0.0000e+00\n",
            "Epoch 10/100\n",
            "146/146 [==============================] - 3s 18ms/step - loss: 1.0460 - acc: 0.5064 - f1_m: 0.0000e+00 - precision_m: 0.0000e+00 - recall_m: 0.0000e+00 - val_loss: 1.0338 - val_acc: 0.5344 - val_f1_m: 5.3519e-04 - val_precision_m: 0.0270 - val_recall_m: 2.7027e-04\n",
            "Epoch 11/100\n",
            "146/146 [==============================] - 3s 18ms/step - loss: 1.0145 - acc: 0.5469 - f1_m: 0.0226 - precision_m: 0.4550 - recall_m: 0.0118 - val_loss: 0.9947 - val_acc: 0.5714 - val_f1_m: 0.0633 - val_precision_m: 0.7813 - val_recall_m: 0.0333\n",
            "Epoch 12/100\n",
            "146/146 [==============================] - 3s 17ms/step - loss: 0.9639 - acc: 0.5907 - f1_m: 0.1838 - precision_m: 0.8605 - recall_m: 0.1051 - val_loss: 0.9347 - val_acc: 0.6156 - val_f1_m: 0.2881 - val_precision_m: 0.8692 - val_recall_m: 0.1739\n",
            "Epoch 13/100\n",
            "146/146 [==============================] - 3s 18ms/step - loss: 0.8902 - acc: 0.6220 - f1_m: 0.4114 - precision_m: 0.8343 - recall_m: 0.2767 - val_loss: 0.8560 - val_acc: 0.6389 - val_f1_m: 0.4908 - val_precision_m: 0.8172 - val_recall_m: 0.3517\n",
            "Epoch 14/100\n",
            "146/146 [==============================] - 3s 18ms/step - loss: 0.8068 - acc: 0.6453 - f1_m: 0.5471 - precision_m: 0.7968 - recall_m: 0.4188 - val_loss: 0.7785 - val_acc: 0.6570 - val_f1_m: 0.5769 - val_precision_m: 0.7868 - val_recall_m: 0.4562\n",
            "Epoch 15/100\n",
            "146/146 [==============================] - 3s 18ms/step - loss: 0.7308 - acc: 0.6653 - f1_m: 0.6081 - precision_m: 0.7778 - recall_m: 0.5006 - val_loss: 0.7171 - val_acc: 0.6699 - val_f1_m: 0.6166 - val_precision_m: 0.7720 - val_recall_m: 0.5139\n",
            "Epoch 16/100\n",
            "146/146 [==============================] - 3s 18ms/step - loss: 0.6721 - acc: 0.6878 - f1_m: 0.6374 - precision_m: 0.7760 - recall_m: 0.5420 - val_loss: 0.6737 - val_acc: 0.6833 - val_f1_m: 0.6344 - val_precision_m: 0.7676 - val_recall_m: 0.5413\n",
            "Epoch 17/100\n",
            "146/146 [==============================] - 3s 18ms/step - loss: 0.6290 - acc: 0.7095 - f1_m: 0.6517 - precision_m: 0.7828 - recall_m: 0.5593 - val_loss: 0.6411 - val_acc: 0.7011 - val_f1_m: 0.6457 - val_precision_m: 0.7749 - val_recall_m: 0.5543\n",
            "Epoch 18/100\n",
            "146/146 [==============================] - 3s 18ms/step - loss: 0.5934 - acc: 0.7320 - f1_m: 0.6647 - precision_m: 0.7959 - recall_m: 0.5716 - val_loss: 0.6148 - val_acc: 0.7118 - val_f1_m: 0.6560 - val_precision_m: 0.7833 - val_recall_m: 0.5650\n",
            "Epoch 19/100\n",
            "146/146 [==============================] - 3s 18ms/step - loss: 0.5631 - acc: 0.7503 - f1_m: 0.6934 - precision_m: 0.8080 - recall_m: 0.6081 - val_loss: 0.5923 - val_acc: 0.7327 - val_f1_m: 0.6903 - val_precision_m: 0.7949 - val_recall_m: 0.6108\n",
            "Epoch 20/100\n",
            "146/146 [==============================] - 3s 18ms/step - loss: 0.5363 - acc: 0.7698 - f1_m: 0.7326 - precision_m: 0.8221 - recall_m: 0.6613 - val_loss: 0.5726 - val_acc: 0.7428 - val_f1_m: 0.7162 - val_precision_m: 0.7960 - val_recall_m: 0.6516\n",
            "Epoch 21/100\n",
            "146/146 [==============================] - 3s 18ms/step - loss: 0.5129 - acc: 0.7870 - f1_m: 0.7592 - precision_m: 0.8272 - recall_m: 0.7020 - val_loss: 0.5546 - val_acc: 0.7614 - val_f1_m: 0.7377 - val_precision_m: 0.7994 - val_recall_m: 0.6854\n",
            "Epoch 22/100\n",
            "146/146 [==============================] - 3s 18ms/step - loss: 0.4890 - acc: 0.8046 - f1_m: 0.7831 - precision_m: 0.8367 - recall_m: 0.7366 - val_loss: 0.5390 - val_acc: 0.7705 - val_f1_m: 0.7558 - val_precision_m: 0.8049 - val_recall_m: 0.7128\n",
            "Epoch 23/100\n",
            "146/146 [==============================] - 3s 18ms/step - loss: 0.4667 - acc: 0.8143 - f1_m: 0.7995 - precision_m: 0.8450 - recall_m: 0.7592 - val_loss: 0.5251 - val_acc: 0.7823 - val_f1_m: 0.7678 - val_precision_m: 0.8094 - val_recall_m: 0.7307\n",
            "Epoch 24/100\n",
            "146/146 [==============================] - 3s 18ms/step - loss: 0.4508 - acc: 0.8257 - f1_m: 0.8121 - precision_m: 0.8481 - recall_m: 0.7794 - val_loss: 0.5133 - val_acc: 0.7900 - val_f1_m: 0.7772 - val_precision_m: 0.8128 - val_recall_m: 0.7448\n",
            "Epoch 25/100\n",
            "146/146 [==============================] - 3s 17ms/step - loss: 0.4298 - acc: 0.8355 - f1_m: 0.8258 - precision_m: 0.8553 - recall_m: 0.7984 - val_loss: 0.5042 - val_acc: 0.7952 - val_f1_m: 0.7854 - val_precision_m: 0.8141 - val_recall_m: 0.7589\n",
            "Epoch 26/100\n",
            "146/146 [==============================] - 3s 17ms/step - loss: 0.4154 - acc: 0.8388 - f1_m: 0.8306 - precision_m: 0.8577 - recall_m: 0.8054 - val_loss: 0.4953 - val_acc: 0.8015 - val_f1_m: 0.7922 - val_precision_m: 0.8172 - val_recall_m: 0.7689\n",
            "Epoch 27/100\n",
            "146/146 [==============================] - 3s 17ms/step - loss: 0.4046 - acc: 0.8460 - f1_m: 0.8378 - precision_m: 0.8603 - recall_m: 0.8167 - val_loss: 0.4886 - val_acc: 0.8042 - val_f1_m: 0.7970 - val_precision_m: 0.8182 - val_recall_m: 0.7770\n",
            "Epoch 28/100\n",
            "146/146 [==============================] - 3s 18ms/step - loss: 0.3910 - acc: 0.8528 - f1_m: 0.8463 - precision_m: 0.8657 - recall_m: 0.8278 - val_loss: 0.4830 - val_acc: 0.8119 - val_f1_m: 0.8040 - val_precision_m: 0.8237 - val_recall_m: 0.7854\n",
            "Epoch 29/100\n",
            "146/146 [==============================] - 3s 17ms/step - loss: 0.3796 - acc: 0.8593 - f1_m: 0.8519 - precision_m: 0.8714 - recall_m: 0.8335 - val_loss: 0.4780 - val_acc: 0.8116 - val_f1_m: 0.8048 - val_precision_m: 0.8241 - val_recall_m: 0.7865\n",
            "Epoch 30/100\n",
            "146/146 [==============================] - 3s 17ms/step - loss: 0.3671 - acc: 0.8652 - f1_m: 0.8592 - precision_m: 0.8769 - recall_m: 0.8423 - val_loss: 0.4742 - val_acc: 0.8135 - val_f1_m: 0.8056 - val_precision_m: 0.8229 - val_recall_m: 0.7892\n",
            "Epoch 31/100\n",
            "146/146 [==============================] - 3s 17ms/step - loss: 0.3588 - acc: 0.8689 - f1_m: 0.8633 - precision_m: 0.8791 - recall_m: 0.8481 - val_loss: 0.4711 - val_acc: 0.8179 - val_f1_m: 0.8095 - val_precision_m: 0.8252 - val_recall_m: 0.7946\n",
            "Epoch 32/100\n",
            "146/146 [==============================] - 3s 18ms/step - loss: 0.3544 - acc: 0.8682 - f1_m: 0.8632 - precision_m: 0.8783 - recall_m: 0.8488 - val_loss: 0.4671 - val_acc: 0.8174 - val_f1_m: 0.8108 - val_precision_m: 0.8268 - val_recall_m: 0.7957\n",
            "Epoch 33/100\n",
            "146/146 [==============================] - 3s 18ms/step - loss: 0.3402 - acc: 0.8777 - f1_m: 0.8734 - precision_m: 0.8875 - recall_m: 0.8598 - val_loss: 0.4646 - val_acc: 0.8190 - val_f1_m: 0.8132 - val_precision_m: 0.8279 - val_recall_m: 0.7992\n",
            "Epoch 34/100\n",
            "146/146 [==============================] - 3s 18ms/step - loss: 0.3340 - acc: 0.8810 - f1_m: 0.8759 - precision_m: 0.8891 - recall_m: 0.8632 - val_loss: 0.4626 - val_acc: 0.8218 - val_f1_m: 0.8162 - val_precision_m: 0.8292 - val_recall_m: 0.8038\n",
            "Epoch 35/100\n",
            "146/146 [==============================] - 3s 18ms/step - loss: 0.3261 - acc: 0.8837 - f1_m: 0.8788 - precision_m: 0.8916 - recall_m: 0.8665 - val_loss: 0.4611 - val_acc: 0.8226 - val_f1_m: 0.8173 - val_precision_m: 0.8297 - val_recall_m: 0.8055\n",
            "Epoch 36/100\n",
            "146/146 [==============================] - 3s 18ms/step - loss: 0.3189 - acc: 0.8843 - f1_m: 0.8797 - precision_m: 0.8912 - recall_m: 0.8687 - val_loss: 0.4591 - val_acc: 0.8231 - val_f1_m: 0.8192 - val_precision_m: 0.8312 - val_recall_m: 0.8077\n",
            "Epoch 37/100\n",
            "146/146 [==============================] - 3s 18ms/step - loss: 0.3117 - acc: 0.8903 - f1_m: 0.8852 - precision_m: 0.8967 - recall_m: 0.8741 - val_loss: 0.4579 - val_acc: 0.8242 - val_f1_m: 0.8209 - val_precision_m: 0.8324 - val_recall_m: 0.8099\n",
            "Epoch 38/100\n",
            "146/146 [==============================] - 3s 17ms/step - loss: 0.3090 - acc: 0.8894 - f1_m: 0.8855 - precision_m: 0.8964 - recall_m: 0.8750 - val_loss: 0.4558 - val_acc: 0.8262 - val_f1_m: 0.8222 - val_precision_m: 0.8342 - val_recall_m: 0.8107\n",
            "Epoch 39/100\n",
            "146/146 [==============================] - 3s 17ms/step - loss: 0.2985 - acc: 0.8955 - f1_m: 0.8910 - precision_m: 0.9006 - recall_m: 0.8816 - val_loss: 0.4547 - val_acc: 0.8275 - val_f1_m: 0.8236 - val_precision_m: 0.8351 - val_recall_m: 0.8126\n",
            "Epoch 40/100\n",
            "146/146 [==============================] - 3s 18ms/step - loss: 0.2934 - acc: 0.8974 - f1_m: 0.8942 - precision_m: 0.9042 - recall_m: 0.8845 - val_loss: 0.4543 - val_acc: 0.8292 - val_f1_m: 0.8247 - val_precision_m: 0.8354 - val_recall_m: 0.8145\n",
            "Epoch 41/100\n",
            "146/146 [==============================] - 3s 18ms/step - loss: 0.2854 - acc: 0.9033 - f1_m: 0.9004 - precision_m: 0.9094 - recall_m: 0.8918 - val_loss: 0.4537 - val_acc: 0.8294 - val_f1_m: 0.8258 - val_precision_m: 0.8358 - val_recall_m: 0.8161\n",
            "Epoch 42/100\n",
            "146/146 [==============================] - 3s 17ms/step - loss: 0.2819 - acc: 0.9034 - f1_m: 0.8996 - precision_m: 0.9083 - recall_m: 0.8912 - val_loss: 0.4533 - val_acc: 0.8292 - val_f1_m: 0.8269 - val_precision_m: 0.8365 - val_recall_m: 0.8175\n",
            "Epoch 43/100\n",
            "146/146 [==============================] - 3s 18ms/step - loss: 0.2747 - acc: 0.9038 - f1_m: 0.9020 - precision_m: 0.9094 - recall_m: 0.8947 - val_loss: 0.4533 - val_acc: 0.8305 - val_f1_m: 0.8281 - val_precision_m: 0.8367 - val_recall_m: 0.8197\n",
            "Epoch 00043: early stopping\n"
          ],
          "name": "stdout"
        },
        {
          "output_type": "display_data",
          "data": {
            "image/png": "[encoded data removed]",
            "text/plain": [
              "<Figure size 432x288 with 1 Axes>"
            ]
          },
          "metadata": {
            "tags": [],
            "needs_background": "light"
          }
        },
        {
          "output_type": "display_data",
          "data": {
            "image/png": "[encoded data removed]",
            "text/plain": [
              "<Figure size 432x288 with 1 Axes>"
            ]
          },
          "metadata": {
            "tags": [],
            "needs_background": "light"
          }
        },
        {
          "output_type": "stream",
          "text": [
            "#######################################################\n",
            "F1        : 0.8285017013549805\n",
            "Precision : 0.8373762965202332\n",
            "Recall    : 0.820104718208313\n",
            "Accuracy  : 0.8305456638336182\n",
            "#######################################################\n",
            "#######################################################\n",
            "F1        : 0.8118409514427185\n",
            "Precision : 0.8185741901397705\n",
            "Recall    : 0.8054315447807312\n",
            "Accuracy  : 0.8183632493019104\n",
            "#######################################################\n",
            "#######################################################\n",
            "F1        : 0.8004471659660339\n",
            "Precision : 0.8074524402618408\n",
            "Recall    : 0.7938057780265808\n",
            "Accuracy  : 0.8003991842269897\n",
            "#######################################################\n",
            "#######################################################\n",
            "F1        : 0.8163231611251831\n",
            "Precision : 0.8235940933227539\n",
            "Recall    : 0.8094307780265808\n",
            "Accuracy  : 0.8183632493019104\n",
            "#######################################################\n",
            "#######################################################\n",
            "F1        : 0.8336535096168518\n",
            "Precision : 0.8396860361099243\n",
            "Recall    : 0.8280320167541504\n",
            "Accuracy  : 0.8303393125534058\n",
            "#######################################################\n",
            "#######################################################\n",
            "F1        : 0.8389896750450134\n",
            "Precision : 0.8463662266731262\n",
            "Recall    : 0.8319382667541504\n",
            "Accuracy  : 0.8403193354606628\n",
            "#######################################################\n"
          ],
          "name": "stdout"
        }
      ]
    },
    {
      "cell_type": "markdown",
      "metadata": {
        "id": "kXRX_WUd1E4J",
        "colab_type": "text"
      },
      "source": [
        "## Model 2 double layer LSTM "
      ]
    },
    {
      "cell_type": "code",
      "metadata": {
        "id": "z_qdIz8004wt",
        "colab_type": "code",
        "colab": {}
      },
      "source": [
        "def double_lstm(nodes, **kwargs):\n",
        "  #as declared above earlier\n",
        "  MAX_NB_WORDS = 15000\n",
        "  EMBEDDING_DIM = 100\n",
        "  MAX_SEQ_LENGTH = 12\n",
        "  with tf.device('/device:GPU:0'):\n",
        "    model_d = Sequential()\n",
        "\n",
        "    model_d.add(Embedding(MAX_NB_WORDS, EMBEDDING_DIM, input_length=MAX_SEQ_LENGTH))\n",
        "    model_d.add(LSTM(nodes, activation=  kwargs.get('activation'), dropout=  kwargs.get('dropout'), return_sequences=True ))\n",
        "    model_d.add(LSTM(32, activation=  kwargs.get('activation'), dropout=  kwargs.get('dropout') ))\n",
        "    #model_d.add(Dense(30,activation= kwargs.get('dense_actv')))\n",
        "    model_d.add(Dense(3, activation= kwargs.get('dense_actv')))\n",
        "\n",
        "    optimizer = Adam(learning_rate=1e-5)\n",
        "    es = EarlyStopping(monitor='val_loss', mode='min', verbose=1)\n",
        "    model_d.compile(loss=\"categorical_crossentropy\", optimizer=optimizer,metrics=['acc',f1_m,precision_m, recall_m])\n",
        "    model_d.summary()\n",
        "    history = model_d.fit(kwargs.get('X_train'), \n",
        "                        kwargs.get('Y_train'), \n",
        "                        epochs= kwargs.get('epochs'), \n",
        "                        callbacks=[es],\n",
        "                        batch_size = 100,\n",
        "                        validation_data=(kwargs.get('X_test'), kwargs.get('Y_test')),)\n",
        "    display_history_loss(history, \"double_lstm\")\n",
        "    plot_graphs(history, \"acc\")\n",
        "    custom_evaluate(model_d, X_test, Y_test)\n",
        "    custom_evaluate(model_d, X1_test, Y1_test)\n",
        "    custom_evaluate(model_d, X2_test, Y2_test)\n",
        "    custom_evaluate(model_d, X3_test, Y3_test)\n",
        "    custom_evaluate(model_d, X4_test, Y4_test)\n",
        "    custom_evaluate(model_d, X5_test, Y5_test)\n",
        "   \n",
        "\n",
        "    #loss, acc, f1_score, precision, recall = model.evaluate(X_test, Y_test,  verbose=0 )\n",
        "    #print_stats(f1_score, precision, recall, acc)\n",
        "    \n"
      ],
      "execution_count": null,
      "outputs": []
    },
    {
      "cell_type": "markdown",
      "metadata": {
        "id": "wfyiGpoWDc_V",
        "colab_type": "text"
      },
      "source": [
        "### Result"
      ]
    },
    {
      "cell_type": "code",
      "metadata": {
        "id": "dFJ5Y-WHGlcb",
        "colab_type": "code",
        "colab": {
          "base_uri": "https://localhost:8080/",
          "height": 1000
        },
        "outputId": "b1b241af-625a-43e0-f1c9-37c16a4a1e71"
      },
      "source": [
        "double_lstm(32, activation = 'tanh',  \n",
        "            dense_actv ='softmax',\n",
        "            epochs =100, \n",
        "            dropout=0.2,\n",
        "            X_train = X_train,\n",
        "            Y_train = Y_train,\n",
        "            X_test = X_test,\n",
        "            Y_test = Y_test)"
      ],
      "execution_count": null,
      "outputs": [
        {
          "output_type": "stream",
          "text": [
            "Model: \"sequential_16\"\n",
            "_________________________________________________________________\n",
            "Layer (type)                 Output Shape              Param #   \n",
            "=================================================================\n",
            "embedding_22 (Embedding)     (None, 12, 100)           1500000   \n",
            "_________________________________________________________________\n",
            "lstm_15 (LSTM)               (None, 12, 32)            17024     \n",
            "_________________________________________________________________\n",
            "lstm_16 (LSTM)               (None, 32)                8320      \n",
            "_________________________________________________________________\n",
            "dense_53 (Dense)             (None, 3)                 99        \n",
            "=================================================================\n",
            "Total params: 1,525,443\n",
            "Trainable params: 1,525,443\n",
            "Non-trainable params: 0\n",
            "_________________________________________________________________\n",
            "Epoch 1/100\n",
            "146/146 [==============================] - 4s 25ms/step - loss: 1.0980 - acc: 0.3682 - f1_m: 0.0000e+00 - precision_m: 0.0000e+00 - recall_m: 0.0000e+00 - val_loss: 1.0972 - val_acc: 0.4110 - val_f1_m: 0.0000e+00 - val_precision_m: 0.0000e+00 - val_recall_m: 0.0000e+00\n",
            "Epoch 2/100\n",
            "146/146 [==============================] - 3s 19ms/step - loss: 1.0964 - acc: 0.4142 - f1_m: 0.0000e+00 - precision_m: 0.0000e+00 - recall_m: 0.0000e+00 - val_loss: 1.0955 - val_acc: 0.4469 - val_f1_m: 0.0000e+00 - val_precision_m: 0.0000e+00 - val_recall_m: 0.0000e+00\n",
            "Epoch 3/100\n",
            "146/146 [==============================] - 3s 20ms/step - loss: 1.0946 - acc: 0.4443 - f1_m: 0.0000e+00 - precision_m: 0.0000e+00 - recall_m: 0.0000e+00 - val_loss: 1.0935 - val_acc: 0.4897 - val_f1_m: 0.0000e+00 - val_precision_m: 0.0000e+00 - val_recall_m: 0.0000e+00\n",
            "Epoch 4/100\n",
            "146/146 [==============================] - 3s 19ms/step - loss: 1.0922 - acc: 0.4826 - f1_m: 0.0000e+00 - precision_m: 0.0000e+00 - recall_m: 0.0000e+00 - val_loss: 1.0910 - val_acc: 0.5210 - val_f1_m: 0.0000e+00 - val_precision_m: 0.0000e+00 - val_recall_m: 0.0000e+00\n",
            "Epoch 5/100\n",
            "146/146 [==============================] - 3s 19ms/step - loss: 1.0892 - acc: 0.5027 - f1_m: 0.0000e+00 - precision_m: 0.0000e+00 - recall_m: 0.0000e+00 - val_loss: 1.0875 - val_acc: 0.5459 - val_f1_m: 0.0000e+00 - val_precision_m: 0.0000e+00 - val_recall_m: 0.0000e+00\n",
            "Epoch 6/100\n",
            "146/146 [==============================] - 3s 19ms/step - loss: 1.0850 - acc: 0.5257 - f1_m: 0.0000e+00 - precision_m: 0.0000e+00 - recall_m: 0.0000e+00 - val_loss: 1.0825 - val_acc: 0.5714 - val_f1_m: 0.0000e+00 - val_precision_m: 0.0000e+00 - val_recall_m: 0.0000e+00\n",
            "Epoch 7/100\n",
            "146/146 [==============================] - 3s 19ms/step - loss: 1.0789 - acc: 0.5559 - f1_m: 0.0000e+00 - precision_m: 0.0000e+00 - recall_m: 0.0000e+00 - val_loss: 1.0754 - val_acc: 0.5931 - val_f1_m: 0.0000e+00 - val_precision_m: 0.0000e+00 - val_recall_m: 0.0000e+00\n",
            "Epoch 8/100\n",
            "146/146 [==============================] - 3s 19ms/step - loss: 1.0704 - acc: 0.5786 - f1_m: 0.0000e+00 - precision_m: 0.0000e+00 - recall_m: 0.0000e+00 - val_loss: 1.0653 - val_acc: 0.6126 - val_f1_m: 0.0000e+00 - val_precision_m: 0.0000e+00 - val_recall_m: 0.0000e+00\n",
            "Epoch 9/100\n",
            "146/146 [==============================] - 3s 20ms/step - loss: 1.0579 - acc: 0.5906 - f1_m: 0.0000e+00 - precision_m: 0.0000e+00 - recall_m: 0.0000e+00 - val_loss: 1.0510 - val_acc: 0.6238 - val_f1_m: 0.0000e+00 - val_precision_m: 0.0000e+00 - val_recall_m: 0.0000e+00\n",
            "Epoch 10/100\n",
            "146/146 [==============================] - 3s 19ms/step - loss: 1.0407 - acc: 0.6023 - f1_m: 0.0000e+00 - precision_m: 0.0000e+00 - recall_m: 0.0000e+00 - val_loss: 1.0313 - val_acc: 0.6211 - val_f1_m: 0.0000e+00 - val_precision_m: 0.0000e+00 - val_recall_m: 0.0000e+00\n",
            "Epoch 11/100\n",
            "146/146 [==============================] - 3s 19ms/step - loss: 1.0175 - acc: 0.6193 - f1_m: 0.0012 - precision_m: 0.0548 - recall_m: 6.1644e-04 - val_loss: 1.0059 - val_acc: 0.6183 - val_f1_m: 0.0027 - val_precision_m: 0.1351 - val_recall_m: 0.0014\n",
            "Epoch 12/100\n",
            "146/146 [==============================] - 3s 19ms/step - loss: 0.9887 - acc: 0.6049 - f1_m: 0.0350 - precision_m: 0.7182 - recall_m: 0.0181 - val_loss: 0.9745 - val_acc: 0.6043 - val_f1_m: 0.0890 - val_precision_m: 0.9595 - val_recall_m: 0.0470\n",
            "Epoch 13/100\n",
            "146/146 [==============================] - 3s 19ms/step - loss: 0.9538 - acc: 0.6026 - f1_m: 0.1560 - precision_m: 0.9678 - recall_m: 0.0861 - val_loss: 0.9378 - val_acc: 0.6084 - val_f1_m: 0.2306 - val_precision_m: 0.9210 - val_recall_m: 0.1331\n",
            "Epoch 14/100\n",
            "146/146 [==============================] - 3s 19ms/step - loss: 0.9126 - acc: 0.6030 - f1_m: 0.2899 - precision_m: 0.9085 - recall_m: 0.1748 - val_loss: 0.8975 - val_acc: 0.6150 - val_f1_m: 0.3462 - val_precision_m: 0.8608 - val_recall_m: 0.2176\n",
            "Epoch 15/100\n",
            "146/146 [==============================] - 3s 19ms/step - loss: 0.8690 - acc: 0.6183 - f1_m: 0.4124 - precision_m: 0.8506 - recall_m: 0.2749 - val_loss: 0.8560 - val_acc: 0.6238 - val_f1_m: 0.4605 - val_precision_m: 0.8264 - val_recall_m: 0.3205\n",
            "Epoch 16/100\n",
            "146/146 [==============================] - 3s 20ms/step - loss: 0.8248 - acc: 0.6309 - f1_m: 0.5045 - precision_m: 0.8126 - recall_m: 0.3680 - val_loss: 0.8150 - val_acc: 0.6353 - val_f1_m: 0.5289 - val_precision_m: 0.7989 - val_recall_m: 0.3963\n",
            "Epoch 17/100\n",
            "146/146 [==============================] - 3s 19ms/step - loss: 0.7817 - acc: 0.6431 - f1_m: 0.5656 - precision_m: 0.7975 - recall_m: 0.4396 - val_loss: 0.7768 - val_acc: 0.6512 - val_f1_m: 0.5796 - val_precision_m: 0.7915 - val_recall_m: 0.4580\n",
            "Epoch 18/100\n",
            "146/146 [==============================] - 3s 19ms/step - loss: 0.7399 - acc: 0.6614 - f1_m: 0.6020 - precision_m: 0.7889 - recall_m: 0.4880 - val_loss: 0.7420 - val_acc: 0.6688 - val_f1_m: 0.6103 - val_precision_m: 0.7852 - val_recall_m: 0.4999\n",
            "Epoch 19/100\n",
            "146/146 [==============================] - 3s 20ms/step - loss: 0.7037 - acc: 0.6821 - f1_m: 0.6238 - precision_m: 0.7821 - recall_m: 0.5202 - val_loss: 0.7113 - val_acc: 0.6904 - val_f1_m: 0.6281 - val_precision_m: 0.7843 - val_recall_m: 0.5245\n",
            "Epoch 20/100\n",
            "146/146 [==============================] - 3s 20ms/step - loss: 0.6713 - acc: 0.7006 - f1_m: 0.6418 - precision_m: 0.7904 - recall_m: 0.5413 - val_loss: 0.6842 - val_acc: 0.7052 - val_f1_m: 0.6388 - val_precision_m: 0.7866 - val_recall_m: 0.5386\n",
            "Epoch 21/100\n",
            "146/146 [==============================] - 3s 19ms/step - loss: 0.6413 - acc: 0.7237 - f1_m: 0.6549 - precision_m: 0.7941 - recall_m: 0.5586 - val_loss: 0.6597 - val_acc: 0.7291 - val_f1_m: 0.6486 - val_precision_m: 0.7931 - val_recall_m: 0.5494\n",
            "Epoch 22/100\n",
            "146/146 [==============================] - 3s 20ms/step - loss: 0.6121 - acc: 0.7478 - f1_m: 0.6684 - precision_m: 0.8083 - recall_m: 0.5707 - val_loss: 0.6365 - val_acc: 0.7535 - val_f1_m: 0.6635 - val_precision_m: 0.8010 - val_recall_m: 0.5670\n",
            "Epoch 23/100\n",
            "146/146 [==============================] - 3s 20ms/step - loss: 0.5856 - acc: 0.7725 - f1_m: 0.6928 - precision_m: 0.8276 - recall_m: 0.5967 - val_loss: 0.6145 - val_acc: 0.7699 - val_f1_m: 0.6950 - val_precision_m: 0.8224 - val_recall_m: 0.6024\n",
            "Epoch 24/100\n",
            "146/146 [==============================] - 3s 20ms/step - loss: 0.5577 - acc: 0.7985 - f1_m: 0.7346 - precision_m: 0.8513 - recall_m: 0.6470 - val_loss: 0.5922 - val_acc: 0.7878 - val_f1_m: 0.7380 - val_precision_m: 0.8471 - val_recall_m: 0.6544\n",
            "Epoch 25/100\n",
            "146/146 [==============================] - 3s 20ms/step - loss: 0.5311 - acc: 0.8166 - f1_m: 0.7741 - precision_m: 0.8693 - recall_m: 0.6986 - val_loss: 0.5699 - val_acc: 0.8056 - val_f1_m: 0.7714 - val_precision_m: 0.8565 - val_recall_m: 0.7026\n",
            "Epoch 26/100\n",
            "146/146 [==============================] - 3s 20ms/step - loss: 0.5043 - acc: 0.8348 - f1_m: 0.8081 - precision_m: 0.8771 - recall_m: 0.7498 - val_loss: 0.5480 - val_acc: 0.8146 - val_f1_m: 0.7916 - val_precision_m: 0.8576 - val_recall_m: 0.7356\n",
            "Epoch 27/100\n",
            "146/146 [==============================] - 3s 20ms/step - loss: 0.4768 - acc: 0.8495 - f1_m: 0.8337 - precision_m: 0.8854 - recall_m: 0.7882 - val_loss: 0.5268 - val_acc: 0.8212 - val_f1_m: 0.8073 - val_precision_m: 0.8598 - val_recall_m: 0.7613\n",
            "Epoch 28/100\n",
            "146/146 [==============================] - 3s 19ms/step - loss: 0.4516 - acc: 0.8576 - f1_m: 0.8492 - precision_m: 0.8896 - recall_m: 0.8127 - val_loss: 0.5069 - val_acc: 0.8284 - val_f1_m: 0.8158 - val_precision_m: 0.8583 - val_recall_m: 0.7776\n",
            "Epoch 29/100\n",
            "146/146 [==============================] - 3s 19ms/step - loss: 0.4266 - acc: 0.8670 - f1_m: 0.8624 - precision_m: 0.8934 - recall_m: 0.8338 - val_loss: 0.4880 - val_acc: 0.8347 - val_f1_m: 0.8236 - val_precision_m: 0.8595 - val_recall_m: 0.7909\n",
            "Epoch 30/100\n",
            "146/146 [==============================] - 3s 19ms/step - loss: 0.4031 - acc: 0.8740 - f1_m: 0.8702 - precision_m: 0.8974 - recall_m: 0.8450 - val_loss: 0.4707 - val_acc: 0.8382 - val_f1_m: 0.8310 - val_precision_m: 0.8613 - val_recall_m: 0.8031\n",
            "Epoch 31/100\n",
            "146/146 [==============================] - 3s 20ms/step - loss: 0.3822 - acc: 0.8794 - f1_m: 0.8776 - precision_m: 0.8980 - recall_m: 0.8583 - val_loss: 0.4546 - val_acc: 0.8426 - val_f1_m: 0.8379 - val_precision_m: 0.8635 - val_recall_m: 0.8140\n",
            "Epoch 32/100\n",
            "146/146 [==============================] - 3s 19ms/step - loss: 0.3605 - acc: 0.8881 - f1_m: 0.8867 - precision_m: 0.9054 - recall_m: 0.8689 - val_loss: 0.4403 - val_acc: 0.8451 - val_f1_m: 0.8432 - val_precision_m: 0.8651 - val_recall_m: 0.8226\n",
            "Epoch 33/100\n",
            "146/146 [==============================] - 3s 19ms/step - loss: 0.3421 - acc: 0.8943 - f1_m: 0.8919 - precision_m: 0.9075 - recall_m: 0.8770 - val_loss: 0.4274 - val_acc: 0.8475 - val_f1_m: 0.8468 - val_precision_m: 0.8664 - val_recall_m: 0.8283\n",
            "Epoch 34/100\n",
            "146/146 [==============================] - 3s 19ms/step - loss: 0.3245 - acc: 0.8986 - f1_m: 0.8976 - precision_m: 0.9115 - recall_m: 0.8843 - val_loss: 0.4154 - val_acc: 0.8506 - val_f1_m: 0.8514 - val_precision_m: 0.8707 - val_recall_m: 0.8332\n",
            "Epoch 35/100\n",
            "146/146 [==============================] - 3s 20ms/step - loss: 0.3064 - acc: 0.9053 - f1_m: 0.9044 - precision_m: 0.9169 - recall_m: 0.8923 - val_loss: 0.4053 - val_acc: 0.8566 - val_f1_m: 0.8557 - val_precision_m: 0.8748 - val_recall_m: 0.8377\n",
            "Epoch 36/100\n",
            "146/146 [==============================] - 3s 19ms/step - loss: 0.2919 - acc: 0.9089 - f1_m: 0.9082 - precision_m: 0.9191 - recall_m: 0.8976 - val_loss: 0.3957 - val_acc: 0.8588 - val_f1_m: 0.8597 - val_precision_m: 0.8759 - val_recall_m: 0.8443\n",
            "Epoch 37/100\n",
            "146/146 [==============================] - 3s 19ms/step - loss: 0.2796 - acc: 0.9136 - f1_m: 0.9125 - precision_m: 0.9223 - recall_m: 0.9029 - val_loss: 0.3872 - val_acc: 0.8604 - val_f1_m: 0.8617 - val_precision_m: 0.8766 - val_recall_m: 0.8473\n",
            "Epoch 38/100\n",
            "146/146 [==============================] - 3s 19ms/step - loss: 0.2669 - acc: 0.9158 - f1_m: 0.9156 - precision_m: 0.9244 - recall_m: 0.9071 - val_loss: 0.3797 - val_acc: 0.8621 - val_f1_m: 0.8639 - val_precision_m: 0.8773 - val_recall_m: 0.8511\n",
            "Epoch 39/100\n",
            "146/146 [==============================] - 3s 19ms/step - loss: 0.2543 - acc: 0.9218 - f1_m: 0.9212 - precision_m: 0.9301 - recall_m: 0.9126 - val_loss: 0.3735 - val_acc: 0.8665 - val_f1_m: 0.8663 - val_precision_m: 0.8803 - val_recall_m: 0.8530\n",
            "Epoch 40/100\n",
            "146/146 [==============================] - 3s 19ms/step - loss: 0.2442 - acc: 0.9240 - f1_m: 0.9239 - precision_m: 0.9319 - recall_m: 0.9160 - val_loss: 0.3682 - val_acc: 0.8667 - val_f1_m: 0.8675 - val_precision_m: 0.8798 - val_recall_m: 0.8557\n",
            "Epoch 41/100\n",
            "146/146 [==============================] - 3s 20ms/step - loss: 0.2364 - acc: 0.9260 - f1_m: 0.9260 - precision_m: 0.9339 - recall_m: 0.9184 - val_loss: 0.3636 - val_acc: 0.8670 - val_f1_m: 0.8674 - val_precision_m: 0.8779 - val_recall_m: 0.8573\n",
            "Epoch 42/100\n",
            "146/146 [==============================] - 3s 19ms/step - loss: 0.2264 - acc: 0.9291 - f1_m: 0.9297 - precision_m: 0.9371 - recall_m: 0.9225 - val_loss: 0.3598 - val_acc: 0.8700 - val_f1_m: 0.8702 - val_precision_m: 0.8801 - val_recall_m: 0.8605\n",
            "Epoch 43/100\n",
            "146/146 [==============================] - 3s 20ms/step - loss: 0.2183 - acc: 0.9301 - f1_m: 0.9304 - precision_m: 0.9370 - recall_m: 0.9240 - val_loss: 0.3567 - val_acc: 0.8730 - val_f1_m: 0.8730 - val_precision_m: 0.8828 - val_recall_m: 0.8635\n",
            "Epoch 44/100\n",
            "146/146 [==============================] - 3s 19ms/step - loss: 0.2108 - acc: 0.9346 - f1_m: 0.9344 - precision_m: 0.9406 - recall_m: 0.9284 - val_loss: 0.3543 - val_acc: 0.8739 - val_f1_m: 0.8731 - val_precision_m: 0.8831 - val_recall_m: 0.8635\n",
            "Epoch 45/100\n",
            "146/146 [==============================] - 3s 20ms/step - loss: 0.2064 - acc: 0.9369 - f1_m: 0.9369 - precision_m: 0.9427 - recall_m: 0.9313 - val_loss: 0.3516 - val_acc: 0.8744 - val_f1_m: 0.8751 - val_precision_m: 0.8844 - val_recall_m: 0.8662\n",
            "Epoch 46/100\n",
            "146/146 [==============================] - 3s 19ms/step - loss: 0.1985 - acc: 0.9412 - f1_m: 0.9400 - precision_m: 0.9463 - recall_m: 0.9339 - val_loss: 0.3496 - val_acc: 0.8750 - val_f1_m: 0.8730 - val_precision_m: 0.8804 - val_recall_m: 0.8659\n",
            "Epoch 47/100\n",
            "146/146 [==============================] - 3s 19ms/step - loss: 0.1913 - acc: 0.9415 - f1_m: 0.9414 - precision_m: 0.9468 - recall_m: 0.9361 - val_loss: 0.3478 - val_acc: 0.8766 - val_f1_m: 0.8760 - val_precision_m: 0.8839 - val_recall_m: 0.8683\n",
            "Epoch 48/100\n",
            "146/146 [==============================] - 3s 19ms/step - loss: 0.1855 - acc: 0.9413 - f1_m: 0.9416 - precision_m: 0.9463 - recall_m: 0.9369 - val_loss: 0.3460 - val_acc: 0.8763 - val_f1_m: 0.8762 - val_precision_m: 0.8840 - val_recall_m: 0.8686\n",
            "Epoch 49/100\n",
            "146/146 [==============================] - 3s 19ms/step - loss: 0.1805 - acc: 0.9446 - f1_m: 0.9449 - precision_m: 0.9503 - recall_m: 0.9397 - val_loss: 0.3451 - val_acc: 0.8783 - val_f1_m: 0.8778 - val_precision_m: 0.8856 - val_recall_m: 0.8702\n",
            "Epoch 50/100\n",
            "146/146 [==============================] - 3s 20ms/step - loss: 0.1767 - acc: 0.9434 - f1_m: 0.9437 - precision_m: 0.9486 - recall_m: 0.9389 - val_loss: 0.3442 - val_acc: 0.8780 - val_f1_m: 0.8784 - val_precision_m: 0.8870 - val_recall_m: 0.8700\n",
            "Epoch 51/100\n",
            "146/146 [==============================] - 3s 19ms/step - loss: 0.1727 - acc: 0.9453 - f1_m: 0.9453 - precision_m: 0.9497 - recall_m: 0.9410 - val_loss: 0.3429 - val_acc: 0.8783 - val_f1_m: 0.8786 - val_precision_m: 0.8875 - val_recall_m: 0.8700\n",
            "Epoch 52/100\n",
            "146/146 [==============================] - 3s 20ms/step - loss: 0.1663 - acc: 0.9480 - f1_m: 0.9485 - precision_m: 0.9530 - recall_m: 0.9441 - val_loss: 0.3423 - val_acc: 0.8791 - val_f1_m: 0.8803 - val_precision_m: 0.8886 - val_recall_m: 0.8722\n",
            "Epoch 53/100\n",
            "146/146 [==============================] - 3s 20ms/step - loss: 0.1624 - acc: 0.9493 - f1_m: 0.9498 - precision_m: 0.9536 - recall_m: 0.9461 - val_loss: 0.3434 - val_acc: 0.8785 - val_f1_m: 0.8798 - val_precision_m: 0.8889 - val_recall_m: 0.8711\n",
            "Epoch 00053: early stopping\n"
          ],
          "name": "stdout"
        },
        {
          "output_type": "display_data",
          "data": {
            "image/png": "[encoded data removed]",
            "text/plain": [
              "<Figure size 432x288 with 1 Axes>"
            ]
          },
          "metadata": {
            "tags": [],
            "needs_background": "light"
          }
        },
        {
          "output_type": "display_data",
          "data": {
            "image/png": "[encoded data removed]",
            "text/plain": [
              "<Figure size 432x288 with 1 Axes>"
            ]
          },
          "metadata": {
            "tags": [],
            "needs_background": "light"
          }
        },
        {
          "output_type": "stream",
          "text": [
            "-------------------------------------\n",
            "#######################################################\n",
            "F1        : 0.8801215887069702\n",
            "Precision : 0.8890783190727234\n",
            "Recall    : 0.8716486096382141\n",
            "Accuracy  : 0.8785303235054016\n",
            "#######################################################\n",
            "-------------------------------------\n",
            "#######################################################\n",
            "F1        : 0.8787760138511658\n",
            "Precision : 0.8840957880020142\n",
            "Recall    : 0.8737909197807312\n",
            "Accuracy  : 0.8802395462989807\n",
            "#######################################################\n",
            "-------------------------------------\n",
            "#######################################################\n",
            "F1        : 0.8606380820274353\n",
            "Precision : 0.866091251373291\n",
            "Recall    : 0.85546875\n",
            "Accuracy  : 0.8622754216194153\n",
            "#######################################################\n",
            "-------------------------------------\n",
            "#######################################################\n",
            "F1        : 0.8676880598068237\n",
            "Precision : 0.8734123110771179\n",
            "Recall    : 0.8621651530265808\n",
            "Accuracy  : 0.8662674427032471\n",
            "#######################################################\n",
            "-------------------------------------\n",
            "#######################################################\n",
            "F1        : 0.8709951639175415\n",
            "Precision : 0.8802461624145508\n",
            "Recall    : 0.8621651530265808\n",
            "Accuracy  : 0.8722555041313171\n",
            "#######################################################\n",
            "-------------------------------------\n",
            "#######################################################\n",
            "F1        : 0.8873897194862366\n",
            "Precision : 0.898436963558197\n",
            "Recall    : 0.8768601417541504\n",
            "Accuracy  : 0.8882235288619995\n",
            "#######################################################\n"
          ],
          "name": "stdout"
        }
      ]
    },
    {
      "cell_type": "markdown",
      "metadata": {
        "id": "6Sjt_G-hBkFb",
        "colab_type": "text"
      },
      "source": [
        "## Model 3 bidirectional LSTM\n",
        "\n",
        "\n",
        "The Bidirectional wrapper is used with a LSTM layer, this propagates the input forwards and backwards through the LSTM layer and then concatenates the outputs. This helps LSTM to learn long term dependencies. We then fit it to a dense neural network to do classification.\n",
        "\n",
        "This index-lookup is much more efficient than the equivalent operation of passing a one-hot encoded vector through a tf.keras.layers.Dense layer."
      ]
    },
    {
      "cell_type": "code",
      "metadata": {
        "id": "1uWGQWWl9w-p",
        "colab_type": "code",
        "colab": {
          "base_uri": "https://localhost:8080/",
          "height": 263
        },
        "outputId": "29bc6928-becf-4aea-f158-5e3a824f8fd1"
      },
      "source": [
        "model_bi = tf.keras.Sequential([\n",
        "    tf.keras.layers.Embedding(MAX_NB_WORDS, EMBEDDING_DIM),\n",
        "    tf.keras.layers.Bidirectional(tf.keras.layers.LSTM(32)),\n",
        "    # use ReLU in place of tanh function since they are very good alternatives of each other.\n",
        "    #tf.keras.layers.Dense(30, activation='softmax'),\n",
        "    # Add a Dense layer with 3 units and softmax activation.\n",
        "    # When we have multiple outputs, softmax convert outputs layers into a probability distribution.\n",
        "    tf.keras.layers.Dense(3, activation='softmax')\n",
        "])\n",
        "model_bi.summary()"
      ],
      "execution_count": null,
      "outputs": [
        {
          "output_type": "stream",
          "text": [
            "Model: \"sequential_8\"\n",
            "_________________________________________________________________\n",
            "Layer (type)                 Output Shape              Param #   \n",
            "=================================================================\n",
            "embedding_8 (Embedding)      (None, None, 100)         1500000   \n",
            "_________________________________________________________________\n",
            "bidirectional_2 (Bidirection (None, 64)                34048     \n",
            "_________________________________________________________________\n",
            "dense_13 (Dense)             (None, 3)                 195       \n",
            "=================================================================\n",
            "Total params: 1,534,243\n",
            "Trainable params: 1,534,243\n",
            "Non-trainable params: 0\n",
            "_________________________________________________________________\n"
          ],
          "name": "stdout"
        }
      ]
    },
    {
      "cell_type": "code",
      "metadata": {
        "id": "DvnHsYWR-Mhb",
        "colab_type": "code",
        "colab": {}
      },
      "source": [
        "#model2.compile(loss=\"categorical_crossentropy\", optimizer='adam', metrics=[\"accuracy\"])\n",
        "optimizer = tf.keras.optimizers.Adam(learning_rate=1e-5)\n",
        "es = tf.keras.callbacks.EarlyStopping(monitor='val_loss', mode='min', verbose=1)\n",
        "    \n",
        "model_bi.compile(loss=\"categorical_crossentropy\", optimizer=optimizer, metrics=['acc',f1_m,precision_m, recall_m])"
      ],
      "execution_count": null,
      "outputs": []
    },
    {
      "cell_type": "code",
      "metadata": {
        "id": "_qnSSePE-27a",
        "colab_type": "code",
        "colab": {
          "base_uri": "https://localhost:8080/",
          "height": 1000
        },
        "outputId": "4d3600f2-9ece-489b-9133-485f896274d9"
      },
      "source": [
        "with tf.device('/device:GPU:0'):\n",
        "   history2 = model_bi.fit(\n",
        "      X_train, Y_train, epochs=60,batch_size = 100,callbacks=[es], validation_data=(X_test, Y_test),\n",
        "  )\n"
      ],
      "execution_count": null,
      "outputs": [
        {
          "output_type": "stream",
          "text": [
            "Epoch 1/60\n",
            "198/198 [==============================] - 4s 22ms/step - loss: 1.0961 - acc: 0.4414 - f1_m: 0.0000e+00 - precision_m: 0.0000e+00 - recall_m: 0.0000e+00 - val_loss: 1.0941 - val_acc: 0.4906 - val_f1_m: 0.0000e+00 - val_precision_m: 0.0000e+00 - val_recall_m: 0.0000e+00\n",
            "Epoch 2/60\n",
            "198/198 [==============================] - 4s 18ms/step - loss: 1.0923 - acc: 0.4822 - f1_m: 0.0000e+00 - precision_m: 0.0000e+00 - recall_m: 0.0000e+00 - val_loss: 1.0898 - val_acc: 0.5015 - val_f1_m: 0.0000e+00 - val_precision_m: 0.0000e+00 - val_recall_m: 0.0000e+00\n",
            "Epoch 3/60\n",
            "198/198 [==============================] - 4s 18ms/step - loss: 1.0877 - acc: 0.4997 - f1_m: 0.0000e+00 - precision_m: 0.0000e+00 - recall_m: 0.0000e+00 - val_loss: 1.0847 - val_acc: 0.5233 - val_f1_m: 0.0000e+00 - val_precision_m: 0.0000e+00 - val_recall_m: 0.0000e+00\n",
            "Epoch 4/60\n",
            "198/198 [==============================] - 4s 18ms/step - loss: 1.0821 - acc: 0.5247 - f1_m: 0.0000e+00 - precision_m: 0.0000e+00 - recall_m: 0.0000e+00 - val_loss: 1.0784 - val_acc: 0.5409 - val_f1_m: 0.0000e+00 - val_precision_m: 0.0000e+00 - val_recall_m: 0.0000e+00\n",
            "Epoch 5/60\n",
            "198/198 [==============================] - 4s 18ms/step - loss: 1.0749 - acc: 0.5425 - f1_m: 0.0000e+00 - precision_m: 0.0000e+00 - recall_m: 0.0000e+00 - val_loss: 1.0704 - val_acc: 0.5575 - val_f1_m: 0.0000e+00 - val_precision_m: 0.0000e+00 - val_recall_m: 0.0000e+00\n",
            "Epoch 6/60\n",
            "198/198 [==============================] - 4s 18ms/step - loss: 1.0658 - acc: 0.5544 - f1_m: 0.0000e+00 - precision_m: 0.0000e+00 - recall_m: 0.0000e+00 - val_loss: 1.0602 - val_acc: 0.5682 - val_f1_m: 0.0000e+00 - val_precision_m: 0.0000e+00 - val_recall_m: 0.0000e+00\n",
            "Epoch 7/60\n",
            "198/198 [==============================] - 4s 18ms/step - loss: 1.0541 - acc: 0.5638 - f1_m: 0.0000e+00 - precision_m: 0.0000e+00 - recall_m: 0.0000e+00 - val_loss: 1.0473 - val_acc: 0.5789 - val_f1_m: 0.0000e+00 - val_precision_m: 0.0000e+00 - val_recall_m: 0.0000e+00\n",
            "Epoch 8/60\n",
            "198/198 [==============================] - 4s 18ms/step - loss: 1.0390 - acc: 0.5739 - f1_m: 0.0000e+00 - precision_m: 0.0000e+00 - recall_m: 0.0000e+00 - val_loss: 1.0308 - val_acc: 0.5856 - val_f1_m: 0.0000e+00 - val_precision_m: 0.0000e+00 - val_recall_m: 0.0000e+00\n",
            "Epoch 9/60\n",
            "198/198 [==============================] - 4s 18ms/step - loss: 1.0202 - acc: 0.5809 - f1_m: 0.0027 - precision_m: 0.1162 - recall_m: 0.0014 - val_loss: 1.0104 - val_acc: 0.5961 - val_f1_m: 0.0107 - val_precision_m: 0.4400 - val_recall_m: 0.0054\n",
            "Epoch 10/60\n",
            "198/198 [==============================] - 4s 19ms/step - loss: 0.9970 - acc: 0.5900 - f1_m: 0.0449 - precision_m: 0.8290 - recall_m: 0.0234 - val_loss: 0.9857 - val_acc: 0.6034 - val_f1_m: 0.0835 - val_precision_m: 0.9853 - val_recall_m: 0.0440\n",
            "Epoch 11/60\n",
            "198/198 [==============================] - 4s 19ms/step - loss: 0.9690 - acc: 0.5995 - f1_m: 0.1525 - precision_m: 0.9675 - recall_m: 0.0838 - val_loss: 0.9564 - val_acc: 0.6131 - val_f1_m: 0.2022 - val_precision_m: 0.9265 - val_recall_m: 0.1145\n",
            "Epoch 12/60\n",
            "198/198 [==============================] - 4s 18ms/step - loss: 0.9362 - acc: 0.6091 - f1_m: 0.2573 - precision_m: 0.9239 - recall_m: 0.1507 - val_loss: 0.9229 - val_acc: 0.6197 - val_f1_m: 0.2774 - val_precision_m: 0.8669 - val_recall_m: 0.1663\n",
            "Epoch 13/60\n",
            "198/198 [==============================] - 4s 19ms/step - loss: 0.8989 - acc: 0.6215 - f1_m: 0.3547 - precision_m: 0.8925 - recall_m: 0.2239 - val_loss: 0.8860 - val_acc: 0.6320 - val_f1_m: 0.4121 - val_precision_m: 0.8630 - val_recall_m: 0.2721\n",
            "Epoch 14/60\n",
            "198/198 [==============================] - 4s 19ms/step - loss: 0.8580 - acc: 0.6347 - f1_m: 0.4942 - precision_m: 0.8820 - recall_m: 0.3451 - val_loss: 0.8463 - val_acc: 0.6436 - val_f1_m: 0.5232 - val_precision_m: 0.8457 - val_recall_m: 0.3802\n",
            "Epoch 15/60\n",
            "198/198 [==============================] - 4s 19ms/step - loss: 0.8140 - acc: 0.6523 - f1_m: 0.5810 - precision_m: 0.8673 - recall_m: 0.4386 - val_loss: 0.8044 - val_acc: 0.6646 - val_f1_m: 0.5945 - val_precision_m: 0.8378 - val_recall_m: 0.4624\n",
            "Epoch 16/60\n",
            "198/198 [==============================] - 4s 18ms/step - loss: 0.7670 - acc: 0.6736 - f1_m: 0.6302 - precision_m: 0.8606 - recall_m: 0.4985 - val_loss: 0.7600 - val_acc: 0.6822 - val_f1_m: 0.6378 - val_precision_m: 0.8358 - val_recall_m: 0.5172\n",
            "Epoch 17/60\n",
            "198/198 [==============================] - 4s 19ms/step - loss: 0.7172 - acc: 0.7012 - f1_m: 0.6663 - precision_m: 0.8605 - recall_m: 0.5451 - val_loss: 0.7139 - val_acc: 0.7040 - val_f1_m: 0.6675 - val_precision_m: 0.8372 - val_recall_m: 0.5562\n",
            "Epoch 18/60\n",
            "198/198 [==============================] - 4s 18ms/step - loss: 0.6655 - acc: 0.7307 - f1_m: 0.6948 - precision_m: 0.8656 - recall_m: 0.5813 - val_loss: 0.6667 - val_acc: 0.7288 - val_f1_m: 0.6924 - val_precision_m: 0.8452 - val_recall_m: 0.5874\n",
            "Epoch 19/60\n",
            "198/198 [==============================] - 4s 18ms/step - loss: 0.6128 - acc: 0.7673 - f1_m: 0.7163 - precision_m: 0.8740 - recall_m: 0.6079 - val_loss: 0.6201 - val_acc: 0.7624 - val_f1_m: 0.7103 - val_precision_m: 0.8555 - val_recall_m: 0.6083\n",
            "Epoch 20/60\n",
            "198/198 [==============================] - 4s 18ms/step - loss: 0.5611 - acc: 0.8013 - f1_m: 0.7385 - precision_m: 0.8863 - recall_m: 0.6341 - val_loss: 0.5753 - val_acc: 0.7903 - val_f1_m: 0.7309 - val_precision_m: 0.8679 - val_recall_m: 0.6323\n",
            "Epoch 21/60\n",
            "198/198 [==============================] - 4s 18ms/step - loss: 0.5116 - acc: 0.8372 - f1_m: 0.7686 - precision_m: 0.9025 - recall_m: 0.6703 - val_loss: 0.5343 - val_acc: 0.8188 - val_f1_m: 0.7588 - val_precision_m: 0.8819 - val_recall_m: 0.6667\n",
            "Epoch 22/60\n",
            "198/198 [==============================] - 4s 18ms/step - loss: 0.4672 - acc: 0.8583 - f1_m: 0.8114 - precision_m: 0.9156 - recall_m: 0.7294 - val_loss: 0.4993 - val_acc: 0.8301 - val_f1_m: 0.7952 - val_precision_m: 0.8907 - val_recall_m: 0.7187\n",
            "Epoch 23/60\n",
            "198/198 [==============================] - 4s 19ms/step - loss: 0.4286 - acc: 0.8724 - f1_m: 0.8466 - precision_m: 0.9174 - recall_m: 0.7865 - val_loss: 0.4700 - val_acc: 0.8400 - val_f1_m: 0.8181 - val_precision_m: 0.8869 - val_recall_m: 0.7597\n",
            "Epoch 24/60\n",
            "198/198 [==============================] - 4s 19ms/step - loss: 0.3951 - acc: 0.8815 - f1_m: 0.8668 - precision_m: 0.9159 - recall_m: 0.8234 - val_loss: 0.4458 - val_acc: 0.8456 - val_f1_m: 0.8335 - val_precision_m: 0.8817 - val_recall_m: 0.7907\n",
            "Epoch 25/60\n",
            "198/198 [==============================] - 4s 18ms/step - loss: 0.3663 - acc: 0.8884 - f1_m: 0.8795 - precision_m: 0.9138 - recall_m: 0.8479 - val_loss: 0.4263 - val_acc: 0.8501 - val_f1_m: 0.8430 - val_precision_m: 0.8743 - val_recall_m: 0.8141\n",
            "Epoch 26/60\n",
            "198/198 [==============================] - 4s 18ms/step - loss: 0.3414 - acc: 0.8945 - f1_m: 0.8897 - precision_m: 0.9143 - recall_m: 0.8665 - val_loss: 0.4096 - val_acc: 0.8555 - val_f1_m: 0.8503 - val_precision_m: 0.8746 - val_recall_m: 0.8275\n",
            "Epoch 27/60\n",
            "198/198 [==============================] - 4s 19ms/step - loss: 0.3194 - acc: 0.9011 - f1_m: 0.8978 - precision_m: 0.9174 - recall_m: 0.8792 - val_loss: 0.3962 - val_acc: 0.8559 - val_f1_m: 0.8541 - val_precision_m: 0.8745 - val_recall_m: 0.8347\n",
            "Epoch 28/60\n",
            "198/198 [==============================] - 4s 19ms/step - loss: 0.2998 - acc: 0.9065 - f1_m: 0.9048 - precision_m: 0.9203 - recall_m: 0.8900 - val_loss: 0.3840 - val_acc: 0.8600 - val_f1_m: 0.8590 - val_precision_m: 0.8746 - val_recall_m: 0.8441\n",
            "Epoch 29/60\n",
            "198/198 [==============================] - 4s 19ms/step - loss: 0.2822 - acc: 0.9130 - f1_m: 0.9108 - precision_m: 0.9229 - recall_m: 0.8990 - val_loss: 0.3740 - val_acc: 0.8628 - val_f1_m: 0.8626 - val_precision_m: 0.8772 - val_recall_m: 0.8485\n",
            "Epoch 30/60\n",
            "198/198 [==============================] - 4s 19ms/step - loss: 0.2663 - acc: 0.9187 - f1_m: 0.9162 - precision_m: 0.9258 - recall_m: 0.9068 - val_loss: 0.3655 - val_acc: 0.8644 - val_f1_m: 0.8656 - val_precision_m: 0.8792 - val_recall_m: 0.8525\n",
            "Epoch 31/60\n",
            "198/198 [==============================] - 4s 19ms/step - loss: 0.2518 - acc: 0.9225 - f1_m: 0.9216 - precision_m: 0.9291 - recall_m: 0.9144 - val_loss: 0.3584 - val_acc: 0.8666 - val_f1_m: 0.8666 - val_precision_m: 0.8774 - val_recall_m: 0.8562\n",
            "Epoch 32/60\n",
            "198/198 [==============================] - 4s 19ms/step - loss: 0.2388 - acc: 0.9260 - f1_m: 0.9254 - precision_m: 0.9321 - recall_m: 0.9188 - val_loss: 0.3519 - val_acc: 0.8703 - val_f1_m: 0.8701 - val_precision_m: 0.8803 - val_recall_m: 0.8602\n",
            "Epoch 33/60\n",
            "198/198 [==============================] - 4s 19ms/step - loss: 0.2267 - acc: 0.9300 - f1_m: 0.9293 - precision_m: 0.9346 - recall_m: 0.9240 - val_loss: 0.3464 - val_acc: 0.8719 - val_f1_m: 0.8716 - val_precision_m: 0.8812 - val_recall_m: 0.8624\n",
            "Epoch 34/60\n",
            "198/198 [==============================] - 4s 19ms/step - loss: 0.2156 - acc: 0.9332 - f1_m: 0.9330 - precision_m: 0.9377 - recall_m: 0.9285 - val_loss: 0.3417 - val_acc: 0.8743 - val_f1_m: 0.8739 - val_precision_m: 0.8826 - val_recall_m: 0.8656\n",
            "Epoch 35/60\n",
            "198/198 [==============================] - 4s 18ms/step - loss: 0.2054 - acc: 0.9371 - f1_m: 0.9365 - precision_m: 0.9407 - recall_m: 0.9323 - val_loss: 0.3381 - val_acc: 0.8761 - val_f1_m: 0.8752 - val_precision_m: 0.8824 - val_recall_m: 0.8681\n",
            "Epoch 36/60\n",
            "198/198 [==============================] - 4s 19ms/step - loss: 0.1960 - acc: 0.9402 - f1_m: 0.9394 - precision_m: 0.9435 - recall_m: 0.9354 - val_loss: 0.3354 - val_acc: 0.8771 - val_f1_m: 0.8773 - val_precision_m: 0.8840 - val_recall_m: 0.8707\n",
            "Epoch 37/60\n",
            "198/198 [==============================] - 4s 19ms/step - loss: 0.1870 - acc: 0.9437 - f1_m: 0.9431 - precision_m: 0.9463 - recall_m: 0.9399 - val_loss: 0.3312 - val_acc: 0.8794 - val_f1_m: 0.8782 - val_precision_m: 0.8842 - val_recall_m: 0.8723\n",
            "Epoch 38/60\n",
            "198/198 [==============================] - 4s 19ms/step - loss: 0.1787 - acc: 0.9458 - f1_m: 0.9451 - precision_m: 0.9477 - recall_m: 0.9424 - val_loss: 0.3286 - val_acc: 0.8800 - val_f1_m: 0.8799 - val_precision_m: 0.8853 - val_recall_m: 0.8745\n",
            "Epoch 39/60\n",
            "198/198 [==============================] - 4s 19ms/step - loss: 0.1710 - acc: 0.9480 - f1_m: 0.9477 - precision_m: 0.9499 - recall_m: 0.9455 - val_loss: 0.3265 - val_acc: 0.8816 - val_f1_m: 0.8815 - val_precision_m: 0.8857 - val_recall_m: 0.8773\n",
            "Epoch 40/60\n",
            "198/198 [==============================] - 4s 18ms/step - loss: 0.1637 - acc: 0.9500 - f1_m: 0.9501 - precision_m: 0.9522 - recall_m: 0.9480 - val_loss: 0.3249 - val_acc: 0.8832 - val_f1_m: 0.8828 - val_precision_m: 0.8869 - val_recall_m: 0.8787\n",
            "Epoch 41/60\n",
            "198/198 [==============================] - 4s 18ms/step - loss: 0.1570 - acc: 0.9527 - f1_m: 0.9526 - precision_m: 0.9548 - recall_m: 0.9504 - val_loss: 0.3233 - val_acc: 0.8826 - val_f1_m: 0.8821 - val_precision_m: 0.8855 - val_recall_m: 0.8787\n",
            "Epoch 42/60\n",
            "198/198 [==============================] - 4s 18ms/step - loss: 0.1504 - acc: 0.9545 - f1_m: 0.9546 - precision_m: 0.9563 - recall_m: 0.9529 - val_loss: 0.3227 - val_acc: 0.8816 - val_f1_m: 0.8821 - val_precision_m: 0.8848 - val_recall_m: 0.8794\n",
            "Epoch 43/60\n",
            "198/198 [==============================] - 4s 18ms/step - loss: 0.1443 - acc: 0.9562 - f1_m: 0.9564 - precision_m: 0.9583 - recall_m: 0.9545 - val_loss: 0.3214 - val_acc: 0.8836 - val_f1_m: 0.8834 - val_precision_m: 0.8870 - val_recall_m: 0.8798\n",
            "Epoch 44/60\n",
            "198/198 [==============================] - 4s 18ms/step - loss: 0.1386 - acc: 0.9591 - f1_m: 0.9592 - precision_m: 0.9607 - recall_m: 0.9577 - val_loss: 0.3211 - val_acc: 0.8840 - val_f1_m: 0.8844 - val_precision_m: 0.8876 - val_recall_m: 0.8814\n",
            "Epoch 45/60\n",
            "198/198 [==============================] - 4s 19ms/step - loss: 0.1330 - acc: 0.9600 - f1_m: 0.9602 - precision_m: 0.9616 - recall_m: 0.9587 - val_loss: 0.3213 - val_acc: 0.8830 - val_f1_m: 0.8841 - val_precision_m: 0.8882 - val_recall_m: 0.8802\n",
            "Epoch 00045: early stopping\n"
          ],
          "name": "stdout"
        }
      ]
    },
    {
      "cell_type": "code",
      "metadata": {
        "id": "j14lHG9c_1Sh",
        "colab_type": "code",
        "colab": {
          "base_uri": "https://localhost:8080/",
          "height": 541
        },
        "outputId": "5896ab3f-4032-40d4-d75e-14d21e932d7f"
      },
      "source": [
        "plot_graphs(history2, \"acc\")\n",
        "plot_graphs(history2, \"loss\")  \n",
        "\n"
      ],
      "execution_count": null,
      "outputs": [
        {
          "output_type": "display_data",
          "data": {
            "image/png": "[encoded data removed]",
            "text/plain": [
              "<Figure size 432x288 with 1 Axes>"
            ]
          },
          "metadata": {
            "tags": [],
            "needs_background": "light"
          }
        },
        {
          "output_type": "display_data",
          "data": {
            "image/png": "[encoded data removed]",
            "text/plain": [
              "<Figure size 432x288 with 1 Axes>"
            ]
          },
          "metadata": {
            "tags": [],
            "needs_background": "light"
          }
        }
      ]
    },
    {
      "cell_type": "code",
      "metadata": {
        "id": "fzBxZOf81-fB",
        "colab_type": "code",
        "colab": {
          "base_uri": "https://localhost:8080/",
          "height": 122
        },
        "outputId": "e290b387-e67f-4b91-b4ee-c5b703366c5e"
      },
      "source": [
        "loss, acc, f1_score, precision, recall = model2.evaluate(X_test, Y_test,  verbose=0 )\n",
        "print_stats(f1_score, precision, recall, acc)"
      ],
      "execution_count": null,
      "outputs": [
        {
          "output_type": "stream",
          "text": [
            "#######################################################\n",
            "F1        : 0.8840121626853943\n",
            "Precision : 0.8879507780075073\n",
            "Recall    : 0.8802322745323181\n",
            "Accuracy  : 0.8830066919326782\n",
            "#######################################################\n"
          ],
          "name": "stdout"
        }
      ]
    },
    {
      "cell_type": "markdown",
      "metadata": {
        "id": "y7zlSL_SDXUW",
        "colab_type": "text"
      },
      "source": [
        "### Result\n"
      ]
    },
    {
      "cell_type": "code",
      "metadata": {
        "id": "47jYTelyG1_L",
        "colab_type": "code",
        "colab": {
          "base_uri": "https://localhost:8080/",
          "height": 1000
        },
        "outputId": "99a7f1c2-43eb-4b52-fde0-4393016447ee"
      },
      "source": [
        "#2nd\n",
        "with tf.device('/device:GPU:0'):\n",
        "   history2 = model_bi.fit(\n",
        "      X_train, Y_train, epochs=100,batch_size = 100,callbacks=[es], validation_data=(X_test, Y_test),\n",
        "  )"
      ],
      "execution_count": null,
      "outputs": [
        {
          "output_type": "stream",
          "text": [
            "Epoch 1/100\n",
            "146/146 [==============================] - 4s 24ms/step - loss: 1.0961 - acc: 0.3608 - f1_m: 0.0000e+00 - precision_m: 0.0000e+00 - recall_m: 0.0000e+00 - val_loss: 1.0948 - val_acc: 0.3869 - val_f1_m: 0.0000e+00 - val_precision_m: 0.0000e+00 - val_recall_m: 0.0000e+00\n",
            "Epoch 2/100\n",
            "146/146 [==============================] - 3s 19ms/step - loss: 1.0934 - acc: 0.3928 - f1_m: 0.0000e+00 - precision_m: 0.0000e+00 - recall_m: 0.0000e+00 - val_loss: 1.0920 - val_acc: 0.4091 - val_f1_m: 0.0000e+00 - val_precision_m: 0.0000e+00 - val_recall_m: 0.0000e+00\n",
            "Epoch 3/100\n",
            "146/146 [==============================] - 3s 19ms/step - loss: 1.0905 - acc: 0.4057 - f1_m: 0.0000e+00 - precision_m: 0.0000e+00 - recall_m: 0.0000e+00 - val_loss: 1.0889 - val_acc: 0.4264 - val_f1_m: 0.0000e+00 - val_precision_m: 0.0000e+00 - val_recall_m: 0.0000e+00\n",
            "Epoch 4/100\n",
            "146/146 [==============================] - 3s 20ms/step - loss: 1.0872 - acc: 0.4227 - f1_m: 0.0000e+00 - precision_m: 0.0000e+00 - recall_m: 0.0000e+00 - val_loss: 1.0854 - val_acc: 0.4401 - val_f1_m: 0.0000e+00 - val_precision_m: 0.0000e+00 - val_recall_m: 0.0000e+00\n",
            "Epoch 5/100\n",
            "146/146 [==============================] - 3s 20ms/step - loss: 1.0834 - acc: 0.4348 - f1_m: 0.0000e+00 - precision_m: 0.0000e+00 - recall_m: 0.0000e+00 - val_loss: 1.0814 - val_acc: 0.4546 - val_f1_m: 0.0000e+00 - val_precision_m: 0.0000e+00 - val_recall_m: 0.0000e+00\n",
            "Epoch 6/100\n",
            "146/146 [==============================] - 3s 19ms/step - loss: 1.0790 - acc: 0.4443 - f1_m: 0.0000e+00 - precision_m: 0.0000e+00 - recall_m: 0.0000e+00 - val_loss: 1.0767 - val_acc: 0.4645 - val_f1_m: 0.0000e+00 - val_precision_m: 0.0000e+00 - val_recall_m: 0.0000e+00\n",
            "Epoch 7/100\n",
            "146/146 [==============================] - 3s 20ms/step - loss: 1.0738 - acc: 0.4621 - f1_m: 0.0000e+00 - precision_m: 0.0000e+00 - recall_m: 0.0000e+00 - val_loss: 1.0712 - val_acc: 0.4787 - val_f1_m: 0.0000e+00 - val_precision_m: 0.0000e+00 - val_recall_m: 0.0000e+00\n",
            "Epoch 8/100\n",
            "146/146 [==============================] - 3s 20ms/step - loss: 1.0678 - acc: 0.4713 - f1_m: 0.0000e+00 - precision_m: 0.0000e+00 - recall_m: 0.0000e+00 - val_loss: 1.0648 - val_acc: 0.4894 - val_f1_m: 0.0000e+00 - val_precision_m: 0.0000e+00 - val_recall_m: 0.0000e+00\n",
            "Epoch 9/100\n",
            "146/146 [==============================] - 3s 20ms/step - loss: 1.0606 - acc: 0.4905 - f1_m: 0.0000e+00 - precision_m: 0.0000e+00 - recall_m: 0.0000e+00 - val_loss: 1.0571 - val_acc: 0.4977 - val_f1_m: 0.0000e+00 - val_precision_m: 0.0000e+00 - val_recall_m: 0.0000e+00\n",
            "Epoch 10/100\n",
            "146/146 [==============================] - 3s 20ms/step - loss: 1.0522 - acc: 0.5006 - f1_m: 0.0000e+00 - precision_m: 0.0000e+00 - recall_m: 0.0000e+00 - val_loss: 1.0482 - val_acc: 0.5136 - val_f1_m: 0.0000e+00 - val_precision_m: 0.0000e+00 - val_recall_m: 0.0000e+00\n",
            "Epoch 11/100\n",
            "146/146 [==============================] - 3s 20ms/step - loss: 1.0424 - acc: 0.5166 - f1_m: 0.0000e+00 - precision_m: 0.0000e+00 - recall_m: 0.0000e+00 - val_loss: 1.0379 - val_acc: 0.5289 - val_f1_m: 0.0000e+00 - val_precision_m: 0.0000e+00 - val_recall_m: 0.0000e+00\n",
            "Epoch 12/100\n",
            "146/146 [==============================] - 3s 20ms/step - loss: 1.0311 - acc: 0.5293 - f1_m: 0.0000e+00 - precision_m: 0.0000e+00 - recall_m: 0.0000e+00 - val_loss: 1.0260 - val_acc: 0.5407 - val_f1_m: 0.0000e+00 - val_precision_m: 0.0000e+00 - val_recall_m: 0.0000e+00\n",
            "Epoch 13/100\n",
            "146/146 [==============================] - 3s 20ms/step - loss: 1.0180 - acc: 0.5420 - f1_m: 1.3563e-04 - precision_m: 0.0068 - recall_m: 6.8493e-05 - val_loss: 1.0123 - val_acc: 0.5539 - val_f1_m: 0.0000e+00 - val_precision_m: 0.0000e+00 - val_recall_m: 0.0000e+00\n",
            "Epoch 14/100\n",
            "146/146 [==============================] - 3s 20ms/step - loss: 1.0031 - acc: 0.5549 - f1_m: 0.0047 - precision_m: 0.1986 - recall_m: 0.0024 - val_loss: 0.9967 - val_acc: 0.5720 - val_f1_m: 0.0112 - val_precision_m: 0.4595 - val_recall_m: 0.0057\n",
            "Epoch 15/100\n",
            "146/146 [==============================] - 3s 20ms/step - loss: 0.9859 - acc: 0.5775 - f1_m: 0.0313 - precision_m: 0.7189 - recall_m: 0.0161 - val_loss: 0.9789 - val_acc: 0.5857 - val_f1_m: 0.0638 - val_precision_m: 0.9743 - val_recall_m: 0.0333\n",
            "Epoch 16/100\n",
            "146/146 [==============================] - 3s 20ms/step - loss: 0.9661 - acc: 0.5879 - f1_m: 0.1163 - precision_m: 0.9530 - recall_m: 0.0627 - val_loss: 0.9585 - val_acc: 0.6068 - val_f1_m: 0.1556 - val_precision_m: 0.9519 - val_recall_m: 0.0855\n",
            "Epoch 17/100\n",
            "146/146 [==============================] - 3s 19ms/step - loss: 0.9432 - acc: 0.6048 - f1_m: 0.2287 - precision_m: 0.9320 - recall_m: 0.1320 - val_loss: 0.9349 - val_acc: 0.6126 - val_f1_m: 0.2851 - val_precision_m: 0.9201 - val_recall_m: 0.1698\n",
            "Epoch 18/100\n",
            "146/146 [==============================] - 3s 19ms/step - loss: 0.9166 - acc: 0.6182 - f1_m: 0.3462 - precision_m: 0.9056 - recall_m: 0.2160 - val_loss: 0.9075 - val_acc: 0.6235 - val_f1_m: 0.3885 - val_precision_m: 0.8891 - val_recall_m: 0.2500\n",
            "Epoch 19/100\n",
            "146/146 [==============================] - 3s 20ms/step - loss: 0.8857 - acc: 0.6348 - f1_m: 0.4378 - precision_m: 0.8762 - recall_m: 0.2935 - val_loss: 0.8765 - val_acc: 0.6416 - val_f1_m: 0.4530 - val_precision_m: 0.8625 - val_recall_m: 0.3081\n",
            "Epoch 20/100\n",
            "146/146 [==============================] - 3s 20ms/step - loss: 0.8503 - acc: 0.6525 - f1_m: 0.4990 - precision_m: 0.8558 - recall_m: 0.3540 - val_loss: 0.8411 - val_acc: 0.6512 - val_f1_m: 0.5143 - val_precision_m: 0.8394 - val_recall_m: 0.3717\n",
            "Epoch 21/100\n",
            "146/146 [==============================] - 3s 20ms/step - loss: 0.8107 - acc: 0.6701 - f1_m: 0.5493 - precision_m: 0.8377 - recall_m: 0.4104 - val_loss: 0.8032 - val_acc: 0.6734 - val_f1_m: 0.5554 - val_precision_m: 0.8259 - val_recall_m: 0.4194\n",
            "Epoch 22/100\n",
            "146/146 [==============================] - 3s 20ms/step - loss: 0.7687 - acc: 0.6881 - f1_m: 0.5877 - precision_m: 0.8273 - recall_m: 0.4570 - val_loss: 0.7642 - val_acc: 0.6910 - val_f1_m: 0.5891 - val_precision_m: 0.8164 - val_recall_m: 0.4615\n",
            "Epoch 23/100\n",
            "146/146 [==============================] - 3s 20ms/step - loss: 0.7265 - acc: 0.7113 - f1_m: 0.6148 - precision_m: 0.8260 - recall_m: 0.4910 - val_loss: 0.7267 - val_acc: 0.7074 - val_f1_m: 0.6110 - val_precision_m: 0.8136 - val_recall_m: 0.4898\n",
            "Epoch 24/100\n",
            "146/146 [==============================] - 3s 19ms/step - loss: 0.6860 - acc: 0.7347 - f1_m: 0.6353 - precision_m: 0.8314 - recall_m: 0.5153 - val_loss: 0.6918 - val_acc: 0.7258 - val_f1_m: 0.6313 - val_precision_m: 0.8158 - val_recall_m: 0.5156\n",
            "Epoch 25/100\n",
            "146/146 [==============================] - 3s 20ms/step - loss: 0.6483 - acc: 0.7529 - f1_m: 0.6528 - precision_m: 0.8338 - recall_m: 0.5376 - val_loss: 0.6604 - val_acc: 0.7420 - val_f1_m: 0.6515 - val_precision_m: 0.8294 - val_recall_m: 0.5373\n",
            "Epoch 26/100\n",
            "146/146 [==============================] - 3s 19ms/step - loss: 0.6138 - acc: 0.7755 - f1_m: 0.6756 - precision_m: 0.8492 - recall_m: 0.5624 - val_loss: 0.6323 - val_acc: 0.7576 - val_f1_m: 0.6722 - val_precision_m: 0.8374 - val_recall_m: 0.5621\n",
            "Epoch 27/100\n",
            "146/146 [==============================] - 3s 20ms/step - loss: 0.5825 - acc: 0.7916 - f1_m: 0.7120 - precision_m: 0.8605 - recall_m: 0.6087 - val_loss: 0.6071 - val_acc: 0.7686 - val_f1_m: 0.7070 - val_precision_m: 0.8457 - val_recall_m: 0.6081\n",
            "Epoch 28/100\n",
            "146/146 [==============================] - 3s 20ms/step - loss: 0.5542 - acc: 0.8069 - f1_m: 0.7550 - precision_m: 0.8695 - recall_m: 0.6682 - val_loss: 0.5852 - val_acc: 0.7782 - val_f1_m: 0.7345 - val_precision_m: 0.8402 - val_recall_m: 0.6530\n",
            "Epoch 29/100\n",
            "146/146 [==============================] - 3s 20ms/step - loss: 0.5287 - acc: 0.8195 - f1_m: 0.7859 - precision_m: 0.8723 - recall_m: 0.7159 - val_loss: 0.5658 - val_acc: 0.7861 - val_f1_m: 0.7563 - val_precision_m: 0.8386 - val_recall_m: 0.6894\n",
            "Epoch 30/100\n",
            "146/146 [==============================] - 3s 20ms/step - loss: 0.5058 - acc: 0.8290 - f1_m: 0.8047 - precision_m: 0.8712 - recall_m: 0.7482 - val_loss: 0.5490 - val_acc: 0.7889 - val_f1_m: 0.7721 - val_precision_m: 0.8404 - val_recall_m: 0.7149\n",
            "Epoch 31/100\n",
            "146/146 [==============================] - 3s 20ms/step - loss: 0.4847 - acc: 0.8395 - f1_m: 0.8187 - precision_m: 0.8737 - recall_m: 0.7708 - val_loss: 0.5335 - val_acc: 0.7976 - val_f1_m: 0.7831 - val_precision_m: 0.8429 - val_recall_m: 0.7319\n",
            "Epoch 32/100\n",
            "146/146 [==============================] - 3s 19ms/step - loss: 0.4655 - acc: 0.8465 - f1_m: 0.8307 - precision_m: 0.8772 - recall_m: 0.7893 - val_loss: 0.5198 - val_acc: 0.8031 - val_f1_m: 0.7921 - val_precision_m: 0.8400 - val_recall_m: 0.7498\n",
            "Epoch 33/100\n",
            "146/146 [==============================] - 3s 20ms/step - loss: 0.4476 - acc: 0.8555 - f1_m: 0.8411 - precision_m: 0.8804 - recall_m: 0.8055 - val_loss: 0.5076 - val_acc: 0.8097 - val_f1_m: 0.7984 - val_precision_m: 0.8377 - val_recall_m: 0.7631\n",
            "Epoch 34/100\n",
            "146/146 [==============================] - 3s 20ms/step - loss: 0.4312 - acc: 0.8606 - f1_m: 0.8494 - precision_m: 0.8831 - recall_m: 0.8186 - val_loss: 0.4965 - val_acc: 0.8138 - val_f1_m: 0.8052 - val_precision_m: 0.8393 - val_recall_m: 0.7741\n",
            "Epoch 35/100\n",
            "146/146 [==============================] - 3s 20ms/step - loss: 0.4157 - acc: 0.8678 - f1_m: 0.8579 - precision_m: 0.8860 - recall_m: 0.8317 - val_loss: 0.4864 - val_acc: 0.8179 - val_f1_m: 0.8089 - val_precision_m: 0.8381 - val_recall_m: 0.7820\n",
            "Epoch 36/100\n",
            "146/146 [==============================] - 3s 20ms/step - loss: 0.4011 - acc: 0.8734 - f1_m: 0.8644 - precision_m: 0.8903 - recall_m: 0.8401 - val_loss: 0.4771 - val_acc: 0.8223 - val_f1_m: 0.8117 - val_precision_m: 0.8386 - val_recall_m: 0.7869\n",
            "Epoch 37/100\n",
            "146/146 [==============================] - 3s 20ms/step - loss: 0.3874 - acc: 0.8781 - f1_m: 0.8705 - precision_m: 0.8935 - recall_m: 0.8489 - val_loss: 0.4686 - val_acc: 0.8248 - val_f1_m: 0.8164 - val_precision_m: 0.8418 - val_recall_m: 0.7928\n",
            "Epoch 38/100\n",
            "146/146 [==============================] - 3s 20ms/step - loss: 0.3743 - acc: 0.8831 - f1_m: 0.8766 - precision_m: 0.8968 - recall_m: 0.8574 - val_loss: 0.4604 - val_acc: 0.8275 - val_f1_m: 0.8209 - val_precision_m: 0.8418 - val_recall_m: 0.8012\n",
            "Epoch 39/100\n",
            "146/146 [==============================] - 3s 20ms/step - loss: 0.3619 - acc: 0.8874 - f1_m: 0.8818 - precision_m: 0.9000 - recall_m: 0.8646 - val_loss: 0.4532 - val_acc: 0.8281 - val_f1_m: 0.8240 - val_precision_m: 0.8431 - val_recall_m: 0.8058\n",
            "Epoch 40/100\n",
            "146/146 [==============================] - 3s 20ms/step - loss: 0.3500 - acc: 0.8911 - f1_m: 0.8869 - precision_m: 0.9032 - recall_m: 0.8713 - val_loss: 0.4461 - val_acc: 0.8297 - val_f1_m: 0.8255 - val_precision_m: 0.8439 - val_recall_m: 0.8080\n",
            "Epoch 41/100\n",
            "146/146 [==============================] - 3s 20ms/step - loss: 0.3384 - acc: 0.8967 - f1_m: 0.8923 - precision_m: 0.9071 - recall_m: 0.8782 - val_loss: 0.4396 - val_acc: 0.8319 - val_f1_m: 0.8271 - val_precision_m: 0.8449 - val_recall_m: 0.8102\n",
            "Epoch 42/100\n",
            "146/146 [==============================] - 3s 20ms/step - loss: 0.3274 - acc: 0.9010 - f1_m: 0.8973 - precision_m: 0.9105 - recall_m: 0.8846 - val_loss: 0.4336 - val_acc: 0.8336 - val_f1_m: 0.8308 - val_precision_m: 0.8469 - val_recall_m: 0.8154\n",
            "Epoch 43/100\n",
            "146/146 [==============================] - 3s 20ms/step - loss: 0.3170 - acc: 0.9050 - f1_m: 0.9016 - precision_m: 0.9134 - recall_m: 0.8903 - val_loss: 0.4279 - val_acc: 0.8360 - val_f1_m: 0.8340 - val_precision_m: 0.8492 - val_recall_m: 0.8194\n",
            "Epoch 44/100\n",
            "146/146 [==============================] - 3s 20ms/step - loss: 0.3067 - acc: 0.9081 - f1_m: 0.9056 - precision_m: 0.9174 - recall_m: 0.8942 - val_loss: 0.4220 - val_acc: 0.8410 - val_f1_m: 0.8387 - val_precision_m: 0.8530 - val_recall_m: 0.8250\n",
            "Epoch 45/100\n",
            "146/146 [==============================] - 3s 19ms/step - loss: 0.2971 - acc: 0.9123 - f1_m: 0.9096 - precision_m: 0.9197 - recall_m: 0.8998 - val_loss: 0.4169 - val_acc: 0.8432 - val_f1_m: 0.8387 - val_precision_m: 0.8534 - val_recall_m: 0.8246\n",
            "Epoch 46/100\n",
            "146/146 [==============================] - 3s 20ms/step - loss: 0.2875 - acc: 0.9149 - f1_m: 0.9137 - precision_m: 0.9225 - recall_m: 0.9051 - val_loss: 0.4122 - val_acc: 0.8440 - val_f1_m: 0.8421 - val_precision_m: 0.8556 - val_recall_m: 0.8291\n",
            "Epoch 47/100\n",
            "146/146 [==============================] - 3s 20ms/step - loss: 0.2784 - acc: 0.9184 - f1_m: 0.9165 - precision_m: 0.9243 - recall_m: 0.9089 - val_loss: 0.4074 - val_acc: 0.8484 - val_f1_m: 0.8443 - val_precision_m: 0.8564 - val_recall_m: 0.8327\n",
            "Epoch 48/100\n",
            "146/146 [==============================] - 3s 20ms/step - loss: 0.2694 - acc: 0.9218 - f1_m: 0.9200 - precision_m: 0.9278 - recall_m: 0.9123 - val_loss: 0.4034 - val_acc: 0.8484 - val_f1_m: 0.8459 - val_precision_m: 0.8580 - val_recall_m: 0.8343\n",
            "Epoch 49/100\n",
            "146/146 [==============================] - 3s 20ms/step - loss: 0.2610 - acc: 0.9243 - f1_m: 0.9231 - precision_m: 0.9302 - recall_m: 0.9161 - val_loss: 0.3990 - val_acc: 0.8508 - val_f1_m: 0.8479 - val_precision_m: 0.8582 - val_recall_m: 0.8378\n",
            "Epoch 50/100\n",
            "146/146 [==============================] - 3s 20ms/step - loss: 0.2527 - acc: 0.9271 - f1_m: 0.9261 - precision_m: 0.9328 - recall_m: 0.9196 - val_loss: 0.3960 - val_acc: 0.8500 - val_f1_m: 0.8485 - val_precision_m: 0.8587 - val_recall_m: 0.8387\n",
            "Epoch 51/100\n",
            "146/146 [==============================] - 3s 20ms/step - loss: 0.2446 - acc: 0.9300 - f1_m: 0.9287 - precision_m: 0.9354 - recall_m: 0.9222 - val_loss: 0.3915 - val_acc: 0.8549 - val_f1_m: 0.8532 - val_precision_m: 0.8606 - val_recall_m: 0.8460\n",
            "Epoch 52/100\n",
            "146/146 [==============================] - 3s 19ms/step - loss: 0.2369 - acc: 0.9331 - f1_m: 0.9320 - precision_m: 0.9380 - recall_m: 0.9262 - val_loss: 0.3890 - val_acc: 0.8536 - val_f1_m: 0.8544 - val_precision_m: 0.8631 - val_recall_m: 0.8460\n",
            "Epoch 53/100\n",
            "146/146 [==============================] - 3s 20ms/step - loss: 0.2295 - acc: 0.9359 - f1_m: 0.9349 - precision_m: 0.9406 - recall_m: 0.9293 - val_loss: 0.3853 - val_acc: 0.8549 - val_f1_m: 0.8547 - val_precision_m: 0.8622 - val_recall_m: 0.8474\n",
            "Epoch 54/100\n",
            "146/146 [==============================] - 3s 20ms/step - loss: 0.2222 - acc: 0.9386 - f1_m: 0.9378 - precision_m: 0.9430 - recall_m: 0.9327 - val_loss: 0.3820 - val_acc: 0.8580 - val_f1_m: 0.8573 - val_precision_m: 0.8656 - val_recall_m: 0.8493\n",
            "Epoch 55/100\n",
            "146/146 [==============================] - 3s 19ms/step - loss: 0.2153 - acc: 0.9406 - f1_m: 0.9396 - precision_m: 0.9445 - recall_m: 0.9347 - val_loss: 0.3794 - val_acc: 0.8569 - val_f1_m: 0.8580 - val_precision_m: 0.8655 - val_recall_m: 0.8506\n",
            "Epoch 56/100\n",
            "146/146 [==============================] - 3s 20ms/step - loss: 0.2085 - acc: 0.9423 - f1_m: 0.9414 - precision_m: 0.9458 - recall_m: 0.9370 - val_loss: 0.3769 - val_acc: 0.8582 - val_f1_m: 0.8589 - val_precision_m: 0.8664 - val_recall_m: 0.8517\n",
            "Epoch 57/100\n",
            "146/146 [==============================] - 3s 20ms/step - loss: 0.2019 - acc: 0.9444 - f1_m: 0.9432 - precision_m: 0.9473 - recall_m: 0.9391 - val_loss: 0.3742 - val_acc: 0.8604 - val_f1_m: 0.8607 - val_precision_m: 0.8678 - val_recall_m: 0.8538\n",
            "Epoch 58/100\n",
            "146/146 [==============================] - 3s 20ms/step - loss: 0.1957 - acc: 0.9458 - f1_m: 0.9458 - precision_m: 0.9492 - recall_m: 0.9425 - val_loss: 0.3720 - val_acc: 0.8618 - val_f1_m: 0.8624 - val_precision_m: 0.8685 - val_recall_m: 0.8565\n",
            "Epoch 59/100\n",
            "146/146 [==============================] - 3s 19ms/step - loss: 0.1896 - acc: 0.9485 - f1_m: 0.9475 - precision_m: 0.9508 - recall_m: 0.9443 - val_loss: 0.3698 - val_acc: 0.8632 - val_f1_m: 0.8654 - val_precision_m: 0.8709 - val_recall_m: 0.8601\n",
            "Epoch 60/100\n",
            "146/146 [==============================] - 3s 19ms/step - loss: 0.1838 - acc: 0.9500 - f1_m: 0.9493 - precision_m: 0.9526 - recall_m: 0.9461 - val_loss: 0.3683 - val_acc: 0.8648 - val_f1_m: 0.8646 - val_precision_m: 0.8692 - val_recall_m: 0.8601\n",
            "Epoch 61/100\n",
            "146/146 [==============================] - 3s 20ms/step - loss: 0.1781 - acc: 0.9517 - f1_m: 0.9510 - precision_m: 0.9542 - recall_m: 0.9479 - val_loss: 0.3667 - val_acc: 0.8659 - val_f1_m: 0.8651 - val_precision_m: 0.8691 - val_recall_m: 0.8611\n",
            "Epoch 62/100\n",
            "146/146 [==============================] - 3s 20ms/step - loss: 0.1727 - acc: 0.9533 - f1_m: 0.9529 - precision_m: 0.9559 - recall_m: 0.9500 - val_loss: 0.3651 - val_acc: 0.8662 - val_f1_m: 0.8671 - val_precision_m: 0.8721 - val_recall_m: 0.8622\n",
            "Epoch 63/100\n",
            "146/146 [==============================] - 3s 20ms/step - loss: 0.1673 - acc: 0.9550 - f1_m: 0.9544 - precision_m: 0.9574 - recall_m: 0.9515 - val_loss: 0.3630 - val_acc: 0.8684 - val_f1_m: 0.8685 - val_precision_m: 0.8726 - val_recall_m: 0.8644\n",
            "Epoch 64/100\n",
            "146/146 [==============================] - 3s 19ms/step - loss: 0.1623 - acc: 0.9565 - f1_m: 0.9562 - precision_m: 0.9590 - recall_m: 0.9535 - val_loss: 0.3618 - val_acc: 0.8681 - val_f1_m: 0.8681 - val_precision_m: 0.8721 - val_recall_m: 0.8641\n",
            "Epoch 65/100\n",
            "146/146 [==============================] - 3s 20ms/step - loss: 0.1574 - acc: 0.9580 - f1_m: 0.9580 - precision_m: 0.9607 - recall_m: 0.9554 - val_loss: 0.3604 - val_acc: 0.8689 - val_f1_m: 0.8693 - val_precision_m: 0.8737 - val_recall_m: 0.8649\n",
            "Epoch 66/100\n",
            "146/146 [==============================] - 3s 19ms/step - loss: 0.1526 - acc: 0.9596 - f1_m: 0.9593 - precision_m: 0.9616 - recall_m: 0.9569 - val_loss: 0.3599 - val_acc: 0.8678 - val_f1_m: 0.8696 - val_precision_m: 0.8738 - val_recall_m: 0.8655\n",
            "Epoch 67/100\n",
            "146/146 [==============================] - 3s 20ms/step - loss: 0.1480 - acc: 0.9610 - f1_m: 0.9607 - precision_m: 0.9629 - recall_m: 0.9586 - val_loss: 0.3585 - val_acc: 0.8709 - val_f1_m: 0.8705 - val_precision_m: 0.8742 - val_recall_m: 0.8669\n",
            "Epoch 68/100\n",
            "146/146 [==============================] - 3s 20ms/step - loss: 0.1436 - acc: 0.9616 - f1_m: 0.9616 - precision_m: 0.9636 - recall_m: 0.9597 - val_loss: 0.3577 - val_acc: 0.8714 - val_f1_m: 0.8713 - val_precision_m: 0.8748 - val_recall_m: 0.8679\n",
            "Epoch 69/100\n",
            "146/146 [==============================] - 3s 20ms/step - loss: 0.1394 - acc: 0.9627 - f1_m: 0.9626 - precision_m: 0.9644 - recall_m: 0.9608 - val_loss: 0.3576 - val_acc: 0.8711 - val_f1_m: 0.8710 - val_precision_m: 0.8740 - val_recall_m: 0.8679\n",
            "Epoch 70/100\n",
            "146/146 [==============================] - 3s 20ms/step - loss: 0.1352 - acc: 0.9639 - f1_m: 0.9637 - precision_m: 0.9653 - recall_m: 0.9620 - val_loss: 0.3569 - val_acc: 0.8709 - val_f1_m: 0.8716 - val_precision_m: 0.8748 - val_recall_m: 0.8685\n",
            "Epoch 71/100\n",
            "146/146 [==============================] - 3s 19ms/step - loss: 0.1313 - acc: 0.9646 - f1_m: 0.9646 - precision_m: 0.9663 - recall_m: 0.9629 - val_loss: 0.3561 - val_acc: 0.8730 - val_f1_m: 0.8732 - val_precision_m: 0.8759 - val_recall_m: 0.8706\n",
            "Epoch 72/100\n",
            "146/146 [==============================] - 3s 19ms/step - loss: 0.1276 - acc: 0.9660 - f1_m: 0.9657 - precision_m: 0.9673 - recall_m: 0.9641 - val_loss: 0.3556 - val_acc: 0.8739 - val_f1_m: 0.8745 - val_precision_m: 0.8768 - val_recall_m: 0.8723\n",
            "Epoch 73/100\n",
            "146/146 [==============================] - 3s 20ms/step - loss: 0.1237 - acc: 0.9675 - f1_m: 0.9674 - precision_m: 0.9693 - recall_m: 0.9656 - val_loss: 0.3569 - val_acc: 0.8739 - val_f1_m: 0.8741 - val_precision_m: 0.8769 - val_recall_m: 0.8714\n",
            "Epoch 00073: early stopping\n"
          ],
          "name": "stdout"
        }
      ]
    },
    {
      "cell_type": "code",
      "metadata": {
        "id": "nDYD0DCOWhmD",
        "colab_type": "code",
        "colab": {
          "base_uri": "https://localhost:8080/",
          "height": 1000
        },
        "outputId": "4911c4f5-980b-4ad8-bfdd-c258b339d18a"
      },
      "source": [
        "plot_graphs(history2, \"acc\")\n",
        "plot_graphs(history2, \"loss\")  \n",
        "custom_evaluate(model_bi,X1_test,Y1_test)\n",
        "custom_evaluate(model_bi,X2_test,Y2_test)\n",
        "custom_evaluate(model_bi,X3_test,Y3_test)\n",
        "custom_evaluate(model_bi,X4_test,Y4_test)\n",
        "custom_evaluate(model_bi,X5_test,Y5_test)\n",
        "\n",
        "\n",
        "#loss, acc, f1_score, precision, recall = model_bi.evaluate(X_test, Y_test,  verbose=0 )\n",
        "#print_stats(f1_score, precision, recall, acc)\n"
      ],
      "execution_count": null,
      "outputs": [
        {
          "output_type": "display_data",
          "data": {
            "image/png": "[encoded data removed]",
            "text/plain": [
              "<Figure size 432x288 with 1 Axes>"
            ]
          },
          "metadata": {
            "tags": [],
            "needs_background": "light"
          }
        },
        {
          "output_type": "display_data",
          "data": {
            "image/png": "[encoded data removed]",
            "text/plain": [
              "<Figure size 432x288 with 1 Axes>"
            ]
          },
          "metadata": {
            "tags": [],
            "needs_background": "light"
          }
        },
        {
          "output_type": "stream",
          "text": [
            "-------------------------------------\n",
            "#######################################################\n",
            "F1        : 0.8611730337142944\n",
            "Precision : 0.8621651530265808\n",
            "Recall    : 0.8602120280265808\n",
            "Accuracy  : 0.8602794408798218\n",
            "#######################################################\n",
            "-------------------------------------\n",
            "#######################################################\n",
            "F1        : 0.8293270468711853\n",
            "Precision : 0.8316760659217834\n",
            "Recall    : 0.8271019458770752\n",
            "Accuracy  : 0.826347291469574\n",
            "#######################################################\n",
            "-------------------------------------\n",
            "#######################################################\n",
            "F1        : 0.8590028882026672\n",
            "Precision : 0.8597710132598877\n",
            "Recall    : 0.8582589030265808\n",
            "Accuracy  : 0.8602794408798218\n",
            "#######################################################\n",
            "-------------------------------------\n",
            "#######################################################\n",
            "F1        : 0.8844245672225952\n",
            "Precision : 0.8861847519874573\n",
            "Recall    : 0.8827195167541504\n",
            "Accuracy  : 0.8822355270385742\n",
            "#######################################################\n",
            "-------------------------------------\n",
            "#######################################################\n",
            "F1        : 0.8756510615348816\n",
            "Precision : 0.8764191269874573\n",
            "Recall    : 0.8749070167541504\n",
            "Accuracy  : 0.8762475252151489\n",
            "#######################################################\n"
          ],
          "name": "stdout"
        }
      ]
    },
    {
      "cell_type": "markdown",
      "metadata": {
        "id": "fdEICPDOEKUT",
        "colab_type": "text"
      },
      "source": [
        "# Build Model - Transformer\n",
        "\n",
        "\n",
        "Transformer layer outputs one vector for each time step of our input sequence. Here, we take the mean across all time steps and use a feed forward network on top of it to classify text."
      ]
    },
    {
      "cell_type": "code",
      "metadata": {
        "id": "a5QL3V2wEPvL",
        "colab_type": "code",
        "colab": {}
      },
      "source": [
        "import tensorflow as tf\n",
        "from tensorflow import keras\n",
        "from tensorflow.keras import layers\n",
        "from tensorflow.keras import optimizers as tfopt\n",
        "\n",
        "class MultiHeadSelfAttention(layers.Layer):\n",
        "    def __init__(self, embed_dim, num_heads=8):\n",
        "        super(MultiHeadSelfAttention, self).__init__()\n",
        "        self.embed_dim = embed_dim\n",
        "        self.num_heads = num_heads\n",
        "        if embed_dim % num_heads != 0:\n",
        "            raise ValueError(\n",
        "                f\"embedding dimension = {embed_dim} should be divisible by number of heads = {num_heads}\"\n",
        "            )\n",
        "        self.projection_dim = embed_dim // num_heads\n",
        "        self.query_dense = layers.Dense(embed_dim)\n",
        "        self.key_dense = layers.Dense(embed_dim)\n",
        "        self.value_dense = layers.Dense(embed_dim)\n",
        "        self.combine_heads = layers.Dense(embed_dim)\n",
        "\n",
        "    def attention(self, query, key, value):\n",
        "        score = tf.matmul(query, key, transpose_b=True)\n",
        "        dim_key = tf.cast(tf.shape(key)[-1], tf.float32)\n",
        "        scaled_score = score / tf.math.sqrt(dim_key)\n",
        "        weights = tf.nn.softmax(scaled_score, axis=-1)\n",
        "        output = tf.matmul(weights, value)\n",
        "        return output, weights\n",
        "\n",
        "    def separate_heads(self, x, batch_size):\n",
        "        x = tf.reshape(x, (batch_size, -1, self.num_heads, self.projection_dim))\n",
        "        return tf.transpose(x, perm=[0, 2, 1, 3])\n",
        "\n",
        "    def call(self, inputs):\n",
        "        # x.shape = [batch_size, seq_len, embedding_dim]\n",
        "        batch_size = tf.shape(inputs)[0]\n",
        "        query = self.query_dense(inputs)  # (batch_size, seq_len, embed_dim)\n",
        "        key = self.key_dense(inputs)  # (batch_size, seq_len, embed_dim)\n",
        "        value = self.value_dense(inputs)  # (batch_size, seq_len, embed_dim)\n",
        "        query = self.separate_heads(\n",
        "            query, batch_size\n",
        "        )  # (batch_size, num_heads, seq_len, projection_dim)\n",
        "        key = self.separate_heads(\n",
        "            key, batch_size\n",
        "        )  # (batch_size, num_heads, seq_len, projection_dim)\n",
        "        value = self.separate_heads(\n",
        "            value, batch_size\n",
        "        )  # (batch_size, num_heads, seq_len, projection_dim)\n",
        "        attention, weights = self.attention(query, key, value)\n",
        "        attention = tf.transpose(\n",
        "            attention, perm=[0, 2, 1, 3]\n",
        "        )  # (batch_size, seq_len, num_heads, projection_dim)\n",
        "        concat_attention = tf.reshape(\n",
        "            attention, (batch_size, -1, self.embed_dim)\n",
        "        )  # (batch_size, seq_len, embed_dim)\n",
        "        output = self.combine_heads(\n",
        "            concat_attention\n",
        "        )  # (batch_size, seq_len, embed_dim)\n",
        "        return output\n",
        "\n",
        "class TransformerBlock(layers.Layer):\n",
        "    def __init__(self, embed_dim, num_heads, ff_dim, rate=0.1):\n",
        "        super(TransformerBlock, self).__init__()\n",
        "        self.att = MultiHeadSelfAttention(embed_dim, num_heads)\n",
        "        self.ffn = keras.Sequential(\n",
        "            [layers.Dense(ff_dim, activation=\"relu\"), layers.Dense(embed_dim),]\n",
        "        )\n",
        "        self.layernorm1 = layers.LayerNormalization(epsilon=1e-6)\n",
        "        self.layernorm2 = layers.LayerNormalization(epsilon=1e-6)\n",
        "        self.dropout1 = layers.Dropout(rate)\n",
        "        self.dropout2 = layers.Dropout(rate)\n",
        "\n",
        "    def call(self, inputs, training):\n",
        "        attn_output = self.att(inputs)\n",
        "        attn_output = self.dropout1(attn_output, training=training)\n",
        "        out1 = self.layernorm1(inputs + attn_output)\n",
        "        ffn_output = self.ffn(out1)\n",
        "        ffn_output = self.dropout2(ffn_output, training=training)\n",
        "        return self.layernorm2(out1 + ffn_output)\n",
        "\n",
        "#Two seperate embedding layers, one for tokens, one for token index (positions).\n",
        "\n",
        "class TokenAndPositionEmbedding(layers.Layer):\n",
        "    def __init__(self, maxlen, vocab_size, embed_dim):\n",
        "        super(TokenAndPositionEmbedding, self).__init__()\n",
        "        self.token_emb = layers.Embedding(input_dim=vocab_size, output_dim=embed_dim)\n",
        "        self.pos_emb = layers.Embedding(input_dim=maxlen, output_dim=embed_dim)\n",
        "\n",
        "    def call(self, x):\n",
        "        maxlen = tf.shape(x)[-1]\n",
        "        positions = tf.range(start=0, limit=maxlen, delta=1)\n",
        "        positions = self.pos_emb(positions)\n",
        "        x = self.token_emb(x)\n",
        "        return x + positions"
      ],
      "execution_count": null,
      "outputs": []
    },
    {
      "cell_type": "code",
      "metadata": {
        "id": "fOJyqaH3E4Sk",
        "colab_type": "code",
        "colab": {}
      },
      "source": [
        "maxlen = 12\n",
        "vocab_size = 15000\n",
        "#X_train = keras.preprocessing.sequence.pad_sequences(X_train, maxlen=maxlen)\n",
        "#X_test = keras.preprocessing.sequence.pad_sequences(X_test, maxlen=maxlen)"
      ],
      "execution_count": null,
      "outputs": []
    },
    {
      "cell_type": "code",
      "metadata": {
        "id": "IFLE91vrFOf6",
        "colab_type": "code",
        "colab": {
          "base_uri": "https://localhost:8080/",
          "height": 34
        },
        "outputId": "49239f3e-a5f8-4c4c-aae4-d7901e7690fb"
      },
      "source": [
        "X_train.shape"
      ],
      "execution_count": null,
      "outputs": [
        {
          "output_type": "execute_result",
          "data": {
            "text/plain": [
              "(14588, 12)"
            ]
          },
          "metadata": {
            "tags": []
          },
          "execution_count": 72
        }
      ]
    },
    {
      "cell_type": "code",
      "metadata": {
        "id": "KywH_NwgK2Id",
        "colab_type": "code",
        "colab": {
          "base_uri": "https://localhost:8080/",
          "height": 52
        },
        "outputId": "610cf501-8137-443c-cd50-a7692aef17b8"
      },
      "source": [
        "X_train[100]"
      ],
      "execution_count": null,
      "outputs": [
        {
          "output_type": "execute_result",
          "data": {
            "text/plain": [
              "array([ 482,  361, 1547, 1793,    1,  173,    4,  242,    0,    0,    0,\n",
              "          0], dtype=int32)"
            ]
          },
          "metadata": {
            "tags": []
          },
          "execution_count": 73
        }
      ]
    },
    {
      "cell_type": "code",
      "metadata": {
        "id": "0cV63Z46FSf8",
        "colab_type": "code",
        "colab": {}
      },
      "source": [
        "embed_dim = 100  # Embedding size for each token\n",
        "num_heads = 2  # Number of attention heads\n",
        "ff_dim = 32  # Hidden layer size in feed forward network inside transformer\n",
        "#keras.backend.clear_session()\n",
        "inputs = layers.Input(shape=(maxlen,))\n",
        "embedding_layer = TokenAndPositionEmbedding(maxlen, vocab_size, embed_dim)\n",
        "x = embedding_layer(inputs)\n",
        "transformer_block =  TransformerBlock(embed_dim, num_heads, ff_dim)\n",
        "x = transformer_block(x)\n",
        "x = layers.GlobalAveragePooling1D()(x)\n",
        "x = layers.Dropout(0.25)(x)\n",
        "x = layers.Dense(64, activation=\"softmax\")(x)\n",
        "x = layers.Dropout(0.1)(x)\n",
        "outputs = layers.Dense(3, activation=\"softmax\")(x)\n",
        "\n",
        "model_transformer = keras.Model(inputs=inputs, outputs=outputs)"
      ],
      "execution_count": null,
      "outputs": []
    },
    {
      "cell_type": "markdown",
      "metadata": {
        "id": "0Rx1gKcmcYcI",
        "colab_type": "text"
      },
      "source": [
        "## Result\n",
        "\n",
        "100 epochs, 100 batch. 19k data training. Dense softmax activation. and extra more layer of danse 20 has given similar kind but better result achieved in LSTM model 1 with 64.\n",
        "\n",
        "acc 0.898 - better\n",
        "\n",
        "val_loss 0.7 - similar \n",
        "\n",
        "runtime 204.79s - less than half of LSTM model1 "
      ]
    },
    {
      "cell_type": "code",
      "metadata": {
        "id": "1wx9uR0QFalZ",
        "colab_type": "code",
        "colab": {
          "base_uri": "https://localhost:8080/",
          "height": 1000
        },
        "outputId": "b7e3f18a-5c8f-4da6-b791-bf7702bd245b"
      },
      "source": [
        "with tf.device('/device:GPU:0'):\n",
        "  optimizer_t = tfopt.Adam(learning_rate=1e-5)\n",
        "  model_transformer.compile(loss=\"categorical_crossentropy\", optimizer=optimizer_t,  metrics=['acc',f1_m,precision_m, recall_m]\n",
        ")\n",
        "  model_transformer.summary()\n",
        "  history_transformer = model_transformer.fit(\n",
        "      X_train, Y_train, batch_size=100, epochs=100, validation_data=(X_test, Y_test)\n",
        "  )"
      ],
      "execution_count": null,
      "outputs": [
        {
          "output_type": "stream",
          "text": [
            "Model: \"model\"\n",
            "_________________________________________________________________\n",
            "Layer (type)                 Output Shape              Param #   \n",
            "=================================================================\n",
            "input_1 (InputLayer)         [(None, 12)]              0         \n",
            "_________________________________________________________________\n",
            "token_and_position_embedding (None, 12, 100)           1501200   \n",
            "_________________________________________________________________\n",
            "transformer_block (Transform (None, 12, 100)           47332     \n",
            "_________________________________________________________________\n",
            "global_average_pooling1d (Gl (None, 100)               0         \n",
            "_________________________________________________________________\n",
            "dropout_2 (Dropout)          (None, 100)               0         \n",
            "_________________________________________________________________\n",
            "dense_6 (Dense)              (None, 64)                6464      \n",
            "_________________________________________________________________\n",
            "dropout_3 (Dropout)          (None, 64)                0         \n",
            "_________________________________________________________________\n",
            "dense_7 (Dense)              (None, 3)                 195       \n",
            "=================================================================\n",
            "Total params: 1,555,191\n",
            "Trainable params: 1,555,191\n",
            "Non-trainable params: 0\n",
            "_________________________________________________________________\n",
            "Epoch 1/100\n",
            "146/146 [==============================] - 5s 36ms/step - loss: 1.0979 - acc: 0.3432 - f1_m: 0.0000e+00 - precision_m: 0.0000e+00 - recall_m: 0.0000e+00 - val_loss: 1.0958 - val_acc: 0.3693 - val_f1_m: 0.0000e+00 - val_precision_m: 0.0000e+00 - val_recall_m: 0.0000e+00\n",
            "Epoch 2/100\n",
            "146/146 [==============================] - 4s 31ms/step - loss: 1.0949 - acc: 0.3656 - f1_m: 0.0000e+00 - precision_m: 0.0000e+00 - recall_m: 0.0000e+00 - val_loss: 1.0906 - val_acc: 0.3852 - val_f1_m: 0.0000e+00 - val_precision_m: 0.0000e+00 - val_recall_m: 0.0000e+00\n",
            "Epoch 3/100\n",
            "146/146 [==============================] - 5s 31ms/step - loss: 1.0906 - acc: 0.3752 - f1_m: 0.0000e+00 - precision_m: 0.0000e+00 - recall_m: 0.0000e+00 - val_loss: 1.0840 - val_acc: 0.4110 - val_f1_m: 0.0000e+00 - val_precision_m: 0.0000e+00 - val_recall_m: 0.0000e+00\n",
            "Epoch 4/100\n",
            "146/146 [==============================] - 4s 30ms/step - loss: 1.0858 - acc: 0.4038 - f1_m: 0.0000e+00 - precision_m: 0.0000e+00 - recall_m: 0.0000e+00 - val_loss: 1.0783 - val_acc: 0.4447 - val_f1_m: 0.0000e+00 - val_precision_m: 0.0000e+00 - val_recall_m: 0.0000e+00\n",
            "Epoch 5/100\n",
            "146/146 [==============================] - 5s 31ms/step - loss: 1.0793 - acc: 0.4373 - f1_m: 0.0000e+00 - precision_m: 0.0000e+00 - recall_m: 0.0000e+00 - val_loss: 1.0709 - val_acc: 0.4749 - val_f1_m: 0.0000e+00 - val_precision_m: 0.0000e+00 - val_recall_m: 0.0000e+00\n",
            "Epoch 6/100\n",
            "146/146 [==============================] - 5s 31ms/step - loss: 1.0682 - acc: 0.4633 - f1_m: 0.0000e+00 - precision_m: 0.0000e+00 - recall_m: 0.0000e+00 - val_loss: 1.0572 - val_acc: 0.4985 - val_f1_m: 0.0000e+00 - val_precision_m: 0.0000e+00 - val_recall_m: 0.0000e+00\n",
            "Epoch 7/100\n",
            "146/146 [==============================] - 5s 31ms/step - loss: 1.0539 - acc: 0.4777 - f1_m: 0.0000e+00 - precision_m: 0.0000e+00 - recall_m: 0.0000e+00 - val_loss: 1.0444 - val_acc: 0.5114 - val_f1_m: 0.0000e+00 - val_precision_m: 0.0000e+00 - val_recall_m: 0.0000e+00\n",
            "Epoch 8/100\n",
            "146/146 [==============================] - 4s 30ms/step - loss: 1.0438 - acc: 0.4877 - f1_m: 0.0000e+00 - precision_m: 0.0000e+00 - recall_m: 0.0000e+00 - val_loss: 1.0347 - val_acc: 0.5240 - val_f1_m: 0.0000e+00 - val_precision_m: 0.0000e+00 - val_recall_m: 0.0000e+00\n",
            "Epoch 9/100\n",
            "146/146 [==============================] - 4s 30ms/step - loss: 1.0338 - acc: 0.5077 - f1_m: 0.0000e+00 - precision_m: 0.0000e+00 - recall_m: 0.0000e+00 - val_loss: 1.0255 - val_acc: 0.5391 - val_f1_m: 0.0000e+00 - val_precision_m: 0.0000e+00 - val_recall_m: 0.0000e+00\n",
            "Epoch 10/100\n",
            "146/146 [==============================] - 4s 30ms/step - loss: 1.0232 - acc: 0.5215 - f1_m: 0.0000e+00 - precision_m: 0.0000e+00 - recall_m: 0.0000e+00 - val_loss: 1.0161 - val_acc: 0.5574 - val_f1_m: 0.0000e+00 - val_precision_m: 0.0000e+00 - val_recall_m: 0.0000e+00\n",
            "Epoch 11/100\n",
            "146/146 [==============================] - 4s 29ms/step - loss: 1.0127 - acc: 0.5400 - f1_m: 0.0000e+00 - precision_m: 0.0000e+00 - recall_m: 0.0000e+00 - val_loss: 1.0074 - val_acc: 0.5755 - val_f1_m: 0.0000e+00 - val_precision_m: 0.0000e+00 - val_recall_m: 0.0000e+00\n",
            "Epoch 12/100\n",
            "146/146 [==============================] - 4s 30ms/step - loss: 1.0033 - acc: 0.5566 - f1_m: 0.0000e+00 - precision_m: 0.0000e+00 - recall_m: 0.0000e+00 - val_loss: 0.9985 - val_acc: 0.5906 - val_f1_m: 0.0000e+00 - val_precision_m: 0.0000e+00 - val_recall_m: 0.0000e+00\n",
            "Epoch 13/100\n",
            "146/146 [==============================] - 4s 30ms/step - loss: 0.9940 - acc: 0.5681 - f1_m: 0.0000e+00 - precision_m: 0.0000e+00 - recall_m: 0.0000e+00 - val_loss: 0.9908 - val_acc: 0.6035 - val_f1_m: 0.0000e+00 - val_precision_m: 0.0000e+00 - val_recall_m: 0.0000e+00\n",
            "Epoch 14/100\n",
            "146/146 [==============================] - 4s 29ms/step - loss: 0.9855 - acc: 0.5790 - f1_m: 0.0000e+00 - precision_m: 0.0000e+00 - recall_m: 0.0000e+00 - val_loss: 0.9843 - val_acc: 0.6109 - val_f1_m: 0.0000e+00 - val_precision_m: 0.0000e+00 - val_recall_m: 0.0000e+00\n",
            "Epoch 15/100\n",
            "146/146 [==============================] - 4s 30ms/step - loss: 0.9792 - acc: 0.5819 - f1_m: 0.0000e+00 - precision_m: 0.0000e+00 - recall_m: 0.0000e+00 - val_loss: 0.9790 - val_acc: 0.6172 - val_f1_m: 0.0000e+00 - val_precision_m: 0.0000e+00 - val_recall_m: 0.0000e+00\n",
            "Epoch 16/100\n",
            "146/146 [==============================] - 4s 30ms/step - loss: 0.9725 - acc: 0.5858 - f1_m: 0.0000e+00 - precision_m: 0.0000e+00 - recall_m: 0.0000e+00 - val_loss: 0.9745 - val_acc: 0.6230 - val_f1_m: 0.0000e+00 - val_precision_m: 0.0000e+00 - val_recall_m: 0.0000e+00\n",
            "Epoch 17/100\n",
            "146/146 [==============================] - 4s 30ms/step - loss: 0.9665 - acc: 0.5903 - f1_m: 0.0000e+00 - precision_m: 0.0000e+00 - recall_m: 0.0000e+00 - val_loss: 0.9707 - val_acc: 0.6268 - val_f1_m: 0.0000e+00 - val_precision_m: 0.0000e+00 - val_recall_m: 0.0000e+00\n",
            "Epoch 18/100\n",
            "146/146 [==============================] - 4s 31ms/step - loss: 0.9627 - acc: 0.5921 - f1_m: 0.0000e+00 - precision_m: 0.0000e+00 - recall_m: 0.0000e+00 - val_loss: 0.9674 - val_acc: 0.6293 - val_f1_m: 0.0000e+00 - val_precision_m: 0.0000e+00 - val_recall_m: 0.0000e+00\n",
            "Epoch 19/100\n",
            "146/146 [==============================] - 5s 33ms/step - loss: 0.9590 - acc: 0.5940 - f1_m: 0.0000e+00 - precision_m: 0.0000e+00 - recall_m: 0.0000e+00 - val_loss: 0.9646 - val_acc: 0.6307 - val_f1_m: 0.0000e+00 - val_precision_m: 0.0000e+00 - val_recall_m: 0.0000e+00\n",
            "Epoch 20/100\n",
            "146/146 [==============================] - 5s 32ms/step - loss: 0.9566 - acc: 0.5934 - f1_m: 0.0000e+00 - precision_m: 0.0000e+00 - recall_m: 0.0000e+00 - val_loss: 0.9620 - val_acc: 0.6339 - val_f1_m: 0.0000e+00 - val_precision_m: 0.0000e+00 - val_recall_m: 0.0000e+00\n",
            "Epoch 21/100\n",
            "146/146 [==============================] - 4s 30ms/step - loss: 0.9534 - acc: 0.5964 - f1_m: 0.0000e+00 - precision_m: 0.0000e+00 - recall_m: 0.0000e+00 - val_loss: 0.9599 - val_acc: 0.6342 - val_f1_m: 0.0000e+00 - val_precision_m: 0.0000e+00 - val_recall_m: 0.0000e+00\n",
            "Epoch 22/100\n",
            "146/146 [==============================] - 4s 30ms/step - loss: 0.9508 - acc: 0.5996 - f1_m: 0.0000e+00 - precision_m: 0.0000e+00 - recall_m: 0.0000e+00 - val_loss: 0.9578 - val_acc: 0.6361 - val_f1_m: 0.0000e+00 - val_precision_m: 0.0000e+00 - val_recall_m: 0.0000e+00\n",
            "Epoch 23/100\n",
            "146/146 [==============================] - 4s 31ms/step - loss: 0.9485 - acc: 0.5984 - f1_m: 0.0000e+00 - precision_m: 0.0000e+00 - recall_m: 0.0000e+00 - val_loss: 0.9559 - val_acc: 0.6367 - val_f1_m: 0.0000e+00 - val_precision_m: 0.0000e+00 - val_recall_m: 0.0000e+00\n",
            "Epoch 24/100\n",
            "146/146 [==============================] - 4s 30ms/step - loss: 0.9456 - acc: 0.6031 - f1_m: 0.0000e+00 - precision_m: 0.0000e+00 - recall_m: 0.0000e+00 - val_loss: 0.9540 - val_acc: 0.6370 - val_f1_m: 0.0000e+00 - val_precision_m: 0.0000e+00 - val_recall_m: 0.0000e+00\n",
            "Epoch 25/100\n",
            "146/146 [==============================] - 4s 30ms/step - loss: 0.9432 - acc: 0.6039 - f1_m: 0.0000e+00 - precision_m: 0.0000e+00 - recall_m: 0.0000e+00 - val_loss: 0.9525 - val_acc: 0.6378 - val_f1_m: 0.0000e+00 - val_precision_m: 0.0000e+00 - val_recall_m: 0.0000e+00\n",
            "Epoch 26/100\n",
            "146/146 [==============================] - 4s 30ms/step - loss: 0.9417 - acc: 0.6054 - f1_m: 0.0000e+00 - precision_m: 0.0000e+00 - recall_m: 0.0000e+00 - val_loss: 0.9507 - val_acc: 0.6372 - val_f1_m: 0.0000e+00 - val_precision_m: 0.0000e+00 - val_recall_m: 0.0000e+00\n",
            "Epoch 27/100\n",
            "146/146 [==============================] - 4s 31ms/step - loss: 0.9394 - acc: 0.6084 - f1_m: 0.0000e+00 - precision_m: 0.0000e+00 - recall_m: 0.0000e+00 - val_loss: 0.9490 - val_acc: 0.6383 - val_f1_m: 0.0000e+00 - val_precision_m: 0.0000e+00 - val_recall_m: 0.0000e+00\n",
            "Epoch 28/100\n",
            "146/146 [==============================] - 4s 30ms/step - loss: 0.9367 - acc: 0.6162 - f1_m: 0.0000e+00 - precision_m: 0.0000e+00 - recall_m: 0.0000e+00 - val_loss: 0.9470 - val_acc: 0.6427 - val_f1_m: 0.0000e+00 - val_precision_m: 0.0000e+00 - val_recall_m: 0.0000e+00\n",
            "Epoch 29/100\n",
            "146/146 [==============================] - 4s 30ms/step - loss: 0.9337 - acc: 0.6328 - f1_m: 0.0000e+00 - precision_m: 0.0000e+00 - recall_m: 0.0000e+00 - val_loss: 0.9441 - val_acc: 0.6559 - val_f1_m: 0.0000e+00 - val_precision_m: 0.0000e+00 - val_recall_m: 0.0000e+00\n",
            "Epoch 30/100\n",
            "146/146 [==============================] - 4s 30ms/step - loss: 0.9286 - acc: 0.6831 - f1_m: 0.0000e+00 - precision_m: 0.0000e+00 - recall_m: 0.0000e+00 - val_loss: 0.9395 - val_acc: 0.7000 - val_f1_m: 0.0000e+00 - val_precision_m: 0.0000e+00 - val_recall_m: 0.0000e+00\n",
            "Epoch 31/100\n",
            "146/146 [==============================] - 4s 30ms/step - loss: 0.9228 - acc: 0.7473 - f1_m: 0.0000e+00 - precision_m: 0.0000e+00 - recall_m: 0.0000e+00 - val_loss: 0.9347 - val_acc: 0.7327 - val_f1_m: 0.0000e+00 - val_precision_m: 0.0000e+00 - val_recall_m: 0.0000e+00\n",
            "Epoch 32/100\n",
            "146/146 [==============================] - 4s 30ms/step - loss: 0.9171 - acc: 0.7840 - f1_m: 0.0000e+00 - precision_m: 0.0000e+00 - recall_m: 0.0000e+00 - val_loss: 0.9301 - val_acc: 0.7573 - val_f1_m: 0.0000e+00 - val_precision_m: 0.0000e+00 - val_recall_m: 0.0000e+00\n",
            "Epoch 33/100\n",
            "146/146 [==============================] - 4s 30ms/step - loss: 0.9114 - acc: 0.8049 - f1_m: 0.0000e+00 - precision_m: 0.0000e+00 - recall_m: 0.0000e+00 - val_loss: 0.9258 - val_acc: 0.7741 - val_f1_m: 0.0000e+00 - val_precision_m: 0.0000e+00 - val_recall_m: 0.0000e+00\n",
            "Epoch 34/100\n",
            "146/146 [==============================] - 4s 30ms/step - loss: 0.9046 - acc: 0.8256 - f1_m: 0.0000e+00 - precision_m: 0.0000e+00 - recall_m: 0.0000e+00 - val_loss: 0.9213 - val_acc: 0.7859 - val_f1_m: 0.0000e+00 - val_precision_m: 0.0000e+00 - val_recall_m: 0.0000e+00\n",
            "Epoch 35/100\n",
            "146/146 [==============================] - 4s 30ms/step - loss: 0.8979 - acc: 0.8418 - f1_m: 0.0000e+00 - precision_m: 0.0000e+00 - recall_m: 0.0000e+00 - val_loss: 0.9160 - val_acc: 0.7944 - val_f1_m: 0.0000e+00 - val_precision_m: 0.0000e+00 - val_recall_m: 0.0000e+00\n",
            "Epoch 36/100\n",
            "146/146 [==============================] - 4s 30ms/step - loss: 0.8909 - acc: 0.8523 - f1_m: 0.0000e+00 - precision_m: 0.0000e+00 - recall_m: 0.0000e+00 - val_loss: 0.9086 - val_acc: 0.8045 - val_f1_m: 0.0000e+00 - val_precision_m: 0.0000e+00 - val_recall_m: 0.0000e+00\n",
            "Epoch 37/100\n",
            "146/146 [==============================] - 4s 30ms/step - loss: 0.8810 - acc: 0.8603 - f1_m: 0.0000e+00 - precision_m: 0.0000e+00 - recall_m: 0.0000e+00 - val_loss: 0.9021 - val_acc: 0.8108 - val_f1_m: 0.0000e+00 - val_precision_m: 0.0000e+00 - val_recall_m: 0.0000e+00\n",
            "Epoch 38/100\n",
            "146/146 [==============================] - 4s 29ms/step - loss: 0.8738 - acc: 0.8665 - f1_m: 0.0000e+00 - precision_m: 0.0000e+00 - recall_m: 0.0000e+00 - val_loss: 0.8970 - val_acc: 0.8199 - val_f1_m: 0.0000e+00 - val_precision_m: 0.0000e+00 - val_recall_m: 0.0000e+00\n",
            "Epoch 39/100\n",
            "146/146 [==============================] - 4s 30ms/step - loss: 0.8668 - acc: 0.8734 - f1_m: 0.0000e+00 - precision_m: 0.0000e+00 - recall_m: 0.0000e+00 - val_loss: 0.8927 - val_acc: 0.8259 - val_f1_m: 0.0000e+00 - val_precision_m: 0.0000e+00 - val_recall_m: 0.0000e+00\n",
            "Epoch 40/100\n",
            "146/146 [==============================] - 4s 29ms/step - loss: 0.8618 - acc: 0.8775 - f1_m: 0.0000e+00 - precision_m: 0.0000e+00 - recall_m: 0.0000e+00 - val_loss: 0.8886 - val_acc: 0.8289 - val_f1_m: 0.0000e+00 - val_precision_m: 0.0000e+00 - val_recall_m: 0.0000e+00\n",
            "Epoch 41/100\n",
            "146/146 [==============================] - 4s 29ms/step - loss: 0.8550 - acc: 0.8828 - f1_m: 0.0000e+00 - precision_m: 0.0000e+00 - recall_m: 0.0000e+00 - val_loss: 0.8853 - val_acc: 0.8338 - val_f1_m: 0.0000e+00 - val_precision_m: 0.0000e+00 - val_recall_m: 0.0000e+00\n",
            "Epoch 42/100\n",
            "146/146 [==============================] - 4s 30ms/step - loss: 0.8516 - acc: 0.8832 - f1_m: 0.0000e+00 - precision_m: 0.0000e+00 - recall_m: 0.0000e+00 - val_loss: 0.8821 - val_acc: 0.8363 - val_f1_m: 0.0000e+00 - val_precision_m: 0.0000e+00 - val_recall_m: 0.0000e+00\n",
            "Epoch 43/100\n",
            "146/146 [==============================] - 4s 29ms/step - loss: 0.8464 - acc: 0.8860 - f1_m: 0.0000e+00 - precision_m: 0.0000e+00 - recall_m: 0.0000e+00 - val_loss: 0.8793 - val_acc: 0.8385 - val_f1_m: 0.0000e+00 - val_precision_m: 0.0000e+00 - val_recall_m: 0.0000e+00\n",
            "Epoch 44/100\n",
            "146/146 [==============================] - 4s 30ms/step - loss: 0.8435 - acc: 0.8832 - f1_m: 0.0000e+00 - precision_m: 0.0000e+00 - recall_m: 0.0000e+00 - val_loss: 0.8770 - val_acc: 0.8423 - val_f1_m: 0.0000e+00 - val_precision_m: 0.0000e+00 - val_recall_m: 0.0000e+00\n",
            "Epoch 45/100\n",
            "146/146 [==============================] - 4s 30ms/step - loss: 0.8403 - acc: 0.8872 - f1_m: 0.0000e+00 - precision_m: 0.0000e+00 - recall_m: 0.0000e+00 - val_loss: 0.8742 - val_acc: 0.8423 - val_f1_m: 0.0000e+00 - val_precision_m: 0.0000e+00 - val_recall_m: 0.0000e+00\n",
            "Epoch 46/100\n",
            "146/146 [==============================] - 4s 29ms/step - loss: 0.8355 - acc: 0.8909 - f1_m: 0.0000e+00 - precision_m: 0.0000e+00 - recall_m: 0.0000e+00 - val_loss: 0.8719 - val_acc: 0.8440 - val_f1_m: 0.0000e+00 - val_precision_m: 0.0000e+00 - val_recall_m: 0.0000e+00\n",
            "Epoch 47/100\n",
            "146/146 [==============================] - 4s 29ms/step - loss: 0.8333 - acc: 0.8878 - f1_m: 0.0000e+00 - precision_m: 0.0000e+00 - recall_m: 0.0000e+00 - val_loss: 0.8697 - val_acc: 0.8451 - val_f1_m: 0.0000e+00 - val_precision_m: 0.0000e+00 - val_recall_m: 0.0000e+00\n",
            "Epoch 48/100\n",
            "146/146 [==============================] - 4s 29ms/step - loss: 0.8311 - acc: 0.8876 - f1_m: 0.0000e+00 - precision_m: 0.0000e+00 - recall_m: 0.0000e+00 - val_loss: 0.8675 - val_acc: 0.8454 - val_f1_m: 0.0000e+00 - val_precision_m: 0.0000e+00 - val_recall_m: 0.0000e+00\n",
            "Epoch 49/100\n",
            "146/146 [==============================] - 4s 29ms/step - loss: 0.8280 - acc: 0.8909 - f1_m: 0.0000e+00 - precision_m: 0.0000e+00 - recall_m: 0.0000e+00 - val_loss: 0.8656 - val_acc: 0.8492 - val_f1_m: 0.0000e+00 - val_precision_m: 0.0000e+00 - val_recall_m: 0.0000e+00\n",
            "Epoch 50/100\n",
            "146/146 [==============================] - 5s 32ms/step - loss: 0.8262 - acc: 0.8905 - f1_m: 0.0000e+00 - precision_m: 0.0000e+00 - recall_m: 0.0000e+00 - val_loss: 0.8636 - val_acc: 0.8481 - val_f1_m: 0.0000e+00 - val_precision_m: 0.0000e+00 - val_recall_m: 0.0000e+00\n",
            "Epoch 51/100\n",
            "146/146 [==============================] - 4s 30ms/step - loss: 0.8220 - acc: 0.8965 - f1_m: 0.0000e+00 - precision_m: 0.0000e+00 - recall_m: 0.0000e+00 - val_loss: 0.8619 - val_acc: 0.8495 - val_f1_m: 0.0000e+00 - val_precision_m: 0.0000e+00 - val_recall_m: 0.0000e+00\n",
            "Epoch 52/100\n",
            "146/146 [==============================] - 4s 30ms/step - loss: 0.8201 - acc: 0.8954 - f1_m: 0.0000e+00 - precision_m: 0.0000e+00 - recall_m: 0.0000e+00 - val_loss: 0.8600 - val_acc: 0.8530 - val_f1_m: 0.0000e+00 - val_precision_m: 0.0000e+00 - val_recall_m: 0.0000e+00\n",
            "Epoch 53/100\n",
            "146/146 [==============================] - 4s 29ms/step - loss: 0.8172 - acc: 0.8968 - f1_m: 0.0000e+00 - precision_m: 0.0000e+00 - recall_m: 0.0000e+00 - val_loss: 0.8585 - val_acc: 0.8500 - val_f1_m: 0.0000e+00 - val_precision_m: 0.0000e+00 - val_recall_m: 0.0000e+00\n",
            "Epoch 54/100\n",
            "146/146 [==============================] - 4s 30ms/step - loss: 0.8133 - acc: 0.9009 - f1_m: 0.0000e+00 - precision_m: 0.0000e+00 - recall_m: 0.0000e+00 - val_loss: 0.8564 - val_acc: 0.8555 - val_f1_m: 0.0000e+00 - val_precision_m: 0.0000e+00 - val_recall_m: 0.0000e+00\n",
            "Epoch 55/100\n",
            "146/146 [==============================] - 4s 29ms/step - loss: 0.8104 - acc: 0.9042 - f1_m: 0.0000e+00 - precision_m: 0.0000e+00 - recall_m: 0.0000e+00 - val_loss: 0.8548 - val_acc: 0.8560 - val_f1_m: 0.0000e+00 - val_precision_m: 0.0000e+00 - val_recall_m: 0.0000e+00\n",
            "Epoch 56/100\n",
            "146/146 [==============================] - 4s 30ms/step - loss: 0.8092 - acc: 0.9026 - f1_m: 0.0000e+00 - precision_m: 0.0000e+00 - recall_m: 0.0000e+00 - val_loss: 0.8532 - val_acc: 0.8547 - val_f1_m: 0.0000e+00 - val_precision_m: 0.0000e+00 - val_recall_m: 0.0000e+00\n",
            "Epoch 57/100\n",
            "146/146 [==============================] - 4s 30ms/step - loss: 0.8075 - acc: 0.9007 - f1_m: 0.0000e+00 - precision_m: 0.0000e+00 - recall_m: 0.0000e+00 - val_loss: 0.8515 - val_acc: 0.8582 - val_f1_m: 0.0000e+00 - val_precision_m: 0.0000e+00 - val_recall_m: 0.0000e+00\n",
            "Epoch 58/100\n",
            "146/146 [==============================] - 4s 30ms/step - loss: 0.8040 - acc: 0.9049 - f1_m: 0.0000e+00 - precision_m: 0.0000e+00 - recall_m: 0.0000e+00 - val_loss: 0.8499 - val_acc: 0.8574 - val_f1_m: 0.0000e+00 - val_precision_m: 0.0000e+00 - val_recall_m: 0.0000e+00\n",
            "Epoch 59/100\n",
            "146/146 [==============================] - 4s 29ms/step - loss: 0.8021 - acc: 0.9068 - f1_m: 0.0000e+00 - precision_m: 0.0000e+00 - recall_m: 0.0000e+00 - val_loss: 0.8487 - val_acc: 0.8563 - val_f1_m: 0.0000e+00 - val_precision_m: 0.0000e+00 - val_recall_m: 0.0000e+00\n",
            "Epoch 60/100\n",
            "146/146 [==============================] - 4s 29ms/step - loss: 0.8006 - acc: 0.9038 - f1_m: 0.0000e+00 - precision_m: 0.0000e+00 - recall_m: 0.0000e+00 - val_loss: 0.8470 - val_acc: 0.8574 - val_f1_m: 0.0000e+00 - val_precision_m: 0.0000e+00 - val_recall_m: 0.0000e+00\n",
            "Epoch 61/100\n",
            "146/146 [==============================] - 4s 30ms/step - loss: 0.7976 - acc: 0.9087 - f1_m: 0.0000e+00 - precision_m: 0.0000e+00 - recall_m: 0.0000e+00 - val_loss: 0.8456 - val_acc: 0.8566 - val_f1_m: 0.0000e+00 - val_precision_m: 0.0000e+00 - val_recall_m: 0.0000e+00\n",
            "Epoch 62/100\n",
            "146/146 [==============================] - 4s 30ms/step - loss: 0.7948 - acc: 0.9103 - f1_m: 0.0000e+00 - precision_m: 0.0000e+00 - recall_m: 0.0000e+00 - val_loss: 0.8437 - val_acc: 0.8602 - val_f1_m: 0.0000e+00 - val_precision_m: 0.0000e+00 - val_recall_m: 0.0000e+00\n",
            "Epoch 63/100\n",
            "146/146 [==============================] - 4s 29ms/step - loss: 0.7929 - acc: 0.9081 - f1_m: 0.0000e+00 - precision_m: 0.0000e+00 - recall_m: 0.0000e+00 - val_loss: 0.8427 - val_acc: 0.8582 - val_f1_m: 0.0000e+00 - val_precision_m: 0.0000e+00 - val_recall_m: 0.0000e+00\n",
            "Epoch 64/100\n",
            "146/146 [==============================] - 4s 29ms/step - loss: 0.7920 - acc: 0.9105 - f1_m: 0.0000e+00 - precision_m: 0.0000e+00 - recall_m: 0.0000e+00 - val_loss: 0.8407 - val_acc: 0.8604 - val_f1_m: 0.0000e+00 - val_precision_m: 0.0000e+00 - val_recall_m: 0.0000e+00\n",
            "Epoch 65/100\n",
            "146/146 [==============================] - 4s 29ms/step - loss: 0.7880 - acc: 0.9126 - f1_m: 0.0000e+00 - precision_m: 0.0000e+00 - recall_m: 0.0000e+00 - val_loss: 0.8394 - val_acc: 0.8613 - val_f1_m: 0.0000e+00 - val_precision_m: 0.0000e+00 - val_recall_m: 0.0000e+00\n",
            "Epoch 66/100\n",
            "146/146 [==============================] - 4s 28ms/step - loss: 0.7890 - acc: 0.9102 - f1_m: 0.0000e+00 - precision_m: 0.0000e+00 - recall_m: 0.0000e+00 - val_loss: 0.8378 - val_acc: 0.8632 - val_f1_m: 0.0000e+00 - val_precision_m: 0.0000e+00 - val_recall_m: 0.0000e+00\n",
            "Epoch 67/100\n",
            "146/146 [==============================] - 4s 28ms/step - loss: 0.7874 - acc: 0.9070 - f1_m: 0.0000e+00 - precision_m: 0.0000e+00 - recall_m: 0.0000e+00 - val_loss: 0.8367 - val_acc: 0.8588 - val_f1_m: 0.0000e+00 - val_precision_m: 0.0000e+00 - val_recall_m: 0.0000e+00\n",
            "Epoch 68/100\n",
            "146/146 [==============================] - 4s 29ms/step - loss: 0.7832 - acc: 0.9130 - f1_m: 0.0000e+00 - precision_m: 0.0000e+00 - recall_m: 0.0000e+00 - val_loss: 0.8350 - val_acc: 0.8624 - val_f1_m: 0.0000e+00 - val_precision_m: 0.0000e+00 - val_recall_m: 0.0000e+00\n",
            "Epoch 69/100\n",
            "146/146 [==============================] - 4s 31ms/step - loss: 0.7820 - acc: 0.9116 - f1_m: 0.0000e+00 - precision_m: 0.0000e+00 - recall_m: 0.0000e+00 - val_loss: 0.8335 - val_acc: 0.8629 - val_f1_m: 0.0000e+00 - val_precision_m: 0.0000e+00 - val_recall_m: 0.0000e+00\n",
            "Epoch 70/100\n",
            "146/146 [==============================] - 4s 30ms/step - loss: 0.7801 - acc: 0.9110 - f1_m: 0.0000e+00 - precision_m: 0.0000e+00 - recall_m: 0.0000e+00 - val_loss: 0.8322 - val_acc: 0.8629 - val_f1_m: 0.0000e+00 - val_precision_m: 0.0000e+00 - val_recall_m: 0.0000e+00\n",
            "Epoch 71/100\n",
            "146/146 [==============================] - 4s 30ms/step - loss: 0.7800 - acc: 0.9073 - f1_m: 0.0000e+00 - precision_m: 0.0000e+00 - recall_m: 0.0000e+00 - val_loss: 0.8308 - val_acc: 0.8629 - val_f1_m: 0.0000e+00 - val_precision_m: 0.0000e+00 - val_recall_m: 0.0000e+00\n",
            "Epoch 72/100\n",
            "146/146 [==============================] - 4s 31ms/step - loss: 0.7761 - acc: 0.9125 - f1_m: 0.0000e+00 - precision_m: 0.0000e+00 - recall_m: 0.0000e+00 - val_loss: 0.8297 - val_acc: 0.8618 - val_f1_m: 0.0000e+00 - val_precision_m: 0.0000e+00 - val_recall_m: 0.0000e+00\n",
            "Epoch 73/100\n",
            "146/146 [==============================] - 4s 31ms/step - loss: 0.7740 - acc: 0.9153 - f1_m: 0.0000e+00 - precision_m: 0.0000e+00 - recall_m: 0.0000e+00 - val_loss: 0.8279 - val_acc: 0.8632 - val_f1_m: 0.0000e+00 - val_precision_m: 0.0000e+00 - val_recall_m: 0.0000e+00\n",
            "Epoch 74/100\n",
            "146/146 [==============================] - 4s 30ms/step - loss: 0.7723 - acc: 0.9164 - f1_m: 0.0000e+00 - precision_m: 0.0000e+00 - recall_m: 0.0000e+00 - val_loss: 0.8269 - val_acc: 0.8621 - val_f1_m: 0.0000e+00 - val_precision_m: 0.0000e+00 - val_recall_m: 0.0000e+00\n",
            "Epoch 75/100\n",
            "146/146 [==============================] - 4s 30ms/step - loss: 0.7709 - acc: 0.9153 - f1_m: 0.0000e+00 - precision_m: 0.0000e+00 - recall_m: 0.0000e+00 - val_loss: 0.8252 - val_acc: 0.8648 - val_f1_m: 0.0000e+00 - val_precision_m: 0.0000e+00 - val_recall_m: 0.0000e+00\n",
            "Epoch 76/100\n",
            "146/146 [==============================] - 4s 30ms/step - loss: 0.7682 - acc: 0.9164 - f1_m: 0.0000e+00 - precision_m: 0.0000e+00 - recall_m: 0.0000e+00 - val_loss: 0.8238 - val_acc: 0.8656 - val_f1_m: 0.0000e+00 - val_precision_m: 0.0000e+00 - val_recall_m: 0.0000e+00\n",
            "Epoch 77/100\n",
            "146/146 [==============================] - 4s 30ms/step - loss: 0.7681 - acc: 0.9137 - f1_m: 0.0000e+00 - precision_m: 0.0000e+00 - recall_m: 0.0000e+00 - val_loss: 0.8223 - val_acc: 0.8662 - val_f1_m: 0.0000e+00 - val_precision_m: 0.0000e+00 - val_recall_m: 0.0000e+00\n",
            "Epoch 78/100\n",
            "146/146 [==============================] - 4s 30ms/step - loss: 0.7649 - acc: 0.9177 - f1_m: 0.0000e+00 - precision_m: 0.0000e+00 - recall_m: 0.0000e+00 - val_loss: 0.8216 - val_acc: 0.8643 - val_f1_m: 0.0000e+00 - val_precision_m: 0.0000e+00 - val_recall_m: 0.0000e+00\n",
            "Epoch 79/100\n",
            "146/146 [==============================] - 4s 30ms/step - loss: 0.7637 - acc: 0.9173 - f1_m: 0.1841 - precision_m: 0.5562 - recall_m: 0.1120 - val_loss: 0.8201 - val_acc: 0.8648 - val_f1_m: 0.0000e+00 - val_precision_m: 0.0000e+00 - val_recall_m: 0.0000e+00\n",
            "Epoch 80/100\n",
            "146/146 [==============================] - 4s 30ms/step - loss: 0.7622 - acc: 0.9179 - f1_m: 0.4072 - precision_m: 0.9878 - recall_m: 0.2578 - val_loss: 0.8188 - val_acc: 0.8656 - val_f1_m: 0.0000e+00 - val_precision_m: 0.0000e+00 - val_recall_m: 0.0000e+00\n",
            "Epoch 81/100\n",
            "146/146 [==============================] - 4s 30ms/step - loss: 0.7604 - acc: 0.9168 - f1_m: 0.4280 - precision_m: 0.9853 - recall_m: 0.2750 - val_loss: 0.8180 - val_acc: 0.8637 - val_f1_m: 0.0000e+00 - val_precision_m: 0.0000e+00 - val_recall_m: 0.0000e+00\n",
            "Epoch 82/100\n",
            "146/146 [==============================] - 4s 29ms/step - loss: 0.7594 - acc: 0.9162 - f1_m: 0.4337 - precision_m: 0.9863 - recall_m: 0.2796 - val_loss: 0.8164 - val_acc: 0.8662 - val_f1_m: 0.0000e+00 - val_precision_m: 0.0000e+00 - val_recall_m: 0.0000e+00\n",
            "Epoch 83/100\n",
            "146/146 [==============================] - 4s 30ms/step - loss: 0.7573 - acc: 0.9192 - f1_m: 0.4422 - precision_m: 0.9836 - recall_m: 0.2868 - val_loss: 0.8152 - val_acc: 0.8670 - val_f1_m: 0.0000e+00 - val_precision_m: 0.0000e+00 - val_recall_m: 0.0000e+00\n",
            "Epoch 84/100\n",
            "146/146 [==============================] - 4s 29ms/step - loss: 0.7536 - acc: 0.9221 - f1_m: 0.4471 - precision_m: 0.9831 - recall_m: 0.2907 - val_loss: 0.8140 - val_acc: 0.8662 - val_f1_m: 0.0000e+00 - val_precision_m: 0.0000e+00 - val_recall_m: 0.0000e+00\n",
            "Epoch 85/100\n",
            "146/146 [==============================] - 4s 30ms/step - loss: 0.7524 - acc: 0.9201 - f1_m: 0.4525 - precision_m: 0.9849 - recall_m: 0.2959 - val_loss: 0.8123 - val_acc: 0.8692 - val_f1_m: 0.0000e+00 - val_precision_m: 0.0000e+00 - val_recall_m: 0.0000e+00\n",
            "Epoch 86/100\n",
            "146/146 [==============================] - 4s 30ms/step - loss: 0.7517 - acc: 0.9181 - f1_m: 0.6888 - precision_m: 0.9902 - recall_m: 0.5304 - val_loss: 0.8115 - val_acc: 0.8662 - val_f1_m: 0.0000e+00 - val_precision_m: 0.0000e+00 - val_recall_m: 0.0000e+00\n",
            "Epoch 87/100\n",
            "146/146 [==============================] - 4s 29ms/step - loss: 0.7508 - acc: 0.9199 - f1_m: 0.7200 - precision_m: 0.9897 - recall_m: 0.5676 - val_loss: 0.8104 - val_acc: 0.8651 - val_f1_m: 0.0000e+00 - val_precision_m: 0.0000e+00 - val_recall_m: 0.0000e+00\n",
            "Epoch 88/100\n",
            "146/146 [==============================] - 4s 30ms/step - loss: 0.7481 - acc: 0.9217 - f1_m: 0.7275 - precision_m: 0.9905 - recall_m: 0.5767 - val_loss: 0.8088 - val_acc: 0.8681 - val_f1_m: 0.0000e+00 - val_precision_m: 0.0000e+00 - val_recall_m: 0.0000e+00\n",
            "Epoch 89/100\n",
            "146/146 [==============================] - 5s 32ms/step - loss: 0.7481 - acc: 0.9168 - f1_m: 0.7305 - precision_m: 0.9897 - recall_m: 0.5805 - val_loss: 0.8080 - val_acc: 0.8656 - val_f1_m: 0.0000e+00 - val_precision_m: 0.0000e+00 - val_recall_m: 0.0000e+00\n",
            "Epoch 90/100\n",
            "146/146 [==============================] - 5s 32ms/step - loss: 0.7463 - acc: 0.9198 - f1_m: 0.7316 - precision_m: 0.9899 - recall_m: 0.5816 - val_loss: 0.8066 - val_acc: 0.8678 - val_f1_m: 0.0000e+00 - val_precision_m: 0.0000e+00 - val_recall_m: 0.0000e+00\n",
            "Epoch 91/100\n",
            "146/146 [==============================] - 5s 31ms/step - loss: 0.7440 - acc: 0.9186 - f1_m: 0.7359 - precision_m: 0.9893 - recall_m: 0.5874 - val_loss: 0.8057 - val_acc: 0.8667 - val_f1_m: 0.0000e+00 - val_precision_m: 0.0000e+00 - val_recall_m: 0.0000e+00\n",
            "Epoch 92/100\n",
            "146/146 [==============================] - 4s 30ms/step - loss: 0.7443 - acc: 0.9177 - f1_m: 0.7349 - precision_m: 0.9896 - recall_m: 0.5860 - val_loss: 0.8045 - val_acc: 0.8667 - val_f1_m: 0.0000e+00 - val_precision_m: 0.0000e+00 - val_recall_m: 0.0000e+00\n",
            "Epoch 93/100\n",
            "146/146 [==============================] - 4s 30ms/step - loss: 0.7417 - acc: 0.9195 - f1_m: 0.7375 - precision_m: 0.9899 - recall_m: 0.5891 - val_loss: 0.8033 - val_acc: 0.8681 - val_f1_m: 0.0000e+00 - val_precision_m: 0.0000e+00 - val_recall_m: 0.0000e+00\n",
            "Epoch 94/100\n",
            "146/146 [==============================] - 4s 29ms/step - loss: 0.7397 - acc: 0.9184 - f1_m: 0.7398 - precision_m: 0.9885 - recall_m: 0.5924 - val_loss: 0.8021 - val_acc: 0.8673 - val_f1_m: 0.0000e+00 - val_precision_m: 0.0000e+00 - val_recall_m: 0.0000e+00\n",
            "Epoch 95/100\n",
            "146/146 [==============================] - 4s 30ms/step - loss: 0.7381 - acc: 0.9201 - f1_m: 0.7401 - precision_m: 0.9896 - recall_m: 0.5925 - val_loss: 0.8011 - val_acc: 0.8676 - val_f1_m: 0.0000e+00 - val_precision_m: 0.0000e+00 - val_recall_m: 0.0000e+00\n",
            "Epoch 96/100\n",
            "146/146 [==============================] - 4s 30ms/step - loss: 0.7365 - acc: 0.9203 - f1_m: 0.7413 - precision_m: 0.9902 - recall_m: 0.5940 - val_loss: 0.7998 - val_acc: 0.8665 - val_f1_m: 0.0000e+00 - val_precision_m: 0.0000e+00 - val_recall_m: 0.0000e+00\n",
            "Epoch 97/100\n",
            "146/146 [==============================] - 4s 29ms/step - loss: 0.7362 - acc: 0.9185 - f1_m: 0.7386 - precision_m: 0.9895 - recall_m: 0.5907 - val_loss: 0.7992 - val_acc: 0.8662 - val_f1_m: 0.0000e+00 - val_precision_m: 0.0000e+00 - val_recall_m: 0.0000e+00\n",
            "Epoch 98/100\n",
            "146/146 [==============================] - 4s 30ms/step - loss: 0.7338 - acc: 0.9182 - f1_m: 0.7421 - precision_m: 0.9901 - recall_m: 0.5950 - val_loss: 0.7980 - val_acc: 0.8670 - val_f1_m: 0.0000e+00 - val_precision_m: 0.0000e+00 - val_recall_m: 0.0000e+00\n",
            "Epoch 99/100\n",
            "146/146 [==============================] - 4s 30ms/step - loss: 0.7321 - acc: 0.9192 - f1_m: 0.7419 - precision_m: 0.9900 - recall_m: 0.5945 - val_loss: 0.7965 - val_acc: 0.8665 - val_f1_m: 0.3732 - val_precision_m: 0.9430 - val_recall_m: 0.2343\n",
            "Epoch 100/100\n",
            "146/146 [==============================] - 4s 30ms/step - loss: 0.7287 - acc: 0.9245 - f1_m: 0.7448 - precision_m: 0.9903 - recall_m: 0.5986 - val_loss: 0.7960 - val_acc: 0.8629 - val_f1_m: 0.3883 - val_precision_m: 0.9184 - val_recall_m: 0.2478\n"
          ],
          "name": "stdout"
        }
      ]
    },
    {
      "cell_type": "code",
      "metadata": {
        "id": "cDlheBHRN-Uw",
        "colab_type": "code",
        "colab": {
          "base_uri": "https://localhost:8080/",
          "height": 557
        },
        "outputId": "7aae35ae-2723-49d0-8212-0d0be401d552"
      },
      "source": [
        "display_history_loss(history_transformer, \"transformer\")\n",
        "plot_graphs(history_transformer, \"acc\")"
      ],
      "execution_count": null,
      "outputs": [
        {
          "output_type": "display_data",
          "data": {
            "image/png": "[encoded data removed]",
            "text/plain": [
              "<Figure size 432x288 with 1 Axes>"
            ]
          },
          "metadata": {
            "tags": [],
            "needs_background": "light"
          }
        },
        {
          "output_type": "display_data",
          "data": {
            "image/png": "[encoded data removed]",
            "text/plain": [
              "<Figure size 432x288 with 1 Axes>"
            ]
          },
          "metadata": {
            "tags": [],
            "needs_background": "light"
          }
        }
      ]
    },
    {
      "cell_type": "code",
      "metadata": {
        "id": "FyzUVXo2F87Y",
        "colab_type": "code",
        "colab": {
          "base_uri": "https://localhost:8080/",
          "height": 140
        },
        "outputId": "4bfb5d3a-261b-4f68-e771-e6a46cc88c8e"
      },
      "source": [
        "print(X_test.shape)\n",
        "\n",
        "#score_transformer = model_transformer.evaluate(X_test,Y_test)\n",
        "#print(score_transformer[0])\n",
        "#print(score_transformer[1])\n",
        "\n",
        "loss, acc, f1_score, precision, recall = model_transformer.evaluate(X_test, Y_test,  verbose=0 )\n",
        "print_stats(f1_score, precision, recall, acc)\n"
      ],
      "execution_count": null,
      "outputs": [
        {
          "output_type": "stream",
          "text": [
            "(3647, 12)\n",
            "#######################################################\n",
            "F1        : 0.3864634037017822\n",
            "Precision : 0.9188242554664612\n",
            "Recall    : 0.24922184646129608\n",
            "Accuracy  : 0.8629010319709778\n",
            "#######################################################\n"
          ],
          "name": "stdout"
        }
      ]
    },
    {
      "cell_type": "code",
      "metadata": {
        "id": "Cfd44w0eIjyA",
        "colab_type": "code",
        "colab": {
          "base_uri": "https://localhost:8080/",
          "height": 122
        },
        "outputId": "ed0919a2-1662-43bf-ed57-64a61d6d2c49"
      },
      "source": [
        "loss, acc, f1_score, precision, recall = model_transformer.evaluate(X3_test, Y3_test,  verbose=0 )\n",
        "print_stats(f1_score, precision, recall, acc)"
      ],
      "execution_count": null,
      "outputs": [
        {
          "output_type": "stream",
          "text": [
            "#######################################################\n",
            "F1        : 0.3748677968978882\n",
            "Precision : 0.8878427743911743\n",
            "Recall    : 0.2423735111951828\n",
            "Accuracy  : 0.8443113565444946\n",
            "#######################################################\n"
          ],
          "name": "stdout"
        }
      ]
    },
    {
      "cell_type": "code",
      "metadata": {
        "id": "eFqVs5IUIrrG",
        "colab_type": "code",
        "colab": {
          "base_uri": "https://localhost:8080/",
          "height": 122
        },
        "outputId": "2360ddaa-402c-4564-abf5-a84942c38a6c"
      },
      "source": [
        "loss, acc, f1_score, precision, recall = model_transformer.evaluate(X4_test, Y4_test,  verbose=0 )\n",
        "print_stats(f1_score, precision, recall, acc)"
      ],
      "execution_count": null,
      "outputs": [
        {
          "output_type": "stream",
          "text": [
            "#######################################################\n",
            "F1        : 0.442914217710495\n",
            "Precision : 0.9682826399803162\n",
            "Recall    : 0.2940848171710968\n",
            "Accuracy  : 0.8642714619636536\n",
            "#######################################################\n"
          ],
          "name": "stdout"
        }
      ]
    },
    {
      "cell_type": "code",
      "metadata": {
        "id": "5w5NxeEdInj0",
        "colab_type": "code",
        "colab": {
          "base_uri": "https://localhost:8080/",
          "height": 122
        },
        "outputId": "a054a4f4-8489-4241-e7b7-2cecef34b3d6"
      },
      "source": [
        "loss, acc, f1_score, precision, recall = model_transformer.evaluate(X5_test, Y5_test,  verbose=0 )\n",
        "print_stats(f1_score, precision, recall, acc)"
      ],
      "execution_count": null,
      "outputs": [
        {
          "output_type": "stream",
          "text": [
            "#######################################################\n",
            "F1        : 0.42881742119789124\n",
            "Precision : 0.9371318221092224\n",
            "Recall    : 0.2855282723903656\n",
            "Accuracy  : 0.8662674427032471\n",
            "#######################################################\n"
          ],
          "name": "stdout"
        }
      ]
    },
    {
      "cell_type": "code",
      "metadata": {
        "id": "THTJHr5SIypF",
        "colab_type": "code",
        "colab": {
          "base_uri": "https://localhost:8080/",
          "height": 122
        },
        "outputId": "9d45927d-71ae-4c78-a730-d5f90cd3e672"
      },
      "source": [
        "loss, acc, f1_score, precision, recall = model_transformer.evaluate(X1_test, Y1_test,  verbose=0 )\n",
        "print_stats(f1_score, precision, recall, acc)"
      ],
      "execution_count": null,
      "outputs": [
        {
          "output_type": "stream",
          "text": [
            "#######################################################\n",
            "F1        : 0.3579476475715637\n",
            "Precision : 0.8833581805229187\n",
            "Recall    : 0.2306547611951828\n",
            "Accuracy  : 0.8483033776283264\n",
            "#######################################################\n"
          ],
          "name": "stdout"
        }
      ]
    },
    {
      "cell_type": "code",
      "metadata": {
        "id": "DX76qrOYITj9",
        "colab_type": "code",
        "colab": {
          "base_uri": "https://localhost:8080/",
          "height": 122
        },
        "outputId": "74fcece1-12d8-4fc7-f7c4-53c06bcdf0fc"
      },
      "source": [
        "loss, acc, f1_score, precision, recall = model_transformer.evaluate(X2_test, Y2_test,  verbose=0 )\n",
        "print_stats(f1_score, precision, recall, acc)"
      ],
      "execution_count": null,
      "outputs": [
        {
          "output_type": "stream",
          "text": [
            "#######################################################\n",
            "F1        : 0.3933693468570709\n",
            "Precision : 0.9748263955116272\n",
            "Recall    : 0.2493489533662796\n",
            "Accuracy  : 0.8582834601402283\n",
            "#######################################################\n"
          ],
          "name": "stdout"
        }
      ]
    },
    {
      "cell_type": "code",
      "metadata": {
        "id": "Thqu0B3ufqFA",
        "colab_type": "code",
        "colab": {
          "base_uri": "https://localhost:8080/",
          "height": 122
        },
        "outputId": "2d114400-d47d-44a5-fade-74f0c9cb129a"
      },
      "source": [
        "loss, acc, f1_score, precision, recall = model_transformer.evaluate(X_test, Y_test,  verbose=0 )\n",
        "print_stats(f1_score, precision, recall, acc)"
      ],
      "execution_count": null,
      "outputs": [
        {
          "output_type": "stream",
          "text": [
            "#######################################################\n",
            "F1        : 0.8395062685012817\n",
            "Precision : 0.8632296323776245\n",
            "Recall    : 0.8178365230560303\n",
            "Accuracy  : 0.8488427996635437\n",
            "#######################################################\n"
          ],
          "name": "stdout"
        }
      ]
    },
    {
      "cell_type": "code",
      "metadata": {
        "id": "zYQlU4yMgTUu",
        "colab_type": "code",
        "colab": {
          "base_uri": "https://localhost:8080/",
          "height": 1000
        },
        "outputId": "59267925-4176-49ce-88ad-2346ccf2cbd3"
      },
      "source": [
        "with tf.device('/device:GPU:0'):\n",
        "  optimizer_t = tfopt.Adam(learning_rate=1e-5)\n",
        "  model_transformer.compile(loss=\"categorical_crossentropy\", optimizer=optimizer_t,  metrics=['acc',f1_m,precision_m, recall_m]\n",
        ")\n",
        "  model_transformer.summary()\n",
        "  history_transformer = model_transformer.fit(\n",
        "      X_train, Y_train, batch_size=100, epochs=100, validation_data=(X_test, Y_test)\n",
        "  )"
      ],
      "execution_count": null,
      "outputs": [
        {
          "output_type": "stream",
          "text": [
            "Model: \"functional_1\"\n",
            "_________________________________________________________________\n",
            "Layer (type)                 Output Shape              Param #   \n",
            "=================================================================\n",
            "input_6 (InputLayer)         [(None, 12)]              0         \n",
            "_________________________________________________________________\n",
            "token_and_position_embedding (None, 12, 100)           1501200   \n",
            "_________________________________________________________________\n",
            "transformer_block_5 (Transfo (None, 12, 100)           47332     \n",
            "_________________________________________________________________\n",
            "global_average_pooling1d (Gl (None, 100)               0         \n",
            "_________________________________________________________________\n",
            "dropout_12 (Dropout)         (None, 100)               0         \n",
            "_________________________________________________________________\n",
            "dense_50 (Dense)             (None, 64)                6464      \n",
            "_________________________________________________________________\n",
            "dropout_13 (Dropout)         (None, 64)                0         \n",
            "_________________________________________________________________\n",
            "dense_51 (Dense)             (None, 3)                 195       \n",
            "=================================================================\n",
            "Total params: 1,555,191\n",
            "Trainable params: 1,555,191\n",
            "Non-trainable params: 0\n",
            "_________________________________________________________________\n",
            "Epoch 1/100\n",
            "146/146 [==============================] - 3s 24ms/step - loss: 1.0987 - acc: 0.3419 - f1_m: 0.0000e+00 - precision_m: 0.0000e+00 - recall_m: 0.0000e+00 - val_loss: 1.0974 - val_acc: 0.3417 - val_f1_m: 0.0000e+00 - val_precision_m: 0.0000e+00 - val_recall_m: 0.0000e+00\n",
            "Epoch 2/100\n",
            "146/146 [==============================] - 3s 21ms/step - loss: 1.0968 - acc: 0.3926 - f1_m: 0.0000e+00 - precision_m: 0.0000e+00 - recall_m: 0.0000e+00 - val_loss: 1.0954 - val_acc: 0.4681 - val_f1_m: 0.0000e+00 - val_precision_m: 0.0000e+00 - val_recall_m: 0.0000e+00\n",
            "Epoch 3/100\n",
            "146/146 [==============================] - 3s 20ms/step - loss: 1.0950 - acc: 0.4339 - f1_m: 0.0000e+00 - precision_m: 0.0000e+00 - recall_m: 0.0000e+00 - val_loss: 1.0931 - val_acc: 0.4631 - val_f1_m: 0.0000e+00 - val_precision_m: 0.0000e+00 - val_recall_m: 0.0000e+00\n",
            "Epoch 4/100\n",
            "146/146 [==============================] - 3s 21ms/step - loss: 1.0922 - acc: 0.4406 - f1_m: 0.0000e+00 - precision_m: 0.0000e+00 - recall_m: 0.0000e+00 - val_loss: 1.0885 - val_acc: 0.4664 - val_f1_m: 0.0000e+00 - val_precision_m: 0.0000e+00 - val_recall_m: 0.0000e+00\n",
            "Epoch 5/100\n",
            "146/146 [==============================] - 3s 21ms/step - loss: 1.0853 - acc: 0.4367 - f1_m: 0.0000e+00 - precision_m: 0.0000e+00 - recall_m: 0.0000e+00 - val_loss: 1.0784 - val_acc: 0.4650 - val_f1_m: 0.0000e+00 - val_precision_m: 0.0000e+00 - val_recall_m: 0.0000e+00\n",
            "Epoch 6/100\n",
            "146/146 [==============================] - 3s 21ms/step - loss: 1.0769 - acc: 0.4482 - f1_m: 0.0000e+00 - precision_m: 0.0000e+00 - recall_m: 0.0000e+00 - val_loss: 1.0700 - val_acc: 0.4829 - val_f1_m: 0.0000e+00 - val_precision_m: 0.0000e+00 - val_recall_m: 0.0000e+00\n",
            "Epoch 7/100\n",
            "146/146 [==============================] - 3s 21ms/step - loss: 1.0682 - acc: 0.4673 - f1_m: 0.0000e+00 - precision_m: 0.0000e+00 - recall_m: 0.0000e+00 - val_loss: 1.0607 - val_acc: 0.4974 - val_f1_m: 0.0000e+00 - val_precision_m: 0.0000e+00 - val_recall_m: 0.0000e+00\n",
            "Epoch 8/100\n",
            "146/146 [==============================] - 3s 21ms/step - loss: 1.0597 - acc: 0.4773 - f1_m: 0.0000e+00 - precision_m: 0.0000e+00 - recall_m: 0.0000e+00 - val_loss: 1.0509 - val_acc: 0.5130 - val_f1_m: 0.0000e+00 - val_precision_m: 0.0000e+00 - val_recall_m: 0.0000e+00\n",
            "Epoch 9/100\n",
            "146/146 [==============================] - 3s 21ms/step - loss: 1.0506 - acc: 0.4912 - f1_m: 0.0000e+00 - precision_m: 0.0000e+00 - recall_m: 0.0000e+00 - val_loss: 1.0403 - val_acc: 0.5281 - val_f1_m: 0.0000e+00 - val_precision_m: 0.0000e+00 - val_recall_m: 0.0000e+00\n",
            "Epoch 10/100\n",
            "146/146 [==============================] - 3s 21ms/step - loss: 1.0393 - acc: 0.5077 - f1_m: 0.0000e+00 - precision_m: 0.0000e+00 - recall_m: 0.0000e+00 - val_loss: 1.0296 - val_acc: 0.5451 - val_f1_m: 0.0000e+00 - val_precision_m: 0.0000e+00 - val_recall_m: 0.0000e+00\n",
            "Epoch 11/100\n",
            "146/146 [==============================] - 3s 21ms/step - loss: 1.0290 - acc: 0.5236 - f1_m: 0.0000e+00 - precision_m: 0.0000e+00 - recall_m: 0.0000e+00 - val_loss: 1.0197 - val_acc: 0.5651 - val_f1_m: 0.0000e+00 - val_precision_m: 0.0000e+00 - val_recall_m: 0.0000e+00\n",
            "Epoch 12/100\n",
            "146/146 [==============================] - 3s 20ms/step - loss: 1.0192 - acc: 0.5410 - f1_m: 0.0000e+00 - precision_m: 0.0000e+00 - recall_m: 0.0000e+00 - val_loss: 1.0103 - val_acc: 0.5829 - val_f1_m: 0.0000e+00 - val_precision_m: 0.0000e+00 - val_recall_m: 0.0000e+00\n",
            "Epoch 13/100\n",
            "146/146 [==============================] - 3s 21ms/step - loss: 1.0082 - acc: 0.5597 - f1_m: 0.0000e+00 - precision_m: 0.0000e+00 - recall_m: 0.0000e+00 - val_loss: 1.0018 - val_acc: 0.5969 - val_f1_m: 0.0000e+00 - val_precision_m: 0.0000e+00 - val_recall_m: 0.0000e+00\n",
            "Epoch 14/100\n",
            "146/146 [==============================] - 3s 21ms/step - loss: 0.9999 - acc: 0.5717 - f1_m: 0.0000e+00 - precision_m: 0.0000e+00 - recall_m: 0.0000e+00 - val_loss: 0.9945 - val_acc: 0.6128 - val_f1_m: 0.0000e+00 - val_precision_m: 0.0000e+00 - val_recall_m: 0.0000e+00\n",
            "Epoch 15/100\n",
            "146/146 [==============================] - 3s 21ms/step - loss: 0.9923 - acc: 0.5823 - f1_m: 0.0000e+00 - precision_m: 0.0000e+00 - recall_m: 0.0000e+00 - val_loss: 0.9890 - val_acc: 0.6208 - val_f1_m: 0.0000e+00 - val_precision_m: 0.0000e+00 - val_recall_m: 0.0000e+00\n",
            "Epoch 16/100\n",
            "146/146 [==============================] - 3s 21ms/step - loss: 0.9867 - acc: 0.5814 - f1_m: 0.0000e+00 - precision_m: 0.0000e+00 - recall_m: 0.0000e+00 - val_loss: 0.9841 - val_acc: 0.6260 - val_f1_m: 0.0000e+00 - val_precision_m: 0.0000e+00 - val_recall_m: 0.0000e+00\n",
            "Epoch 17/100\n",
            "146/146 [==============================] - 3s 21ms/step - loss: 0.9810 - acc: 0.5860 - f1_m: 0.0000e+00 - precision_m: 0.0000e+00 - recall_m: 0.0000e+00 - val_loss: 0.9800 - val_acc: 0.6282 - val_f1_m: 0.0000e+00 - val_precision_m: 0.0000e+00 - val_recall_m: 0.0000e+00\n",
            "Epoch 18/100\n",
            "146/146 [==============================] - 3s 21ms/step - loss: 0.9757 - acc: 0.5911 - f1_m: 0.0000e+00 - precision_m: 0.0000e+00 - recall_m: 0.0000e+00 - val_loss: 0.9762 - val_acc: 0.6348 - val_f1_m: 0.0000e+00 - val_precision_m: 0.0000e+00 - val_recall_m: 0.0000e+00\n",
            "Epoch 19/100\n",
            "146/146 [==============================] - 3s 21ms/step - loss: 0.9715 - acc: 0.5918 - f1_m: 0.0000e+00 - precision_m: 0.0000e+00 - recall_m: 0.0000e+00 - val_loss: 0.9732 - val_acc: 0.6359 - val_f1_m: 0.0000e+00 - val_precision_m: 0.0000e+00 - val_recall_m: 0.0000e+00\n",
            "Epoch 20/100\n",
            "146/146 [==============================] - 3s 21ms/step - loss: 0.9675 - acc: 0.5975 - f1_m: 0.0000e+00 - precision_m: 0.0000e+00 - recall_m: 0.0000e+00 - val_loss: 0.9708 - val_acc: 0.6339 - val_f1_m: 0.0000e+00 - val_precision_m: 0.0000e+00 - val_recall_m: 0.0000e+00\n",
            "Epoch 21/100\n",
            "146/146 [==============================] - 3s 21ms/step - loss: 0.9650 - acc: 0.5993 - f1_m: 0.0000e+00 - precision_m: 0.0000e+00 - recall_m: 0.0000e+00 - val_loss: 0.9678 - val_acc: 0.6381 - val_f1_m: 0.0000e+00 - val_precision_m: 0.0000e+00 - val_recall_m: 0.0000e+00\n",
            "Epoch 22/100\n",
            "146/146 [==============================] - 3s 21ms/step - loss: 0.9600 - acc: 0.6120 - f1_m: 0.0000e+00 - precision_m: 0.0000e+00 - recall_m: 0.0000e+00 - val_loss: 0.9639 - val_acc: 0.6515 - val_f1_m: 0.0000e+00 - val_precision_m: 0.0000e+00 - val_recall_m: 0.0000e+00\n",
            "Epoch 23/100\n",
            "146/146 [==============================] - 3s 20ms/step - loss: 0.9541 - acc: 0.6641 - f1_m: 0.0000e+00 - precision_m: 0.0000e+00 - recall_m: 0.0000e+00 - val_loss: 0.9548 - val_acc: 0.7420 - val_f1_m: 0.0000e+00 - val_precision_m: 0.0000e+00 - val_recall_m: 0.0000e+00\n",
            "Epoch 24/100\n",
            "146/146 [==============================] - 3s 20ms/step - loss: 0.9429 - acc: 0.7433 - f1_m: 0.0000e+00 - precision_m: 0.0000e+00 - recall_m: 0.0000e+00 - val_loss: 0.9454 - val_acc: 0.7779 - val_f1_m: 0.0000e+00 - val_precision_m: 0.0000e+00 - val_recall_m: 0.0000e+00\n",
            "Epoch 25/100\n",
            "146/146 [==============================] - 3s 21ms/step - loss: 0.9317 - acc: 0.7682 - f1_m: 0.0000e+00 - precision_m: 0.0000e+00 - recall_m: 0.0000e+00 - val_loss: 0.9378 - val_acc: 0.7933 - val_f1_m: 0.0000e+00 - val_precision_m: 0.0000e+00 - val_recall_m: 0.0000e+00\n",
            "Epoch 26/100\n",
            "146/146 [==============================] - 3s 21ms/step - loss: 0.9230 - acc: 0.7815 - f1_m: 0.0000e+00 - precision_m: 0.0000e+00 - recall_m: 0.0000e+00 - val_loss: 0.9311 - val_acc: 0.7982 - val_f1_m: 0.0000e+00 - val_precision_m: 0.0000e+00 - val_recall_m: 0.0000e+00\n",
            "Epoch 27/100\n",
            "146/146 [==============================] - 3s 21ms/step - loss: 0.9140 - acc: 0.7968 - f1_m: 0.0000e+00 - precision_m: 0.0000e+00 - recall_m: 0.0000e+00 - val_loss: 0.9253 - val_acc: 0.8059 - val_f1_m: 0.0000e+00 - val_precision_m: 0.0000e+00 - val_recall_m: 0.0000e+00\n",
            "Epoch 28/100\n",
            "146/146 [==============================] - 3s 21ms/step - loss: 0.9064 - acc: 0.8063 - f1_m: 0.0000e+00 - precision_m: 0.0000e+00 - recall_m: 0.0000e+00 - val_loss: 0.9199 - val_acc: 0.8157 - val_f1_m: 0.0000e+00 - val_precision_m: 0.0000e+00 - val_recall_m: 0.0000e+00\n",
            "Epoch 29/100\n",
            "146/146 [==============================] - 3s 21ms/step - loss: 0.8993 - acc: 0.8147 - f1_m: 0.0000e+00 - precision_m: 0.0000e+00 - recall_m: 0.0000e+00 - val_loss: 0.9151 - val_acc: 0.8253 - val_f1_m: 0.0000e+00 - val_precision_m: 0.0000e+00 - val_recall_m: 0.0000e+00\n",
            "Epoch 30/100\n",
            "146/146 [==============================] - 3s 21ms/step - loss: 0.8943 - acc: 0.8172 - f1_m: 0.0000e+00 - precision_m: 0.0000e+00 - recall_m: 0.0000e+00 - val_loss: 0.9106 - val_acc: 0.8314 - val_f1_m: 0.0000e+00 - val_precision_m: 0.0000e+00 - val_recall_m: 0.0000e+00\n",
            "Epoch 31/100\n",
            "146/146 [==============================] - 3s 21ms/step - loss: 0.8872 - acc: 0.8290 - f1_m: 0.0000e+00 - precision_m: 0.0000e+00 - recall_m: 0.0000e+00 - val_loss: 0.9075 - val_acc: 0.8262 - val_f1_m: 0.0000e+00 - val_precision_m: 0.0000e+00 - val_recall_m: 0.0000e+00\n",
            "Epoch 32/100\n",
            "146/146 [==============================] - 3s 21ms/step - loss: 0.8818 - acc: 0.8342 - f1_m: 0.0000e+00 - precision_m: 0.0000e+00 - recall_m: 0.0000e+00 - val_loss: 0.9031 - val_acc: 0.8366 - val_f1_m: 0.0000e+00 - val_precision_m: 0.0000e+00 - val_recall_m: 0.0000e+00\n",
            "Epoch 33/100\n",
            "146/146 [==============================] - 3s 21ms/step - loss: 0.8772 - acc: 0.8378 - f1_m: 0.0000e+00 - precision_m: 0.0000e+00 - recall_m: 0.0000e+00 - val_loss: 0.8997 - val_acc: 0.8374 - val_f1_m: 0.0000e+00 - val_precision_m: 0.0000e+00 - val_recall_m: 0.0000e+00\n",
            "Epoch 34/100\n",
            "146/146 [==============================] - 3s 22ms/step - loss: 0.8719 - acc: 0.8543 - f1_m: 0.0000e+00 - precision_m: 0.0000e+00 - recall_m: 0.0000e+00 - val_loss: 0.8966 - val_acc: 0.8415 - val_f1_m: 0.0000e+00 - val_precision_m: 0.0000e+00 - val_recall_m: 0.0000e+00\n",
            "Epoch 35/100\n",
            "146/146 [==============================] - 3s 22ms/step - loss: 0.8685 - acc: 0.8574 - f1_m: 0.0000e+00 - precision_m: 0.0000e+00 - recall_m: 0.0000e+00 - val_loss: 0.8935 - val_acc: 0.8470 - val_f1_m: 0.0000e+00 - val_precision_m: 0.0000e+00 - val_recall_m: 0.0000e+00\n",
            "Epoch 36/100\n",
            "146/146 [==============================] - 3s 22ms/step - loss: 0.8628 - acc: 0.8661 - f1_m: 0.0000e+00 - precision_m: 0.0000e+00 - recall_m: 0.0000e+00 - val_loss: 0.8905 - val_acc: 0.8508 - val_f1_m: 0.0000e+00 - val_precision_m: 0.0000e+00 - val_recall_m: 0.0000e+00\n",
            "Epoch 37/100\n",
            "146/146 [==============================] - 3s 22ms/step - loss: 0.8600 - acc: 0.8679 - f1_m: 0.0000e+00 - precision_m: 0.0000e+00 - recall_m: 0.0000e+00 - val_loss: 0.8880 - val_acc: 0.8530 - val_f1_m: 0.0000e+00 - val_precision_m: 0.0000e+00 - val_recall_m: 0.0000e+00\n",
            "Epoch 38/100\n",
            "146/146 [==============================] - 3s 21ms/step - loss: 0.8567 - acc: 0.8709 - f1_m: 0.0000e+00 - precision_m: 0.0000e+00 - recall_m: 0.0000e+00 - val_loss: 0.8855 - val_acc: 0.8547 - val_f1_m: 0.0000e+00 - val_precision_m: 0.0000e+00 - val_recall_m: 0.0000e+00\n",
            "Epoch 39/100\n",
            "146/146 [==============================] - 3s 21ms/step - loss: 0.8528 - acc: 0.8741 - f1_m: 0.0000e+00 - precision_m: 0.0000e+00 - recall_m: 0.0000e+00 - val_loss: 0.8832 - val_acc: 0.8549 - val_f1_m: 0.0000e+00 - val_precision_m: 0.0000e+00 - val_recall_m: 0.0000e+00\n",
            "Epoch 40/100\n",
            "146/146 [==============================] - 3s 21ms/step - loss: 0.8501 - acc: 0.8769 - f1_m: 0.0000e+00 - precision_m: 0.0000e+00 - recall_m: 0.0000e+00 - val_loss: 0.8808 - val_acc: 0.8599 - val_f1_m: 0.0000e+00 - val_precision_m: 0.0000e+00 - val_recall_m: 0.0000e+00\n",
            "Epoch 41/100\n",
            "146/146 [==============================] - 3s 21ms/step - loss: 0.8451 - acc: 0.8831 - f1_m: 0.0000e+00 - precision_m: 0.0000e+00 - recall_m: 0.0000e+00 - val_loss: 0.8786 - val_acc: 0.8607 - val_f1_m: 0.0000e+00 - val_precision_m: 0.0000e+00 - val_recall_m: 0.0000e+00\n",
            "Epoch 42/100\n",
            "146/146 [==============================] - 3s 22ms/step - loss: 0.8427 - acc: 0.8851 - f1_m: 0.0000e+00 - precision_m: 0.0000e+00 - recall_m: 0.0000e+00 - val_loss: 0.8765 - val_acc: 0.8604 - val_f1_m: 0.0000e+00 - val_precision_m: 0.0000e+00 - val_recall_m: 0.0000e+00\n",
            "Epoch 43/100\n",
            "146/146 [==============================] - 3s 21ms/step - loss: 0.8385 - acc: 0.8927 - f1_m: 0.0000e+00 - precision_m: 0.0000e+00 - recall_m: 0.0000e+00 - val_loss: 0.8748 - val_acc: 0.8640 - val_f1_m: 0.0000e+00 - val_precision_m: 0.0000e+00 - val_recall_m: 0.0000e+00\n",
            "Epoch 44/100\n",
            "146/146 [==============================] - 3s 21ms/step - loss: 0.8369 - acc: 0.8892 - f1_m: 0.0000e+00 - precision_m: 0.0000e+00 - recall_m: 0.0000e+00 - val_loss: 0.8725 - val_acc: 0.8640 - val_f1_m: 0.0000e+00 - val_precision_m: 0.0000e+00 - val_recall_m: 0.0000e+00\n",
            "Epoch 45/100\n",
            "146/146 [==============================] - 3s 21ms/step - loss: 0.8334 - acc: 0.8922 - f1_m: 0.0000e+00 - precision_m: 0.0000e+00 - recall_m: 0.0000e+00 - val_loss: 0.8704 - val_acc: 0.8648 - val_f1_m: 0.0000e+00 - val_precision_m: 0.0000e+00 - val_recall_m: 0.0000e+00\n",
            "Epoch 46/100\n",
            "146/146 [==============================] - 3s 21ms/step - loss: 0.8301 - acc: 0.8944 - f1_m: 0.0000e+00 - precision_m: 0.0000e+00 - recall_m: 0.0000e+00 - val_loss: 0.8685 - val_acc: 0.8643 - val_f1_m: 0.0000e+00 - val_precision_m: 0.0000e+00 - val_recall_m: 0.0000e+00\n",
            "Epoch 47/100\n",
            "146/146 [==============================] - 3s 21ms/step - loss: 0.8299 - acc: 0.8915 - f1_m: 0.0000e+00 - precision_m: 0.0000e+00 - recall_m: 0.0000e+00 - val_loss: 0.8666 - val_acc: 0.8678 - val_f1_m: 0.0000e+00 - val_precision_m: 0.0000e+00 - val_recall_m: 0.0000e+00\n",
            "Epoch 48/100\n",
            "146/146 [==============================] - 3s 21ms/step - loss: 0.8252 - acc: 0.8975 - f1_m: 0.0000e+00 - precision_m: 0.0000e+00 - recall_m: 0.0000e+00 - val_loss: 0.8649 - val_acc: 0.8681 - val_f1_m: 0.0000e+00 - val_precision_m: 0.0000e+00 - val_recall_m: 0.0000e+00\n",
            "Epoch 49/100\n",
            "146/146 [==============================] - 3s 21ms/step - loss: 0.8227 - acc: 0.8979 - f1_m: 0.0000e+00 - precision_m: 0.0000e+00 - recall_m: 0.0000e+00 - val_loss: 0.8631 - val_acc: 0.8678 - val_f1_m: 0.0000e+00 - val_precision_m: 0.0000e+00 - val_recall_m: 0.0000e+00\n",
            "Epoch 50/100\n",
            "146/146 [==============================] - 3s 21ms/step - loss: 0.8200 - acc: 0.9019 - f1_m: 0.0000e+00 - precision_m: 0.0000e+00 - recall_m: 0.0000e+00 - val_loss: 0.8614 - val_acc: 0.8700 - val_f1_m: 0.0000e+00 - val_precision_m: 0.0000e+00 - val_recall_m: 0.0000e+00\n",
            "Epoch 51/100\n",
            "146/146 [==============================] - 3s 21ms/step - loss: 0.8175 - acc: 0.9044 - f1_m: 0.0000e+00 - precision_m: 0.0000e+00 - recall_m: 0.0000e+00 - val_loss: 0.8597 - val_acc: 0.8703 - val_f1_m: 0.0000e+00 - val_precision_m: 0.0000e+00 - val_recall_m: 0.0000e+00\n",
            "Epoch 52/100\n",
            "146/146 [==============================] - 3s 21ms/step - loss: 0.8158 - acc: 0.9048 - f1_m: 0.0000e+00 - precision_m: 0.0000e+00 - recall_m: 0.0000e+00 - val_loss: 0.8581 - val_acc: 0.8714 - val_f1_m: 0.0000e+00 - val_precision_m: 0.0000e+00 - val_recall_m: 0.0000e+00\n",
            "Epoch 53/100\n",
            "146/146 [==============================] - 3s 21ms/step - loss: 0.8131 - acc: 0.9053 - f1_m: 0.0000e+00 - precision_m: 0.0000e+00 - recall_m: 0.0000e+00 - val_loss: 0.8569 - val_acc: 0.8706 - val_f1_m: 0.0000e+00 - val_precision_m: 0.0000e+00 - val_recall_m: 0.0000e+00\n",
            "Epoch 54/100\n",
            "146/146 [==============================] - 3s 21ms/step - loss: 0.8103 - acc: 0.9077 - f1_m: 0.0000e+00 - precision_m: 0.0000e+00 - recall_m: 0.0000e+00 - val_loss: 0.8548 - val_acc: 0.8709 - val_f1_m: 0.0000e+00 - val_precision_m: 0.0000e+00 - val_recall_m: 0.0000e+00\n",
            "Epoch 55/100\n",
            "146/146 [==============================] - 3s 21ms/step - loss: 0.8080 - acc: 0.9102 - f1_m: 0.0000e+00 - precision_m: 0.0000e+00 - recall_m: 0.0000e+00 - val_loss: 0.8531 - val_acc: 0.8719 - val_f1_m: 0.0000e+00 - val_precision_m: 0.0000e+00 - val_recall_m: 0.0000e+00\n",
            "Epoch 56/100\n",
            "146/146 [==============================] - 3s 21ms/step - loss: 0.8073 - acc: 0.9086 - f1_m: 0.0000e+00 - precision_m: 0.0000e+00 - recall_m: 0.0000e+00 - val_loss: 0.8521 - val_acc: 0.8722 - val_f1_m: 0.0000e+00 - val_precision_m: 0.0000e+00 - val_recall_m: 0.0000e+00\n",
            "Epoch 57/100\n",
            "146/146 [==============================] - 3s 21ms/step - loss: 0.8030 - acc: 0.9126 - f1_m: 0.0000e+00 - precision_m: 0.0000e+00 - recall_m: 0.0000e+00 - val_loss: 0.8505 - val_acc: 0.8725 - val_f1_m: 0.0000e+00 - val_precision_m: 0.0000e+00 - val_recall_m: 0.0000e+00\n",
            "Epoch 58/100\n",
            "146/146 [==============================] - 3s 21ms/step - loss: 0.8020 - acc: 0.9080 - f1_m: 0.0000e+00 - precision_m: 0.0000e+00 - recall_m: 0.0000e+00 - val_loss: 0.8487 - val_acc: 0.8733 - val_f1_m: 0.0000e+00 - val_precision_m: 0.0000e+00 - val_recall_m: 0.0000e+00\n",
            "Epoch 59/100\n",
            "146/146 [==============================] - 3s 21ms/step - loss: 0.8005 - acc: 0.9104 - f1_m: 0.0000e+00 - precision_m: 0.0000e+00 - recall_m: 0.0000e+00 - val_loss: 0.8476 - val_acc: 0.8728 - val_f1_m: 0.0000e+00 - val_precision_m: 0.0000e+00 - val_recall_m: 0.0000e+00\n",
            "Epoch 60/100\n",
            "146/146 [==============================] - 3s 21ms/step - loss: 0.7980 - acc: 0.9113 - f1_m: 0.0000e+00 - precision_m: 0.0000e+00 - recall_m: 0.0000e+00 - val_loss: 0.8457 - val_acc: 0.8728 - val_f1_m: 0.0000e+00 - val_precision_m: 0.0000e+00 - val_recall_m: 0.0000e+00\n",
            "Epoch 61/100\n",
            "146/146 [==============================] - 3s 21ms/step - loss: 0.7965 - acc: 0.9135 - f1_m: 0.0000e+00 - precision_m: 0.0000e+00 - recall_m: 0.0000e+00 - val_loss: 0.8445 - val_acc: 0.8736 - val_f1_m: 0.0000e+00 - val_precision_m: 0.0000e+00 - val_recall_m: 0.0000e+00\n",
            "Epoch 62/100\n",
            "146/146 [==============================] - 3s 21ms/step - loss: 0.7947 - acc: 0.9135 - f1_m: 0.0000e+00 - precision_m: 0.0000e+00 - recall_m: 0.0000e+00 - val_loss: 0.8427 - val_acc: 0.8739 - val_f1_m: 0.0000e+00 - val_precision_m: 0.0000e+00 - val_recall_m: 0.0000e+00\n",
            "Epoch 63/100\n",
            "146/146 [==============================] - 3s 21ms/step - loss: 0.7928 - acc: 0.9136 - f1_m: 0.0000e+00 - precision_m: 0.0000e+00 - recall_m: 0.0000e+00 - val_loss: 0.8412 - val_acc: 0.8755 - val_f1_m: 0.0000e+00 - val_precision_m: 0.0000e+00 - val_recall_m: 0.0000e+00\n",
            "Epoch 64/100\n",
            "146/146 [==============================] - 3s 21ms/step - loss: 0.7901 - acc: 0.9129 - f1_m: 0.2475 - precision_m: 0.7688 - recall_m: 0.1501 - val_loss: 0.8398 - val_acc: 0.8761 - val_f1_m: 0.0000e+00 - val_precision_m: 0.0000e+00 - val_recall_m: 0.0000e+00\n",
            "Epoch 65/100\n",
            "146/146 [==============================] - 3s 21ms/step - loss: 0.7885 - acc: 0.9140 - f1_m: 0.3989 - precision_m: 0.9896 - recall_m: 0.2511 - val_loss: 0.8384 - val_acc: 0.8758 - val_f1_m: 0.0000e+00 - val_precision_m: 0.0000e+00 - val_recall_m: 0.0000e+00\n",
            "Epoch 66/100\n",
            "146/146 [==============================] - 3s 21ms/step - loss: 0.7855 - acc: 0.9173 - f1_m: 0.4195 - precision_m: 0.9878 - recall_m: 0.2679 - val_loss: 0.8373 - val_acc: 0.8744 - val_f1_m: 0.0000e+00 - val_precision_m: 0.0000e+00 - val_recall_m: 0.0000e+00\n",
            "Epoch 67/100\n",
            "146/146 [==============================] - 3s 21ms/step - loss: 0.7842 - acc: 0.9175 - f1_m: 0.4249 - precision_m: 0.9883 - recall_m: 0.2720 - val_loss: 0.8356 - val_acc: 0.8777 - val_f1_m: 0.0000e+00 - val_precision_m: 0.0000e+00 - val_recall_m: 0.0000e+00\n",
            "Epoch 68/100\n",
            "146/146 [==============================] - 3s 21ms/step - loss: 0.7828 - acc: 0.9177 - f1_m: 0.4313 - precision_m: 0.9865 - recall_m: 0.2779 - val_loss: 0.8343 - val_acc: 0.8758 - val_f1_m: 0.0000e+00 - val_precision_m: 0.0000e+00 - val_recall_m: 0.0000e+00\n",
            "Epoch 69/100\n",
            "146/146 [==============================] - 3s 21ms/step - loss: 0.7802 - acc: 0.9163 - f1_m: 0.4375 - precision_m: 0.9875 - recall_m: 0.2824 - val_loss: 0.8331 - val_acc: 0.8785 - val_f1_m: 0.0000e+00 - val_precision_m: 0.0000e+00 - val_recall_m: 0.0000e+00\n",
            "Epoch 70/100\n",
            "146/146 [==============================] - 3s 21ms/step - loss: 0.7810 - acc: 0.9123 - f1_m: 0.4397 - precision_m: 0.9867 - recall_m: 0.2844 - val_loss: 0.8316 - val_acc: 0.8763 - val_f1_m: 0.0000e+00 - val_precision_m: 0.0000e+00 - val_recall_m: 0.0000e+00\n",
            "Epoch 71/100\n",
            "146/146 [==============================] - 3s 21ms/step - loss: 0.7772 - acc: 0.9182 - f1_m: 0.4426 - precision_m: 0.9871 - recall_m: 0.2870 - val_loss: 0.8303 - val_acc: 0.8755 - val_f1_m: 0.0000e+00 - val_precision_m: 0.0000e+00 - val_recall_m: 0.0000e+00\n",
            "Epoch 72/100\n",
            "146/146 [==============================] - 3s 21ms/step - loss: 0.7765 - acc: 0.9173 - f1_m: 0.4409 - precision_m: 0.9866 - recall_m: 0.2858 - val_loss: 0.8290 - val_acc: 0.8763 - val_f1_m: 0.0000e+00 - val_precision_m: 0.0000e+00 - val_recall_m: 0.0000e+00\n",
            "Epoch 73/100\n",
            "146/146 [==============================] - 3s 21ms/step - loss: 0.7727 - acc: 0.9223 - f1_m: 0.4442 - precision_m: 0.9875 - recall_m: 0.2880 - val_loss: 0.8275 - val_acc: 0.8763 - val_f1_m: 0.0000e+00 - val_precision_m: 0.0000e+00 - val_recall_m: 0.0000e+00\n",
            "Epoch 74/100\n",
            "146/146 [==============================] - 3s 21ms/step - loss: 0.7728 - acc: 0.9176 - f1_m: 0.4456 - precision_m: 0.9860 - recall_m: 0.2893 - val_loss: 0.8262 - val_acc: 0.8774 - val_f1_m: 0.0000e+00 - val_precision_m: 0.0000e+00 - val_recall_m: 0.0000e+00\n",
            "Epoch 75/100\n",
            "146/146 [==============================] - 3s 21ms/step - loss: 0.7721 - acc: 0.9143 - f1_m: 0.4477 - precision_m: 0.9873 - recall_m: 0.2911 - val_loss: 0.8252 - val_acc: 0.8788 - val_f1_m: 0.0000e+00 - val_precision_m: 0.0000e+00 - val_recall_m: 0.0000e+00\n",
            "Epoch 76/100\n",
            "146/146 [==============================] - 3s 21ms/step - loss: 0.7702 - acc: 0.9156 - f1_m: 0.4486 - precision_m: 0.9866 - recall_m: 0.2918 - val_loss: 0.8239 - val_acc: 0.8769 - val_f1_m: 0.0000e+00 - val_precision_m: 0.0000e+00 - val_recall_m: 0.0000e+00\n",
            "Epoch 77/100\n",
            "146/146 [==============================] - 3s 21ms/step - loss: 0.7692 - acc: 0.9153 - f1_m: 0.4481 - precision_m: 0.9873 - recall_m: 0.2917 - val_loss: 0.8226 - val_acc: 0.8772 - val_f1_m: 0.0000e+00 - val_precision_m: 0.0000e+00 - val_recall_m: 0.0000e+00\n",
            "Epoch 78/100\n",
            "146/146 [==============================] - 3s 21ms/step - loss: 0.7671 - acc: 0.9192 - f1_m: 0.4456 - precision_m: 0.9880 - recall_m: 0.2894 - val_loss: 0.8213 - val_acc: 0.8774 - val_f1_m: 0.0000e+00 - val_precision_m: 0.0000e+00 - val_recall_m: 0.0000e+00\n",
            "Epoch 79/100\n",
            "146/146 [==============================] - 3s 21ms/step - loss: 0.7653 - acc: 0.9140 - f1_m: 0.4527 - precision_m: 0.9878 - recall_m: 0.2950 - val_loss: 0.8201 - val_acc: 0.8783 - val_f1_m: 0.0000e+00 - val_precision_m: 0.0000e+00 - val_recall_m: 0.0000e+00\n",
            "Epoch 80/100\n",
            "146/146 [==============================] - 3s 21ms/step - loss: 0.7632 - acc: 0.9176 - f1_m: 0.4529 - precision_m: 0.9876 - recall_m: 0.2952 - val_loss: 0.8189 - val_acc: 0.8772 - val_f1_m: 0.0000e+00 - val_precision_m: 0.0000e+00 - val_recall_m: 0.0000e+00\n",
            "Epoch 81/100\n",
            "146/146 [==============================] - 3s 21ms/step - loss: 0.7618 - acc: 0.9212 - f1_m: 0.4479 - precision_m: 0.9876 - recall_m: 0.2911 - val_loss: 0.8180 - val_acc: 0.8761 - val_f1_m: 0.0000e+00 - val_precision_m: 0.0000e+00 - val_recall_m: 0.0000e+00\n",
            "Epoch 82/100\n",
            "146/146 [==============================] - 3s 21ms/step - loss: 0.7571 - acc: 0.9255 - f1_m: 0.4539 - precision_m: 0.9867 - recall_m: 0.2960 - val_loss: 0.8163 - val_acc: 0.8780 - val_f1_m: 0.0000e+00 - val_precision_m: 0.0000e+00 - val_recall_m: 0.0000e+00\n",
            "Epoch 83/100\n",
            "146/146 [==============================] - 3s 21ms/step - loss: 0.7582 - acc: 0.9177 - f1_m: 0.4540 - precision_m: 0.9869 - recall_m: 0.2962 - val_loss: 0.8148 - val_acc: 0.8777 - val_f1_m: 0.0000e+00 - val_precision_m: 0.0000e+00 - val_recall_m: 0.0000e+00\n",
            "Epoch 84/100\n",
            "146/146 [==============================] - 3s 21ms/step - loss: 0.7555 - acc: 0.9239 - f1_m: 0.4512 - precision_m: 0.9876 - recall_m: 0.2945 - val_loss: 0.8143 - val_acc: 0.8766 - val_f1_m: 0.3906 - val_precision_m: 0.9521 - val_recall_m: 0.2475\n",
            "Epoch 85/100\n",
            "146/146 [==============================] - 3s 21ms/step - loss: 0.7544 - acc: 0.9219 - f1_m: 0.4516 - precision_m: 0.9872 - recall_m: 0.2944 - val_loss: 0.8134 - val_acc: 0.8758 - val_f1_m: 0.4021 - val_precision_m: 0.9413 - val_recall_m: 0.2572\n",
            "Epoch 86/100\n",
            "146/146 [==============================] - 3s 21ms/step - loss: 0.7514 - acc: 0.9219 - f1_m: 0.4560 - precision_m: 0.9894 - recall_m: 0.2982 - val_loss: 0.8114 - val_acc: 0.8761 - val_f1_m: 0.4122 - val_precision_m: 0.9336 - val_recall_m: 0.2659\n",
            "Epoch 87/100\n",
            "146/146 [==============================] - 3s 21ms/step - loss: 0.7503 - acc: 0.9224 - f1_m: 0.4563 - precision_m: 0.9872 - recall_m: 0.2982 - val_loss: 0.8100 - val_acc: 0.8777 - val_f1_m: 0.4194 - val_precision_m: 0.9258 - val_recall_m: 0.2724\n",
            "Epoch 88/100\n",
            "146/146 [==============================] - 3s 21ms/step - loss: 0.7491 - acc: 0.9208 - f1_m: 0.4558 - precision_m: 0.9875 - recall_m: 0.2979 - val_loss: 0.8093 - val_acc: 0.8758 - val_f1_m: 0.4190 - val_precision_m: 0.9252 - val_recall_m: 0.2721\n",
            "Epoch 89/100\n",
            "146/146 [==============================] - 3s 21ms/step - loss: 0.7452 - acc: 0.9265 - f1_m: 0.4572 - precision_m: 0.9877 - recall_m: 0.2988 - val_loss: 0.8089 - val_acc: 0.8758 - val_f1_m: 0.4188 - val_precision_m: 0.9260 - val_recall_m: 0.2718\n",
            "Epoch 90/100\n",
            "146/146 [==============================] - 3s 21ms/step - loss: 0.7460 - acc: 0.9249 - f1_m: 0.4532 - precision_m: 0.9879 - recall_m: 0.2959 - val_loss: 0.8076 - val_acc: 0.8755 - val_f1_m: 0.4184 - val_precision_m: 0.9260 - val_recall_m: 0.2716\n",
            "Epoch 91/100\n",
            "146/146 [==============================] - 3s 21ms/step - loss: 0.7457 - acc: 0.9202 - f1_m: 0.4550 - precision_m: 0.9888 - recall_m: 0.2967 - val_loss: 0.8063 - val_acc: 0.8758 - val_f1_m: 0.4198 - val_precision_m: 0.9238 - val_recall_m: 0.2729\n",
            "Epoch 92/100\n",
            "146/146 [==============================] - 3s 21ms/step - loss: 0.7431 - acc: 0.9221 - f1_m: 0.4560 - precision_m: 0.9883 - recall_m: 0.2978 - val_loss: 0.8059 - val_acc: 0.8736 - val_f1_m: 0.4185 - val_precision_m: 0.9268 - val_recall_m: 0.2716\n",
            "Epoch 93/100\n",
            "146/146 [==============================] - 3s 21ms/step - loss: 0.7410 - acc: 0.9240 - f1_m: 0.4561 - precision_m: 0.9895 - recall_m: 0.2979 - val_loss: 0.8043 - val_acc: 0.8747 - val_f1_m: 0.4229 - val_precision_m: 0.9205 - val_recall_m: 0.2759\n",
            "Epoch 94/100\n",
            "146/146 [==============================] - 3s 21ms/step - loss: 0.7398 - acc: 0.9261 - f1_m: 0.4533 - precision_m: 0.9883 - recall_m: 0.2956 - val_loss: 0.8020 - val_acc: 0.8758 - val_f1_m: 0.4247 - val_precision_m: 0.9105 - val_recall_m: 0.2783\n",
            "Epoch 95/100\n",
            "146/146 [==============================] - 3s 21ms/step - loss: 0.7388 - acc: 0.9226 - f1_m: 0.4558 - precision_m: 0.9884 - recall_m: 0.2977 - val_loss: 0.8016 - val_acc: 0.8747 - val_f1_m: 0.4250 - val_precision_m: 0.9131 - val_recall_m: 0.2783\n",
            "Epoch 96/100\n",
            "146/146 [==============================] - 3s 21ms/step - loss: 0.7367 - acc: 0.9227 - f1_m: 0.4572 - precision_m: 0.9889 - recall_m: 0.2993 - val_loss: 0.8006 - val_acc: 0.8739 - val_f1_m: 0.4250 - val_precision_m: 0.9130 - val_recall_m: 0.2783\n",
            "Epoch 97/100\n",
            "146/146 [==============================] - 3s 21ms/step - loss: 0.7334 - acc: 0.9291 - f1_m: 0.4558 - precision_m: 0.9884 - recall_m: 0.2978 - val_loss: 0.7997 - val_acc: 0.8752 - val_f1_m: 0.4229 - val_precision_m: 0.9206 - val_recall_m: 0.2759\n",
            "Epoch 98/100\n",
            "146/146 [==============================] - 3s 21ms/step - loss: 0.7340 - acc: 0.9231 - f1_m: 0.4569 - precision_m: 0.9887 - recall_m: 0.2984 - val_loss: 0.7975 - val_acc: 0.8763 - val_f1_m: 0.4265 - val_precision_m: 0.9085 - val_recall_m: 0.2799\n",
            "Epoch 99/100\n",
            "146/146 [==============================] - 3s 21ms/step - loss: 0.7305 - acc: 0.9270 - f1_m: 0.4579 - precision_m: 0.9887 - recall_m: 0.2993 - val_loss: 0.7965 - val_acc: 0.8769 - val_f1_m: 0.4257 - val_precision_m: 0.9076 - val_recall_m: 0.2794\n",
            "Epoch 100/100\n",
            "146/146 [==============================] - 3s 21ms/step - loss: 0.7322 - acc: 0.9225 - f1_m: 0.4545 - precision_m: 0.9890 - recall_m: 0.2965 - val_loss: 0.7954 - val_acc: 0.8774 - val_f1_m: 0.4262 - val_precision_m: 0.9095 - val_recall_m: 0.2797\n"
          ],
          "name": "stdout"
        }
      ]
    },
    {
      "cell_type": "code",
      "metadata": {
        "id": "KKqCy3sIht5l",
        "colab_type": "code",
        "colab": {
          "base_uri": "https://localhost:8080/",
          "height": 650
        },
        "outputId": "ea3b0a25-fb4e-49fc-ae1c-b6e3c57cf0cb"
      },
      "source": [
        "loss, acc, f1_score, precision, recall = model_transformer.evaluate(X_test, Y_test,  verbose=0 )\n",
        "print_stats(f1_score, precision, recall, acc)\n",
        "loss, acc, f1_score, precision, recall = model_transformer.evaluate(X1_test, Y1_test,  verbose=0 )\n",
        "print_stats(f1_score, precision, recall, acc)\n",
        "loss, acc, f1_score, precision, recall = model_transformer.evaluate(X2_test, Y2_test,  verbose=0 )\n",
        "print_stats(f1_score, precision, recall, acc)\n",
        "loss, acc, f1_score, precision, recall = model_transformer.evaluate(X3_test, Y3_test,  verbose=0 )\n",
        "print_stats(f1_score, precision, recall, acc)\n",
        "loss, acc, f1_score, precision, recall = model_transformer.evaluate(X4_test, Y4_test,  verbose=0 )\n",
        "print_stats(f1_score, precision, recall, acc)\n",
        "loss, acc, f1_score, precision, recall = model_transformer.evaluate(X5_test, Y5_test,  verbose=0 )\n",
        "print_stats(f1_score, precision, recall, acc)"
      ],
      "execution_count": null,
      "outputs": [
        {
          "output_type": "stream",
          "text": [
            "#######################################################\n",
            "F1        : 0.42219480872154236\n",
            "Precision : 0.9080260992050171\n",
            "Recall    : 0.279410719871521\n",
            "Accuracy  : 0.8774334788322449\n",
            "#######################################################\n",
            "#######################################################\n",
            "F1        : 0.4247574508190155\n",
            "Precision : 0.9218952655792236\n",
            "Recall    : 0.2785528302192688\n",
            "Accuracy  : 0.8742514848709106\n",
            "#######################################################\n",
            "#######################################################\n",
            "F1        : 0.39442282915115356\n",
            "Precision : 0.8971433043479919\n",
            "Recall    : 0.2561383843421936\n",
            "Accuracy  : 0.8423153758049011\n",
            "#######################################################\n",
            "#######################################################\n",
            "F1        : 0.3938150107860565\n",
            "Precision : 0.9281724095344543\n",
            "Recall    : 0.2531622052192688\n",
            "Accuracy  : 0.8662674427032471\n",
            "#######################################################\n",
            "#######################################################\n",
            "F1        : 0.4514120817184448\n",
            "Precision : 0.9379464387893677\n",
            "Recall    : 0.3039434552192688\n",
            "Accuracy  : 0.886227548122406\n",
            "#######################################################\n",
            "#######################################################\n",
            "F1        : 0.40054774284362793\n",
            "Precision : 0.8927804827690125\n",
            "Recall    : 0.2648809552192688\n",
            "Accuracy  : 0.8682634830474854\n",
            "#######################################################\n"
          ],
          "name": "stdout"
        }
      ]
    },
    {
      "cell_type": "markdown",
      "metadata": {
        "id": "UDWOSnXc43NX",
        "colab_type": "text"
      },
      "source": [
        "#Single LSTM with FastText Embedding"
      ]
    },
    {
      "cell_type": "code",
      "metadata": {
        "id": "DxSwZ09i42rB",
        "colab_type": "code",
        "colab": {}
      },
      "source": [
        "def single_lstm_fastText(nodes, **kwargs):\n",
        "  #as declared above earlier\n",
        "  MAX_NB_WORDS = 15000\n",
        "  #EMBEDDING_DIM = 100\n",
        "  MAX_SEQ_LENGTH = 12\n",
        "  with tf.device('/device:GPU:0'):\n",
        "    model_ft = Sequential()\n",
        "\n",
        "    #Fast text embeddings are 300 dim\n",
        "    model_ft.add(Embedding(MAX_NB_WORDS, 300,\n",
        "          weights=[embedding_matrix], input_length=MAX_SEQ_LENGTH, trainable=False))\n",
        "\n",
        "    #model.add(Embedding(MAX_NB_WORDS, EMBEDDING_DIM, input_length=MAX_SEQ_LENGTH))\n",
        "    model_ft.add(LSTM(nodes, activation=  kwargs.get('activation'), dropout=  kwargs.get('dropout')))\n",
        "  \n",
        "    model_ft.add(Dense(3, activation= kwargs.get('dense_actv')))\n",
        "    optimizer = Adam(learning_rate=1e-5)\n",
        "    # Since one hot encoded. categoriacl crossentropy will work\n",
        "    #model.compile(loss=\"categorical_crossentropy\", optimizer=optimizer, metrics=[\"accuracy\"])\n",
        "    model_ft.compile(loss=\"categorical_crossentropy\", optimizer=optimizer, metrics=['acc',f1_m,precision_m, recall_m])\n",
        "    \n",
        "    model_ft.summary()\n",
        "    filepath=\"weights-improvement-{epoch:02d}-{val_accuracy:.2f}.hdf5\"\n",
        "    checkpoint = ModelCheckpoint(filepath, monitor='val_accuracy', verbose=1, save_best_only=True, mode='max')\n",
        "    callbacks_list = [checkpoint]\n",
        "    # simple early stopping\n",
        "    es = EarlyStopping(monitor='val_loss', mode='min', verbose=1)\n",
        "    # learning rate decay\n",
        "    # not being used currently\n",
        "    lrate = LearningRateScheduler(step_decay)\n",
        "    history = model_ft.fit(kwargs.get('X_train'),\n",
        "                        kwargs.get('Y_train'), \n",
        "                        epochs= kwargs.get('epochs'), \n",
        "                        batch_size = 100,\n",
        "                        callbacks= [es],\n",
        "                        validation_data=(kwargs.get('X_test'),\n",
        "                                         kwargs.get('Y_test')),)\n",
        "    display_history_loss(history, \"single_lstm\")\n",
        "    plot_graphs(history, \"acc\")\n",
        "    #score = model.evaluate(X_test, Y_test)\n",
        "    loss, acc, f1_score, precision, recall = model_ft.evaluate(X_test, Y_test,  verbose=0 )\n",
        "    print_stats(f1_score, precision, recall, acc)\n",
        "    custom_evaluate(model_ft, X1_test,Y1_test)\n",
        "    custom_evaluate(model_ft, X2_test,Y2_test)\n",
        "    custom_evaluate(model_ft, X3_test,Y3_test)\n",
        "    custom_evaluate(model_ft, X4_test,Y4_test)\n",
        "    custom_evaluate(model_ft, X5_test,Y5_test)\n",
        "\n"
      ],
      "execution_count": null,
      "outputs": []
    },
    {
      "cell_type": "markdown",
      "metadata": {
        "id": "RXk363STDNAD",
        "colab_type": "text"
      },
      "source": [
        "## Result"
      ]
    },
    {
      "cell_type": "code",
      "metadata": {
        "id": "M4uli7XV5jKg",
        "colab_type": "code",
        "colab": {
          "base_uri": "https://localhost:8080/",
          "height": 1000
        },
        "outputId": "9ac37e81-0d38-434c-d9d3-1ad30504e867"
      },
      "source": [
        "single_lstm_fastText(64, activation = 'tanh', \n",
        "            dropout = 0.2, \n",
        "            dense_actv ='softmax',\n",
        "            epochs =100,\n",
        "            X_train = X_train,\n",
        "            Y_train = Y_train,\n",
        "            X_test = X_test,\n",
        "            Y_test = Y_test)"
      ],
      "execution_count": null,
      "outputs": [
        {
          "output_type": "stream",
          "text": [
            "Model: \"sequential_18\"\n",
            "_________________________________________________________________\n",
            "Layer (type)                 Output Shape              Param #   \n",
            "=================================================================\n",
            "embedding_24 (Embedding)     (None, 12, 300)           4500000   \n",
            "_________________________________________________________________\n",
            "lstm_18 (LSTM)               (None, 64)                93440     \n",
            "_________________________________________________________________\n",
            "dense_55 (Dense)             (None, 3)                 195       \n",
            "=================================================================\n",
            "Total params: 4,593,635\n",
            "Trainable params: 93,635\n",
            "Non-trainable params: 4,500,000\n",
            "_________________________________________________________________\n",
            "Epoch 1/100\n",
            "146/146 [==============================] - 1s 9ms/step - loss: 1.0979 - acc: 0.3325 - f1_m: 0.0000e+00 - precision_m: 0.0000e+00 - recall_m: 0.0000e+00 - val_loss: 1.0969 - val_acc: 0.3392 - val_f1_m: 0.0000e+00 - val_precision_m: 0.0000e+00 - val_recall_m: 0.0000e+00\n",
            "Epoch 2/100\n",
            "146/146 [==============================] - 1s 6ms/step - loss: 1.0960 - acc: 0.3507 - f1_m: 0.0000e+00 - precision_m: 0.0000e+00 - recall_m: 0.0000e+00 - val_loss: 1.0949 - val_acc: 0.3729 - val_f1_m: 0.0000e+00 - val_precision_m: 0.0000e+00 - val_recall_m: 0.0000e+00\n",
            "Epoch 3/100\n",
            "146/146 [==============================] - 1s 6ms/step - loss: 1.0940 - acc: 0.3746 - f1_m: 0.0000e+00 - precision_m: 0.0000e+00 - recall_m: 0.0000e+00 - val_loss: 1.0926 - val_acc: 0.3927 - val_f1_m: 0.0000e+00 - val_precision_m: 0.0000e+00 - val_recall_m: 0.0000e+00\n",
            "Epoch 4/100\n",
            "146/146 [==============================] - 1s 6ms/step - loss: 1.0916 - acc: 0.3961 - f1_m: 0.0000e+00 - precision_m: 0.0000e+00 - recall_m: 0.0000e+00 - val_loss: 1.0898 - val_acc: 0.4042 - val_f1_m: 0.0000e+00 - val_precision_m: 0.0000e+00 - val_recall_m: 0.0000e+00\n",
            "Epoch 5/100\n",
            "146/146 [==============================] - 1s 6ms/step - loss: 1.0887 - acc: 0.4190 - f1_m: 0.0000e+00 - precision_m: 0.0000e+00 - recall_m: 0.0000e+00 - val_loss: 1.0863 - val_acc: 0.4245 - val_f1_m: 0.0000e+00 - val_precision_m: 0.0000e+00 - val_recall_m: 0.0000e+00\n",
            "Epoch 6/100\n",
            "146/146 [==============================] - 1s 6ms/step - loss: 1.0846 - acc: 0.4347 - f1_m: 0.0000e+00 - precision_m: 0.0000e+00 - recall_m: 0.0000e+00 - val_loss: 1.0814 - val_acc: 0.4393 - val_f1_m: 0.0000e+00 - val_precision_m: 0.0000e+00 - val_recall_m: 0.0000e+00\n",
            "Epoch 7/100\n",
            "146/146 [==============================] - 1s 6ms/step - loss: 1.0792 - acc: 0.4487 - f1_m: 0.0000e+00 - precision_m: 0.0000e+00 - recall_m: 0.0000e+00 - val_loss: 1.0748 - val_acc: 0.4571 - val_f1_m: 0.0000e+00 - val_precision_m: 0.0000e+00 - val_recall_m: 0.0000e+00\n",
            "Epoch 8/100\n",
            "146/146 [==============================] - 1s 6ms/step - loss: 1.0717 - acc: 0.4689 - f1_m: 0.0000e+00 - precision_m: 0.0000e+00 - recall_m: 0.0000e+00 - val_loss: 1.0653 - val_acc: 0.4820 - val_f1_m: 0.0000e+00 - val_precision_m: 0.0000e+00 - val_recall_m: 0.0000e+00\n",
            "Epoch 9/100\n",
            "146/146 [==============================] - 1s 6ms/step - loss: 1.0606 - acc: 0.4875 - f1_m: 1.3563e-04 - precision_m: 0.0068 - recall_m: 6.8493e-05 - val_loss: 1.0515 - val_acc: 0.5012 - val_f1_m: 5.3519e-04 - val_precision_m: 0.0270 - val_recall_m: 2.7027e-04\n",
            "Epoch 10/100\n",
            "146/146 [==============================] - 1s 6ms/step - loss: 1.0442 - acc: 0.5119 - f1_m: 0.0085 - precision_m: 0.3208 - recall_m: 0.0043 - val_loss: 1.0310 - val_acc: 0.5322 - val_f1_m: 0.0191 - val_precision_m: 0.6081 - val_recall_m: 0.0097\n",
            "Epoch 11/100\n",
            "146/146 [==============================] - 1s 6ms/step - loss: 1.0206 - acc: 0.5300 - f1_m: 0.0592 - precision_m: 0.7324 - recall_m: 0.0313 - val_loss: 1.0016 - val_acc: 0.5585 - val_f1_m: 0.1026 - val_precision_m: 0.8054 - val_recall_m: 0.0552\n",
            "Epoch 12/100\n",
            "146/146 [==============================] - 1s 6ms/step - loss: 0.9880 - acc: 0.5594 - f1_m: 0.1514 - precision_m: 0.7618 - recall_m: 0.0852 - val_loss: 0.9630 - val_acc: 0.5994 - val_f1_m: 0.1930 - val_precision_m: 0.7528 - val_recall_m: 0.1118\n",
            "Epoch 13/100\n",
            "146/146 [==============================] - 1s 6ms/step - loss: 0.9485 - acc: 0.5986 - f1_m: 0.2187 - precision_m: 0.7266 - recall_m: 0.1303 - val_loss: 0.9187 - val_acc: 0.6285 - val_f1_m: 0.2627 - val_precision_m: 0.7214 - val_recall_m: 0.1616\n",
            "Epoch 14/100\n",
            "146/146 [==============================] - 1s 6ms/step - loss: 0.9058 - acc: 0.6240 - f1_m: 0.2958 - precision_m: 0.7348 - recall_m: 0.1868 - val_loss: 0.8739 - val_acc: 0.6562 - val_f1_m: 0.3550 - val_precision_m: 0.7587 - val_recall_m: 0.2330\n",
            "Epoch 15/100\n",
            "146/146 [==============================] - 1s 6ms/step - loss: 0.8649 - acc: 0.6463 - f1_m: 0.3934 - precision_m: 0.7739 - recall_m: 0.2654 - val_loss: 0.8331 - val_acc: 0.6762 - val_f1_m: 0.4512 - val_precision_m: 0.7909 - val_recall_m: 0.3169\n",
            "Epoch 16/100\n",
            "146/146 [==============================] - 1s 6ms/step - loss: 0.8281 - acc: 0.6686 - f1_m: 0.4763 - precision_m: 0.8045 - recall_m: 0.3401 - val_loss: 0.7969 - val_acc: 0.7030 - val_f1_m: 0.5292 - val_precision_m: 0.8166 - val_recall_m: 0.3925\n",
            "Epoch 17/100\n",
            "146/146 [==============================] - 1s 6ms/step - loss: 0.7952 - acc: 0.6923 - f1_m: 0.5450 - precision_m: 0.8162 - recall_m: 0.4109 - val_loss: 0.7639 - val_acc: 0.7318 - val_f1_m: 0.5922 - val_precision_m: 0.8426 - val_recall_m: 0.4576\n",
            "Epoch 18/100\n",
            "146/146 [==============================] - 1s 6ms/step - loss: 0.7649 - acc: 0.7107 - f1_m: 0.6029 - precision_m: 0.8277 - recall_m: 0.4756 - val_loss: 0.7340 - val_acc: 0.7499 - val_f1_m: 0.6428 - val_precision_m: 0.8455 - val_recall_m: 0.5195\n",
            "Epoch 19/100\n",
            "146/146 [==============================] - 1s 6ms/step - loss: 0.7378 - acc: 0.7218 - f1_m: 0.6385 - precision_m: 0.8243 - recall_m: 0.5225 - val_loss: 0.7067 - val_acc: 0.7623 - val_f1_m: 0.6791 - val_precision_m: 0.8496 - val_recall_m: 0.5663\n",
            "Epoch 20/100\n",
            "146/146 [==============================] - 1s 6ms/step - loss: 0.7154 - acc: 0.7309 - f1_m: 0.6652 - precision_m: 0.8218 - recall_m: 0.5599 - val_loss: 0.6821 - val_acc: 0.7689 - val_f1_m: 0.6972 - val_precision_m: 0.8465 - val_recall_m: 0.5934\n",
            "Epoch 21/100\n",
            "146/146 [==============================] - 1s 6ms/step - loss: 0.6938 - acc: 0.7391 - f1_m: 0.6860 - precision_m: 0.8217 - recall_m: 0.5900 - val_loss: 0.6601 - val_acc: 0.7699 - val_f1_m: 0.7111 - val_precision_m: 0.8397 - val_recall_m: 0.6175\n",
            "Epoch 22/100\n",
            "146/146 [==============================] - 1s 6ms/step - loss: 0.6744 - acc: 0.7414 - f1_m: 0.6970 - precision_m: 0.8172 - recall_m: 0.6086 - val_loss: 0.6411 - val_acc: 0.7757 - val_f1_m: 0.7284 - val_precision_m: 0.8418 - val_recall_m: 0.6427\n",
            "Epoch 23/100\n",
            "146/146 [==============================] - 1s 6ms/step - loss: 0.6593 - acc: 0.7463 - f1_m: 0.7087 - precision_m: 0.8194 - recall_m: 0.6252 - val_loss: 0.6249 - val_acc: 0.7784 - val_f1_m: 0.7371 - val_precision_m: 0.8394 - val_recall_m: 0.6579\n",
            "Epoch 24/100\n",
            "146/146 [==============================] - 1s 6ms/step - loss: 0.6461 - acc: 0.7503 - f1_m: 0.7187 - precision_m: 0.8175 - recall_m: 0.6419 - val_loss: 0.6111 - val_acc: 0.7826 - val_f1_m: 0.7470 - val_precision_m: 0.8363 - val_recall_m: 0.6758\n",
            "Epoch 25/100\n",
            "146/146 [==============================] - 1s 6ms/step - loss: 0.6348 - acc: 0.7535 - f1_m: 0.7242 - precision_m: 0.8157 - recall_m: 0.6520 - val_loss: 0.5997 - val_acc: 0.7815 - val_f1_m: 0.7495 - val_precision_m: 0.8329 - val_recall_m: 0.6823\n",
            "Epoch 26/100\n",
            "146/146 [==============================] - 1s 6ms/step - loss: 0.6233 - acc: 0.7587 - f1_m: 0.7290 - precision_m: 0.8159 - recall_m: 0.6597 - val_loss: 0.5898 - val_acc: 0.7820 - val_f1_m: 0.7542 - val_precision_m: 0.8309 - val_recall_m: 0.6912\n",
            "Epoch 27/100\n",
            "146/146 [==============================] - 1s 6ms/step - loss: 0.6152 - acc: 0.7584 - f1_m: 0.7359 - precision_m: 0.8168 - recall_m: 0.6703 - val_loss: 0.5818 - val_acc: 0.7845 - val_f1_m: 0.7586 - val_precision_m: 0.8324 - val_recall_m: 0.6975\n",
            "Epoch 28/100\n",
            "146/146 [==============================] - 1s 6ms/step - loss: 0.6080 - acc: 0.7617 - f1_m: 0.7378 - precision_m: 0.8169 - recall_m: 0.6734 - val_loss: 0.5745 - val_acc: 0.7867 - val_f1_m: 0.7599 - val_precision_m: 0.8290 - val_recall_m: 0.7021\n",
            "Epoch 29/100\n",
            "146/146 [==============================] - 1s 6ms/step - loss: 0.6033 - acc: 0.7635 - f1_m: 0.7429 - precision_m: 0.8149 - recall_m: 0.6831 - val_loss: 0.5684 - val_acc: 0.7864 - val_f1_m: 0.7633 - val_precision_m: 0.8293 - val_recall_m: 0.7075\n",
            "Epoch 30/100\n",
            "146/146 [==============================] - 1s 6ms/step - loss: 0.5962 - acc: 0.7681 - f1_m: 0.7463 - precision_m: 0.8175 - recall_m: 0.6870 - val_loss: 0.5631 - val_acc: 0.7867 - val_f1_m: 0.7675 - val_precision_m: 0.8318 - val_recall_m: 0.7129\n",
            "Epoch 31/100\n",
            "146/146 [==============================] - 1s 6ms/step - loss: 0.5945 - acc: 0.7641 - f1_m: 0.7454 - precision_m: 0.8142 - recall_m: 0.6879 - val_loss: 0.5583 - val_acc: 0.7878 - val_f1_m: 0.7669 - val_precision_m: 0.8304 - val_recall_m: 0.7129\n",
            "Epoch 32/100\n",
            "146/146 [==============================] - 1s 6ms/step - loss: 0.5872 - acc: 0.7675 - f1_m: 0.7485 - precision_m: 0.8171 - recall_m: 0.6912 - val_loss: 0.5540 - val_acc: 0.7883 - val_f1_m: 0.7684 - val_precision_m: 0.8302 - val_recall_m: 0.7159\n",
            "Epoch 33/100\n",
            "146/146 [==============================] - 1s 6ms/step - loss: 0.5842 - acc: 0.7697 - f1_m: 0.7533 - precision_m: 0.8181 - recall_m: 0.6985 - val_loss: 0.5504 - val_acc: 0.7886 - val_f1_m: 0.7697 - val_precision_m: 0.8304 - val_recall_m: 0.7178\n",
            "Epoch 34/100\n",
            "146/146 [==============================] - 1s 6ms/step - loss: 0.5826 - acc: 0.7706 - f1_m: 0.7535 - precision_m: 0.8171 - recall_m: 0.6997 - val_loss: 0.5469 - val_acc: 0.7889 - val_f1_m: 0.7719 - val_precision_m: 0.8316 - val_recall_m: 0.7208\n",
            "Epoch 35/100\n",
            "146/146 [==============================] - 1s 6ms/step - loss: 0.5743 - acc: 0.7748 - f1_m: 0.7554 - precision_m: 0.8203 - recall_m: 0.7006 - val_loss: 0.5435 - val_acc: 0.7894 - val_f1_m: 0.7722 - val_precision_m: 0.8301 - val_recall_m: 0.7224\n",
            "Epoch 36/100\n",
            "146/146 [==============================] - 1s 6ms/step - loss: 0.5738 - acc: 0.7708 - f1_m: 0.7563 - precision_m: 0.8183 - recall_m: 0.7037 - val_loss: 0.5403 - val_acc: 0.7911 - val_f1_m: 0.7730 - val_precision_m: 0.8306 - val_recall_m: 0.7235\n",
            "Epoch 37/100\n",
            "146/146 [==============================] - 1s 6ms/step - loss: 0.5739 - acc: 0.7733 - f1_m: 0.7591 - precision_m: 0.8178 - recall_m: 0.7088 - val_loss: 0.5375 - val_acc: 0.7916 - val_f1_m: 0.7742 - val_precision_m: 0.8312 - val_recall_m: 0.7251\n",
            "Epoch 38/100\n",
            "146/146 [==============================] - 1s 6ms/step - loss: 0.5684 - acc: 0.7744 - f1_m: 0.7591 - precision_m: 0.8190 - recall_m: 0.7078 - val_loss: 0.5349 - val_acc: 0.7930 - val_f1_m: 0.7748 - val_precision_m: 0.8304 - val_recall_m: 0.7267\n",
            "Epoch 39/100\n",
            "146/146 [==============================] - 1s 6ms/step - loss: 0.5669 - acc: 0.7733 - f1_m: 0.7588 - precision_m: 0.8188 - recall_m: 0.7074 - val_loss: 0.5325 - val_acc: 0.7933 - val_f1_m: 0.7763 - val_precision_m: 0.8310 - val_recall_m: 0.7289\n",
            "Epoch 40/100\n",
            "146/146 [==============================] - 1s 6ms/step - loss: 0.5644 - acc: 0.7756 - f1_m: 0.7603 - precision_m: 0.8198 - recall_m: 0.7094 - val_loss: 0.5300 - val_acc: 0.7935 - val_f1_m: 0.7769 - val_precision_m: 0.8317 - val_recall_m: 0.7294\n",
            "Epoch 41/100\n",
            "146/146 [==============================] - 1s 6ms/step - loss: 0.5594 - acc: 0.7815 - f1_m: 0.7630 - precision_m: 0.8241 - recall_m: 0.7108 - val_loss: 0.5278 - val_acc: 0.7952 - val_f1_m: 0.7779 - val_precision_m: 0.8319 - val_recall_m: 0.7311\n",
            "Epoch 42/100\n",
            "146/146 [==============================] - 1s 6ms/step - loss: 0.5613 - acc: 0.7748 - f1_m: 0.7616 - precision_m: 0.8179 - recall_m: 0.7132 - val_loss: 0.5258 - val_acc: 0.7941 - val_f1_m: 0.7783 - val_precision_m: 0.8357 - val_recall_m: 0.7289\n",
            "Epoch 43/100\n",
            "146/146 [==============================] - 1s 6ms/step - loss: 0.5576 - acc: 0.7781 - f1_m: 0.7633 - precision_m: 0.8236 - recall_m: 0.7118 - val_loss: 0.5238 - val_acc: 0.7949 - val_f1_m: 0.7798 - val_precision_m: 0.8361 - val_recall_m: 0.7311\n",
            "Epoch 44/100\n",
            "146/146 [==============================] - 1s 6ms/step - loss: 0.5546 - acc: 0.7795 - f1_m: 0.7652 - precision_m: 0.8245 - recall_m: 0.7144 - val_loss: 0.5216 - val_acc: 0.7944 - val_f1_m: 0.7822 - val_precision_m: 0.8333 - val_recall_m: 0.7376\n",
            "Epoch 45/100\n",
            "146/146 [==============================] - 1s 6ms/step - loss: 0.5523 - acc: 0.7793 - f1_m: 0.7646 - precision_m: 0.8227 - recall_m: 0.7146 - val_loss: 0.5200 - val_acc: 0.7949 - val_f1_m: 0.7813 - val_precision_m: 0.8361 - val_recall_m: 0.7338\n",
            "Epoch 46/100\n",
            "146/146 [==============================] - 1s 6ms/step - loss: 0.5491 - acc: 0.7808 - f1_m: 0.7683 - precision_m: 0.8239 - recall_m: 0.7201 - val_loss: 0.5183 - val_acc: 0.7957 - val_f1_m: 0.7820 - val_precision_m: 0.8325 - val_recall_m: 0.7379\n",
            "Epoch 47/100\n",
            "146/146 [==============================] - 1s 6ms/step - loss: 0.5502 - acc: 0.7835 - f1_m: 0.7681 - precision_m: 0.8243 - recall_m: 0.7198 - val_loss: 0.5164 - val_acc: 0.7963 - val_f1_m: 0.7826 - val_precision_m: 0.8321 - val_recall_m: 0.7392\n",
            "Epoch 48/100\n",
            "146/146 [==============================] - 1s 6ms/step - loss: 0.5480 - acc: 0.7799 - f1_m: 0.7663 - precision_m: 0.8239 - recall_m: 0.7166 - val_loss: 0.5149 - val_acc: 0.7954 - val_f1_m: 0.7846 - val_precision_m: 0.8365 - val_recall_m: 0.7392\n",
            "Epoch 49/100\n",
            "146/146 [==============================] - 1s 6ms/step - loss: 0.5456 - acc: 0.7835 - f1_m: 0.7697 - precision_m: 0.8264 - recall_m: 0.7208 - val_loss: 0.5132 - val_acc: 0.7971 - val_f1_m: 0.7851 - val_precision_m: 0.8369 - val_recall_m: 0.7398\n",
            "Epoch 50/100\n",
            "146/146 [==============================] - 1s 6ms/step - loss: 0.5452 - acc: 0.7839 - f1_m: 0.7705 - precision_m: 0.8263 - recall_m: 0.7223 - val_loss: 0.5115 - val_acc: 0.7960 - val_f1_m: 0.7864 - val_precision_m: 0.8344 - val_recall_m: 0.7441\n",
            "Epoch 51/100\n",
            "146/146 [==============================] - 1s 6ms/step - loss: 0.5434 - acc: 0.7846 - f1_m: 0.7701 - precision_m: 0.8247 - recall_m: 0.7228 - val_loss: 0.5102 - val_acc: 0.7979 - val_f1_m: 0.7870 - val_precision_m: 0.8377 - val_recall_m: 0.7425\n",
            "Epoch 52/100\n",
            "146/146 [==============================] - 1s 6ms/step - loss: 0.5399 - acc: 0.7824 - f1_m: 0.7715 - precision_m: 0.8284 - recall_m: 0.7223 - val_loss: 0.5090 - val_acc: 0.7982 - val_f1_m: 0.7866 - val_precision_m: 0.8374 - val_recall_m: 0.7422\n",
            "Epoch 53/100\n",
            "146/146 [==============================] - 1s 6ms/step - loss: 0.5382 - acc: 0.7837 - f1_m: 0.7704 - precision_m: 0.8256 - recall_m: 0.7227 - val_loss: 0.5075 - val_acc: 0.7979 - val_f1_m: 0.7879 - val_precision_m: 0.8377 - val_recall_m: 0.7441\n",
            "Epoch 54/100\n",
            "146/146 [==============================] - 1s 6ms/step - loss: 0.5395 - acc: 0.7837 - f1_m: 0.7704 - precision_m: 0.8248 - recall_m: 0.7232 - val_loss: 0.5062 - val_acc: 0.7965 - val_f1_m: 0.7882 - val_precision_m: 0.8384 - val_recall_m: 0.7441\n",
            "Epoch 55/100\n",
            "146/146 [==============================] - 1s 6ms/step - loss: 0.5349 - acc: 0.7887 - f1_m: 0.7762 - precision_m: 0.8317 - recall_m: 0.7281 - val_loss: 0.5049 - val_acc: 0.7976 - val_f1_m: 0.7889 - val_precision_m: 0.8397 - val_recall_m: 0.7444\n",
            "Epoch 56/100\n",
            "146/146 [==============================] - 1s 6ms/step - loss: 0.5364 - acc: 0.7881 - f1_m: 0.7750 - precision_m: 0.8288 - recall_m: 0.7282 - val_loss: 0.5038 - val_acc: 0.7985 - val_f1_m: 0.7894 - val_precision_m: 0.8392 - val_recall_m: 0.7457\n",
            "Epoch 57/100\n",
            "146/146 [==============================] - 1s 6ms/step - loss: 0.5322 - acc: 0.7878 - f1_m: 0.7767 - precision_m: 0.8305 - recall_m: 0.7298 - val_loss: 0.5026 - val_acc: 0.7990 - val_f1_m: 0.7903 - val_precision_m: 0.8372 - val_recall_m: 0.7487\n",
            "Epoch 58/100\n",
            "146/146 [==============================] - 1s 6ms/step - loss: 0.5329 - acc: 0.7862 - f1_m: 0.7746 - precision_m: 0.8265 - recall_m: 0.7295 - val_loss: 0.5014 - val_acc: 0.7987 - val_f1_m: 0.7902 - val_precision_m: 0.8394 - val_recall_m: 0.7468\n",
            "Epoch 59/100\n",
            "146/146 [==============================] - 1s 6ms/step - loss: 0.5323 - acc: 0.7896 - f1_m: 0.7750 - precision_m: 0.8296 - recall_m: 0.7275 - val_loss: 0.5003 - val_acc: 0.7987 - val_f1_m: 0.7905 - val_precision_m: 0.8390 - val_recall_m: 0.7477\n",
            "Epoch 60/100\n",
            "146/146 [==============================] - 1s 6ms/step - loss: 0.5324 - acc: 0.7873 - f1_m: 0.7762 - precision_m: 0.8278 - recall_m: 0.7312 - val_loss: 0.4993 - val_acc: 0.7990 - val_f1_m: 0.7928 - val_precision_m: 0.8417 - val_recall_m: 0.7498\n",
            "Epoch 61/100\n",
            "146/146 [==============================] - 1s 6ms/step - loss: 0.5274 - acc: 0.7881 - f1_m: 0.7777 - precision_m: 0.8321 - recall_m: 0.7305 - val_loss: 0.4983 - val_acc: 0.7993 - val_f1_m: 0.7913 - val_precision_m: 0.8360 - val_recall_m: 0.7514\n",
            "Epoch 62/100\n",
            "146/146 [==============================] - 1s 6ms/step - loss: 0.5285 - acc: 0.7899 - f1_m: 0.7768 - precision_m: 0.8263 - recall_m: 0.7333 - val_loss: 0.4971 - val_acc: 0.7996 - val_f1_m: 0.7940 - val_precision_m: 0.8385 - val_recall_m: 0.7544\n",
            "Epoch 63/100\n",
            "146/146 [==============================] - 1s 6ms/step - loss: 0.5260 - acc: 0.7891 - f1_m: 0.7789 - precision_m: 0.8287 - recall_m: 0.7352 - val_loss: 0.4961 - val_acc: 0.8001 - val_f1_m: 0.7944 - val_precision_m: 0.8384 - val_recall_m: 0.7552\n",
            "Epoch 64/100\n",
            "146/146 [==============================] - 1s 6ms/step - loss: 0.5215 - acc: 0.7930 - f1_m: 0.7811 - precision_m: 0.8289 - recall_m: 0.7391 - val_loss: 0.4953 - val_acc: 0.8007 - val_f1_m: 0.7953 - val_precision_m: 0.8413 - val_recall_m: 0.7544\n",
            "Epoch 65/100\n",
            "146/146 [==============================] - 1s 6ms/step - loss: 0.5218 - acc: 0.7935 - f1_m: 0.7831 - precision_m: 0.8330 - recall_m: 0.7392 - val_loss: 0.4942 - val_acc: 0.8007 - val_f1_m: 0.7949 - val_precision_m: 0.8385 - val_recall_m: 0.7560\n",
            "Epoch 66/100\n",
            "146/146 [==============================] - 1s 6ms/step - loss: 0.5276 - acc: 0.7889 - f1_m: 0.7786 - precision_m: 0.8275 - recall_m: 0.7355 - val_loss: 0.4935 - val_acc: 0.8007 - val_f1_m: 0.7964 - val_precision_m: 0.8391 - val_recall_m: 0.7582\n",
            "Epoch 67/100\n",
            "146/146 [==============================] - 1s 6ms/step - loss: 0.5202 - acc: 0.7935 - f1_m: 0.7823 - precision_m: 0.8351 - recall_m: 0.7364 - val_loss: 0.4924 - val_acc: 0.8015 - val_f1_m: 0.7959 - val_precision_m: 0.8390 - val_recall_m: 0.7574\n",
            "Epoch 68/100\n",
            "146/146 [==============================] - 1s 6ms/step - loss: 0.5209 - acc: 0.7918 - f1_m: 0.7794 - precision_m: 0.8275 - recall_m: 0.7370 - val_loss: 0.4916 - val_acc: 0.8015 - val_f1_m: 0.7974 - val_precision_m: 0.8397 - val_recall_m: 0.7596\n",
            "Epoch 69/100\n",
            "146/146 [==============================] - 1s 6ms/step - loss: 0.5220 - acc: 0.7914 - f1_m: 0.7806 - precision_m: 0.8283 - recall_m: 0.7386 - val_loss: 0.4909 - val_acc: 0.8018 - val_f1_m: 0.7990 - val_precision_m: 0.8408 - val_recall_m: 0.7615\n",
            "Epoch 70/100\n",
            "146/146 [==============================] - 1s 6ms/step - loss: 0.5182 - acc: 0.7936 - f1_m: 0.7823 - precision_m: 0.8305 - recall_m: 0.7397 - val_loss: 0.4900 - val_acc: 0.8026 - val_f1_m: 0.7984 - val_precision_m: 0.8408 - val_recall_m: 0.7604\n",
            "Epoch 71/100\n",
            "146/146 [==============================] - 1s 6ms/step - loss: 0.5215 - acc: 0.7925 - f1_m: 0.7812 - precision_m: 0.8277 - recall_m: 0.7401 - val_loss: 0.4891 - val_acc: 0.8029 - val_f1_m: 0.7988 - val_precision_m: 0.8403 - val_recall_m: 0.7615\n",
            "Epoch 72/100\n",
            "146/146 [==============================] - 1s 6ms/step - loss: 0.5202 - acc: 0.7910 - f1_m: 0.7817 - precision_m: 0.8297 - recall_m: 0.7393 - val_loss: 0.4884 - val_acc: 0.8029 - val_f1_m: 0.7999 - val_precision_m: 0.8421 - val_recall_m: 0.7621\n",
            "Epoch 73/100\n",
            "146/146 [==============================] - 1s 6ms/step - loss: 0.5198 - acc: 0.7915 - f1_m: 0.7819 - precision_m: 0.8276 - recall_m: 0.7414 - val_loss: 0.4877 - val_acc: 0.8042 - val_f1_m: 0.8000 - val_precision_m: 0.8426 - val_recall_m: 0.7618\n",
            "Epoch 74/100\n",
            "146/146 [==============================] - 1s 6ms/step - loss: 0.5169 - acc: 0.7938 - f1_m: 0.7838 - precision_m: 0.8304 - recall_m: 0.7425 - val_loss: 0.4870 - val_acc: 0.8037 - val_f1_m: 0.8004 - val_precision_m: 0.8429 - val_recall_m: 0.7623\n",
            "Epoch 75/100\n",
            "146/146 [==============================] - 1s 6ms/step - loss: 0.5131 - acc: 0.7959 - f1_m: 0.7854 - precision_m: 0.8329 - recall_m: 0.7435 - val_loss: 0.4861 - val_acc: 0.8050 - val_f1_m: 0.8003 - val_precision_m: 0.8421 - val_recall_m: 0.7629\n",
            "Epoch 76/100\n",
            "146/146 [==============================] - 1s 6ms/step - loss: 0.5164 - acc: 0.7962 - f1_m: 0.7851 - precision_m: 0.8328 - recall_m: 0.7431 - val_loss: 0.4856 - val_acc: 0.8059 - val_f1_m: 0.8010 - val_precision_m: 0.8429 - val_recall_m: 0.7634\n",
            "Epoch 77/100\n",
            "146/146 [==============================] - 1s 6ms/step - loss: 0.5121 - acc: 0.7958 - f1_m: 0.7863 - precision_m: 0.8326 - recall_m: 0.7453 - val_loss: 0.4850 - val_acc: 0.8048 - val_f1_m: 0.8009 - val_precision_m: 0.8426 - val_recall_m: 0.7634\n",
            "Epoch 78/100\n",
            "146/146 [==============================] - 1s 6ms/step - loss: 0.5093 - acc: 0.7975 - f1_m: 0.7877 - precision_m: 0.8332 - recall_m: 0.7473 - val_loss: 0.4844 - val_acc: 0.8050 - val_f1_m: 0.8017 - val_precision_m: 0.8437 - val_recall_m: 0.7639\n",
            "Epoch 79/100\n",
            "146/146 [==============================] - 1s 6ms/step - loss: 0.5106 - acc: 0.7966 - f1_m: 0.7863 - precision_m: 0.8315 - recall_m: 0.7461 - val_loss: 0.4836 - val_acc: 0.8059 - val_f1_m: 0.8008 - val_precision_m: 0.8417 - val_recall_m: 0.7639\n",
            "Epoch 80/100\n",
            "146/146 [==============================] - 1s 6ms/step - loss: 0.5095 - acc: 0.7975 - f1_m: 0.7874 - precision_m: 0.8336 - recall_m: 0.7464 - val_loss: 0.4827 - val_acc: 0.8061 - val_f1_m: 0.8016 - val_precision_m: 0.8428 - val_recall_m: 0.7645\n",
            "Epoch 81/100\n",
            "146/146 [==============================] - 1s 6ms/step - loss: 0.5129 - acc: 0.7947 - f1_m: 0.7849 - precision_m: 0.8307 - recall_m: 0.7444 - val_loss: 0.4824 - val_acc: 0.8067 - val_f1_m: 0.8012 - val_precision_m: 0.8429 - val_recall_m: 0.7637\n",
            "Epoch 82/100\n",
            "146/146 [==============================] - 1s 6ms/step - loss: 0.5097 - acc: 0.7963 - f1_m: 0.7882 - precision_m: 0.8322 - recall_m: 0.7490 - val_loss: 0.4819 - val_acc: 0.8081 - val_f1_m: 0.8018 - val_precision_m: 0.8436 - val_recall_m: 0.7642\n",
            "Epoch 83/100\n",
            "146/146 [==============================] - 1s 6ms/step - loss: 0.5098 - acc: 0.7946 - f1_m: 0.7868 - precision_m: 0.8309 - recall_m: 0.7474 - val_loss: 0.4814 - val_acc: 0.8083 - val_f1_m: 0.8029 - val_precision_m: 0.8448 - val_recall_m: 0.7653\n",
            "Epoch 84/100\n",
            "146/146 [==============================] - 1s 6ms/step - loss: 0.5135 - acc: 0.7964 - f1_m: 0.7855 - precision_m: 0.8305 - recall_m: 0.7455 - val_loss: 0.4807 - val_acc: 0.8092 - val_f1_m: 0.8028 - val_precision_m: 0.8443 - val_recall_m: 0.7656\n",
            "Epoch 85/100\n",
            "146/146 [==============================] - 1s 6ms/step - loss: 0.5068 - acc: 0.7973 - f1_m: 0.7887 - precision_m: 0.8328 - recall_m: 0.7495 - val_loss: 0.4800 - val_acc: 0.8081 - val_f1_m: 0.8029 - val_precision_m: 0.8445 - val_recall_m: 0.7656\n",
            "Epoch 86/100\n",
            "146/146 [==============================] - 1s 6ms/step - loss: 0.5121 - acc: 0.7924 - f1_m: 0.7853 - precision_m: 0.8306 - recall_m: 0.7450 - val_loss: 0.4796 - val_acc: 0.8089 - val_f1_m: 0.8031 - val_precision_m: 0.8440 - val_recall_m: 0.7664\n",
            "Epoch 87/100\n",
            "146/146 [==============================] - 1s 6ms/step - loss: 0.5087 - acc: 0.7956 - f1_m: 0.7862 - precision_m: 0.8288 - recall_m: 0.7483 - val_loss: 0.4791 - val_acc: 0.8078 - val_f1_m: 0.8035 - val_precision_m: 0.8452 - val_recall_m: 0.7661\n",
            "Epoch 88/100\n",
            "146/146 [==============================] - 1s 6ms/step - loss: 0.5088 - acc: 0.7949 - f1_m: 0.7863 - precision_m: 0.8310 - recall_m: 0.7465 - val_loss: 0.4786 - val_acc: 0.8089 - val_f1_m: 0.8048 - val_precision_m: 0.8467 - val_recall_m: 0.7672\n",
            "Epoch 89/100\n",
            "146/146 [==============================] - 1s 6ms/step - loss: 0.5058 - acc: 0.7988 - f1_m: 0.7908 - precision_m: 0.8364 - recall_m: 0.7502 - val_loss: 0.4778 - val_acc: 0.8100 - val_f1_m: 0.8046 - val_precision_m: 0.8454 - val_recall_m: 0.7680\n",
            "Epoch 90/100\n",
            "146/146 [==============================] - 1s 6ms/step - loss: 0.5053 - acc: 0.7974 - f1_m: 0.7896 - precision_m: 0.8332 - recall_m: 0.7507 - val_loss: 0.4773 - val_acc: 0.8089 - val_f1_m: 0.8052 - val_precision_m: 0.8465 - val_recall_m: 0.7680\n",
            "Epoch 91/100\n",
            "146/146 [==============================] - 1s 6ms/step - loss: 0.5054 - acc: 0.7987 - f1_m: 0.7912 - precision_m: 0.8338 - recall_m: 0.7532 - val_loss: 0.4769 - val_acc: 0.8094 - val_f1_m: 0.8058 - val_precision_m: 0.8469 - val_recall_m: 0.7688\n",
            "Epoch 92/100\n",
            "146/146 [==============================] - 1s 6ms/step - loss: 0.5043 - acc: 0.7971 - f1_m: 0.7903 - precision_m: 0.8337 - recall_m: 0.7516 - val_loss: 0.4763 - val_acc: 0.8111 - val_f1_m: 0.8060 - val_precision_m: 0.8461 - val_recall_m: 0.7699\n",
            "Epoch 93/100\n",
            "146/146 [==============================] - 1s 6ms/step - loss: 0.4997 - acc: 0.7987 - f1_m: 0.7911 - precision_m: 0.8337 - recall_m: 0.7531 - val_loss: 0.4759 - val_acc: 0.8105 - val_f1_m: 0.8076 - val_precision_m: 0.8476 - val_recall_m: 0.7715\n",
            "Epoch 94/100\n",
            "146/146 [==============================] - 1s 6ms/step - loss: 0.5015 - acc: 0.7987 - f1_m: 0.7901 - precision_m: 0.8319 - recall_m: 0.7526 - val_loss: 0.4752 - val_acc: 0.8114 - val_f1_m: 0.8062 - val_precision_m: 0.8469 - val_recall_m: 0.7696\n",
            "Epoch 95/100\n",
            "146/146 [==============================] - 1s 6ms/step - loss: 0.5051 - acc: 0.7981 - f1_m: 0.7894 - precision_m: 0.8324 - recall_m: 0.7510 - val_loss: 0.4749 - val_acc: 0.8108 - val_f1_m: 0.8076 - val_precision_m: 0.8477 - val_recall_m: 0.7715\n",
            "Epoch 96/100\n",
            "146/146 [==============================] - 1s 6ms/step - loss: 0.5029 - acc: 0.8007 - f1_m: 0.7918 - precision_m: 0.8347 - recall_m: 0.7535 - val_loss: 0.4743 - val_acc: 0.8114 - val_f1_m: 0.8077 - val_precision_m: 0.8486 - val_recall_m: 0.7710\n",
            "Epoch 97/100\n",
            "146/146 [==============================] - 1s 6ms/step - loss: 0.5017 - acc: 0.7962 - f1_m: 0.7901 - precision_m: 0.8335 - recall_m: 0.7514 - val_loss: 0.4739 - val_acc: 0.8114 - val_f1_m: 0.8081 - val_precision_m: 0.8478 - val_recall_m: 0.7723\n",
            "Epoch 98/100\n",
            "146/146 [==============================] - 1s 6ms/step - loss: 0.4997 - acc: 0.7967 - f1_m: 0.7911 - precision_m: 0.8342 - recall_m: 0.7526 - val_loss: 0.4734 - val_acc: 0.8114 - val_f1_m: 0.8076 - val_precision_m: 0.8477 - val_recall_m: 0.7715\n",
            "Epoch 99/100\n",
            "146/146 [==============================] - 1s 6ms/step - loss: 0.4995 - acc: 0.7994 - f1_m: 0.7917 - precision_m: 0.8337 - recall_m: 0.7540 - val_loss: 0.4730 - val_acc: 0.8114 - val_f1_m: 0.8085 - val_precision_m: 0.8489 - val_recall_m: 0.7723\n",
            "Epoch 100/100\n",
            "146/146 [==============================] - 1s 6ms/step - loss: 0.5011 - acc: 0.7998 - f1_m: 0.7924 - precision_m: 0.8335 - recall_m: 0.7554 - val_loss: 0.4727 - val_acc: 0.8116 - val_f1_m: 0.8080 - val_precision_m: 0.8473 - val_recall_m: 0.7726\n"
          ],
          "name": "stdout"
        },
        {
          "output_type": "display_data",
          "data": {
            "image/png": "[encoded data removed]",
            "text/plain": [
              "<Figure size 432x288 with 1 Axes>"
            ]
          },
          "metadata": {
            "tags": [],
            "needs_background": "light"
          }
        },
        {
          "output_type": "display_data",
          "data": {
            "image/png": "[encoded data removed]",
            "text/plain": [
              "<Figure size 432x288 with 1 Axes>"
            ]
          },
          "metadata": {
            "tags": [],
            "needs_background": "light"
          }
        },
        {
          "output_type": "stream",
          "text": [
            "#######################################################\n",
            "F1        : 0.8073563575744629\n",
            "Precision : 0.8466997742652893\n",
            "Recall    : 0.7726902961730957\n",
            "Accuracy  : 0.8116260170936584\n",
            "#######################################################\n",
            "-------------------------------------\n",
            "#######################################################\n",
            "F1        : 0.7996760606765747\n",
            "Precision : 0.8413379192352295\n",
            "Recall    : 0.7633928656578064\n",
            "Accuracy  : 0.802395224571228\n",
            "#######################################################\n",
            "-------------------------------------\n",
            "#######################################################\n",
            "F1        : 0.8017594814300537\n",
            "Precision : 0.8407090306282043\n",
            "Recall    : 0.7665550708770752\n",
            "Accuracy  : 0.7944111824035645\n",
            "#######################################################\n",
            "-------------------------------------\n",
            "#######################################################\n",
            "F1        : 0.7925722002983093\n",
            "Precision : 0.8246829509735107\n",
            "Recall    : 0.763485848903656\n",
            "Accuracy  : 0.7984032034873962\n",
            "#######################################################\n",
            "-------------------------------------\n",
            "#######################################################\n",
            "F1        : 0.8226119875907898\n",
            "Precision : 0.8629992604255676\n",
            "Recall    : 0.7868303656578064\n",
            "Accuracy  : 0.8423153758049011\n",
            "#######################################################\n",
            "-------------------------------------\n",
            "#######################################################\n",
            "F1        : 0.8014920949935913\n",
            "Precision : 0.8434745073318481\n",
            "Recall    : 0.7646019458770752\n",
            "Accuracy  : 0.8063872456550598\n",
            "#######################################################\n"
          ],
          "name": "stdout"
        }
      ]
    },
    {
      "cell_type": "code",
      "metadata": {
        "id": "0Cj4zSAI_30g",
        "colab_type": "code",
        "colab": {}
      },
      "source": [
        "#second run\n",
        "single_lstm(64, activation = 'tanh', \n",
        "            dropout = 0.2, \n",
        "            dense_actv ='softmax',\n",
        "            epochs =100,\n",
        "            X_train = X_train,\n",
        "            Y_train = Y_train,\n",
        "            X_test = X_test,\n",
        "            Y_test = Y_test)"
      ],
      "execution_count": null,
      "outputs": []
    },
    {
      "cell_type": "markdown",
      "metadata": {
        "id": "1QSV7BZMFtj4",
        "colab_type": "text"
      },
      "source": [
        "# Double layer LSTM with fast text emb.\n"
      ]
    },
    {
      "cell_type": "code",
      "metadata": {
        "id": "iYV5EaBgBlhN",
        "colab_type": "code",
        "colab": {}
      },
      "source": [
        "def double_lstm_ft(nodes, **kwargs):\n",
        "  #as declared above earlier\n",
        "  MAX_NB_WORDS = 15000\n",
        "  EMBEDDING_DIM = 100\n",
        "  MAX_SEQ_LENGTH = 12\n",
        "  with tf.device('/device:GPU:0'):\n",
        "    model_d_ft = Sequential()\n",
        "\n",
        "    #embedding for fasttext is 300\n",
        "    model_d_ft.add(Embedding(MAX_NB_WORDS, 300,\n",
        "          weights=[embedding_matrix], input_length=MAX_SEQ_LENGTH, trainable=False))\n",
        "\n",
        "    model_d_ft.add(LSTM(nodes, activation=  kwargs.get('activation'), dropout=  kwargs.get('dropout'), return_sequences=True ))\n",
        "    model_d_ft.add(LSTM(64, activation=  kwargs.get('activation'), dropout=  kwargs.get('dropout') ))\n",
        "    model_d_ft.add(Dense(30,activation= kwargs.get('dense_actv')))\n",
        "    model_d_ft.add(Dense(3, activation= kwargs.get('dense_actv')))\n",
        "\n",
        "    optimizer = Adam(learning_rate=1e-5)\n",
        "    \n",
        "    model_d_ft.compile(loss=\"categorical_crossentropy\", optimizer=optimizer,metrics=['acc',f1_m,precision_m, recall_m])\n",
        "    model_d_ft.summary()\n",
        "    history = model_d_ft.fit(kwargs.get('X_train'), \n",
        "                        kwargs.get('Y_train'), \n",
        "                        epochs= kwargs.get('epochs'), \n",
        "                        batch_size = 100,\n",
        "                        validation_data=(kwargs.get('X_test'), kwargs.get('Y_test')),)\n",
        "    display_history_loss(history, \"double_lstm_ft\")\n",
        "    plot_graphs(history, \"acc\")\n",
        "    loss, acc, f1_score, precision, recall = model_d_ft.evaluate(X_test, Y_test,  verbose=0 )\n",
        "    print_stats(f1_score, precision, recall, acc)\n",
        "    custom_evaluate(model_d_ft, X1_test,Y1_test)\n",
        "    custom_evaluate(model_d_ft, X2_test,Y2_test)\n",
        "    custom_evaluate(model_d_ft, X3_test,Y3_test)\n",
        "    custom_evaluate(model_d_ft, X4_test,Y4_test)\n",
        "    custom_evaluate(model_d_ft, X5_test,Y5_test)\n",
        "    "
      ],
      "execution_count": null,
      "outputs": []
    },
    {
      "cell_type": "markdown",
      "metadata": {
        "id": "TmPpyFAammEG",
        "colab_type": "text"
      },
      "source": [
        "## Result"
      ]
    },
    {
      "cell_type": "code",
      "metadata": {
        "id": "cAcmSGu5CYaA",
        "colab_type": "code",
        "colab": {
          "base_uri": "https://localhost:8080/",
          "height": 1000
        },
        "outputId": "94ef4b38-4332-4211-d93b-bcec286d39db"
      },
      "source": [
        "double_lstm_ft(64, activation = 'tanh',  \n",
        "            dense_actv ='softmax',\n",
        "            epochs =200, \n",
        "            dropout=0.2,\n",
        "            X_train = X_train,\n",
        "            Y_train = Y_train,\n",
        "            X_test = X_test,\n",
        "            Y_test = Y_test)"
      ],
      "execution_count": null,
      "outputs": [
        {
          "output_type": "stream",
          "text": [
            "Model: \"sequential_21\"\n",
            "_________________________________________________________________\n",
            "Layer (type)                 Output Shape              Param #   \n",
            "=================================================================\n",
            "embedding_27 (Embedding)     (None, 12, 300)           4500000   \n",
            "_________________________________________________________________\n",
            "lstm_23 (LSTM)               (None, 12, 64)            93440     \n",
            "_________________________________________________________________\n",
            "lstm_24 (LSTM)               (None, 64)                33024     \n",
            "_________________________________________________________________\n",
            "dense_60 (Dense)             (None, 30)                1950      \n",
            "_________________________________________________________________\n",
            "dense_61 (Dense)             (None, 3)                 93        \n",
            "=================================================================\n",
            "Total params: 4,628,507\n",
            "Trainable params: 128,507\n",
            "Non-trainable params: 4,500,000\n",
            "_________________________________________________________________\n",
            "Epoch 1/200\n",
            "146/146 [==============================] - 2s 13ms/step - loss: 1.0991 - acc: 0.3338 - f1_m: 0.0000e+00 - precision_m: 0.0000e+00 - recall_m: 0.0000e+00 - val_loss: 1.0982 - val_acc: 0.3417 - val_f1_m: 0.0000e+00 - val_precision_m: 0.0000e+00 - val_recall_m: 0.0000e+00\n",
            "Epoch 2/200\n",
            "146/146 [==============================] - 1s 8ms/step - loss: 1.0990 - acc: 0.3338 - f1_m: 0.0000e+00 - precision_m: 0.0000e+00 - recall_m: 0.0000e+00 - val_loss: 1.0981 - val_acc: 0.3417 - val_f1_m: 0.0000e+00 - val_precision_m: 0.0000e+00 - val_recall_m: 0.0000e+00\n",
            "Epoch 3/200\n",
            "146/146 [==============================] - 1s 8ms/step - loss: 1.0989 - acc: 0.3338 - f1_m: 0.0000e+00 - precision_m: 0.0000e+00 - recall_m: 0.0000e+00 - val_loss: 1.0980 - val_acc: 0.3417 - val_f1_m: 0.0000e+00 - val_precision_m: 0.0000e+00 - val_recall_m: 0.0000e+00\n",
            "Epoch 4/200\n",
            "146/146 [==============================] - 1s 8ms/step - loss: 1.0987 - acc: 0.3338 - f1_m: 0.0000e+00 - precision_m: 0.0000e+00 - recall_m: 0.0000e+00 - val_loss: 1.0979 - val_acc: 0.3417 - val_f1_m: 0.0000e+00 - val_precision_m: 0.0000e+00 - val_recall_m: 0.0000e+00\n",
            "Epoch 5/200\n",
            "146/146 [==============================] - 1s 8ms/step - loss: 1.0985 - acc: 0.3443 - f1_m: 0.0000e+00 - precision_m: 0.0000e+00 - recall_m: 0.0000e+00 - val_loss: 1.0976 - val_acc: 0.3743 - val_f1_m: 0.0000e+00 - val_precision_m: 0.0000e+00 - val_recall_m: 0.0000e+00\n",
            "Epoch 6/200\n",
            "146/146 [==============================] - 1s 8ms/step - loss: 1.0981 - acc: 0.4350 - f1_m: 0.0000e+00 - precision_m: 0.0000e+00 - recall_m: 0.0000e+00 - val_loss: 1.0970 - val_acc: 0.5262 - val_f1_m: 0.0000e+00 - val_precision_m: 0.0000e+00 - val_recall_m: 0.0000e+00\n",
            "Epoch 7/200\n",
            "146/146 [==============================] - 1s 8ms/step - loss: 1.0972 - acc: 0.5404 - f1_m: 0.0000e+00 - precision_m: 0.0000e+00 - recall_m: 0.0000e+00 - val_loss: 1.0958 - val_acc: 0.5366 - val_f1_m: 0.0000e+00 - val_precision_m: 0.0000e+00 - val_recall_m: 0.0000e+00\n",
            "Epoch 8/200\n",
            "146/146 [==============================] - 1s 8ms/step - loss: 1.0952 - acc: 0.4773 - f1_m: 0.0000e+00 - precision_m: 0.0000e+00 - recall_m: 0.0000e+00 - val_loss: 1.0925 - val_acc: 0.4453 - val_f1_m: 0.0000e+00 - val_precision_m: 0.0000e+00 - val_recall_m: 0.0000e+00\n",
            "Epoch 9/200\n",
            "146/146 [==============================] - 1s 8ms/step - loss: 1.0902 - acc: 0.4256 - f1_m: 0.0000e+00 - precision_m: 0.0000e+00 - recall_m: 0.0000e+00 - val_loss: 1.0855 - val_acc: 0.4379 - val_f1_m: 0.0000e+00 - val_precision_m: 0.0000e+00 - val_recall_m: 0.0000e+00\n",
            "Epoch 10/200\n",
            "146/146 [==============================] - 1s 8ms/step - loss: 1.0817 - acc: 0.4642 - f1_m: 0.0000e+00 - precision_m: 0.0000e+00 - recall_m: 0.0000e+00 - val_loss: 1.0753 - val_acc: 0.5119 - val_f1_m: 0.0000e+00 - val_precision_m: 0.0000e+00 - val_recall_m: 0.0000e+00\n",
            "Epoch 11/200\n",
            "146/146 [==============================] - 1s 8ms/step - loss: 1.0712 - acc: 0.5315 - f1_m: 0.0000e+00 - precision_m: 0.0000e+00 - recall_m: 0.0000e+00 - val_loss: 1.0643 - val_acc: 0.5703 - val_f1_m: 0.0000e+00 - val_precision_m: 0.0000e+00 - val_recall_m: 0.0000e+00\n",
            "Epoch 12/200\n",
            "146/146 [==============================] - 1s 8ms/step - loss: 1.0611 - acc: 0.5902 - f1_m: 0.0000e+00 - precision_m: 0.0000e+00 - recall_m: 0.0000e+00 - val_loss: 1.0542 - val_acc: 0.5914 - val_f1_m: 0.0000e+00 - val_precision_m: 0.0000e+00 - val_recall_m: 0.0000e+00\n",
            "Epoch 13/200\n",
            "146/146 [==============================] - 1s 8ms/step - loss: 1.0523 - acc: 0.5703 - f1_m: 0.0000e+00 - precision_m: 0.0000e+00 - recall_m: 0.0000e+00 - val_loss: 1.0454 - val_acc: 0.5805 - val_f1_m: 0.0000e+00 - val_precision_m: 0.0000e+00 - val_recall_m: 0.0000e+00\n",
            "Epoch 14/200\n",
            "146/146 [==============================] - 1s 8ms/step - loss: 1.0447 - acc: 0.5665 - f1_m: 0.0000e+00 - precision_m: 0.0000e+00 - recall_m: 0.0000e+00 - val_loss: 1.0382 - val_acc: 0.5923 - val_f1_m: 0.0000e+00 - val_precision_m: 0.0000e+00 - val_recall_m: 0.0000e+00\n",
            "Epoch 15/200\n",
            "146/146 [==============================] - 1s 8ms/step - loss: 1.0383 - acc: 0.5762 - f1_m: 0.0000e+00 - precision_m: 0.0000e+00 - recall_m: 0.0000e+00 - val_loss: 1.0320 - val_acc: 0.5936 - val_f1_m: 0.0000e+00 - val_precision_m: 0.0000e+00 - val_recall_m: 0.0000e+00\n",
            "Epoch 16/200\n",
            "146/146 [==============================] - 1s 8ms/step - loss: 1.0334 - acc: 0.5795 - f1_m: 0.0000e+00 - precision_m: 0.0000e+00 - recall_m: 0.0000e+00 - val_loss: 1.0267 - val_acc: 0.6027 - val_f1_m: 0.0000e+00 - val_precision_m: 0.0000e+00 - val_recall_m: 0.0000e+00\n",
            "Epoch 17/200\n",
            "146/146 [==============================] - 1s 8ms/step - loss: 1.0278 - acc: 0.5900 - f1_m: 0.0000e+00 - precision_m: 0.0000e+00 - recall_m: 0.0000e+00 - val_loss: 1.0217 - val_acc: 0.6079 - val_f1_m: 0.0000e+00 - val_precision_m: 0.0000e+00 - val_recall_m: 0.0000e+00\n",
            "Epoch 18/200\n",
            "146/146 [==============================] - 1s 8ms/step - loss: 1.0235 - acc: 0.5948 - f1_m: 0.0000e+00 - precision_m: 0.0000e+00 - recall_m: 0.0000e+00 - val_loss: 1.0168 - val_acc: 0.6183 - val_f1_m: 0.0000e+00 - val_precision_m: 0.0000e+00 - val_recall_m: 0.0000e+00\n",
            "Epoch 19/200\n",
            "146/146 [==============================] - 1s 8ms/step - loss: 1.0188 - acc: 0.6045 - f1_m: 0.0000e+00 - precision_m: 0.0000e+00 - recall_m: 0.0000e+00 - val_loss: 1.0115 - val_acc: 0.6285 - val_f1_m: 0.0000e+00 - val_precision_m: 0.0000e+00 - val_recall_m: 0.0000e+00\n",
            "Epoch 20/200\n",
            "146/146 [==============================] - 1s 8ms/step - loss: 1.0130 - acc: 0.6244 - f1_m: 0.0000e+00 - precision_m: 0.0000e+00 - recall_m: 0.0000e+00 - val_loss: 1.0050 - val_acc: 0.6753 - val_f1_m: 0.0000e+00 - val_precision_m: 0.0000e+00 - val_recall_m: 0.0000e+00\n",
            "Epoch 21/200\n",
            "146/146 [==============================] - 1s 8ms/step - loss: 1.0064 - acc: 0.6703 - f1_m: 0.0000e+00 - precision_m: 0.0000e+00 - recall_m: 0.0000e+00 - val_loss: 0.9976 - val_acc: 0.7146 - val_f1_m: 0.0000e+00 - val_precision_m: 0.0000e+00 - val_recall_m: 0.0000e+00\n",
            "Epoch 22/200\n",
            "146/146 [==============================] - 1s 8ms/step - loss: 0.9991 - acc: 0.7053 - f1_m: 0.0000e+00 - precision_m: 0.0000e+00 - recall_m: 0.0000e+00 - val_loss: 0.9902 - val_acc: 0.7296 - val_f1_m: 0.0000e+00 - val_precision_m: 0.0000e+00 - val_recall_m: 0.0000e+00\n",
            "Epoch 23/200\n",
            "146/146 [==============================] - 1s 8ms/step - loss: 0.9931 - acc: 0.7141 - f1_m: 0.0000e+00 - precision_m: 0.0000e+00 - recall_m: 0.0000e+00 - val_loss: 0.9836 - val_acc: 0.7390 - val_f1_m: 0.0000e+00 - val_precision_m: 0.0000e+00 - val_recall_m: 0.0000e+00\n",
            "Epoch 24/200\n",
            "146/146 [==============================] - 1s 8ms/step - loss: 0.9865 - acc: 0.7235 - f1_m: 0.0000e+00 - precision_m: 0.0000e+00 - recall_m: 0.0000e+00 - val_loss: 0.9775 - val_acc: 0.7527 - val_f1_m: 0.0000e+00 - val_precision_m: 0.0000e+00 - val_recall_m: 0.0000e+00\n",
            "Epoch 25/200\n",
            "146/146 [==============================] - 1s 8ms/step - loss: 0.9812 - acc: 0.7269 - f1_m: 0.0000e+00 - precision_m: 0.0000e+00 - recall_m: 0.0000e+00 - val_loss: 0.9720 - val_acc: 0.7546 - val_f1_m: 0.0000e+00 - val_precision_m: 0.0000e+00 - val_recall_m: 0.0000e+00\n",
            "Epoch 26/200\n",
            "146/146 [==============================] - 1s 8ms/step - loss: 0.9759 - acc: 0.7294 - f1_m: 0.0000e+00 - precision_m: 0.0000e+00 - recall_m: 0.0000e+00 - val_loss: 0.9669 - val_acc: 0.7584 - val_f1_m: 0.0000e+00 - val_precision_m: 0.0000e+00 - val_recall_m: 0.0000e+00\n",
            "Epoch 27/200\n",
            "146/146 [==============================] - 1s 8ms/step - loss: 0.9713 - acc: 0.7349 - f1_m: 0.0000e+00 - precision_m: 0.0000e+00 - recall_m: 0.0000e+00 - val_loss: 0.9622 - val_acc: 0.7595 - val_f1_m: 0.0000e+00 - val_precision_m: 0.0000e+00 - val_recall_m: 0.0000e+00\n",
            "Epoch 28/200\n",
            "146/146 [==============================] - 1s 8ms/step - loss: 0.9673 - acc: 0.7331 - f1_m: 0.0000e+00 - precision_m: 0.0000e+00 - recall_m: 0.0000e+00 - val_loss: 0.9577 - val_acc: 0.7614 - val_f1_m: 0.0000e+00 - val_precision_m: 0.0000e+00 - val_recall_m: 0.0000e+00\n",
            "Epoch 29/200\n",
            "146/146 [==============================] - 1s 8ms/step - loss: 0.9621 - acc: 0.7413 - f1_m: 0.0000e+00 - precision_m: 0.0000e+00 - recall_m: 0.0000e+00 - val_loss: 0.9533 - val_acc: 0.7628 - val_f1_m: 0.0000e+00 - val_precision_m: 0.0000e+00 - val_recall_m: 0.0000e+00\n",
            "Epoch 30/200\n",
            "146/146 [==============================] - 1s 8ms/step - loss: 0.9590 - acc: 0.7407 - f1_m: 0.0000e+00 - precision_m: 0.0000e+00 - recall_m: 0.0000e+00 - val_loss: 0.9491 - val_acc: 0.7642 - val_f1_m: 0.0000e+00 - val_precision_m: 0.0000e+00 - val_recall_m: 0.0000e+00\n",
            "Epoch 31/200\n",
            "146/146 [==============================] - 1s 8ms/step - loss: 0.9549 - acc: 0.7418 - f1_m: 0.0000e+00 - precision_m: 0.0000e+00 - recall_m: 0.0000e+00 - val_loss: 0.9449 - val_acc: 0.7678 - val_f1_m: 0.0000e+00 - val_precision_m: 0.0000e+00 - val_recall_m: 0.0000e+00\n",
            "Epoch 32/200\n",
            "146/146 [==============================] - 1s 8ms/step - loss: 0.9517 - acc: 0.7431 - f1_m: 0.0000e+00 - precision_m: 0.0000e+00 - recall_m: 0.0000e+00 - val_loss: 0.9409 - val_acc: 0.7699 - val_f1_m: 0.0000e+00 - val_precision_m: 0.0000e+00 - val_recall_m: 0.0000e+00\n",
            "Epoch 33/200\n",
            "146/146 [==============================] - 1s 8ms/step - loss: 0.9468 - acc: 0.7478 - f1_m: 0.0000e+00 - precision_m: 0.0000e+00 - recall_m: 0.0000e+00 - val_loss: 0.9368 - val_acc: 0.7719 - val_f1_m: 0.0000e+00 - val_precision_m: 0.0000e+00 - val_recall_m: 0.0000e+00\n",
            "Epoch 34/200\n",
            "146/146 [==============================] - 1s 8ms/step - loss: 0.9426 - acc: 0.7503 - f1_m: 0.0000e+00 - precision_m: 0.0000e+00 - recall_m: 0.0000e+00 - val_loss: 0.9326 - val_acc: 0.7738 - val_f1_m: 0.0000e+00 - val_precision_m: 0.0000e+00 - val_recall_m: 0.0000e+00\n",
            "Epoch 35/200\n",
            "146/146 [==============================] - 1s 8ms/step - loss: 0.9395 - acc: 0.7483 - f1_m: 0.0000e+00 - precision_m: 0.0000e+00 - recall_m: 0.0000e+00 - val_loss: 0.9288 - val_acc: 0.7746 - val_f1_m: 0.0000e+00 - val_precision_m: 0.0000e+00 - val_recall_m: 0.0000e+00\n",
            "Epoch 36/200\n",
            "146/146 [==============================] - 1s 8ms/step - loss: 0.9351 - acc: 0.7529 - f1_m: 0.0000e+00 - precision_m: 0.0000e+00 - recall_m: 0.0000e+00 - val_loss: 0.9250 - val_acc: 0.7765 - val_f1_m: 0.0000e+00 - val_precision_m: 0.0000e+00 - val_recall_m: 0.0000e+00\n",
            "Epoch 37/200\n",
            "146/146 [==============================] - 1s 8ms/step - loss: 0.9313 - acc: 0.7551 - f1_m: 0.0000e+00 - precision_m: 0.0000e+00 - recall_m: 0.0000e+00 - val_loss: 0.9213 - val_acc: 0.7760 - val_f1_m: 0.0000e+00 - val_precision_m: 0.0000e+00 - val_recall_m: 0.0000e+00\n",
            "Epoch 38/200\n",
            "146/146 [==============================] - 1s 8ms/step - loss: 0.9272 - acc: 0.7560 - f1_m: 0.0000e+00 - precision_m: 0.0000e+00 - recall_m: 0.0000e+00 - val_loss: 0.9178 - val_acc: 0.7774 - val_f1_m: 0.0000e+00 - val_precision_m: 0.0000e+00 - val_recall_m: 0.0000e+00\n",
            "Epoch 39/200\n",
            "146/146 [==============================] - 1s 8ms/step - loss: 0.9254 - acc: 0.7553 - f1_m: 0.0000e+00 - precision_m: 0.0000e+00 - recall_m: 0.0000e+00 - val_loss: 0.9144 - val_acc: 0.7754 - val_f1_m: 0.0000e+00 - val_precision_m: 0.0000e+00 - val_recall_m: 0.0000e+00\n",
            "Epoch 40/200\n",
            "146/146 [==============================] - 1s 8ms/step - loss: 0.9224 - acc: 0.7549 - f1_m: 0.0000e+00 - precision_m: 0.0000e+00 - recall_m: 0.0000e+00 - val_loss: 0.9112 - val_acc: 0.7774 - val_f1_m: 0.0000e+00 - val_precision_m: 0.0000e+00 - val_recall_m: 0.0000e+00\n",
            "Epoch 41/200\n",
            "146/146 [==============================] - 1s 8ms/step - loss: 0.9187 - acc: 0.7578 - f1_m: 0.0000e+00 - precision_m: 0.0000e+00 - recall_m: 0.0000e+00 - val_loss: 0.9080 - val_acc: 0.7757 - val_f1_m: 0.0000e+00 - val_precision_m: 0.0000e+00 - val_recall_m: 0.0000e+00\n",
            "Epoch 42/200\n",
            "146/146 [==============================] - 1s 8ms/step - loss: 0.9157 - acc: 0.7592 - f1_m: 0.0000e+00 - precision_m: 0.0000e+00 - recall_m: 0.0000e+00 - val_loss: 0.9051 - val_acc: 0.7782 - val_f1_m: 0.0000e+00 - val_precision_m: 0.0000e+00 - val_recall_m: 0.0000e+00\n",
            "Epoch 43/200\n",
            "146/146 [==============================] - 1s 8ms/step - loss: 0.9135 - acc: 0.7580 - f1_m: 0.0000e+00 - precision_m: 0.0000e+00 - recall_m: 0.0000e+00 - val_loss: 0.9023 - val_acc: 0.7768 - val_f1_m: 0.0000e+00 - val_precision_m: 0.0000e+00 - val_recall_m: 0.0000e+00\n",
            "Epoch 44/200\n",
            "146/146 [==============================] - 1s 8ms/step - loss: 0.9100 - acc: 0.7605 - f1_m: 0.0000e+00 - precision_m: 0.0000e+00 - recall_m: 0.0000e+00 - val_loss: 0.8998 - val_acc: 0.7776 - val_f1_m: 0.0000e+00 - val_precision_m: 0.0000e+00 - val_recall_m: 0.0000e+00\n",
            "Epoch 45/200\n",
            "146/146 [==============================] - 1s 8ms/step - loss: 0.9083 - acc: 0.7597 - f1_m: 0.0000e+00 - precision_m: 0.0000e+00 - recall_m: 0.0000e+00 - val_loss: 0.8972 - val_acc: 0.7782 - val_f1_m: 0.0000e+00 - val_precision_m: 0.0000e+00 - val_recall_m: 0.0000e+00\n",
            "Epoch 46/200\n",
            "146/146 [==============================] - 1s 8ms/step - loss: 0.9055 - acc: 0.7612 - f1_m: 0.0000e+00 - precision_m: 0.0000e+00 - recall_m: 0.0000e+00 - val_loss: 0.8947 - val_acc: 0.7804 - val_f1_m: 0.0000e+00 - val_precision_m: 0.0000e+00 - val_recall_m: 0.0000e+00\n",
            "Epoch 47/200\n",
            "146/146 [==============================] - 1s 8ms/step - loss: 0.9034 - acc: 0.7623 - f1_m: 0.0000e+00 - precision_m: 0.0000e+00 - recall_m: 0.0000e+00 - val_loss: 0.8924 - val_acc: 0.7790 - val_f1_m: 0.0000e+00 - val_precision_m: 0.0000e+00 - val_recall_m: 0.0000e+00\n",
            "Epoch 48/200\n",
            "146/146 [==============================] - 1s 8ms/step - loss: 0.8990 - acc: 0.7656 - f1_m: 0.0000e+00 - precision_m: 0.0000e+00 - recall_m: 0.0000e+00 - val_loss: 0.8900 - val_acc: 0.7806 - val_f1_m: 0.0000e+00 - val_precision_m: 0.0000e+00 - val_recall_m: 0.0000e+00\n",
            "Epoch 49/200\n",
            "146/146 [==============================] - 1s 8ms/step - loss: 0.8985 - acc: 0.7628 - f1_m: 0.0000e+00 - precision_m: 0.0000e+00 - recall_m: 0.0000e+00 - val_loss: 0.8880 - val_acc: 0.7817 - val_f1_m: 0.0000e+00 - val_precision_m: 0.0000e+00 - val_recall_m: 0.0000e+00\n",
            "Epoch 50/200\n",
            "146/146 [==============================] - 1s 8ms/step - loss: 0.8968 - acc: 0.7634 - f1_m: 0.0000e+00 - precision_m: 0.0000e+00 - recall_m: 0.0000e+00 - val_loss: 0.8858 - val_acc: 0.7812 - val_f1_m: 0.0000e+00 - val_precision_m: 0.0000e+00 - val_recall_m: 0.0000e+00\n",
            "Epoch 51/200\n",
            "146/146 [==============================] - 1s 8ms/step - loss: 0.8946 - acc: 0.7652 - f1_m: 0.0000e+00 - precision_m: 0.0000e+00 - recall_m: 0.0000e+00 - val_loss: 0.8840 - val_acc: 0.7817 - val_f1_m: 0.0000e+00 - val_precision_m: 0.0000e+00 - val_recall_m: 0.0000e+00\n",
            "Epoch 52/200\n",
            "146/146 [==============================] - 1s 8ms/step - loss: 0.8929 - acc: 0.7649 - f1_m: 0.0000e+00 - precision_m: 0.0000e+00 - recall_m: 0.0000e+00 - val_loss: 0.8821 - val_acc: 0.7828 - val_f1_m: 0.0000e+00 - val_precision_m: 0.0000e+00 - val_recall_m: 0.0000e+00\n",
            "Epoch 53/200\n",
            "146/146 [==============================] - 1s 8ms/step - loss: 0.8906 - acc: 0.7657 - f1_m: 0.0000e+00 - precision_m: 0.0000e+00 - recall_m: 0.0000e+00 - val_loss: 0.8803 - val_acc: 0.7820 - val_f1_m: 0.0000e+00 - val_precision_m: 0.0000e+00 - val_recall_m: 0.0000e+00\n",
            "Epoch 54/200\n",
            "146/146 [==============================] - 1s 8ms/step - loss: 0.8887 - acc: 0.7673 - f1_m: 0.0000e+00 - precision_m: 0.0000e+00 - recall_m: 0.0000e+00 - val_loss: 0.8786 - val_acc: 0.7817 - val_f1_m: 0.0000e+00 - val_precision_m: 0.0000e+00 - val_recall_m: 0.0000e+00\n",
            "Epoch 55/200\n",
            "146/146 [==============================] - 1s 8ms/step - loss: 0.8868 - acc: 0.7695 - f1_m: 0.0000e+00 - precision_m: 0.0000e+00 - recall_m: 0.0000e+00 - val_loss: 0.8767 - val_acc: 0.7845 - val_f1_m: 0.0000e+00 - val_precision_m: 0.0000e+00 - val_recall_m: 0.0000e+00\n",
            "Epoch 56/200\n",
            "146/146 [==============================] - 1s 8ms/step - loss: 0.8852 - acc: 0.7683 - f1_m: 0.0000e+00 - precision_m: 0.0000e+00 - recall_m: 0.0000e+00 - val_loss: 0.8749 - val_acc: 0.7845 - val_f1_m: 0.0000e+00 - val_precision_m: 0.0000e+00 - val_recall_m: 0.0000e+00\n",
            "Epoch 57/200\n",
            "146/146 [==============================] - 1s 8ms/step - loss: 0.8831 - acc: 0.7706 - f1_m: 0.0000e+00 - precision_m: 0.0000e+00 - recall_m: 0.0000e+00 - val_loss: 0.8734 - val_acc: 0.7845 - val_f1_m: 0.0000e+00 - val_precision_m: 0.0000e+00 - val_recall_m: 0.0000e+00\n",
            "Epoch 58/200\n",
            "146/146 [==============================] - 1s 8ms/step - loss: 0.8818 - acc: 0.7699 - f1_m: 0.0000e+00 - precision_m: 0.0000e+00 - recall_m: 0.0000e+00 - val_loss: 0.8718 - val_acc: 0.7842 - val_f1_m: 0.0000e+00 - val_precision_m: 0.0000e+00 - val_recall_m: 0.0000e+00\n",
            "Epoch 59/200\n",
            "146/146 [==============================] - 1s 8ms/step - loss: 0.8807 - acc: 0.7715 - f1_m: 0.0000e+00 - precision_m: 0.0000e+00 - recall_m: 0.0000e+00 - val_loss: 0.8703 - val_acc: 0.7856 - val_f1_m: 0.0000e+00 - val_precision_m: 0.0000e+00 - val_recall_m: 0.0000e+00\n",
            "Epoch 60/200\n",
            "146/146 [==============================] - 1s 8ms/step - loss: 0.8793 - acc: 0.7701 - f1_m: 0.0000e+00 - precision_m: 0.0000e+00 - recall_m: 0.0000e+00 - val_loss: 0.8688 - val_acc: 0.7845 - val_f1_m: 0.0000e+00 - val_precision_m: 0.0000e+00 - val_recall_m: 0.0000e+00\n",
            "Epoch 61/200\n",
            "146/146 [==============================] - 1s 8ms/step - loss: 0.8780 - acc: 0.7693 - f1_m: 0.0000e+00 - precision_m: 0.0000e+00 - recall_m: 0.0000e+00 - val_loss: 0.8672 - val_acc: 0.7861 - val_f1_m: 0.0000e+00 - val_precision_m: 0.0000e+00 - val_recall_m: 0.0000e+00\n",
            "Epoch 62/200\n",
            "146/146 [==============================] - 1s 8ms/step - loss: 0.8772 - acc: 0.7694 - f1_m: 0.0000e+00 - precision_m: 0.0000e+00 - recall_m: 0.0000e+00 - val_loss: 0.8659 - val_acc: 0.7853 - val_f1_m: 0.0000e+00 - val_precision_m: 0.0000e+00 - val_recall_m: 0.0000e+00\n",
            "Epoch 63/200\n",
            "146/146 [==============================] - 1s 8ms/step - loss: 0.8745 - acc: 0.7706 - f1_m: 0.0000e+00 - precision_m: 0.0000e+00 - recall_m: 0.0000e+00 - val_loss: 0.8643 - val_acc: 0.7872 - val_f1_m: 0.0000e+00 - val_precision_m: 0.0000e+00 - val_recall_m: 0.0000e+00\n",
            "Epoch 64/200\n",
            "146/146 [==============================] - 1s 8ms/step - loss: 0.8745 - acc: 0.7692 - f1_m: 0.0000e+00 - precision_m: 0.0000e+00 - recall_m: 0.0000e+00 - val_loss: 0.8631 - val_acc: 0.7861 - val_f1_m: 0.0000e+00 - val_precision_m: 0.0000e+00 - val_recall_m: 0.0000e+00\n",
            "Epoch 65/200\n",
            "146/146 [==============================] - 1s 8ms/step - loss: 0.8721 - acc: 0.7719 - f1_m: 0.0000e+00 - precision_m: 0.0000e+00 - recall_m: 0.0000e+00 - val_loss: 0.8617 - val_acc: 0.7861 - val_f1_m: 0.0000e+00 - val_precision_m: 0.0000e+00 - val_recall_m: 0.0000e+00\n",
            "Epoch 66/200\n",
            "146/146 [==============================] - 1s 8ms/step - loss: 0.8713 - acc: 0.7709 - f1_m: 0.0000e+00 - precision_m: 0.0000e+00 - recall_m: 0.0000e+00 - val_loss: 0.8603 - val_acc: 0.7880 - val_f1_m: 0.0000e+00 - val_precision_m: 0.0000e+00 - val_recall_m: 0.0000e+00\n",
            "Epoch 67/200\n",
            "146/146 [==============================] - 1s 8ms/step - loss: 0.8702 - acc: 0.7718 - f1_m: 0.0000e+00 - precision_m: 0.0000e+00 - recall_m: 0.0000e+00 - val_loss: 0.8591 - val_acc: 0.7878 - val_f1_m: 0.0000e+00 - val_precision_m: 0.0000e+00 - val_recall_m: 0.0000e+00\n",
            "Epoch 68/200\n",
            "146/146 [==============================] - 1s 8ms/step - loss: 0.8679 - acc: 0.7744 - f1_m: 0.0000e+00 - precision_m: 0.0000e+00 - recall_m: 0.0000e+00 - val_loss: 0.8579 - val_acc: 0.7886 - val_f1_m: 0.0000e+00 - val_precision_m: 0.0000e+00 - val_recall_m: 0.0000e+00\n",
            "Epoch 69/200\n",
            "146/146 [==============================] - 1s 8ms/step - loss: 0.8655 - acc: 0.7743 - f1_m: 0.0000e+00 - precision_m: 0.0000e+00 - recall_m: 0.0000e+00 - val_loss: 0.8568 - val_acc: 0.7853 - val_f1_m: 0.0000e+00 - val_precision_m: 0.0000e+00 - val_recall_m: 0.0000e+00\n",
            "Epoch 70/200\n",
            "146/146 [==============================] - 1s 8ms/step - loss: 0.8647 - acc: 0.7739 - f1_m: 0.0000e+00 - precision_m: 0.0000e+00 - recall_m: 0.0000e+00 - val_loss: 0.8558 - val_acc: 0.7859 - val_f1_m: 0.0000e+00 - val_precision_m: 0.0000e+00 - val_recall_m: 0.0000e+00\n",
            "Epoch 71/200\n",
            "146/146 [==============================] - 1s 8ms/step - loss: 0.8644 - acc: 0.7729 - f1_m: 0.0000e+00 - precision_m: 0.0000e+00 - recall_m: 0.0000e+00 - val_loss: 0.8541 - val_acc: 0.7886 - val_f1_m: 0.0000e+00 - val_precision_m: 0.0000e+00 - val_recall_m: 0.0000e+00\n",
            "Epoch 72/200\n",
            "146/146 [==============================] - 1s 8ms/step - loss: 0.8634 - acc: 0.7739 - f1_m: 0.0000e+00 - precision_m: 0.0000e+00 - recall_m: 0.0000e+00 - val_loss: 0.8528 - val_acc: 0.7894 - val_f1_m: 0.0000e+00 - val_precision_m: 0.0000e+00 - val_recall_m: 0.0000e+00\n",
            "Epoch 73/200\n",
            "146/146 [==============================] - 1s 8ms/step - loss: 0.8625 - acc: 0.7745 - f1_m: 0.0000e+00 - precision_m: 0.0000e+00 - recall_m: 0.0000e+00 - val_loss: 0.8516 - val_acc: 0.7891 - val_f1_m: 0.0000e+00 - val_precision_m: 0.0000e+00 - val_recall_m: 0.0000e+00\n",
            "Epoch 74/200\n",
            "146/146 [==============================] - 1s 8ms/step - loss: 0.8603 - acc: 0.7754 - f1_m: 0.0000e+00 - precision_m: 0.0000e+00 - recall_m: 0.0000e+00 - val_loss: 0.8505 - val_acc: 0.7880 - val_f1_m: 0.0000e+00 - val_precision_m: 0.0000e+00 - val_recall_m: 0.0000e+00\n",
            "Epoch 75/200\n",
            "146/146 [==============================] - 1s 8ms/step - loss: 0.8616 - acc: 0.7723 - f1_m: 0.0000e+00 - precision_m: 0.0000e+00 - recall_m: 0.0000e+00 - val_loss: 0.8493 - val_acc: 0.7897 - val_f1_m: 0.0000e+00 - val_precision_m: 0.0000e+00 - val_recall_m: 0.0000e+00\n",
            "Epoch 76/200\n",
            "146/146 [==============================] - 1s 8ms/step - loss: 0.8557 - acc: 0.7789 - f1_m: 0.0000e+00 - precision_m: 0.0000e+00 - recall_m: 0.0000e+00 - val_loss: 0.8482 - val_acc: 0.7897 - val_f1_m: 0.0000e+00 - val_precision_m: 0.0000e+00 - val_recall_m: 0.0000e+00\n",
            "Epoch 77/200\n",
            "146/146 [==============================] - 1s 8ms/step - loss: 0.8577 - acc: 0.7752 - f1_m: 0.0049 - precision_m: 0.1473 - recall_m: 0.0025 - val_loss: 0.8470 - val_acc: 0.7908 - val_f1_m: 0.0435 - val_precision_m: 0.8581 - val_recall_m: 0.0225\n",
            "Epoch 78/200\n",
            "146/146 [==============================] - 1s 8ms/step - loss: 0.8568 - acc: 0.7754 - f1_m: 0.1450 - precision_m: 0.9433 - recall_m: 0.0801 - val_loss: 0.8459 - val_acc: 0.7905 - val_f1_m: 0.2351 - val_precision_m: 0.9542 - val_recall_m: 0.1351\n",
            "Epoch 79/200\n",
            "146/146 [==============================] - 1s 8ms/step - loss: 0.8553 - acc: 0.7751 - f1_m: 0.2413 - precision_m: 0.9291 - recall_m: 0.1398 - val_loss: 0.8450 - val_acc: 0.7891 - val_f1_m: 0.2712 - val_precision_m: 0.9432 - val_recall_m: 0.1594\n",
            "Epoch 80/200\n",
            "146/146 [==============================] - 1s 8ms/step - loss: 0.8539 - acc: 0.7778 - f1_m: 0.2783 - precision_m: 0.9100 - recall_m: 0.1652 - val_loss: 0.8435 - val_acc: 0.7919 - val_f1_m: 0.3017 - val_precision_m: 0.9207 - val_recall_m: 0.1817\n",
            "Epoch 81/200\n",
            "146/146 [==============================] - 1s 8ms/step - loss: 0.8538 - acc: 0.7772 - f1_m: 0.2963 - precision_m: 0.9027 - recall_m: 0.1782 - val_loss: 0.8426 - val_acc: 0.7911 - val_f1_m: 0.3056 - val_precision_m: 0.9200 - val_recall_m: 0.1844\n",
            "Epoch 82/200\n",
            "146/146 [==============================] - 1s 8ms/step - loss: 0.8513 - acc: 0.7782 - f1_m: 0.2999 - precision_m: 0.9009 - recall_m: 0.1809 - val_loss: 0.8413 - val_acc: 0.7919 - val_f1_m: 0.3209 - val_precision_m: 0.9100 - val_recall_m: 0.1960\n",
            "Epoch 83/200\n",
            "146/146 [==============================] - 1s 8ms/step - loss: 0.8504 - acc: 0.7791 - f1_m: 0.3060 - precision_m: 0.8966 - recall_m: 0.1856 - val_loss: 0.8402 - val_acc: 0.7919 - val_f1_m: 0.3236 - val_precision_m: 0.9064 - val_recall_m: 0.1982\n",
            "Epoch 84/200\n",
            "146/146 [==============================] - 1s 8ms/step - loss: 0.8497 - acc: 0.7787 - f1_m: 0.3099 - precision_m: 0.8929 - recall_m: 0.1892 - val_loss: 0.8394 - val_acc: 0.7900 - val_f1_m: 0.3257 - val_precision_m: 0.9108 - val_recall_m: 0.1996\n",
            "Epoch 85/200\n",
            "146/146 [==============================] - 1s 8ms/step - loss: 0.8486 - acc: 0.7778 - f1_m: 0.3206 - precision_m: 0.8822 - recall_m: 0.1972 - val_loss: 0.8379 - val_acc: 0.7924 - val_f1_m: 0.3366 - val_precision_m: 0.8938 - val_recall_m: 0.2086\n",
            "Epoch 86/200\n",
            "146/146 [==============================] - 1s 8ms/step - loss: 0.8483 - acc: 0.7769 - f1_m: 0.3215 - precision_m: 0.8827 - recall_m: 0.1981 - val_loss: 0.8368 - val_acc: 0.7916 - val_f1_m: 0.3401 - val_precision_m: 0.8881 - val_recall_m: 0.2115\n",
            "Epoch 87/200\n",
            "146/146 [==============================] - 1s 8ms/step - loss: 0.8447 - acc: 0.7821 - f1_m: 0.3213 - precision_m: 0.8921 - recall_m: 0.1975 - val_loss: 0.8358 - val_acc: 0.7927 - val_f1_m: 0.3418 - val_precision_m: 0.8852 - val_recall_m: 0.2129\n",
            "Epoch 88/200\n",
            "146/146 [==============================] - 1s 9ms/step - loss: 0.8452 - acc: 0.7795 - f1_m: 0.3322 - precision_m: 0.8764 - recall_m: 0.2061 - val_loss: 0.8347 - val_acc: 0.7938 - val_f1_m: 0.3442 - val_precision_m: 0.8806 - val_recall_m: 0.2150\n",
            "Epoch 89/200\n",
            "146/146 [==============================] - 1s 8ms/step - loss: 0.8437 - acc: 0.7818 - f1_m: 0.3437 - precision_m: 0.8847 - recall_m: 0.2151 - val_loss: 0.8344 - val_acc: 0.7908 - val_f1_m: 0.4688 - val_precision_m: 0.9195 - val_recall_m: 0.3159\n",
            "Epoch 90/200\n",
            "146/146 [==============================] - 1s 8ms/step - loss: 0.8433 - acc: 0.7795 - f1_m: 0.5311 - precision_m: 0.9049 - recall_m: 0.3784 - val_loss: 0.8325 - val_acc: 0.7941 - val_f1_m: 0.5852 - val_precision_m: 0.9078 - val_recall_m: 0.4330\n",
            "Epoch 91/200\n",
            "146/146 [==============================] - 1s 8ms/step - loss: 0.8429 - acc: 0.7805 - f1_m: 0.5763 - precision_m: 0.8957 - recall_m: 0.4265 - val_loss: 0.8315 - val_acc: 0.7941 - val_f1_m: 0.5992 - val_precision_m: 0.9018 - val_recall_m: 0.4500\n",
            "Epoch 92/200\n",
            "146/146 [==============================] - 1s 8ms/step - loss: 0.8427 - acc: 0.7780 - f1_m: 0.5825 - precision_m: 0.8877 - recall_m: 0.4349 - val_loss: 0.8306 - val_acc: 0.7938 - val_f1_m: 0.6044 - val_precision_m: 0.8969 - val_recall_m: 0.4571\n",
            "Epoch 93/200\n",
            "146/146 [==============================] - 1s 8ms/step - loss: 0.8394 - acc: 0.7821 - f1_m: 0.5887 - precision_m: 0.8835 - recall_m: 0.4427 - val_loss: 0.8295 - val_acc: 0.7949 - val_f1_m: 0.6083 - val_precision_m: 0.8936 - val_recall_m: 0.4625\n",
            "Epoch 94/200\n",
            "146/146 [==============================] - 1s 8ms/step - loss: 0.8377 - acc: 0.7832 - f1_m: 0.5952 - precision_m: 0.8794 - recall_m: 0.4512 - val_loss: 0.8286 - val_acc: 0.7949 - val_f1_m: 0.6160 - val_precision_m: 0.8904 - val_recall_m: 0.4722\n",
            "Epoch 95/200\n",
            "146/146 [==============================] - 1s 8ms/step - loss: 0.8376 - acc: 0.7849 - f1_m: 0.5992 - precision_m: 0.8805 - recall_m: 0.4556 - val_loss: 0.8278 - val_acc: 0.7938 - val_f1_m: 0.6113 - val_precision_m: 0.8895 - val_recall_m: 0.4671\n",
            "Epoch 96/200\n",
            "146/146 [==============================] - 1s 8ms/step - loss: 0.8382 - acc: 0.7798 - f1_m: 0.5959 - precision_m: 0.8769 - recall_m: 0.4526 - val_loss: 0.8276 - val_acc: 0.7911 - val_f1_m: 0.6119 - val_precision_m: 0.8917 - val_recall_m: 0.4671\n",
            "Epoch 97/200\n",
            "146/146 [==============================] - 1s 8ms/step - loss: 0.8339 - acc: 0.7841 - f1_m: 0.6510 - precision_m: 0.8806 - recall_m: 0.5214 - val_loss: 0.8251 - val_acc: 0.7976 - val_f1_m: 0.7413 - val_precision_m: 0.8868 - val_recall_m: 0.6377\n",
            "Epoch 98/200\n",
            "146/146 [==============================] - 1s 8ms/step - loss: 0.8345 - acc: 0.7819 - f1_m: 0.7288 - precision_m: 0.8717 - recall_m: 0.6271 - val_loss: 0.8250 - val_acc: 0.7930 - val_f1_m: 0.7593 - val_precision_m: 0.8787 - val_recall_m: 0.6694\n",
            "Epoch 99/200\n",
            "146/146 [==============================] - 1s 8ms/step - loss: 0.8341 - acc: 0.7805 - f1_m: 0.7394 - precision_m: 0.8620 - recall_m: 0.6483 - val_loss: 0.8232 - val_acc: 0.7960 - val_f1_m: 0.7650 - val_precision_m: 0.8718 - val_recall_m: 0.6824\n",
            "Epoch 100/200\n",
            "146/146 [==============================] - 1s 8ms/step - loss: 0.8332 - acc: 0.7826 - f1_m: 0.7445 - precision_m: 0.8603 - recall_m: 0.6571 - val_loss: 0.8225 - val_acc: 0.7954 - val_f1_m: 0.7657 - val_precision_m: 0.8687 - val_recall_m: 0.6854\n",
            "Epoch 101/200\n",
            "146/146 [==============================] - 1s 8ms/step - loss: 0.8322 - acc: 0.7819 - f1_m: 0.7457 - precision_m: 0.8529 - recall_m: 0.6632 - val_loss: 0.8212 - val_acc: 0.7974 - val_f1_m: 0.7682 - val_precision_m: 0.8649 - val_recall_m: 0.6919\n",
            "Epoch 102/200\n",
            "146/146 [==============================] - 1s 8ms/step - loss: 0.8318 - acc: 0.7820 - f1_m: 0.7492 - precision_m: 0.8532 - recall_m: 0.6688 - val_loss: 0.8209 - val_acc: 0.7952 - val_f1_m: 0.7736 - val_precision_m: 0.8676 - val_recall_m: 0.6989\n",
            "Epoch 103/200\n",
            "146/146 [==============================] - 1s 8ms/step - loss: 0.8296 - acc: 0.7858 - f1_m: 0.7518 - precision_m: 0.8537 - recall_m: 0.6725 - val_loss: 0.8195 - val_acc: 0.7965 - val_f1_m: 0.7738 - val_precision_m: 0.8639 - val_recall_m: 0.7016\n",
            "Epoch 104/200\n",
            "146/146 [==============================] - 1s 9ms/step - loss: 0.8276 - acc: 0.7863 - f1_m: 0.7549 - precision_m: 0.8516 - recall_m: 0.6787 - val_loss: 0.8182 - val_acc: 0.7985 - val_f1_m: 0.7738 - val_precision_m: 0.8618 - val_recall_m: 0.7030\n",
            "Epoch 105/200\n",
            "146/146 [==============================] - 1s 9ms/step - loss: 0.8288 - acc: 0.7811 - f1_m: 0.7556 - precision_m: 0.8486 - recall_m: 0.6815 - val_loss: 0.8173 - val_acc: 0.7968 - val_f1_m: 0.7761 - val_precision_m: 0.8631 - val_recall_m: 0.7059\n",
            "Epoch 106/200\n",
            "146/146 [==============================] - 1s 8ms/step - loss: 0.8284 - acc: 0.7816 - f1_m: 0.7548 - precision_m: 0.8471 - recall_m: 0.6812 - val_loss: 0.8162 - val_acc: 0.7976 - val_f1_m: 0.7775 - val_precision_m: 0.8624 - val_recall_m: 0.7086\n",
            "Epoch 107/200\n",
            "146/146 [==============================] - 1s 8ms/step - loss: 0.8242 - acc: 0.7876 - f1_m: 0.7600 - precision_m: 0.8474 - recall_m: 0.6896 - val_loss: 0.8153 - val_acc: 0.7971 - val_f1_m: 0.7797 - val_precision_m: 0.8622 - val_recall_m: 0.7124\n",
            "Epoch 108/200\n",
            "146/146 [==============================] - 1s 8ms/step - loss: 0.8256 - acc: 0.7830 - f1_m: 0.7580 - precision_m: 0.8461 - recall_m: 0.6871 - val_loss: 0.8148 - val_acc: 0.7952 - val_f1_m: 0.7799 - val_precision_m: 0.8614 - val_recall_m: 0.7132\n",
            "Epoch 109/200\n",
            "146/146 [==============================] - 1s 8ms/step - loss: 0.8235 - acc: 0.7870 - f1_m: 0.7605 - precision_m: 0.8461 - recall_m: 0.6915 - val_loss: 0.8135 - val_acc: 0.7974 - val_f1_m: 0.7805 - val_precision_m: 0.8610 - val_recall_m: 0.7146\n",
            "Epoch 110/200\n",
            "146/146 [==============================] - 1s 8ms/step - loss: 0.8234 - acc: 0.7842 - f1_m: 0.7622 - precision_m: 0.8474 - recall_m: 0.6932 - val_loss: 0.8124 - val_acc: 0.7985 - val_f1_m: 0.7811 - val_precision_m: 0.8596 - val_recall_m: 0.7165\n",
            "Epoch 111/200\n",
            "146/146 [==============================] - 1s 8ms/step - loss: 0.8216 - acc: 0.7852 - f1_m: 0.7625 - precision_m: 0.8457 - recall_m: 0.6949 - val_loss: 0.8114 - val_acc: 0.7985 - val_f1_m: 0.7808 - val_precision_m: 0.8590 - val_recall_m: 0.7165\n",
            "Epoch 112/200\n",
            "146/146 [==============================] - 1s 8ms/step - loss: 0.8216 - acc: 0.7845 - f1_m: 0.7625 - precision_m: 0.8435 - recall_m: 0.6963 - val_loss: 0.8106 - val_acc: 0.7987 - val_f1_m: 0.7823 - val_precision_m: 0.8594 - val_recall_m: 0.7187\n",
            "Epoch 113/200\n",
            "146/146 [==============================] - 1s 8ms/step - loss: 0.8193 - acc: 0.7874 - f1_m: 0.7640 - precision_m: 0.8440 - recall_m: 0.6985 - val_loss: 0.8094 - val_acc: 0.8001 - val_f1_m: 0.7831 - val_precision_m: 0.8585 - val_recall_m: 0.7206\n",
            "Epoch 114/200\n",
            "146/146 [==============================] - 1s 8ms/step - loss: 0.8208 - acc: 0.7845 - f1_m: 0.7605 - precision_m: 0.8413 - recall_m: 0.6946 - val_loss: 0.8087 - val_acc: 0.7996 - val_f1_m: 0.7831 - val_precision_m: 0.8566 - val_recall_m: 0.7219\n",
            "Epoch 115/200\n",
            "146/146 [==============================] - 1s 8ms/step - loss: 0.8175 - acc: 0.7875 - f1_m: 0.7674 - precision_m: 0.8460 - recall_m: 0.7028 - val_loss: 0.8075 - val_acc: 0.7998 - val_f1_m: 0.7844 - val_precision_m: 0.8586 - val_recall_m: 0.7228\n",
            "Epoch 116/200\n",
            "146/146 [==============================] - 1s 8ms/step - loss: 0.8166 - acc: 0.7876 - f1_m: 0.7663 - precision_m: 0.8465 - recall_m: 0.7005 - val_loss: 0.8066 - val_acc: 0.7993 - val_f1_m: 0.7836 - val_precision_m: 0.8569 - val_recall_m: 0.7225\n",
            "Epoch 117/200\n",
            "146/146 [==============================] - 1s 8ms/step - loss: 0.8171 - acc: 0.7877 - f1_m: 0.7658 - precision_m: 0.8424 - recall_m: 0.7026 - val_loss: 0.8057 - val_acc: 0.7993 - val_f1_m: 0.7850 - val_precision_m: 0.8563 - val_recall_m: 0.7252\n",
            "Epoch 118/200\n",
            "146/146 [==============================] - 1s 8ms/step - loss: 0.8146 - acc: 0.7881 - f1_m: 0.7681 - precision_m: 0.8443 - recall_m: 0.7053 - val_loss: 0.8049 - val_acc: 0.7993 - val_f1_m: 0.7839 - val_precision_m: 0.8566 - val_recall_m: 0.7233\n",
            "Epoch 119/200\n",
            "146/146 [==============================] - 1s 8ms/step - loss: 0.8149 - acc: 0.7843 - f1_m: 0.7665 - precision_m: 0.8420 - recall_m: 0.7040 - val_loss: 0.8044 - val_acc: 0.7998 - val_f1_m: 0.7847 - val_precision_m: 0.8550 - val_recall_m: 0.7257\n",
            "Epoch 120/200\n",
            "146/146 [==============================] - 1s 8ms/step - loss: 0.8119 - acc: 0.7902 - f1_m: 0.7699 - precision_m: 0.8443 - recall_m: 0.7081 - val_loss: 0.8031 - val_acc: 0.8001 - val_f1_m: 0.7858 - val_precision_m: 0.8564 - val_recall_m: 0.7268\n",
            "Epoch 121/200\n",
            "146/146 [==============================] - 1s 8ms/step - loss: 0.8123 - acc: 0.7885 - f1_m: 0.7684 - precision_m: 0.8417 - recall_m: 0.7075 - val_loss: 0.8021 - val_acc: 0.7996 - val_f1_m: 0.7857 - val_precision_m: 0.8556 - val_recall_m: 0.7271\n",
            "Epoch 122/200\n",
            "146/146 [==============================] - 1s 8ms/step - loss: 0.8107 - acc: 0.7901 - f1_m: 0.7690 - precision_m: 0.8411 - recall_m: 0.7089 - val_loss: 0.8016 - val_acc: 0.7998 - val_f1_m: 0.7858 - val_precision_m: 0.8540 - val_recall_m: 0.7284\n",
            "Epoch 123/200\n",
            "146/146 [==============================] - 1s 8ms/step - loss: 0.8133 - acc: 0.7848 - f1_m: 0.7670 - precision_m: 0.8379 - recall_m: 0.7077 - val_loss: 0.8001 - val_acc: 0.8007 - val_f1_m: 0.7866 - val_precision_m: 0.8553 - val_recall_m: 0.7287\n",
            "Epoch 124/200\n",
            "146/146 [==============================] - 1s 8ms/step - loss: 0.8090 - acc: 0.7901 - f1_m: 0.7692 - precision_m: 0.8404 - recall_m: 0.7098 - val_loss: 0.7995 - val_acc: 0.8001 - val_f1_m: 0.7876 - val_precision_m: 0.8557 - val_recall_m: 0.7304\n",
            "Epoch 125/200\n",
            "146/146 [==============================] - 1s 8ms/step - loss: 0.8074 - acc: 0.7905 - f1_m: 0.7705 - precision_m: 0.8415 - recall_m: 0.7113 - val_loss: 0.7989 - val_acc: 0.7998 - val_f1_m: 0.7875 - val_precision_m: 0.8541 - val_recall_m: 0.7312\n",
            "Epoch 126/200\n",
            "146/146 [==============================] - 1s 8ms/step - loss: 0.8072 - acc: 0.7891 - f1_m: 0.7726 - precision_m: 0.8431 - recall_m: 0.7135 - val_loss: 0.7972 - val_acc: 0.8012 - val_f1_m: 0.7887 - val_precision_m: 0.8563 - val_recall_m: 0.7317\n",
            "Epoch 127/200\n",
            "146/146 [==============================] - 1s 8ms/step - loss: 0.8067 - acc: 0.7898 - f1_m: 0.7718 - precision_m: 0.8410 - recall_m: 0.7137 - val_loss: 0.7965 - val_acc: 0.8012 - val_f1_m: 0.7890 - val_precision_m: 0.8562 - val_recall_m: 0.7323\n",
            "Epoch 128/200\n",
            "146/146 [==============================] - 1s 8ms/step - loss: 0.8061 - acc: 0.7901 - f1_m: 0.7725 - precision_m: 0.8423 - recall_m: 0.7139 - val_loss: 0.7958 - val_acc: 0.8007 - val_f1_m: 0.7891 - val_precision_m: 0.8551 - val_recall_m: 0.7333\n",
            "Epoch 129/200\n",
            "146/146 [==============================] - 1s 8ms/step - loss: 0.8045 - acc: 0.7908 - f1_m: 0.7723 - precision_m: 0.8397 - recall_m: 0.7154 - val_loss: 0.7954 - val_acc: 0.8007 - val_f1_m: 0.7876 - val_precision_m: 0.8525 - val_recall_m: 0.7325\n",
            "Epoch 130/200\n",
            "146/146 [==============================] - 1s 8ms/step - loss: 0.8055 - acc: 0.7871 - f1_m: 0.7713 - precision_m: 0.8402 - recall_m: 0.7135 - val_loss: 0.7942 - val_acc: 0.8007 - val_f1_m: 0.7882 - val_precision_m: 0.8537 - val_recall_m: 0.7328\n",
            "Epoch 131/200\n",
            "146/146 [==============================] - 1s 8ms/step - loss: 0.8021 - acc: 0.7909 - f1_m: 0.7738 - precision_m: 0.8416 - recall_m: 0.7167 - val_loss: 0.7944 - val_acc: 0.7982 - val_f1_m: 0.7872 - val_precision_m: 0.8495 - val_recall_m: 0.7341\n",
            "Epoch 132/200\n",
            "146/146 [==============================] - 1s 8ms/step - loss: 0.8035 - acc: 0.7879 - f1_m: 0.7705 - precision_m: 0.8393 - recall_m: 0.7127 - val_loss: 0.7924 - val_acc: 0.8004 - val_f1_m: 0.7898 - val_precision_m: 0.8547 - val_recall_m: 0.7347\n",
            "Epoch 133/200\n",
            "146/146 [==============================] - 1s 8ms/step - loss: 0.8002 - acc: 0.7921 - f1_m: 0.7735 - precision_m: 0.8432 - recall_m: 0.7150 - val_loss: 0.7908 - val_acc: 0.8018 - val_f1_m: 0.7909 - val_precision_m: 0.8547 - val_recall_m: 0.7366\n",
            "Epoch 134/200\n",
            "146/146 [==============================] - 1s 8ms/step - loss: 0.8003 - acc: 0.7902 - f1_m: 0.7729 - precision_m: 0.8398 - recall_m: 0.7164 - val_loss: 0.7902 - val_acc: 0.8020 - val_f1_m: 0.7908 - val_precision_m: 0.8549 - val_recall_m: 0.7363\n",
            "Epoch 135/200\n",
            "146/146 [==============================] - 1s 8ms/step - loss: 0.8004 - acc: 0.7891 - f1_m: 0.7719 - precision_m: 0.8399 - recall_m: 0.7145 - val_loss: 0.7890 - val_acc: 0.8031 - val_f1_m: 0.7910 - val_precision_m: 0.8565 - val_recall_m: 0.7355\n",
            "Epoch 136/200\n",
            "146/146 [==============================] - 1s 8ms/step - loss: 0.7986 - acc: 0.7901 - f1_m: 0.7752 - precision_m: 0.8425 - recall_m: 0.7183 - val_loss: 0.7880 - val_acc: 0.8023 - val_f1_m: 0.7919 - val_precision_m: 0.8559 - val_recall_m: 0.7374\n",
            "Epoch 137/200\n",
            "146/146 [==============================] - 1s 8ms/step - loss: 0.7988 - acc: 0.7895 - f1_m: 0.7730 - precision_m: 0.8393 - recall_m: 0.7170 - val_loss: 0.7875 - val_acc: 0.8012 - val_f1_m: 0.7909 - val_precision_m: 0.8540 - val_recall_m: 0.7371\n",
            "Epoch 138/200\n",
            "146/146 [==============================] - 1s 8ms/step - loss: 0.7977 - acc: 0.7907 - f1_m: 0.7734 - precision_m: 0.8406 - recall_m: 0.7166 - val_loss: 0.7864 - val_acc: 0.8026 - val_f1_m: 0.7910 - val_precision_m: 0.8535 - val_recall_m: 0.7377\n",
            "Epoch 139/200\n",
            "146/146 [==============================] - 1s 8ms/step - loss: 0.7963 - acc: 0.7908 - f1_m: 0.7743 - precision_m: 0.8388 - recall_m: 0.7195 - val_loss: 0.7858 - val_acc: 0.8026 - val_f1_m: 0.7920 - val_precision_m: 0.8543 - val_recall_m: 0.7387\n",
            "Epoch 140/200\n",
            "146/146 [==============================] - 1s 8ms/step - loss: 0.7961 - acc: 0.7898 - f1_m: 0.7747 - precision_m: 0.8393 - recall_m: 0.7199 - val_loss: 0.7848 - val_acc: 0.8020 - val_f1_m: 0.7909 - val_precision_m: 0.8521 - val_recall_m: 0.7385\n",
            "Epoch 141/200\n",
            "146/146 [==============================] - 1s 8ms/step - loss: 0.7946 - acc: 0.7923 - f1_m: 0.7730 - precision_m: 0.8378 - recall_m: 0.7182 - val_loss: 0.7838 - val_acc: 0.8023 - val_f1_m: 0.7921 - val_precision_m: 0.8530 - val_recall_m: 0.7398\n",
            "Epoch 142/200\n",
            "146/146 [==============================] - 1s 8ms/step - loss: 0.7938 - acc: 0.7900 - f1_m: 0.7744 - precision_m: 0.8401 - recall_m: 0.7187 - val_loss: 0.7829 - val_acc: 0.8026 - val_f1_m: 0.7916 - val_precision_m: 0.8520 - val_recall_m: 0.7398\n",
            "Epoch 143/200\n",
            "146/146 [==============================] - 1s 8ms/step - loss: 0.7920 - acc: 0.7926 - f1_m: 0.7768 - precision_m: 0.8377 - recall_m: 0.7248 - val_loss: 0.7823 - val_acc: 0.8037 - val_f1_m: 0.7928 - val_precision_m: 0.8526 - val_recall_m: 0.7414\n",
            "Epoch 144/200\n",
            "146/146 [==============================] - 1s 8ms/step - loss: 0.7927 - acc: 0.7906 - f1_m: 0.7759 - precision_m: 0.8389 - recall_m: 0.7223 - val_loss: 0.7807 - val_acc: 0.8061 - val_f1_m: 0.7928 - val_precision_m: 0.8523 - val_recall_m: 0.7414\n",
            "Epoch 145/200\n",
            "146/146 [==============================] - 1s 8ms/step - loss: 0.7907 - acc: 0.7916 - f1_m: 0.7770 - precision_m: 0.8402 - recall_m: 0.7233 - val_loss: 0.7798 - val_acc: 0.8059 - val_f1_m: 0.7928 - val_precision_m: 0.8528 - val_recall_m: 0.7412\n",
            "Epoch 146/200\n",
            "146/146 [==============================] - 1s 8ms/step - loss: 0.7901 - acc: 0.7928 - f1_m: 0.7752 - precision_m: 0.8381 - recall_m: 0.7217 - val_loss: 0.7794 - val_acc: 0.8039 - val_f1_m: 0.7935 - val_precision_m: 0.8539 - val_recall_m: 0.7417\n",
            "Epoch 147/200\n",
            "146/146 [==============================] - 1s 8ms/step - loss: 0.7885 - acc: 0.7933 - f1_m: 0.7777 - precision_m: 0.8373 - recall_m: 0.7265 - val_loss: 0.7779 - val_acc: 0.8056 - val_f1_m: 0.7937 - val_precision_m: 0.8534 - val_recall_m: 0.7423\n",
            "Epoch 148/200\n",
            "146/146 [==============================] - 1s 8ms/step - loss: 0.7875 - acc: 0.7917 - f1_m: 0.7797 - precision_m: 0.8418 - recall_m: 0.7269 - val_loss: 0.7778 - val_acc: 0.8042 - val_f1_m: 0.7929 - val_precision_m: 0.8515 - val_recall_m: 0.7425\n",
            "Epoch 149/200\n",
            "146/146 [==============================] - 1s 8ms/step - loss: 0.7865 - acc: 0.7931 - f1_m: 0.7796 - precision_m: 0.8418 - recall_m: 0.7264 - val_loss: 0.7766 - val_acc: 0.8053 - val_f1_m: 0.7919 - val_precision_m: 0.8504 - val_recall_m: 0.7414\n",
            "Epoch 150/200\n",
            "146/146 [==============================] - 1s 8ms/step - loss: 0.7862 - acc: 0.7941 - f1_m: 0.7768 - precision_m: 0.8382 - recall_m: 0.7243 - val_loss: 0.7758 - val_acc: 0.8053 - val_f1_m: 0.7924 - val_precision_m: 0.8506 - val_recall_m: 0.7423\n",
            "Epoch 151/200\n",
            "146/146 [==============================] - 1s 8ms/step - loss: 0.7849 - acc: 0.7925 - f1_m: 0.7784 - precision_m: 0.8404 - recall_m: 0.7256 - val_loss: 0.7755 - val_acc: 0.8048 - val_f1_m: 0.7928 - val_precision_m: 0.8506 - val_recall_m: 0.7431\n",
            "Epoch 152/200\n",
            "146/146 [==============================] - 1s 8ms/step - loss: 0.7854 - acc: 0.7903 - f1_m: 0.7785 - precision_m: 0.8383 - recall_m: 0.7273 - val_loss: 0.7735 - val_acc: 0.8083 - val_f1_m: 0.7940 - val_precision_m: 0.8538 - val_recall_m: 0.7425\n",
            "Epoch 153/200\n",
            "146/146 [==============================] - 1s 8ms/step - loss: 0.7815 - acc: 0.7969 - f1_m: 0.7808 - precision_m: 0.8430 - recall_m: 0.7276 - val_loss: 0.7732 - val_acc: 0.8064 - val_f1_m: 0.7925 - val_precision_m: 0.8505 - val_recall_m: 0.7425\n",
            "Epoch 154/200\n",
            "146/146 [==============================] - 1s 8ms/step - loss: 0.7828 - acc: 0.7920 - f1_m: 0.7784 - precision_m: 0.8384 - recall_m: 0.7269 - val_loss: 0.7726 - val_acc: 0.8050 - val_f1_m: 0.7933 - val_precision_m: 0.8509 - val_recall_m: 0.7436\n",
            "Epoch 155/200\n",
            "146/146 [==============================] - 1s 8ms/step - loss: 0.7817 - acc: 0.7939 - f1_m: 0.7789 - precision_m: 0.8384 - recall_m: 0.7280 - val_loss: 0.7721 - val_acc: 0.8048 - val_f1_m: 0.7942 - val_precision_m: 0.8505 - val_recall_m: 0.7455\n",
            "Epoch 156/200\n",
            "146/146 [==============================] - 1s 8ms/step - loss: 0.7812 - acc: 0.7927 - f1_m: 0.7794 - precision_m: 0.8382 - recall_m: 0.7287 - val_loss: 0.7715 - val_acc: 0.8039 - val_f1_m: 0.7933 - val_precision_m: 0.8506 - val_recall_m: 0.7439\n",
            "Epoch 157/200\n",
            "146/146 [==============================] - 1s 8ms/step - loss: 0.7808 - acc: 0.7926 - f1_m: 0.7789 - precision_m: 0.8387 - recall_m: 0.7276 - val_loss: 0.7706 - val_acc: 0.8037 - val_f1_m: 0.7939 - val_precision_m: 0.8509 - val_recall_m: 0.7447\n",
            "Epoch 158/200\n",
            "146/146 [==============================] - 1s 8ms/step - loss: 0.7775 - acc: 0.7963 - f1_m: 0.7829 - precision_m: 0.8435 - recall_m: 0.7308 - val_loss: 0.7687 - val_acc: 0.8067 - val_f1_m: 0.7942 - val_precision_m: 0.8476 - val_recall_m: 0.7477\n",
            "Epoch 159/200\n",
            "146/146 [==============================] - 1s 8ms/step - loss: 0.7760 - acc: 0.7971 - f1_m: 0.7838 - precision_m: 0.8405 - recall_m: 0.7346 - val_loss: 0.7676 - val_acc: 0.8075 - val_f1_m: 0.7938 - val_precision_m: 0.8481 - val_recall_m: 0.7466\n",
            "Epoch 160/200\n",
            "146/146 [==============================] - 1s 8ms/step - loss: 0.7790 - acc: 0.7930 - f1_m: 0.7793 - precision_m: 0.8346 - recall_m: 0.7313 - val_loss: 0.7666 - val_acc: 0.8081 - val_f1_m: 0.7936 - val_precision_m: 0.8476 - val_recall_m: 0.7466\n",
            "Epoch 161/200\n",
            "146/146 [==============================] - 1s 8ms/step - loss: 0.7765 - acc: 0.7939 - f1_m: 0.7819 - precision_m: 0.8407 - recall_m: 0.7313 - val_loss: 0.7656 - val_acc: 0.8083 - val_f1_m: 0.7937 - val_precision_m: 0.8513 - val_recall_m: 0.7439\n",
            "Epoch 162/200\n",
            "146/146 [==============================] - 1s 8ms/step - loss: 0.7766 - acc: 0.7931 - f1_m: 0.7794 - precision_m: 0.8372 - recall_m: 0.7296 - val_loss: 0.7651 - val_acc: 0.8075 - val_f1_m: 0.7932 - val_precision_m: 0.8499 - val_recall_m: 0.7441\n",
            "Epoch 163/200\n",
            "146/146 [==============================] - 1s 8ms/step - loss: 0.7744 - acc: 0.7968 - f1_m: 0.7821 - precision_m: 0.8414 - recall_m: 0.7312 - val_loss: 0.7639 - val_acc: 0.8070 - val_f1_m: 0.7974 - val_precision_m: 0.8549 - val_recall_m: 0.7477\n",
            "Epoch 164/200\n",
            "146/146 [==============================] - 1s 8ms/step - loss: 0.7743 - acc: 0.7963 - f1_m: 0.7809 - precision_m: 0.8405 - recall_m: 0.7297 - val_loss: 0.7637 - val_acc: 0.8050 - val_f1_m: 0.7942 - val_precision_m: 0.8508 - val_recall_m: 0.7452\n",
            "Epoch 165/200\n",
            "146/146 [==============================] - 1s 8ms/step - loss: 0.7757 - acc: 0.7933 - f1_m: 0.7801 - precision_m: 0.8384 - recall_m: 0.7298 - val_loss: 0.7626 - val_acc: 0.8070 - val_f1_m: 0.7947 - val_precision_m: 0.8506 - val_recall_m: 0.7463\n",
            "Epoch 166/200\n",
            "146/146 [==============================] - 1s 8ms/step - loss: 0.7712 - acc: 0.7974 - f1_m: 0.7835 - precision_m: 0.8416 - recall_m: 0.7335 - val_loss: 0.7616 - val_acc: 0.8083 - val_f1_m: 0.7951 - val_precision_m: 0.8507 - val_recall_m: 0.7468\n",
            "Epoch 167/200\n",
            "146/146 [==============================] - 1s 8ms/step - loss: 0.7713 - acc: 0.7956 - f1_m: 0.7838 - precision_m: 0.8413 - recall_m: 0.7342 - val_loss: 0.7608 - val_acc: 0.8083 - val_f1_m: 0.7957 - val_precision_m: 0.8521 - val_recall_m: 0.7468\n",
            "Epoch 168/200\n",
            "146/146 [==============================] - 1s 8ms/step - loss: 0.7717 - acc: 0.7931 - f1_m: 0.7822 - precision_m: 0.8406 - recall_m: 0.7320 - val_loss: 0.7602 - val_acc: 0.8072 - val_f1_m: 0.7952 - val_precision_m: 0.8513 - val_recall_m: 0.7466\n",
            "Epoch 169/200\n",
            "146/146 [==============================] - 1s 8ms/step - loss: 0.7692 - acc: 0.7971 - f1_m: 0.7828 - precision_m: 0.8366 - recall_m: 0.7360 - val_loss: 0.7600 - val_acc: 0.8081 - val_f1_m: 0.7960 - val_precision_m: 0.8494 - val_recall_m: 0.7496\n",
            "Epoch 170/200\n",
            "146/146 [==============================] - 1s 8ms/step - loss: 0.7702 - acc: 0.7944 - f1_m: 0.7817 - precision_m: 0.8358 - recall_m: 0.7348 - val_loss: 0.7589 - val_acc: 0.8064 - val_f1_m: 0.7945 - val_precision_m: 0.8512 - val_recall_m: 0.7455\n",
            "Epoch 171/200\n",
            "146/146 [==============================] - 1s 8ms/step - loss: 0.7681 - acc: 0.7956 - f1_m: 0.7822 - precision_m: 0.8400 - recall_m: 0.7324 - val_loss: 0.7583 - val_acc: 0.8075 - val_f1_m: 0.7950 - val_precision_m: 0.8505 - val_recall_m: 0.7468\n",
            "Epoch 172/200\n",
            "146/146 [==============================] - 1s 8ms/step - loss: 0.7668 - acc: 0.7965 - f1_m: 0.7847 - precision_m: 0.8380 - recall_m: 0.7382 - val_loss: 0.7571 - val_acc: 0.8081 - val_f1_m: 0.7967 - val_precision_m: 0.8463 - val_recall_m: 0.7531\n",
            "Epoch 173/200\n",
            "146/146 [==============================] - 1s 8ms/step - loss: 0.7670 - acc: 0.7964 - f1_m: 0.7832 - precision_m: 0.8388 - recall_m: 0.7350 - val_loss: 0.7561 - val_acc: 0.8075 - val_f1_m: 0.7965 - val_precision_m: 0.8463 - val_recall_m: 0.7528\n",
            "Epoch 174/200\n",
            "146/146 [==============================] - 1s 8ms/step - loss: 0.7654 - acc: 0.7977 - f1_m: 0.7839 - precision_m: 0.8372 - recall_m: 0.7374 - val_loss: 0.7547 - val_acc: 0.8081 - val_f1_m: 0.7979 - val_precision_m: 0.8483 - val_recall_m: 0.7536\n",
            "Epoch 175/200\n",
            "146/146 [==============================] - 1s 8ms/step - loss: 0.7654 - acc: 0.7968 - f1_m: 0.7846 - precision_m: 0.8391 - recall_m: 0.7371 - val_loss: 0.7542 - val_acc: 0.8078 - val_f1_m: 0.7960 - val_precision_m: 0.8503 - val_recall_m: 0.7487\n",
            "Epoch 176/200\n",
            "146/146 [==============================] - 1s 8ms/step - loss: 0.7615 - acc: 0.8013 - f1_m: 0.7867 - precision_m: 0.8413 - recall_m: 0.7392 - val_loss: 0.7534 - val_acc: 0.8083 - val_f1_m: 0.7966 - val_precision_m: 0.8509 - val_recall_m: 0.7493\n",
            "Epoch 177/200\n",
            "146/146 [==============================] - 1s 8ms/step - loss: 0.7604 - acc: 0.8007 - f1_m: 0.7886 - precision_m: 0.8412 - recall_m: 0.7426 - val_loss: 0.7530 - val_acc: 0.8078 - val_f1_m: 0.7970 - val_precision_m: 0.8511 - val_recall_m: 0.7501\n",
            "Epoch 178/200\n",
            "146/146 [==============================] - 1s 8ms/step - loss: 0.7618 - acc: 0.7976 - f1_m: 0.7831 - precision_m: 0.8399 - recall_m: 0.7339 - val_loss: 0.7515 - val_acc: 0.8089 - val_f1_m: 0.7987 - val_precision_m: 0.8526 - val_recall_m: 0.7517\n",
            "Epoch 179/200\n",
            "146/146 [==============================] - 1s 8ms/step - loss: 0.7632 - acc: 0.7950 - f1_m: 0.7831 - precision_m: 0.8387 - recall_m: 0.7348 - val_loss: 0.7523 - val_acc: 0.8067 - val_f1_m: 0.7960 - val_precision_m: 0.8492 - val_recall_m: 0.7498\n",
            "Epoch 180/200\n",
            "146/146 [==============================] - 1s 8ms/step - loss: 0.7617 - acc: 0.7959 - f1_m: 0.7836 - precision_m: 0.8410 - recall_m: 0.7341 - val_loss: 0.7508 - val_acc: 0.8075 - val_f1_m: 0.7975 - val_precision_m: 0.8514 - val_recall_m: 0.7506\n",
            "Epoch 181/200\n",
            "146/146 [==============================] - 1s 8ms/step - loss: 0.7590 - acc: 0.7977 - f1_m: 0.7872 - precision_m: 0.8418 - recall_m: 0.7398 - val_loss: 0.7493 - val_acc: 0.8081 - val_f1_m: 0.7979 - val_precision_m: 0.8516 - val_recall_m: 0.7512\n",
            "Epoch 182/200\n",
            "146/146 [==============================] - 1s 9ms/step - loss: 0.7595 - acc: 0.7972 - f1_m: 0.7861 - precision_m: 0.8393 - recall_m: 0.7396 - val_loss: 0.7486 - val_acc: 0.8086 - val_f1_m: 0.7981 - val_precision_m: 0.8482 - val_recall_m: 0.7541\n",
            "Epoch 183/200\n",
            "146/146 [==============================] - 1s 9ms/step - loss: 0.7578 - acc: 0.7973 - f1_m: 0.7864 - precision_m: 0.8412 - recall_m: 0.7388 - val_loss: 0.7471 - val_acc: 0.8089 - val_f1_m: 0.7992 - val_precision_m: 0.8527 - val_recall_m: 0.7525\n",
            "Epoch 184/200\n",
            "146/146 [==============================] - 1s 9ms/step - loss: 0.7579 - acc: 0.7967 - f1_m: 0.7846 - precision_m: 0.8414 - recall_m: 0.7356 - val_loss: 0.7467 - val_acc: 0.8089 - val_f1_m: 0.7985 - val_precision_m: 0.8531 - val_recall_m: 0.7512\n",
            "Epoch 185/200\n",
            "146/146 [==============================] - 1s 9ms/step - loss: 0.7561 - acc: 0.7982 - f1_m: 0.7856 - precision_m: 0.8409 - recall_m: 0.7375 - val_loss: 0.7458 - val_acc: 0.8086 - val_f1_m: 0.7989 - val_precision_m: 0.8486 - val_recall_m: 0.7552\n",
            "Epoch 186/200\n",
            "146/146 [==============================] - 1s 9ms/step - loss: 0.7545 - acc: 0.7989 - f1_m: 0.7868 - precision_m: 0.8395 - recall_m: 0.7408 - val_loss: 0.7444 - val_acc: 0.8083 - val_f1_m: 0.7988 - val_precision_m: 0.8484 - val_recall_m: 0.7552\n",
            "Epoch 187/200\n",
            "146/146 [==============================] - 1s 9ms/step - loss: 0.7549 - acc: 0.7983 - f1_m: 0.7873 - precision_m: 0.8382 - recall_m: 0.7427 - val_loss: 0.7436 - val_acc: 0.8094 - val_f1_m: 0.7997 - val_precision_m: 0.8503 - val_recall_m: 0.7552\n",
            "Epoch 188/200\n",
            "146/146 [==============================] - 1s 9ms/step - loss: 0.7537 - acc: 0.8008 - f1_m: 0.7855 - precision_m: 0.8407 - recall_m: 0.7378 - val_loss: 0.7427 - val_acc: 0.8094 - val_f1_m: 0.7993 - val_precision_m: 0.8488 - val_recall_m: 0.7558\n",
            "Epoch 189/200\n",
            "146/146 [==============================] - 1s 9ms/step - loss: 0.7526 - acc: 0.7997 - f1_m: 0.7877 - precision_m: 0.8401 - recall_m: 0.7420 - val_loss: 0.7423 - val_acc: 0.8086 - val_f1_m: 0.8003 - val_precision_m: 0.8489 - val_recall_m: 0.7574\n",
            "Epoch 190/200\n",
            "146/146 [==============================] - 1s 9ms/step - loss: 0.7517 - acc: 0.8008 - f1_m: 0.7871 - precision_m: 0.8398 - recall_m: 0.7410 - val_loss: 0.7414 - val_acc: 0.8094 - val_f1_m: 0.8006 - val_precision_m: 0.8479 - val_recall_m: 0.7587\n",
            "Epoch 191/200\n",
            "146/146 [==============================] - 1s 8ms/step - loss: 0.7529 - acc: 0.7976 - f1_m: 0.7876 - precision_m: 0.8348 - recall_m: 0.7458 - val_loss: 0.7400 - val_acc: 0.8103 - val_f1_m: 0.8005 - val_precision_m: 0.8491 - val_recall_m: 0.7577\n",
            "Epoch 192/200\n",
            "146/146 [==============================] - 1s 8ms/step - loss: 0.7498 - acc: 0.8014 - f1_m: 0.7898 - precision_m: 0.8408 - recall_m: 0.7450 - val_loss: 0.7395 - val_acc: 0.8094 - val_f1_m: 0.8004 - val_precision_m: 0.8487 - val_recall_m: 0.7579\n",
            "Epoch 193/200\n",
            "146/146 [==============================] - 1s 9ms/step - loss: 0.7499 - acc: 0.8013 - f1_m: 0.7856 - precision_m: 0.8407 - recall_m: 0.7377 - val_loss: 0.7385 - val_acc: 0.8111 - val_f1_m: 0.8011 - val_precision_m: 0.8529 - val_recall_m: 0.7558\n",
            "Epoch 194/200\n",
            "146/146 [==============================] - 1s 8ms/step - loss: 0.7471 - acc: 0.8019 - f1_m: 0.7899 - precision_m: 0.8409 - recall_m: 0.7450 - val_loss: 0.7375 - val_acc: 0.8119 - val_f1_m: 0.8009 - val_precision_m: 0.8532 - val_recall_m: 0.7552\n",
            "Epoch 195/200\n",
            "146/146 [==============================] - 1s 8ms/step - loss: 0.7459 - acc: 0.8021 - f1_m: 0.7904 - precision_m: 0.8437 - recall_m: 0.7440 - val_loss: 0.7367 - val_acc: 0.8111 - val_f1_m: 0.8012 - val_precision_m: 0.8518 - val_recall_m: 0.7568\n",
            "Epoch 196/200\n",
            "146/146 [==============================] - 1s 8ms/step - loss: 0.7472 - acc: 0.8010 - f1_m: 0.7899 - precision_m: 0.8414 - recall_m: 0.7447 - val_loss: 0.7361 - val_acc: 0.8100 - val_f1_m: 0.8019 - val_precision_m: 0.8528 - val_recall_m: 0.7574\n",
            "Epoch 197/200\n",
            "146/146 [==============================] - 1s 8ms/step - loss: 0.7465 - acc: 0.7992 - f1_m: 0.7884 - precision_m: 0.8401 - recall_m: 0.7432 - val_loss: 0.7360 - val_acc: 0.8108 - val_f1_m: 0.8009 - val_precision_m: 0.8478 - val_recall_m: 0.7596\n",
            "Epoch 198/200\n",
            "146/146 [==============================] - 1s 8ms/step - loss: 0.7452 - acc: 0.7995 - f1_m: 0.7900 - precision_m: 0.8414 - recall_m: 0.7450 - val_loss: 0.7351 - val_acc: 0.8111 - val_f1_m: 0.8016 - val_precision_m: 0.8524 - val_recall_m: 0.7571\n",
            "Epoch 199/200\n",
            "146/146 [==============================] - 1s 8ms/step - loss: 0.7424 - acc: 0.8035 - f1_m: 0.7918 - precision_m: 0.8445 - recall_m: 0.7459 - val_loss: 0.7337 - val_acc: 0.8114 - val_f1_m: 0.8015 - val_precision_m: 0.8524 - val_recall_m: 0.7568\n",
            "Epoch 200/200\n",
            "146/146 [==============================] - 1s 8ms/step - loss: 0.7432 - acc: 0.8033 - f1_m: 0.7911 - precision_m: 0.8411 - recall_m: 0.7472 - val_loss: 0.7326 - val_acc: 0.8133 - val_f1_m: 0.8025 - val_precision_m: 0.8515 - val_recall_m: 0.7593\n"
          ],
          "name": "stdout"
        },
        {
          "output_type": "display_data",
          "data": {
            "image/png": "[encoded data removed]",
            "text/plain": [
              "<Figure size 432x288 with 1 Axes>"
            ]
          },
          "metadata": {
            "tags": [],
            "needs_background": "light"
          }
        },
        {
          "output_type": "display_data",
          "data": {
            "image/png": "[encoded data removed]",
            "text/plain": [
              "<Figure size 432x288 with 1 Axes>"
            ]
          },
          "metadata": {
            "tags": [],
            "needs_background": "light"
          }
        },
        {
          "output_type": "stream",
          "text": [
            "#######################################################\n",
            "F1        : 0.8018614649772644\n",
            "Precision : 0.8508782386779785\n",
            "Recall    : 0.7595235705375671\n",
            "Accuracy  : 0.813271164894104\n",
            "#######################################################\n",
            "-------------------------------------\n",
            "#######################################################\n",
            "F1        : 0.789384663105011\n",
            "Precision : 0.8437224626541138\n",
            "Recall    : 0.7428385615348816\n",
            "Accuracy  : 0.8003991842269897\n",
            "#######################################################\n",
            "-------------------------------------\n",
            "#######################################################\n",
            "F1        : 0.7874987125396729\n",
            "Precision : 0.8397098779678345\n",
            "Recall    : 0.7420945167541504\n",
            "Accuracy  : 0.796407163143158\n",
            "#######################################################\n",
            "-------------------------------------\n",
            "#######################################################\n",
            "F1        : 0.7833897471427917\n",
            "Precision : 0.8143520951271057\n",
            "Recall    : 0.755673348903656\n",
            "Accuracy  : 0.7884231805801392\n",
            "#######################################################\n",
            "-------------------------------------\n",
            "#######################################################\n",
            "F1        : 0.8360027074813843\n",
            "Precision : 0.8809658885002136\n",
            "Recall    : 0.7965959906578064\n",
            "Accuracy  : 0.8443113565444946\n",
            "#######################################################\n",
            "-------------------------------------\n",
            "#######################################################\n",
            "F1        : 0.7974227070808411\n",
            "Precision : 0.8396303653717041\n",
            "Recall    : 0.7606026530265808\n",
            "Accuracy  : 0.7924151420593262\n",
            "#######################################################\n"
          ],
          "name": "stdout"
        }
      ]
    },
    {
      "cell_type": "markdown",
      "metadata": {
        "id": "JvWMv50CPIIG",
        "colab_type": "text"
      },
      "source": [
        "#Bi-Directional LSTM with Fasttext emb\n"
      ]
    },
    {
      "cell_type": "code",
      "metadata": {
        "id": "HK43XmVYPFPQ",
        "colab_type": "code",
        "colab": {
          "base_uri": "https://localhost:8080/",
          "height": 263
        },
        "outputId": "ed9b9c29-4acd-4834-dbf3-8baf8b737900"
      },
      "source": [
        "MAX_NB_WORDS = 15000\n",
        "model_bi_ft = tf.keras.Sequential([\n",
        "    tf.keras.layers.Embedding(MAX_NB_WORDS, 300,  weights=[embedding_matrix], input_length=12, trainable=False),\n",
        "    tf.keras.layers.Bidirectional(tf.keras.layers.LSTM(32)),\n",
        "    # use ReLU in place of tanh function since they are very good alternatives of each other.\n",
        "    #tf.keras.layers.Dense(30, activation='softmax'),\n",
        "    # Add a Dense layer with 3 units and softmax activation.\n",
        "    # When we have multiple outputs, softmax convert outputs layers into a probability distribution.\n",
        "    tf.keras.layers.Dense(3, activation='softmax')\n",
        "])\n",
        "model_bi_ft.summary()"
      ],
      "execution_count": 44,
      "outputs": [
        {
          "output_type": "stream",
          "text": [
            "Model: \"sequential_1\"\n",
            "_________________________________________________________________\n",
            "Layer (type)                 Output Shape              Param #   \n",
            "=================================================================\n",
            "embedding_1 (Embedding)      (None, 12, 300)           4500000   \n",
            "_________________________________________________________________\n",
            "bidirectional_1 (Bidirection (None, 64)                85248     \n",
            "_________________________________________________________________\n",
            "dense_1 (Dense)              (None, 3)                 195       \n",
            "=================================================================\n",
            "Total params: 4,585,443\n",
            "Trainable params: 85,443\n",
            "Non-trainable params: 4,500,000\n",
            "_________________________________________________________________\n"
          ],
          "name": "stdout"
        }
      ]
    },
    {
      "cell_type": "code",
      "metadata": {
        "id": "-1uwHogGQb8x",
        "colab_type": "code",
        "colab": {
          "base_uri": "https://localhost:8080/",
          "height": 1000
        },
        "outputId": "db9bc378-3868-4200-df60-7cd7c0c2d333"
      },
      "source": [
        "#model2.compile(loss=\"categorical_crossentropy\", optimizer='adam', metrics=[\"accuracy\"])\n",
        "optimizer = tf.keras.optimizers.Adam(learning_rate=1e-5)\n",
        "es = tf.keras.callbacks.EarlyStopping(monitor='val_loss', mode='min', verbose=1)\n",
        "    \n",
        "model_bi_ft.compile(loss=\"categorical_crossentropy\", optimizer=optimizer, metrics=['acc',f1_m,precision_m, recall_m])\n",
        "with tf.device('/device:GPU:0'):\n",
        "   history_bi_ft = model_bi_ft.fit(\n",
        "      X_train, Y_train, epochs=200,batch_size = 100,callbacks=[es], validation_data=(X_test, Y_test),\n",
        "  )\n"
      ],
      "execution_count": 45,
      "outputs": [
        {
          "output_type": "stream",
          "text": [
            "Epoch 1/200\n",
            "146/146 [==============================] - 2s 14ms/step - loss: 1.0983 - acc: 0.3495 - f1_m: 0.0000e+00 - precision_m: 0.0000e+00 - recall_m: 0.0000e+00 - val_loss: 1.0970 - val_acc: 0.3869 - val_f1_m: 0.0000e+00 - val_precision_m: 0.0000e+00 - val_recall_m: 0.0000e+00\n",
            "Epoch 2/200\n",
            "146/146 [==============================] - 1s 8ms/step - loss: 1.0956 - acc: 0.3955 - f1_m: 0.0000e+00 - precision_m: 0.0000e+00 - recall_m: 0.0000e+00 - val_loss: 1.0944 - val_acc: 0.4187 - val_f1_m: 0.0000e+00 - val_precision_m: 0.0000e+00 - val_recall_m: 0.0000e+00\n",
            "Epoch 3/200\n",
            "146/146 [==============================] - 1s 8ms/step - loss: 1.0929 - acc: 0.4258 - f1_m: 0.0000e+00 - precision_m: 0.0000e+00 - recall_m: 0.0000e+00 - val_loss: 1.0915 - val_acc: 0.4327 - val_f1_m: 0.0000e+00 - val_precision_m: 0.0000e+00 - val_recall_m: 0.0000e+00\n",
            "Epoch 4/200\n",
            "146/146 [==============================] - 1s 8ms/step - loss: 1.0899 - acc: 0.4492 - f1_m: 0.0000e+00 - precision_m: 0.0000e+00 - recall_m: 0.0000e+00 - val_loss: 1.0885 - val_acc: 0.4464 - val_f1_m: 0.0000e+00 - val_precision_m: 0.0000e+00 - val_recall_m: 0.0000e+00\n",
            "Epoch 5/200\n",
            "146/146 [==============================] - 1s 8ms/step - loss: 1.0866 - acc: 0.4635 - f1_m: 0.0000e+00 - precision_m: 0.0000e+00 - recall_m: 0.0000e+00 - val_loss: 1.0851 - val_acc: 0.4593 - val_f1_m: 0.0000e+00 - val_precision_m: 0.0000e+00 - val_recall_m: 0.0000e+00\n",
            "Epoch 6/200\n",
            "146/146 [==============================] - 1s 8ms/step - loss: 1.0828 - acc: 0.4746 - f1_m: 0.0000e+00 - precision_m: 0.0000e+00 - recall_m: 0.0000e+00 - val_loss: 1.0812 - val_acc: 0.4681 - val_f1_m: 0.0000e+00 - val_precision_m: 0.0000e+00 - val_recall_m: 0.0000e+00\n",
            "Epoch 7/200\n",
            "146/146 [==============================] - 1s 8ms/step - loss: 1.0786 - acc: 0.4674 - f1_m: 0.0000e+00 - precision_m: 0.0000e+00 - recall_m: 0.0000e+00 - val_loss: 1.0767 - val_acc: 0.4837 - val_f1_m: 0.0000e+00 - val_precision_m: 0.0000e+00 - val_recall_m: 0.0000e+00\n",
            "Epoch 8/200\n",
            "146/146 [==============================] - 1s 9ms/step - loss: 1.0736 - acc: 0.4929 - f1_m: 0.0000e+00 - precision_m: 0.0000e+00 - recall_m: 0.0000e+00 - val_loss: 1.0714 - val_acc: 0.4872 - val_f1_m: 0.0000e+00 - val_precision_m: 0.0000e+00 - val_recall_m: 0.0000e+00\n",
            "Epoch 9/200\n",
            "146/146 [==============================] - 1s 8ms/step - loss: 1.0677 - acc: 0.5036 - f1_m: 0.0000e+00 - precision_m: 0.0000e+00 - recall_m: 0.0000e+00 - val_loss: 1.0651 - val_acc: 0.4966 - val_f1_m: 0.0000e+00 - val_precision_m: 0.0000e+00 - val_recall_m: 0.0000e+00\n",
            "Epoch 10/200\n",
            "146/146 [==============================] - 1s 8ms/step - loss: 1.0607 - acc: 0.5110 - f1_m: 0.0000e+00 - precision_m: 0.0000e+00 - recall_m: 0.0000e+00 - val_loss: 1.0575 - val_acc: 0.5043 - val_f1_m: 0.0000e+00 - val_precision_m: 0.0000e+00 - val_recall_m: 0.0000e+00\n",
            "Epoch 11/200\n",
            "146/146 [==============================] - 1s 8ms/step - loss: 1.0522 - acc: 0.5171 - f1_m: 1.3563e-04 - precision_m: 0.0068 - recall_m: 6.8493e-05 - val_loss: 1.0484 - val_acc: 0.5128 - val_f1_m: 0.0000e+00 - val_precision_m: 0.0000e+00 - val_recall_m: 0.0000e+00\n",
            "Epoch 12/200\n",
            "146/146 [==============================] - 1s 8ms/step - loss: 1.0419 - acc: 0.5323 - f1_m: 0.0014 - precision_m: 0.0685 - recall_m: 6.8493e-04 - val_loss: 1.0372 - val_acc: 0.5284 - val_f1_m: 0.0021 - val_precision_m: 0.1081 - val_recall_m: 0.0011\n",
            "Epoch 13/200\n",
            "146/146 [==============================] - 1s 8ms/step - loss: 1.0294 - acc: 0.5424 - f1_m: 0.0082 - precision_m: 0.3596 - recall_m: 0.0042 - val_loss: 1.0237 - val_acc: 0.5388 - val_f1_m: 0.0212 - val_precision_m: 0.6486 - val_recall_m: 0.0108\n",
            "Epoch 14/200\n",
            "146/146 [==============================] - 1s 8ms/step - loss: 1.0144 - acc: 0.5566 - f1_m: 0.0381 - precision_m: 0.7427 - recall_m: 0.0197 - val_loss: 1.0076 - val_acc: 0.5561 - val_f1_m: 0.0568 - val_precision_m: 0.8961 - val_recall_m: 0.0295\n",
            "Epoch 15/200\n",
            "146/146 [==============================] - 1s 8ms/step - loss: 0.9966 - acc: 0.5703 - f1_m: 0.0932 - precision_m: 0.8554 - recall_m: 0.0499 - val_loss: 0.9884 - val_acc: 0.5714 - val_f1_m: 0.1180 - val_precision_m: 0.8805 - val_recall_m: 0.0639\n",
            "Epoch 16/200\n",
            "146/146 [==============================] - 1s 7ms/step - loss: 0.9760 - acc: 0.5847 - f1_m: 0.1595 - precision_m: 0.8294 - recall_m: 0.0891 - val_loss: 0.9662 - val_acc: 0.5829 - val_f1_m: 0.1843 - val_precision_m: 0.8297 - val_recall_m: 0.1045\n",
            "Epoch 17/200\n",
            "146/146 [==============================] - 1s 8ms/step - loss: 0.9527 - acc: 0.5991 - f1_m: 0.2228 - precision_m: 0.8002 - recall_m: 0.1304 - val_loss: 0.9416 - val_acc: 0.5969 - val_f1_m: 0.2381 - val_precision_m: 0.7992 - val_recall_m: 0.1410\n",
            "Epoch 18/200\n",
            "146/146 [==============================] - 1s 8ms/step - loss: 0.9275 - acc: 0.6146 - f1_m: 0.2689 - precision_m: 0.7875 - recall_m: 0.1633 - val_loss: 0.9149 - val_acc: 0.6186 - val_f1_m: 0.2974 - val_precision_m: 0.7953 - val_recall_m: 0.1839\n",
            "Epoch 19/200\n",
            "146/146 [==============================] - 1s 8ms/step - loss: 0.9010 - acc: 0.6259 - f1_m: 0.3282 - precision_m: 0.7865 - recall_m: 0.2087 - val_loss: 0.8874 - val_acc: 0.6318 - val_f1_m: 0.3536 - val_precision_m: 0.8070 - val_recall_m: 0.2274\n",
            "Epoch 20/200\n",
            "146/146 [==============================] - 1s 8ms/step - loss: 0.8743 - acc: 0.6399 - f1_m: 0.3870 - precision_m: 0.8012 - recall_m: 0.2566 - val_loss: 0.8600 - val_acc: 0.6441 - val_f1_m: 0.4115 - val_precision_m: 0.8210 - val_recall_m: 0.2756\n",
            "Epoch 21/200\n",
            "146/146 [==============================] - 1s 8ms/step - loss: 0.8482 - acc: 0.6470 - f1_m: 0.4445 - precision_m: 0.8162 - recall_m: 0.3071 - val_loss: 0.8334 - val_acc: 0.6548 - val_f1_m: 0.4746 - val_precision_m: 0.8343 - val_recall_m: 0.3330\n",
            "Epoch 22/200\n",
            "146/146 [==============================] - 1s 8ms/step - loss: 0.8235 - acc: 0.6547 - f1_m: 0.4942 - precision_m: 0.8262 - recall_m: 0.3540 - val_loss: 0.8087 - val_acc: 0.6655 - val_f1_m: 0.5171 - val_precision_m: 0.8346 - val_recall_m: 0.3758\n",
            "Epoch 23/200\n",
            "146/146 [==============================] - 1s 8ms/step - loss: 0.8005 - acc: 0.6626 - f1_m: 0.5321 - precision_m: 0.8280 - recall_m: 0.3933 - val_loss: 0.7858 - val_acc: 0.6753 - val_f1_m: 0.5518 - val_precision_m: 0.8345 - val_recall_m: 0.4137\n",
            "Epoch 24/200\n",
            "146/146 [==============================] - 1s 8ms/step - loss: 0.7793 - acc: 0.6710 - f1_m: 0.5653 - precision_m: 0.8272 - recall_m: 0.4307 - val_loss: 0.7645 - val_acc: 0.6855 - val_f1_m: 0.5784 - val_precision_m: 0.8350 - val_recall_m: 0.4435\n",
            "Epoch 25/200\n",
            "146/146 [==============================] - 1s 8ms/step - loss: 0.7597 - acc: 0.6832 - f1_m: 0.5885 - precision_m: 0.8262 - recall_m: 0.4584 - val_loss: 0.7451 - val_acc: 0.6923 - val_f1_m: 0.6037 - val_precision_m: 0.8345 - val_recall_m: 0.4741\n",
            "Epoch 26/200\n",
            "146/146 [==============================] - 1s 8ms/step - loss: 0.7418 - acc: 0.6932 - f1_m: 0.6077 - precision_m: 0.8219 - recall_m: 0.4840 - val_loss: 0.7274 - val_acc: 0.7033 - val_f1_m: 0.6270 - val_precision_m: 0.8268 - val_recall_m: 0.5060\n",
            "Epoch 27/200\n",
            "146/146 [==============================] - 1s 8ms/step - loss: 0.7254 - acc: 0.7005 - f1_m: 0.6254 - precision_m: 0.8129 - recall_m: 0.5095 - val_loss: 0.7112 - val_acc: 0.7099 - val_f1_m: 0.6392 - val_precision_m: 0.8241 - val_recall_m: 0.5231\n",
            "Epoch 28/200\n",
            "146/146 [==============================] - 1s 8ms/step - loss: 0.7106 - acc: 0.7086 - f1_m: 0.6421 - precision_m: 0.8148 - recall_m: 0.5309 - val_loss: 0.6966 - val_acc: 0.7165 - val_f1_m: 0.6529 - val_precision_m: 0.8231 - val_recall_m: 0.5423\n",
            "Epoch 29/200\n",
            "146/146 [==============================] - 1s 8ms/step - loss: 0.6971 - acc: 0.7144 - f1_m: 0.6550 - precision_m: 0.8140 - recall_m: 0.5489 - val_loss: 0.6834 - val_acc: 0.7200 - val_f1_m: 0.6626 - val_precision_m: 0.8193 - val_recall_m: 0.5574\n",
            "Epoch 30/200\n",
            "146/146 [==============================] - 1s 8ms/step - loss: 0.6848 - acc: 0.7192 - f1_m: 0.6679 - precision_m: 0.8128 - recall_m: 0.5679 - val_loss: 0.6714 - val_acc: 0.7242 - val_f1_m: 0.6754 - val_precision_m: 0.8200 - val_recall_m: 0.5753\n",
            "Epoch 31/200\n",
            "146/146 [==============================] - 1s 8ms/step - loss: 0.6737 - acc: 0.7222 - f1_m: 0.6757 - precision_m: 0.8099 - recall_m: 0.5805 - val_loss: 0.6605 - val_acc: 0.7299 - val_f1_m: 0.6870 - val_precision_m: 0.8244 - val_recall_m: 0.5902\n",
            "Epoch 32/200\n",
            "146/146 [==============================] - 1s 8ms/step - loss: 0.6637 - acc: 0.7263 - f1_m: 0.6839 - precision_m: 0.8093 - recall_m: 0.5931 - val_loss: 0.6506 - val_acc: 0.7335 - val_f1_m: 0.6931 - val_precision_m: 0.8221 - val_recall_m: 0.6002\n",
            "Epoch 33/200\n",
            "146/146 [==============================] - 1s 8ms/step - loss: 0.6545 - acc: 0.7302 - f1_m: 0.6918 - precision_m: 0.8096 - recall_m: 0.6051 - val_loss: 0.6417 - val_acc: 0.7370 - val_f1_m: 0.6989 - val_precision_m: 0.8203 - val_recall_m: 0.6099\n",
            "Epoch 34/200\n",
            "146/146 [==============================] - 1s 8ms/step - loss: 0.6461 - acc: 0.7340 - f1_m: 0.6975 - precision_m: 0.8084 - recall_m: 0.6143 - val_loss: 0.6334 - val_acc: 0.7398 - val_f1_m: 0.7045 - val_precision_m: 0.8178 - val_recall_m: 0.6199\n",
            "Epoch 35/200\n",
            "146/146 [==============================] - 1s 8ms/step - loss: 0.6386 - acc: 0.7357 - f1_m: 0.7036 - precision_m: 0.8080 - recall_m: 0.6240 - val_loss: 0.6259 - val_acc: 0.7409 - val_f1_m: 0.7089 - val_precision_m: 0.8176 - val_recall_m: 0.6267\n",
            "Epoch 36/200\n",
            "146/146 [==============================] - 1s 7ms/step - loss: 0.6316 - acc: 0.7398 - f1_m: 0.7094 - precision_m: 0.8099 - recall_m: 0.6317 - val_loss: 0.6192 - val_acc: 0.7420 - val_f1_m: 0.7161 - val_precision_m: 0.8199 - val_recall_m: 0.6364\n",
            "Epoch 37/200\n",
            "146/146 [==============================] - 1s 8ms/step - loss: 0.6252 - acc: 0.7430 - f1_m: 0.7136 - precision_m: 0.8093 - recall_m: 0.6388 - val_loss: 0.6129 - val_acc: 0.7447 - val_f1_m: 0.7193 - val_precision_m: 0.8171 - val_recall_m: 0.6432\n",
            "Epoch 38/200\n",
            "146/146 [==============================] - 1s 8ms/step - loss: 0.6193 - acc: 0.7444 - f1_m: 0.7182 - precision_m: 0.8094 - recall_m: 0.6463 - val_loss: 0.6071 - val_acc: 0.7469 - val_f1_m: 0.7232 - val_precision_m: 0.8167 - val_recall_m: 0.6497\n",
            "Epoch 39/200\n",
            "146/146 [==============================] - 1s 8ms/step - loss: 0.6138 - acc: 0.7465 - f1_m: 0.7228 - precision_m: 0.8106 - recall_m: 0.6530 - val_loss: 0.6018 - val_acc: 0.7505 - val_f1_m: 0.7272 - val_precision_m: 0.8178 - val_recall_m: 0.6554\n",
            "Epoch 40/200\n",
            "146/146 [==============================] - 1s 8ms/step - loss: 0.6088 - acc: 0.7507 - f1_m: 0.7270 - precision_m: 0.8119 - recall_m: 0.6589 - val_loss: 0.5967 - val_acc: 0.7538 - val_f1_m: 0.7305 - val_precision_m: 0.8166 - val_recall_m: 0.6616\n",
            "Epoch 41/200\n",
            "146/146 [==============================] - 1s 8ms/step - loss: 0.6040 - acc: 0.7528 - f1_m: 0.7298 - precision_m: 0.8105 - recall_m: 0.6643 - val_loss: 0.5922 - val_acc: 0.7573 - val_f1_m: 0.7340 - val_precision_m: 0.8186 - val_recall_m: 0.6659\n",
            "Epoch 42/200\n",
            "146/146 [==============================] - 1s 8ms/step - loss: 0.5995 - acc: 0.7558 - f1_m: 0.7331 - precision_m: 0.8119 - recall_m: 0.6688 - val_loss: 0.5878 - val_acc: 0.7573 - val_f1_m: 0.7361 - val_precision_m: 0.8179 - val_recall_m: 0.6700\n",
            "Epoch 43/200\n",
            "146/146 [==============================] - 1s 8ms/step - loss: 0.5952 - acc: 0.7580 - f1_m: 0.7358 - precision_m: 0.8123 - recall_m: 0.6731 - val_loss: 0.5836 - val_acc: 0.7598 - val_f1_m: 0.7387 - val_precision_m: 0.8188 - val_recall_m: 0.6735\n",
            "Epoch 44/200\n",
            "146/146 [==============================] - 1s 8ms/step - loss: 0.5912 - acc: 0.7592 - f1_m: 0.7383 - precision_m: 0.8131 - recall_m: 0.6767 - val_loss: 0.5796 - val_acc: 0.7604 - val_f1_m: 0.7411 - val_precision_m: 0.8196 - val_recall_m: 0.6770\n",
            "Epoch 45/200\n",
            "146/146 [==============================] - 1s 8ms/step - loss: 0.5873 - acc: 0.7615 - f1_m: 0.7413 - precision_m: 0.8145 - recall_m: 0.6806 - val_loss: 0.5757 - val_acc: 0.7609 - val_f1_m: 0.7436 - val_precision_m: 0.8208 - val_recall_m: 0.6802\n",
            "Epoch 46/200\n",
            "146/146 [==============================] - 1s 8ms/step - loss: 0.5837 - acc: 0.7635 - f1_m: 0.7436 - precision_m: 0.8144 - recall_m: 0.6848 - val_loss: 0.5723 - val_acc: 0.7636 - val_f1_m: 0.7477 - val_precision_m: 0.8228 - val_recall_m: 0.6856\n",
            "Epoch 47/200\n",
            "146/146 [==============================] - 1s 8ms/step - loss: 0.5800 - acc: 0.7649 - f1_m: 0.7463 - precision_m: 0.8159 - recall_m: 0.6881 - val_loss: 0.5687 - val_acc: 0.7653 - val_f1_m: 0.7493 - val_precision_m: 0.8216 - val_recall_m: 0.6891\n",
            "Epoch 48/200\n",
            "146/146 [==============================] - 1s 8ms/step - loss: 0.5767 - acc: 0.7652 - f1_m: 0.7483 - precision_m: 0.8148 - recall_m: 0.6923 - val_loss: 0.5654 - val_acc: 0.7672 - val_f1_m: 0.7521 - val_precision_m: 0.8235 - val_recall_m: 0.6927\n",
            "Epoch 49/200\n",
            "146/146 [==============================] - 1s 8ms/step - loss: 0.5733 - acc: 0.7677 - f1_m: 0.7521 - precision_m: 0.8178 - recall_m: 0.6966 - val_loss: 0.5621 - val_acc: 0.7669 - val_f1_m: 0.7520 - val_precision_m: 0.8228 - val_recall_m: 0.6929\n",
            "Epoch 50/200\n",
            "146/146 [==============================] - 1s 8ms/step - loss: 0.5701 - acc: 0.7688 - f1_m: 0.7535 - precision_m: 0.8177 - recall_m: 0.6993 - val_loss: 0.5593 - val_acc: 0.7697 - val_f1_m: 0.7539 - val_precision_m: 0.8224 - val_recall_m: 0.6964\n",
            "Epoch 51/200\n",
            "146/146 [==============================] - 1s 8ms/step - loss: 0.5670 - acc: 0.7697 - f1_m: 0.7551 - precision_m: 0.8179 - recall_m: 0.7019 - val_loss: 0.5561 - val_acc: 0.7716 - val_f1_m: 0.7564 - val_precision_m: 0.8241 - val_recall_m: 0.6994\n",
            "Epoch 52/200\n",
            "146/146 [==============================] - 1s 8ms/step - loss: 0.5639 - acc: 0.7704 - f1_m: 0.7562 - precision_m: 0.8180 - recall_m: 0.7036 - val_loss: 0.5533 - val_acc: 0.7741 - val_f1_m: 0.7586 - val_precision_m: 0.8267 - val_recall_m: 0.7013\n",
            "Epoch 53/200\n",
            "146/146 [==============================] - 1s 8ms/step - loss: 0.5610 - acc: 0.7719 - f1_m: 0.7584 - precision_m: 0.8183 - recall_m: 0.7073 - val_loss: 0.5502 - val_acc: 0.7757 - val_f1_m: 0.7611 - val_precision_m: 0.8266 - val_recall_m: 0.7057\n",
            "Epoch 54/200\n",
            "146/146 [==============================] - 1s 9ms/step - loss: 0.5581 - acc: 0.7728 - f1_m: 0.7597 - precision_m: 0.8184 - recall_m: 0.7094 - val_loss: 0.5475 - val_acc: 0.7774 - val_f1_m: 0.7631 - val_precision_m: 0.8275 - val_recall_m: 0.7084\n",
            "Epoch 55/200\n",
            "146/146 [==============================] - 1s 9ms/step - loss: 0.5554 - acc: 0.7741 - f1_m: 0.7612 - precision_m: 0.8191 - recall_m: 0.7116 - val_loss: 0.5448 - val_acc: 0.7776 - val_f1_m: 0.7643 - val_precision_m: 0.8274 - val_recall_m: 0.7106\n",
            "Epoch 56/200\n",
            "146/146 [==============================] - 1s 9ms/step - loss: 0.5527 - acc: 0.7760 - f1_m: 0.7624 - precision_m: 0.8190 - recall_m: 0.7137 - val_loss: 0.5421 - val_acc: 0.7793 - val_f1_m: 0.7663 - val_precision_m: 0.8279 - val_recall_m: 0.7138\n",
            "Epoch 57/200\n",
            "146/146 [==============================] - 1s 8ms/step - loss: 0.5500 - acc: 0.7778 - f1_m: 0.7651 - precision_m: 0.8206 - recall_m: 0.7172 - val_loss: 0.5397 - val_acc: 0.7795 - val_f1_m: 0.7693 - val_precision_m: 0.8298 - val_recall_m: 0.7176\n",
            "Epoch 58/200\n",
            "146/146 [==============================] - 1s 8ms/step - loss: 0.5474 - acc: 0.7776 - f1_m: 0.7654 - precision_m: 0.8199 - recall_m: 0.7182 - val_loss: 0.5372 - val_acc: 0.7804 - val_f1_m: 0.7697 - val_precision_m: 0.8284 - val_recall_m: 0.7192\n",
            "Epoch 59/200\n",
            "146/146 [==============================] - 1s 8ms/step - loss: 0.5450 - acc: 0.7793 - f1_m: 0.7666 - precision_m: 0.8203 - recall_m: 0.7199 - val_loss: 0.5347 - val_acc: 0.7809 - val_f1_m: 0.7700 - val_precision_m: 0.8292 - val_recall_m: 0.7192\n",
            "Epoch 60/200\n",
            "146/146 [==============================] - 1s 8ms/step - loss: 0.5424 - acc: 0.7804 - f1_m: 0.7683 - precision_m: 0.8211 - recall_m: 0.7223 - val_loss: 0.5325 - val_acc: 0.7820 - val_f1_m: 0.7714 - val_precision_m: 0.8285 - val_recall_m: 0.7222\n",
            "Epoch 61/200\n",
            "146/146 [==============================] - 1s 8ms/step - loss: 0.5401 - acc: 0.7807 - f1_m: 0.7692 - precision_m: 0.8214 - recall_m: 0.7236 - val_loss: 0.5302 - val_acc: 0.7828 - val_f1_m: 0.7723 - val_precision_m: 0.8284 - val_recall_m: 0.7238\n",
            "Epoch 62/200\n",
            "146/146 [==============================] - 1s 8ms/step - loss: 0.5378 - acc: 0.7814 - f1_m: 0.7702 - precision_m: 0.8221 - recall_m: 0.7251 - val_loss: 0.5281 - val_acc: 0.7839 - val_f1_m: 0.7735 - val_precision_m: 0.8286 - val_recall_m: 0.7257\n",
            "Epoch 63/200\n",
            "146/146 [==============================] - 1s 8ms/step - loss: 0.5355 - acc: 0.7832 - f1_m: 0.7719 - precision_m: 0.8232 - recall_m: 0.7270 - val_loss: 0.5259 - val_acc: 0.7850 - val_f1_m: 0.7748 - val_precision_m: 0.8292 - val_recall_m: 0.7276\n",
            "Epoch 64/200\n",
            "146/146 [==============================] - 1s 7ms/step - loss: 0.5334 - acc: 0.7837 - f1_m: 0.7727 - precision_m: 0.8230 - recall_m: 0.7286 - val_loss: 0.5240 - val_acc: 0.7864 - val_f1_m: 0.7751 - val_precision_m: 0.8278 - val_recall_m: 0.7292\n",
            "Epoch 65/200\n",
            "146/146 [==============================] - 1s 7ms/step - loss: 0.5312 - acc: 0.7854 - f1_m: 0.7735 - precision_m: 0.8237 - recall_m: 0.7296 - val_loss: 0.5218 - val_acc: 0.7864 - val_f1_m: 0.7776 - val_precision_m: 0.8296 - val_recall_m: 0.7322\n",
            "Epoch 66/200\n",
            "146/146 [==============================] - 1s 8ms/step - loss: 0.5291 - acc: 0.7855 - f1_m: 0.7744 - precision_m: 0.8232 - recall_m: 0.7315 - val_loss: 0.5201 - val_acc: 0.7883 - val_f1_m: 0.7776 - val_precision_m: 0.8289 - val_recall_m: 0.7327\n",
            "Epoch 67/200\n",
            "146/146 [==============================] - 1s 7ms/step - loss: 0.5272 - acc: 0.7882 - f1_m: 0.7759 - precision_m: 0.8249 - recall_m: 0.7329 - val_loss: 0.5179 - val_acc: 0.7886 - val_f1_m: 0.7788 - val_precision_m: 0.8301 - val_recall_m: 0.7338\n",
            "Epoch 68/200\n",
            "146/146 [==============================] - 1s 8ms/step - loss: 0.5252 - acc: 0.7884 - f1_m: 0.7773 - precision_m: 0.8257 - recall_m: 0.7348 - val_loss: 0.5161 - val_acc: 0.7883 - val_f1_m: 0.7797 - val_precision_m: 0.8284 - val_recall_m: 0.7368\n",
            "Epoch 69/200\n",
            "146/146 [==============================] - 1s 8ms/step - loss: 0.5232 - acc: 0.7897 - f1_m: 0.7778 - precision_m: 0.8257 - recall_m: 0.7356 - val_loss: 0.5141 - val_acc: 0.7905 - val_f1_m: 0.7811 - val_precision_m: 0.8298 - val_recall_m: 0.7382\n",
            "Epoch 70/200\n",
            "146/146 [==============================] - 1s 8ms/step - loss: 0.5213 - acc: 0.7905 - f1_m: 0.7796 - precision_m: 0.8267 - recall_m: 0.7381 - val_loss: 0.5123 - val_acc: 0.7911 - val_f1_m: 0.7824 - val_precision_m: 0.8303 - val_recall_m: 0.7401\n",
            "Epoch 71/200\n",
            "146/146 [==============================] - 1s 8ms/step - loss: 0.5195 - acc: 0.7909 - f1_m: 0.7802 - precision_m: 0.8260 - recall_m: 0.7396 - val_loss: 0.5106 - val_acc: 0.7913 - val_f1_m: 0.7828 - val_precision_m: 0.8300 - val_recall_m: 0.7411\n",
            "Epoch 72/200\n",
            "146/146 [==============================] - 1s 8ms/step - loss: 0.5177 - acc: 0.7919 - f1_m: 0.7813 - precision_m: 0.8271 - recall_m: 0.7407 - val_loss: 0.5090 - val_acc: 0.7927 - val_f1_m: 0.7836 - val_precision_m: 0.8302 - val_recall_m: 0.7422\n",
            "Epoch 73/200\n",
            "146/146 [==============================] - 1s 8ms/step - loss: 0.5159 - acc: 0.7926 - f1_m: 0.7819 - precision_m: 0.8274 - recall_m: 0.7414 - val_loss: 0.5075 - val_acc: 0.7913 - val_f1_m: 0.7839 - val_precision_m: 0.8307 - val_recall_m: 0.7425\n",
            "Epoch 74/200\n",
            "146/146 [==============================] - 1s 7ms/step - loss: 0.5142 - acc: 0.7930 - f1_m: 0.7836 - precision_m: 0.8280 - recall_m: 0.7441 - val_loss: 0.5062 - val_acc: 0.7924 - val_f1_m: 0.7836 - val_precision_m: 0.8303 - val_recall_m: 0.7422\n",
            "Epoch 75/200\n",
            "146/146 [==============================] - 1s 8ms/step - loss: 0.5125 - acc: 0.7947 - f1_m: 0.7843 - precision_m: 0.8286 - recall_m: 0.7448 - val_loss: 0.5042 - val_acc: 0.7941 - val_f1_m: 0.7859 - val_precision_m: 0.8315 - val_recall_m: 0.7455\n",
            "Epoch 76/200\n",
            "146/146 [==============================] - 1s 8ms/step - loss: 0.5109 - acc: 0.7954 - f1_m: 0.7853 - precision_m: 0.8294 - recall_m: 0.7461 - val_loss: 0.5030 - val_acc: 0.7930 - val_f1_m: 0.7868 - val_precision_m: 0.8323 - val_recall_m: 0.7463\n",
            "Epoch 77/200\n",
            "146/146 [==============================] - 1s 8ms/step - loss: 0.5093 - acc: 0.7958 - f1_m: 0.7863 - precision_m: 0.8298 - recall_m: 0.7475 - val_loss: 0.5013 - val_acc: 0.7960 - val_f1_m: 0.7865 - val_precision_m: 0.8325 - val_recall_m: 0.7457\n",
            "Epoch 78/200\n",
            "146/146 [==============================] - 1s 8ms/step - loss: 0.5077 - acc: 0.7976 - f1_m: 0.7877 - precision_m: 0.8308 - recall_m: 0.7493 - val_loss: 0.4997 - val_acc: 0.7960 - val_f1_m: 0.7884 - val_precision_m: 0.8337 - val_recall_m: 0.7482\n",
            "Epoch 79/200\n",
            "146/146 [==============================] - 1s 8ms/step - loss: 0.5062 - acc: 0.7978 - f1_m: 0.7884 - precision_m: 0.8310 - recall_m: 0.7504 - val_loss: 0.4985 - val_acc: 0.7965 - val_f1_m: 0.7875 - val_precision_m: 0.8325 - val_recall_m: 0.7474\n",
            "Epoch 80/200\n",
            "146/146 [==============================] - 1s 7ms/step - loss: 0.5047 - acc: 0.7983 - f1_m: 0.7888 - precision_m: 0.8316 - recall_m: 0.7506 - val_loss: 0.4972 - val_acc: 0.7968 - val_f1_m: 0.7886 - val_precision_m: 0.8325 - val_recall_m: 0.7495\n",
            "Epoch 81/200\n",
            "146/146 [==============================] - 1s 8ms/step - loss: 0.5032 - acc: 0.7983 - f1_m: 0.7896 - precision_m: 0.8324 - recall_m: 0.7513 - val_loss: 0.4959 - val_acc: 0.7987 - val_f1_m: 0.7898 - val_precision_m: 0.8340 - val_recall_m: 0.7503\n",
            "Epoch 82/200\n",
            "146/146 [==============================] - 1s 8ms/step - loss: 0.5019 - acc: 0.8002 - f1_m: 0.7911 - precision_m: 0.8335 - recall_m: 0.7532 - val_loss: 0.4945 - val_acc: 0.7987 - val_f1_m: 0.7908 - val_precision_m: 0.8354 - val_recall_m: 0.7511\n",
            "Epoch 83/200\n",
            "146/146 [==============================] - 1s 7ms/step - loss: 0.5004 - acc: 0.8014 - f1_m: 0.7915 - precision_m: 0.8335 - recall_m: 0.7539 - val_loss: 0.4932 - val_acc: 0.7996 - val_f1_m: 0.7903 - val_precision_m: 0.8342 - val_recall_m: 0.7511\n",
            "Epoch 84/200\n",
            "146/146 [==============================] - 1s 8ms/step - loss: 0.4992 - acc: 0.8022 - f1_m: 0.7923 - precision_m: 0.8337 - recall_m: 0.7552 - val_loss: 0.4918 - val_acc: 0.7993 - val_f1_m: 0.7918 - val_precision_m: 0.8348 - val_recall_m: 0.7533\n",
            "Epoch 85/200\n",
            "146/146 [==============================] - 1s 8ms/step - loss: 0.4978 - acc: 0.8023 - f1_m: 0.7936 - precision_m: 0.8349 - recall_m: 0.7565 - val_loss: 0.4907 - val_acc: 0.8015 - val_f1_m: 0.7922 - val_precision_m: 0.8356 - val_recall_m: 0.7533\n",
            "Epoch 86/200\n",
            "146/146 [==============================] - 1s 8ms/step - loss: 0.4964 - acc: 0.8035 - f1_m: 0.7937 - precision_m: 0.8352 - recall_m: 0.7564 - val_loss: 0.4896 - val_acc: 0.8012 - val_f1_m: 0.7935 - val_precision_m: 0.8359 - val_recall_m: 0.7555\n",
            "Epoch 87/200\n",
            "146/146 [==============================] - 1s 8ms/step - loss: 0.4952 - acc: 0.8046 - f1_m: 0.7952 - precision_m: 0.8359 - recall_m: 0.7586 - val_loss: 0.4883 - val_acc: 0.8015 - val_f1_m: 0.7943 - val_precision_m: 0.8366 - val_recall_m: 0.7563\n",
            "Epoch 88/200\n",
            "146/146 [==============================] - 1s 8ms/step - loss: 0.4940 - acc: 0.8047 - f1_m: 0.7961 - precision_m: 0.8361 - recall_m: 0.7601 - val_loss: 0.4871 - val_acc: 0.8023 - val_f1_m: 0.7957 - val_precision_m: 0.8370 - val_recall_m: 0.7585\n",
            "Epoch 89/200\n",
            "146/146 [==============================] - 1s 7ms/step - loss: 0.4927 - acc: 0.8055 - f1_m: 0.7958 - precision_m: 0.8358 - recall_m: 0.7599 - val_loss: 0.4861 - val_acc: 0.8031 - val_f1_m: 0.7953 - val_precision_m: 0.8363 - val_recall_m: 0.7585\n",
            "Epoch 90/200\n",
            "146/146 [==============================] - 1s 7ms/step - loss: 0.4916 - acc: 0.8057 - f1_m: 0.7961 - precision_m: 0.8360 - recall_m: 0.7603 - val_loss: 0.4850 - val_acc: 0.8034 - val_f1_m: 0.7966 - val_precision_m: 0.8371 - val_recall_m: 0.7601\n",
            "Epoch 91/200\n",
            "146/146 [==============================] - 1s 8ms/step - loss: 0.4904 - acc: 0.8066 - f1_m: 0.7969 - precision_m: 0.8364 - recall_m: 0.7612 - val_loss: 0.4838 - val_acc: 0.8045 - val_f1_m: 0.7991 - val_precision_m: 0.8373 - val_recall_m: 0.7645\n",
            "Epoch 92/200\n",
            "146/146 [==============================] - 1s 7ms/step - loss: 0.4893 - acc: 0.8070 - f1_m: 0.7979 - precision_m: 0.8370 - recall_m: 0.7626 - val_loss: 0.4828 - val_acc: 0.8059 - val_f1_m: 0.7994 - val_precision_m: 0.8377 - val_recall_m: 0.7647\n",
            "Epoch 93/200\n",
            "146/146 [==============================] - 1s 7ms/step - loss: 0.4882 - acc: 0.8069 - f1_m: 0.7979 - precision_m: 0.8370 - recall_m: 0.7627 - val_loss: 0.4821 - val_acc: 0.8083 - val_f1_m: 0.7979 - val_precision_m: 0.8373 - val_recall_m: 0.7623\n",
            "Epoch 94/200\n",
            "146/146 [==============================] - 1s 7ms/step - loss: 0.4871 - acc: 0.8074 - f1_m: 0.7986 - precision_m: 0.8375 - recall_m: 0.7636 - val_loss: 0.4810 - val_acc: 0.8078 - val_f1_m: 0.7989 - val_precision_m: 0.8373 - val_recall_m: 0.7641\n",
            "Epoch 95/200\n",
            "146/146 [==============================] - 1s 7ms/step - loss: 0.4860 - acc: 0.8079 - f1_m: 0.7989 - precision_m: 0.8374 - recall_m: 0.7641 - val_loss: 0.4800 - val_acc: 0.8086 - val_f1_m: 0.7993 - val_precision_m: 0.8374 - val_recall_m: 0.7647\n",
            "Epoch 96/200\n",
            "146/146 [==============================] - 1s 7ms/step - loss: 0.4849 - acc: 0.8082 - f1_m: 0.7996 - precision_m: 0.8386 - recall_m: 0.7644 - val_loss: 0.4790 - val_acc: 0.8086 - val_f1_m: 0.8012 - val_precision_m: 0.8378 - val_recall_m: 0.7680\n",
            "Epoch 97/200\n",
            "146/146 [==============================] - 1s 7ms/step - loss: 0.4841 - acc: 0.8085 - f1_m: 0.7995 - precision_m: 0.8376 - recall_m: 0.7651 - val_loss: 0.4783 - val_acc: 0.8100 - val_f1_m: 0.7996 - val_precision_m: 0.8369 - val_recall_m: 0.7658\n",
            "Epoch 98/200\n",
            "146/146 [==============================] - 1s 8ms/step - loss: 0.4829 - acc: 0.8087 - f1_m: 0.8004 - precision_m: 0.8381 - recall_m: 0.7663 - val_loss: 0.4776 - val_acc: 0.8114 - val_f1_m: 0.7994 - val_precision_m: 0.8368 - val_recall_m: 0.7655\n",
            "Epoch 99/200\n",
            "146/146 [==============================] - 1s 8ms/step - loss: 0.4820 - acc: 0.8098 - f1_m: 0.8003 - precision_m: 0.8377 - recall_m: 0.7664 - val_loss: 0.4765 - val_acc: 0.8116 - val_f1_m: 0.8011 - val_precision_m: 0.8375 - val_recall_m: 0.7679\n",
            "Epoch 100/200\n",
            "146/146 [==============================] - 1s 7ms/step - loss: 0.4810 - acc: 0.8103 - f1_m: 0.8011 - precision_m: 0.8381 - recall_m: 0.7676 - val_loss: 0.4756 - val_acc: 0.8119 - val_f1_m: 0.8013 - val_precision_m: 0.8377 - val_recall_m: 0.7682\n",
            "Epoch 101/200\n",
            "146/146 [==============================] - 1s 8ms/step - loss: 0.4801 - acc: 0.8103 - f1_m: 0.8014 - precision_m: 0.8382 - recall_m: 0.7681 - val_loss: 0.4747 - val_acc: 0.8116 - val_f1_m: 0.8021 - val_precision_m: 0.8381 - val_recall_m: 0.7693\n",
            "Epoch 102/200\n",
            "146/146 [==============================] - 1s 7ms/step - loss: 0.4791 - acc: 0.8106 - f1_m: 0.8019 - precision_m: 0.8379 - recall_m: 0.7692 - val_loss: 0.4739 - val_acc: 0.8119 - val_f1_m: 0.8027 - val_precision_m: 0.8373 - val_recall_m: 0.7709\n",
            "Epoch 103/200\n",
            "146/146 [==============================] - 1s 8ms/step - loss: 0.4782 - acc: 0.8101 - f1_m: 0.8020 - precision_m: 0.8383 - recall_m: 0.7690 - val_loss: 0.4730 - val_acc: 0.8119 - val_f1_m: 0.8029 - val_precision_m: 0.8376 - val_recall_m: 0.7712\n",
            "Epoch 104/200\n",
            "146/146 [==============================] - 1s 8ms/step - loss: 0.4773 - acc: 0.8111 - f1_m: 0.8024 - precision_m: 0.8383 - recall_m: 0.7697 - val_loss: 0.4726 - val_acc: 0.8127 - val_f1_m: 0.8028 - val_precision_m: 0.8388 - val_recall_m: 0.7698\n",
            "Epoch 105/200\n",
            "146/146 [==============================] - 1s 8ms/step - loss: 0.4764 - acc: 0.8115 - f1_m: 0.8027 - precision_m: 0.8382 - recall_m: 0.7704 - val_loss: 0.4716 - val_acc: 0.8141 - val_f1_m: 0.8028 - val_precision_m: 0.8376 - val_recall_m: 0.7709\n",
            "Epoch 106/200\n",
            "146/146 [==============================] - 1s 8ms/step - loss: 0.4756 - acc: 0.8114 - f1_m: 0.8031 - precision_m: 0.8389 - recall_m: 0.7705 - val_loss: 0.4709 - val_acc: 0.8135 - val_f1_m: 0.8041 - val_precision_m: 0.8399 - val_recall_m: 0.7714\n",
            "Epoch 107/200\n",
            "146/146 [==============================] - 1s 8ms/step - loss: 0.4747 - acc: 0.8114 - f1_m: 0.8032 - precision_m: 0.8387 - recall_m: 0.7710 - val_loss: 0.4701 - val_acc: 0.8133 - val_f1_m: 0.8048 - val_precision_m: 0.8398 - val_recall_m: 0.7728\n",
            "Epoch 108/200\n",
            "146/146 [==============================] - 1s 7ms/step - loss: 0.4739 - acc: 0.8115 - f1_m: 0.8032 - precision_m: 0.8393 - recall_m: 0.7704 - val_loss: 0.4693 - val_acc: 0.8127 - val_f1_m: 0.8055 - val_precision_m: 0.8409 - val_recall_m: 0.7731\n",
            "Epoch 109/200\n",
            "146/146 [==============================] - 1s 8ms/step - loss: 0.4731 - acc: 0.8120 - f1_m: 0.8039 - precision_m: 0.8397 - recall_m: 0.7714 - val_loss: 0.4687 - val_acc: 0.8160 - val_f1_m: 0.8045 - val_precision_m: 0.8389 - val_recall_m: 0.7731\n",
            "Epoch 110/200\n",
            "146/146 [==============================] - 1s 7ms/step - loss: 0.4723 - acc: 0.8116 - f1_m: 0.8041 - precision_m: 0.8395 - recall_m: 0.7719 - val_loss: 0.4680 - val_acc: 0.8160 - val_f1_m: 0.8046 - val_precision_m: 0.8393 - val_recall_m: 0.7728\n",
            "Epoch 111/200\n",
            "146/146 [==============================] - 1s 8ms/step - loss: 0.4715 - acc: 0.8120 - f1_m: 0.8049 - precision_m: 0.8403 - recall_m: 0.7728 - val_loss: 0.4675 - val_acc: 0.8155 - val_f1_m: 0.8060 - val_precision_m: 0.8402 - val_recall_m: 0.7747\n",
            "Epoch 112/200\n",
            "146/146 [==============================] - 1s 8ms/step - loss: 0.4707 - acc: 0.8127 - f1_m: 0.8057 - precision_m: 0.8409 - recall_m: 0.7735 - val_loss: 0.4667 - val_acc: 0.8157 - val_f1_m: 0.8063 - val_precision_m: 0.8412 - val_recall_m: 0.7745\n",
            "Epoch 113/200\n",
            "146/146 [==============================] - 1s 9ms/step - loss: 0.4700 - acc: 0.8133 - f1_m: 0.8056 - precision_m: 0.8410 - recall_m: 0.7735 - val_loss: 0.4660 - val_acc: 0.8174 - val_f1_m: 0.8067 - val_precision_m: 0.8413 - val_recall_m: 0.7750\n",
            "Epoch 114/200\n",
            "146/146 [==============================] - 1s 8ms/step - loss: 0.4691 - acc: 0.8122 - f1_m: 0.8061 - precision_m: 0.8413 - recall_m: 0.7741 - val_loss: 0.4653 - val_acc: 0.8177 - val_f1_m: 0.8061 - val_precision_m: 0.8411 - val_recall_m: 0.7742\n",
            "Epoch 115/200\n",
            "146/146 [==============================] - 1s 8ms/step - loss: 0.4684 - acc: 0.8133 - f1_m: 0.8067 - precision_m: 0.8411 - recall_m: 0.7754 - val_loss: 0.4647 - val_acc: 0.8182 - val_f1_m: 0.8070 - val_precision_m: 0.8411 - val_recall_m: 0.7758\n",
            "Epoch 116/200\n",
            "146/146 [==============================] - 1s 7ms/step - loss: 0.4677 - acc: 0.8129 - f1_m: 0.8068 - precision_m: 0.8415 - recall_m: 0.7752 - val_loss: 0.4643 - val_acc: 0.8171 - val_f1_m: 0.8081 - val_precision_m: 0.8427 - val_recall_m: 0.7764\n",
            "Epoch 117/200\n",
            "146/146 [==============================] - 1s 8ms/step - loss: 0.4669 - acc: 0.8144 - f1_m: 0.8078 - precision_m: 0.8423 - recall_m: 0.7763 - val_loss: 0.4637 - val_acc: 0.8182 - val_f1_m: 0.8086 - val_precision_m: 0.8429 - val_recall_m: 0.7772\n",
            "Epoch 118/200\n",
            "146/146 [==============================] - 1s 8ms/step - loss: 0.4662 - acc: 0.8144 - f1_m: 0.8078 - precision_m: 0.8422 - recall_m: 0.7765 - val_loss: 0.4628 - val_acc: 0.8179 - val_f1_m: 0.8085 - val_precision_m: 0.8423 - val_recall_m: 0.7775\n",
            "Epoch 119/200\n",
            "146/146 [==============================] - 1s 7ms/step - loss: 0.4655 - acc: 0.8144 - f1_m: 0.8087 - precision_m: 0.8429 - recall_m: 0.7775 - val_loss: 0.4623 - val_acc: 0.8168 - val_f1_m: 0.8095 - val_precision_m: 0.8433 - val_recall_m: 0.7785\n",
            "Epoch 120/200\n",
            "146/146 [==============================] - 1s 8ms/step - loss: 0.4649 - acc: 0.8142 - f1_m: 0.8086 - precision_m: 0.8425 - recall_m: 0.7776 - val_loss: 0.4619 - val_acc: 0.8177 - val_f1_m: 0.8099 - val_precision_m: 0.8438 - val_recall_m: 0.7788\n",
            "Epoch 121/200\n",
            "146/146 [==============================] - 1s 8ms/step - loss: 0.4642 - acc: 0.8147 - f1_m: 0.8086 - precision_m: 0.8429 - recall_m: 0.7773 - val_loss: 0.4610 - val_acc: 0.8163 - val_f1_m: 0.8095 - val_precision_m: 0.8432 - val_recall_m: 0.7785\n",
            "Epoch 122/200\n",
            "146/146 [==============================] - 1s 7ms/step - loss: 0.4634 - acc: 0.8150 - f1_m: 0.8097 - precision_m: 0.8434 - recall_m: 0.7789 - val_loss: 0.4608 - val_acc: 0.8179 - val_f1_m: 0.8106 - val_precision_m: 0.8444 - val_recall_m: 0.7796\n",
            "Epoch 123/200\n",
            "146/146 [==============================] - 1s 8ms/step - loss: 0.4628 - acc: 0.8150 - f1_m: 0.8097 - precision_m: 0.8439 - recall_m: 0.7785 - val_loss: 0.4604 - val_acc: 0.8188 - val_f1_m: 0.8103 - val_precision_m: 0.8443 - val_recall_m: 0.7791\n",
            "Epoch 124/200\n",
            "146/146 [==============================] - 1s 8ms/step - loss: 0.4622 - acc: 0.8152 - f1_m: 0.8096 - precision_m: 0.8433 - recall_m: 0.7787 - val_loss: 0.4595 - val_acc: 0.8185 - val_f1_m: 0.8117 - val_precision_m: 0.8451 - val_recall_m: 0.7810\n",
            "Epoch 125/200\n",
            "146/146 [==============================] - 1s 8ms/step - loss: 0.4616 - acc: 0.8155 - f1_m: 0.8099 - precision_m: 0.8436 - recall_m: 0.7792 - val_loss: 0.4590 - val_acc: 0.8185 - val_f1_m: 0.8116 - val_precision_m: 0.8455 - val_recall_m: 0.7804\n",
            "Epoch 126/200\n",
            "146/146 [==============================] - 1s 8ms/step - loss: 0.4609 - acc: 0.8157 - f1_m: 0.8103 - precision_m: 0.8439 - recall_m: 0.7795 - val_loss: 0.4586 - val_acc: 0.8188 - val_f1_m: 0.8117 - val_precision_m: 0.8449 - val_recall_m: 0.7812\n",
            "Epoch 127/200\n",
            "146/146 [==============================] - 1s 8ms/step - loss: 0.4603 - acc: 0.8159 - f1_m: 0.8105 - precision_m: 0.8436 - recall_m: 0.7802 - val_loss: 0.4583 - val_acc: 0.8199 - val_f1_m: 0.8115 - val_precision_m: 0.8450 - val_recall_m: 0.7807\n",
            "Epoch 128/200\n",
            "146/146 [==============================] - 1s 8ms/step - loss: 0.4597 - acc: 0.8169 - f1_m: 0.8116 - precision_m: 0.8449 - recall_m: 0.7812 - val_loss: 0.4578 - val_acc: 0.8199 - val_f1_m: 0.8117 - val_precision_m: 0.8449 - val_recall_m: 0.7812\n",
            "Epoch 129/200\n",
            "146/146 [==============================] - 1s 8ms/step - loss: 0.4590 - acc: 0.8167 - f1_m: 0.8114 - precision_m: 0.8447 - recall_m: 0.7809 - val_loss: 0.4575 - val_acc: 0.8199 - val_f1_m: 0.8123 - val_precision_m: 0.8455 - val_recall_m: 0.7818\n",
            "Epoch 130/200\n",
            "146/146 [==============================] - 1s 8ms/step - loss: 0.4584 - acc: 0.8170 - f1_m: 0.8123 - precision_m: 0.8454 - recall_m: 0.7821 - val_loss: 0.4566 - val_acc: 0.8196 - val_f1_m: 0.8134 - val_precision_m: 0.8460 - val_recall_m: 0.7834\n",
            "Epoch 131/200\n",
            "146/146 [==============================] - 1s 8ms/step - loss: 0.4578 - acc: 0.8170 - f1_m: 0.8120 - precision_m: 0.8449 - recall_m: 0.7818 - val_loss: 0.4561 - val_acc: 0.8201 - val_f1_m: 0.8133 - val_precision_m: 0.8464 - val_recall_m: 0.7829\n",
            "Epoch 132/200\n",
            "146/146 [==============================] - 1s 8ms/step - loss: 0.4572 - acc: 0.8172 - f1_m: 0.8119 - precision_m: 0.8444 - recall_m: 0.7822 - val_loss: 0.4560 - val_acc: 0.8204 - val_f1_m: 0.8130 - val_precision_m: 0.8457 - val_recall_m: 0.7829\n",
            "Epoch 133/200\n",
            "146/146 [==============================] - 1s 8ms/step - loss: 0.4567 - acc: 0.8175 - f1_m: 0.8120 - precision_m: 0.8442 - recall_m: 0.7824 - val_loss: 0.4554 - val_acc: 0.8204 - val_f1_m: 0.8137 - val_precision_m: 0.8463 - val_recall_m: 0.7837\n",
            "Epoch 134/200\n",
            "146/146 [==============================] - 1s 8ms/step - loss: 0.4561 - acc: 0.8172 - f1_m: 0.8126 - precision_m: 0.8452 - recall_m: 0.7827 - val_loss: 0.4549 - val_acc: 0.8196 - val_f1_m: 0.8139 - val_precision_m: 0.8464 - val_recall_m: 0.7839\n",
            "Epoch 135/200\n",
            "146/146 [==============================] - 1s 8ms/step - loss: 0.4555 - acc: 0.8174 - f1_m: 0.8127 - precision_m: 0.8450 - recall_m: 0.7830 - val_loss: 0.4544 - val_acc: 0.8190 - val_f1_m: 0.8141 - val_precision_m: 0.8469 - val_recall_m: 0.7839\n",
            "Epoch 136/200\n",
            "146/146 [==============================] - 1s 8ms/step - loss: 0.4550 - acc: 0.8179 - f1_m: 0.8125 - precision_m: 0.8443 - recall_m: 0.7833 - val_loss: 0.4541 - val_acc: 0.8204 - val_f1_m: 0.8135 - val_precision_m: 0.8459 - val_recall_m: 0.7837\n",
            "Epoch 137/200\n",
            "146/146 [==============================] - 1s 7ms/step - loss: 0.4544 - acc: 0.8187 - f1_m: 0.8134 - precision_m: 0.8454 - recall_m: 0.7841 - val_loss: 0.4535 - val_acc: 0.8201 - val_f1_m: 0.8135 - val_precision_m: 0.8464 - val_recall_m: 0.7834\n",
            "Epoch 138/200\n",
            "146/146 [==============================] - 1s 8ms/step - loss: 0.4539 - acc: 0.8188 - f1_m: 0.8127 - precision_m: 0.8447 - recall_m: 0.7833 - val_loss: 0.4538 - val_acc: 0.8207 - val_f1_m: 0.8142 - val_precision_m: 0.8458 - val_recall_m: 0.7850\n",
            "Epoch 00138: early stopping\n"
          ],
          "name": "stdout"
        }
      ]
    },
    {
      "cell_type": "code",
      "metadata": {
        "id": "e2DeaQvcSovr",
        "colab_type": "code",
        "colab": {
          "base_uri": "https://localhost:8080/",
          "height": 541
        },
        "outputId": "4af75e85-80e0-4bc9-ac31-e3eb4236345c"
      },
      "source": [
        "plot_graphs(history_bi_ft, \"acc\")\n",
        "plot_graphs(history_bi_ft, \"loss\")  "
      ],
      "execution_count": 46,
      "outputs": [
        {
          "output_type": "display_data",
          "data": {
            "image/png": "[encoded data removed]",
            "text/plain": [
              "<Figure size 432x288 with 1 Axes>"
            ]
          },
          "metadata": {
            "tags": [],
            "needs_background": "light"
          }
        },
        {
          "output_type": "display_data",
          "data": {
            "image/png": "[encoded data removed]",
            "text/plain": [
              "<Figure size 432x288 with 1 Axes>"
            ]
          },
          "metadata": {
            "tags": [],
            "needs_background": "light"
          }
        }
      ]
    },
    {
      "cell_type": "markdown",
      "metadata": {
        "id": "pwzoX9O5TNK5",
        "colab_type": "text"
      },
      "source": [
        "## Result\n"
      ]
    },
    {
      "cell_type": "code",
      "metadata": {
        "id": "yh8y-thLS72b",
        "colab_type": "code",
        "colab": {
          "base_uri": "https://localhost:8080/",
          "height": 632
        },
        "outputId": "05839e5e-5af6-4e46-ae49-f18316476550"
      },
      "source": [
        "custom_evaluate(model_bi_ft,X1_test,Y1_test)\n",
        "custom_evaluate(model_bi_ft,X2_test,Y2_test)\n",
        "custom_evaluate(model_bi_ft,X3_test,Y3_test)\n",
        "custom_evaluate(model_bi_ft,X4_test,Y4_test)\n",
        "custom_evaluate(model_bi_ft,X5_test,Y5_test)"
      ],
      "execution_count": 47,
      "outputs": [
        {
          "output_type": "stream",
          "text": [
            "-------------------------------------\n",
            "#######################################################\n",
            "F1        : 0.8124290108680725\n",
            "Precision : 0.8381474614143372\n",
            "Recall    : 0.788876473903656\n",
            "Accuracy  : 0.8243513107299805\n",
            "#######################################################\n",
            "-------------------------------------\n",
            "#######################################################\n",
            "F1        : 0.8409782648086548\n",
            "Precision : 0.8656672239303589\n",
            "Recall    : 0.818173348903656\n",
            "Accuracy  : 0.8483033776283264\n",
            "#######################################################\n",
            "-------------------------------------\n",
            "#######################################################\n",
            "F1        : 0.8048156499862671\n",
            "Precision : 0.8374950885772705\n",
            "Recall    : 0.7752976417541504\n",
            "Accuracy  : 0.802395224571228\n",
            "#######################################################\n",
            "-------------------------------------\n",
            "#######################################################\n",
            "F1        : 0.7958805561065674\n",
            "Precision : 0.82383793592453\n",
            "Recall    : 0.7702752947807312\n",
            "Accuracy  : 0.796407163143158\n",
            "#######################################################\n",
            "-------------------------------------\n",
            "#######################################################\n",
            "F1        : 0.828315258026123\n",
            "Precision : 0.8573806881904602\n",
            "Recall    : 0.8016182780265808\n",
            "Accuracy  : 0.826347291469574\n",
            "#######################################################\n"
          ],
          "name": "stdout"
        }
      ]
    },
    {
      "cell_type": "markdown",
      "metadata": {
        "id": "UAJ2OaVGAWiO",
        "colab_type": "text"
      },
      "source": [
        "# Transformer Custom with Fasttext emb\n",
        "    "
      ]
    },
    {
      "cell_type": "code",
      "metadata": {
        "id": "gEObZJ8jAah-",
        "colab_type": "code",
        "colab": {}
      },
      "source": [
        "import tensorflow as tf\n",
        "from tensorflow import keras\n",
        "from tensorflow.keras import layers\n",
        "from tensorflow.keras import optimizers as tfopt\n",
        "\n",
        "class MultiHeadSelfAttention(layers.Layer):\n",
        "    def __init__(self, embed_dim, num_heads=8):\n",
        "        super(MultiHeadSelfAttention, self).__init__()\n",
        "        self.embed_dim = embed_dim\n",
        "        self.num_heads = num_heads\n",
        "        if embed_dim % num_heads != 0:\n",
        "            raise ValueError(\n",
        "                f\"embedding dimension = {embed_dim} should be divisible by number of heads = {num_heads}\"\n",
        "            )\n",
        "        self.projection_dim = embed_dim // num_heads\n",
        "        self.query_dense = layers.Dense(embed_dim)\n",
        "        self.key_dense = layers.Dense(embed_dim)\n",
        "        self.value_dense = layers.Dense(embed_dim)\n",
        "        self.combine_heads = layers.Dense(embed_dim)\n",
        "\n",
        "    def attention(self, query, key, value):\n",
        "        score = tf.matmul(query, key, transpose_b=True)\n",
        "        dim_key = tf.cast(tf.shape(key)[-1], tf.float32)\n",
        "        scaled_score = score / tf.math.sqrt(dim_key)\n",
        "        weights = tf.nn.softmax(scaled_score, axis=-1)\n",
        "        output = tf.matmul(weights, value)\n",
        "        return output, weights\n",
        "\n",
        "    def separate_heads(self, x, batch_size):\n",
        "        x = tf.reshape(x, (batch_size, -1, self.num_heads, self.projection_dim))\n",
        "        return tf.transpose(x, perm=[0, 2, 1, 3])\n",
        "\n",
        "    def call(self, inputs):\n",
        "        # x.shape = [batch_size, seq_len, embedding_dim]\n",
        "        batch_size = tf.shape(inputs)[0]\n",
        "        query = self.query_dense(inputs)  # (batch_size, seq_len, embed_dim)\n",
        "        key = self.key_dense(inputs)  # (batch_size, seq_len, embed_dim)\n",
        "        value = self.value_dense(inputs)  # (batch_size, seq_len, embed_dim)\n",
        "        query = self.separate_heads(\n",
        "            query, batch_size\n",
        "        )  # (batch_size, num_heads, seq_len, projection_dim)\n",
        "        key = self.separate_heads(\n",
        "            key, batch_size\n",
        "        )  # (batch_size, num_heads, seq_len, projection_dim)\n",
        "        value = self.separate_heads(\n",
        "            value, batch_size\n",
        "        )  # (batch_size, num_heads, seq_len, projection_dim)\n",
        "        attention, weights = self.attention(query, key, value)\n",
        "        attention = tf.transpose(\n",
        "            attention, perm=[0, 2, 1, 3]\n",
        "        )  # (batch_size, seq_len, num_heads, projection_dim)\n",
        "        concat_attention = tf.reshape(\n",
        "            attention, (batch_size, -1, self.embed_dim)\n",
        "        )  # (batch_size, seq_len, embed_dim)\n",
        "        output = self.combine_heads(\n",
        "            concat_attention\n",
        "        )  # (batch_size, seq_len, embed_dim)\n",
        "        return output\n",
        "\n",
        "class TransformerBlock(layers.Layer):\n",
        "    def __init__(self, embed_dim, num_heads, ff_dim, rate=0.1):\n",
        "        super(TransformerBlock, self).__init__()\n",
        "        self.att = MultiHeadSelfAttention(embed_dim, num_heads)\n",
        "        self.ffn = keras.Sequential(\n",
        "            [layers.Dense(ff_dim, activation=\"relu\"), layers.Dense(embed_dim),]\n",
        "        )\n",
        "        self.layernorm1 = layers.LayerNormalization(epsilon=1e-6)\n",
        "        self.layernorm2 = layers.LayerNormalization(epsilon=1e-6)\n",
        "        self.dropout1 = layers.Dropout(rate)\n",
        "        self.dropout2 = layers.Dropout(rate)\n",
        "\n",
        "    def call(self, inputs, training):\n",
        "        attn_output = self.att(inputs)\n",
        "        attn_output = self.dropout1(attn_output, training=training)\n",
        "        out1 = self.layernorm1(inputs + attn_output)\n",
        "        ffn_output = self.ffn(out1)\n",
        "        ffn_output = self.dropout2(ffn_output, training=training)\n",
        "        return self.layernorm2(out1 + ffn_output)\n",
        "\n",
        "#Two seperate embedding layers, one for tokens, one for token index (positions).\n",
        "\n",
        "class TokenAndPositionEmbedding(layers.Layer):\n",
        "    def __init__(self, maxlen, vocab_size, embed_dim):\n",
        "        super(TokenAndPositionEmbedding, self).__init__()\n",
        "        self.token_emb = layers.Embedding(input_dim=vocab_size, output_dim=embed_dim,  weights=[embedding_matrix],  trainable=False)\n",
        "        self.pos_emb = layers.Embedding(input_dim=maxlen, output_dim=embed_dim)\n",
        "\n",
        "    def call(self, x):\n",
        "        maxlen = tf.shape(x)[-1]\n",
        "        positions = tf.range(start=0, limit=maxlen, delta=1)\n",
        "        positions = self.pos_emb(positions)\n",
        "        x = self.token_emb(x)\n",
        "        return x + positions"
      ],
      "execution_count": null,
      "outputs": []
    },
    {
      "cell_type": "code",
      "metadata": {
        "id": "DS504bwHCiAe",
        "colab_type": "code",
        "colab": {}
      },
      "source": [
        "embed_dim = 300  # Embedding size for each token\n",
        "num_heads = 2  # Number of attention heads\n",
        "ff_dim = 32  # Hidden layer size in feed forward network inside transformer\n",
        "#keras.backend.clear_session()\n",
        "inputs = layers.Input(shape=(maxlen,))\n",
        "embedding_layer = TokenAndPositionEmbedding(maxlen, vocab_size, embed_dim)\n",
        "x = embedding_layer(inputs)\n",
        "transformer_block =  TransformerBlock(embed_dim, num_heads, ff_dim)\n",
        "x = transformer_block(x)\n",
        "x = layers.GlobalAveragePooling1D()(x)\n",
        "x = layers.Dropout(0.20)(x)\n",
        "x = layers.Dense(20, activation=\"softmax\")(x)\n",
        "x = layers.Dropout(0.1)(x)\n",
        "outputs = layers.Dense(3, activation=\"softmax\")(x)\n",
        "\n",
        "model_transformer_ft = keras.Model(inputs=inputs, outputs=outputs)"
      ],
      "execution_count": null,
      "outputs": []
    },
    {
      "cell_type": "markdown",
      "metadata": {
        "id": "As-KWD3DmtvD",
        "colab_type": "text"
      },
      "source": [
        "## Result"
      ]
    },
    {
      "cell_type": "code",
      "metadata": {
        "id": "H8dbKZN5C2Hr",
        "colab_type": "code",
        "colab": {
          "base_uri": "https://localhost:8080/",
          "height": 1000
        },
        "outputId": "c55a4a56-a221-47f7-bcfd-422894aee973"
      },
      "source": [
        "with tf.device('/device:GPU:0'):\n",
        "  optimizer_t = tfopt.Adam(learning_rate=1e-5)\n",
        "  model_transformer_ft.compile(loss=\"categorical_crossentropy\", optimizer=optimizer_t,  metrics=['acc',f1_m,precision_m, recall_m]\n",
        ")\n",
        "  model_transformer_ft.summary()  \n",
        "  history_transformer_ft = model_transformer_ft.fit(\n",
        "      X_train, Y_train, batch_size=100, epochs=200, validation_data=(X_test, Y_test)\n",
        "  )"
      ],
      "execution_count": null,
      "outputs": [
        {
          "output_type": "stream",
          "text": [
            "Model: \"functional_3\"\n",
            "_________________________________________________________________\n",
            "Layer (type)                 Output Shape              Param #   \n",
            "=================================================================\n",
            "input_7 (InputLayer)         [(None, 12)]              0         \n",
            "_________________________________________________________________\n",
            "token_and_position_embedding (None, 12, 300)           4503600   \n",
            "_________________________________________________________________\n",
            "transformer_block_6 (Transfo (None, 12, 300)           381932    \n",
            "_________________________________________________________________\n",
            "global_average_pooling1d_1 ( (None, 300)               0         \n",
            "_________________________________________________________________\n",
            "dropout_16 (Dropout)         (None, 300)               0         \n",
            "_________________________________________________________________\n",
            "dense_68 (Dense)             (None, 20)                6020      \n",
            "_________________________________________________________________\n",
            "dropout_17 (Dropout)         (None, 20)                0         \n",
            "_________________________________________________________________\n",
            "dense_69 (Dense)             (None, 3)                 63        \n",
            "=================================================================\n",
            "Total params: 4,891,615\n",
            "Trainable params: 391,615\n",
            "Non-trainable params: 4,500,000\n",
            "_________________________________________________________________\n",
            "Epoch 1/200\n",
            "146/146 [==============================] - 2s 13ms/step - loss: 0.8894 - acc: 0.6167 - f1_m: 0.3539 - precision_m: 0.8826 - recall_m: 0.2224 - val_loss: 0.8837 - val_acc: 0.6531 - val_f1_m: 0.0000e+00 - val_precision_m: 0.0000e+00 - val_recall_m: 0.0000e+00\n",
            "Epoch 2/200\n",
            "146/146 [==============================] - 1s 10ms/step - loss: 0.8853 - acc: 0.6405 - f1_m: 0.3407 - precision_m: 0.9079 - recall_m: 0.2111 - val_loss: 0.8780 - val_acc: 0.6849 - val_f1_m: 0.0000e+00 - val_precision_m: 0.0000e+00 - val_recall_m: 0.0000e+00\n",
            "Epoch 3/200\n",
            "146/146 [==============================] - 1s 10ms/step - loss: 0.8782 - acc: 0.6912 - f1_m: 0.3193 - precision_m: 0.9309 - recall_m: 0.1938 - val_loss: 0.8706 - val_acc: 0.7409 - val_f1_m: 0.0000e+00 - val_precision_m: 0.0000e+00 - val_recall_m: 0.0000e+00\n",
            "Epoch 4/200\n",
            "146/146 [==============================] - 1s 10ms/step - loss: 0.8745 - acc: 0.7080 - f1_m: 0.3246 - precision_m: 0.9313 - recall_m: 0.1977 - val_loss: 0.8653 - val_acc: 0.7532 - val_f1_m: 0.0000e+00 - val_precision_m: 0.0000e+00 - val_recall_m: 0.0000e+00\n",
            "Epoch 5/200\n",
            "146/146 [==============================] - 2s 10ms/step - loss: 0.8697 - acc: 0.7121 - f1_m: 0.3321 - precision_m: 0.9221 - recall_m: 0.2038 - val_loss: 0.8613 - val_acc: 0.7625 - val_f1_m: 0.2374 - val_precision_m: 0.9874 - val_recall_m: 0.1363\n",
            "Epoch 6/200\n",
            "146/146 [==============================] - 1s 10ms/step - loss: 0.8673 - acc: 0.7252 - f1_m: 0.3356 - precision_m: 0.9209 - recall_m: 0.2067 - val_loss: 0.8578 - val_acc: 0.7749 - val_f1_m: 0.2790 - val_precision_m: 0.9676 - val_recall_m: 0.1644\n",
            "Epoch 7/200\n",
            "146/146 [==============================] - 1s 10ms/step - loss: 0.8634 - acc: 0.7283 - f1_m: 0.3445 - precision_m: 0.9164 - recall_m: 0.2136 - val_loss: 0.8545 - val_acc: 0.7842 - val_f1_m: 0.3027 - val_precision_m: 0.9599 - val_recall_m: 0.1815\n",
            "Epoch 8/200\n",
            "146/146 [==============================] - 2s 10ms/step - loss: 0.8597 - acc: 0.7390 - f1_m: 0.3476 - precision_m: 0.9133 - recall_m: 0.2160 - val_loss: 0.8518 - val_acc: 0.7795 - val_f1_m: 0.3403 - val_precision_m: 0.9443 - val_recall_m: 0.2096\n",
            "Epoch 9/200\n",
            "146/146 [==============================] - 2s 10ms/step - loss: 0.8569 - acc: 0.7422 - f1_m: 0.3555 - precision_m: 0.9059 - recall_m: 0.2226 - val_loss: 0.8493 - val_acc: 0.7930 - val_f1_m: 0.3318 - val_precision_m: 0.9496 - val_recall_m: 0.2031\n",
            "Epoch 10/200\n",
            "146/146 [==============================] - 1s 10ms/step - loss: 0.8546 - acc: 0.7429 - f1_m: 0.3544 - precision_m: 0.9091 - recall_m: 0.2216 - val_loss: 0.8462 - val_acc: 0.7982 - val_f1_m: 0.3509 - val_precision_m: 0.9413 - val_recall_m: 0.2177\n",
            "Epoch 11/200\n",
            "146/146 [==============================] - 1s 10ms/step - loss: 0.8520 - acc: 0.7481 - f1_m: 0.3640 - precision_m: 0.9059 - recall_m: 0.2291 - val_loss: 0.8443 - val_acc: 0.7990 - val_f1_m: 0.3548 - val_precision_m: 0.9415 - val_recall_m: 0.2207\n",
            "Epoch 12/200\n",
            "146/146 [==============================] - 1s 10ms/step - loss: 0.8511 - acc: 0.7508 - f1_m: 0.3616 - precision_m: 0.9059 - recall_m: 0.2270 - val_loss: 0.8419 - val_acc: 0.7993 - val_f1_m: 0.3751 - val_precision_m: 0.9351 - val_recall_m: 0.2367\n",
            "Epoch 13/200\n",
            "146/146 [==============================] - 2s 10ms/step - loss: 0.8482 - acc: 0.7516 - f1_m: 0.3662 - precision_m: 0.9032 - recall_m: 0.2312 - val_loss: 0.8398 - val_acc: 0.8056 - val_f1_m: 0.3729 - val_precision_m: 0.9352 - val_recall_m: 0.2351\n",
            "Epoch 14/200\n",
            "146/146 [==============================] - 2s 10ms/step - loss: 0.8464 - acc: 0.7538 - f1_m: 0.3691 - precision_m: 0.8982 - recall_m: 0.2336 - val_loss: 0.8384 - val_acc: 0.8015 - val_f1_m: 0.3824 - val_precision_m: 0.9299 - val_recall_m: 0.2427\n",
            "Epoch 15/200\n",
            "146/146 [==============================] - 2s 10ms/step - loss: 0.8439 - acc: 0.7523 - f1_m: 0.3726 - precision_m: 0.9009 - recall_m: 0.2362 - val_loss: 0.8366 - val_acc: 0.8094 - val_f1_m: 0.3754 - val_precision_m: 0.9359 - val_recall_m: 0.2370\n",
            "Epoch 16/200\n",
            "146/146 [==============================] - 1s 10ms/step - loss: 0.8412 - acc: 0.7582 - f1_m: 0.3733 - precision_m: 0.9013 - recall_m: 0.2366 - val_loss: 0.8351 - val_acc: 0.8111 - val_f1_m: 0.3781 - val_precision_m: 0.9329 - val_recall_m: 0.2392\n",
            "Epoch 17/200\n",
            "146/146 [==============================] - 2s 10ms/step - loss: 0.8407 - acc: 0.7547 - f1_m: 0.3755 - precision_m: 0.9024 - recall_m: 0.2387 - val_loss: 0.8332 - val_acc: 0.8070 - val_f1_m: 0.4110 - val_precision_m: 0.9031 - val_recall_m: 0.2673\n",
            "Epoch 18/200\n",
            "146/146 [==============================] - 1s 10ms/step - loss: 0.8379 - acc: 0.7606 - f1_m: 0.3757 - precision_m: 0.8966 - recall_m: 0.2390 - val_loss: 0.8311 - val_acc: 0.8086 - val_f1_m: 0.4033 - val_precision_m: 0.9187 - val_recall_m: 0.2600\n",
            "Epoch 19/200\n",
            "146/146 [==============================] - 1s 10ms/step - loss: 0.8372 - acc: 0.7599 - f1_m: 0.3780 - precision_m: 0.8958 - recall_m: 0.2411 - val_loss: 0.8291 - val_acc: 0.8141 - val_f1_m: 0.4052 - val_precision_m: 0.9110 - val_recall_m: 0.2622\n",
            "Epoch 20/200\n",
            "146/146 [==============================] - 2s 10ms/step - loss: 0.8351 - acc: 0.7623 - f1_m: 0.3786 - precision_m: 0.8932 - recall_m: 0.2418 - val_loss: 0.8275 - val_acc: 0.8152 - val_f1_m: 0.4037 - val_precision_m: 0.9130 - val_recall_m: 0.2608\n",
            "Epoch 21/200\n",
            "146/146 [==============================] - 2s 10ms/step - loss: 0.8331 - acc: 0.7628 - f1_m: 0.3802 - precision_m: 0.8919 - recall_m: 0.2432 - val_loss: 0.8260 - val_acc: 0.8157 - val_f1_m: 0.4053 - val_precision_m: 0.9116 - val_recall_m: 0.2622\n",
            "Epoch 22/200\n",
            "146/146 [==============================] - 1s 10ms/step - loss: 0.8313 - acc: 0.7611 - f1_m: 0.3853 - precision_m: 0.8905 - recall_m: 0.2471 - val_loss: 0.8246 - val_acc: 0.8157 - val_f1_m: 0.4082 - val_precision_m: 0.9109 - val_recall_m: 0.2646\n",
            "Epoch 23/200\n",
            "146/146 [==============================] - 1s 10ms/step - loss: 0.8300 - acc: 0.7683 - f1_m: 0.3801 - precision_m: 0.8880 - recall_m: 0.2434 - val_loss: 0.8231 - val_acc: 0.8141 - val_f1_m: 0.4131 - val_precision_m: 0.9027 - val_recall_m: 0.2692\n",
            "Epoch 24/200\n",
            "146/146 [==============================] - 1s 10ms/step - loss: 0.8278 - acc: 0.7661 - f1_m: 0.3870 - precision_m: 0.8894 - recall_m: 0.2487 - val_loss: 0.8216 - val_acc: 0.8168 - val_f1_m: 0.4095 - val_precision_m: 0.9076 - val_recall_m: 0.2660\n",
            "Epoch 25/200\n",
            "146/146 [==============================] - 1s 10ms/step - loss: 0.8276 - acc: 0.7668 - f1_m: 0.3840 - precision_m: 0.8907 - recall_m: 0.2468 - val_loss: 0.8202 - val_acc: 0.8166 - val_f1_m: 0.4177 - val_precision_m: 0.8938 - val_recall_m: 0.2738\n",
            "Epoch 26/200\n",
            "146/146 [==============================] - 1s 10ms/step - loss: 0.8267 - acc: 0.7646 - f1_m: 0.3860 - precision_m: 0.8880 - recall_m: 0.2479 - val_loss: 0.8188 - val_acc: 0.8171 - val_f1_m: 0.4186 - val_precision_m: 0.8939 - val_recall_m: 0.2746\n",
            "Epoch 27/200\n",
            "146/146 [==============================] - 1s 10ms/step - loss: 0.8244 - acc: 0.7684 - f1_m: 0.3861 - precision_m: 0.8845 - recall_m: 0.2484 - val_loss: 0.8177 - val_acc: 0.8166 - val_f1_m: 0.4201 - val_precision_m: 0.8930 - val_recall_m: 0.2760\n",
            "Epoch 28/200\n",
            "146/146 [==============================] - 1s 10ms/step - loss: 0.8215 - acc: 0.7726 - f1_m: 0.3901 - precision_m: 0.8883 - recall_m: 0.2514 - val_loss: 0.8163 - val_acc: 0.8177 - val_f1_m: 0.4203 - val_precision_m: 0.8973 - val_recall_m: 0.2757\n",
            "Epoch 29/200\n",
            "146/146 [==============================] - 1s 10ms/step - loss: 0.8249 - acc: 0.7630 - f1_m: 0.3848 - precision_m: 0.8852 - recall_m: 0.2473 - val_loss: 0.8150 - val_acc: 0.8177 - val_f1_m: 0.4211 - val_precision_m: 0.8942 - val_recall_m: 0.2768\n",
            "Epoch 30/200\n",
            "146/146 [==============================] - 1s 10ms/step - loss: 0.8207 - acc: 0.7715 - f1_m: 0.3868 - precision_m: 0.8799 - recall_m: 0.2494 - val_loss: 0.8152 - val_acc: 0.8185 - val_f1_m: 0.4141 - val_precision_m: 0.9034 - val_recall_m: 0.2700\n",
            "Epoch 31/200\n",
            "146/146 [==============================] - 1s 10ms/step - loss: 0.8195 - acc: 0.7732 - f1_m: 0.4499 - precision_m: 0.8961 - recall_m: 0.3044 - val_loss: 0.8126 - val_acc: 0.8231 - val_f1_m: 0.4173 - val_precision_m: 0.9000 - val_recall_m: 0.2730\n",
            "Epoch 32/200\n",
            "146/146 [==============================] - 1s 10ms/step - loss: 0.8183 - acc: 0.7740 - f1_m: 0.5578 - precision_m: 0.9109 - recall_m: 0.4040 - val_loss: 0.8116 - val_acc: 0.8199 - val_f1_m: 0.4188 - val_precision_m: 0.8995 - val_recall_m: 0.2743\n",
            "Epoch 33/200\n",
            "146/146 [==============================] - 1s 10ms/step - loss: 0.8160 - acc: 0.7727 - f1_m: 0.5736 - precision_m: 0.9049 - recall_m: 0.4212 - val_loss: 0.8106 - val_acc: 0.8215 - val_f1_m: 0.4182 - val_precision_m: 0.9002 - val_recall_m: 0.2738\n",
            "Epoch 34/200\n",
            "146/146 [==============================] - 2s 10ms/step - loss: 0.8136 - acc: 0.7773 - f1_m: 0.5851 - precision_m: 0.9017 - recall_m: 0.4345 - val_loss: 0.8116 - val_acc: 0.8215 - val_f1_m: 0.4061 - val_precision_m: 0.9192 - val_recall_m: 0.2622\n",
            "Epoch 35/200\n",
            "146/146 [==============================] - 1s 10ms/step - loss: 0.8133 - acc: 0.7739 - f1_m: 0.5882 - precision_m: 0.9044 - recall_m: 0.4374 - val_loss: 0.8075 - val_acc: 0.8212 - val_f1_m: 0.4310 - val_precision_m: 0.8764 - val_recall_m: 0.2873\n",
            "Epoch 36/200\n",
            "146/146 [==============================] - 2s 11ms/step - loss: 0.8143 - acc: 0.7704 - f1_m: 0.5902 - precision_m: 0.8957 - recall_m: 0.4417 - val_loss: 0.8063 - val_acc: 0.8248 - val_f1_m: 0.4241 - val_precision_m: 0.8936 - val_recall_m: 0.2795\n",
            "Epoch 37/200\n",
            "146/146 [==============================] - 1s 10ms/step - loss: 0.8140 - acc: 0.7686 - f1_m: 0.5910 - precision_m: 0.8951 - recall_m: 0.4426 - val_loss: 0.8055 - val_acc: 0.8248 - val_f1_m: 0.4223 - val_precision_m: 0.8974 - val_recall_m: 0.2776\n",
            "Epoch 38/200\n",
            "146/146 [==============================] - 2s 10ms/step - loss: 0.8100 - acc: 0.7752 - f1_m: 0.5973 - precision_m: 0.8956 - recall_m: 0.4493 - val_loss: 0.8047 - val_acc: 0.8196 - val_f1_m: 0.4254 - val_precision_m: 0.8924 - val_recall_m: 0.2808\n",
            "Epoch 39/200\n",
            "146/146 [==============================] - 2s 11ms/step - loss: 0.8082 - acc: 0.7764 - f1_m: 0.6042 - precision_m: 0.8933 - recall_m: 0.4575 - val_loss: 0.8031 - val_acc: 0.8220 - val_f1_m: 0.4301 - val_precision_m: 0.8817 - val_recall_m: 0.2860\n",
            "Epoch 40/200\n",
            "146/146 [==============================] - 2s 11ms/step - loss: 0.8077 - acc: 0.7755 - f1_m: 0.6066 - precision_m: 0.8916 - recall_m: 0.4611 - val_loss: 0.8016 - val_acc: 0.8259 - val_f1_m: 0.4245 - val_precision_m: 0.8945 - val_recall_m: 0.2797\n",
            "Epoch 41/200\n",
            "146/146 [==============================] - 2s 11ms/step - loss: 0.8070 - acc: 0.7772 - f1_m: 0.6039 - precision_m: 0.8933 - recall_m: 0.4578 - val_loss: 0.8009 - val_acc: 0.8226 - val_f1_m: 0.4263 - val_precision_m: 0.8895 - val_recall_m: 0.2819\n",
            "Epoch 42/200\n",
            "146/146 [==============================] - 2s 11ms/step - loss: 0.8075 - acc: 0.7736 - f1_m: 0.6040 - precision_m: 0.8857 - recall_m: 0.4596 - val_loss: 0.8000 - val_acc: 0.8245 - val_f1_m: 0.4229 - val_precision_m: 0.8969 - val_recall_m: 0.2781\n",
            "Epoch 43/200\n",
            "146/146 [==============================] - 2s 11ms/step - loss: 0.8032 - acc: 0.7784 - f1_m: 0.6110 - precision_m: 0.8893 - recall_m: 0.4667 - val_loss: 0.7996 - val_acc: 0.8223 - val_f1_m: 0.4229 - val_precision_m: 0.9002 - val_recall_m: 0.2778\n",
            "Epoch 44/200\n",
            "146/146 [==============================] - 2s 11ms/step - loss: 0.8040 - acc: 0.7787 - f1_m: 0.6087 - precision_m: 0.8881 - recall_m: 0.4645 - val_loss: 0.7989 - val_acc: 0.8201 - val_f1_m: 0.4243 - val_precision_m: 0.8989 - val_recall_m: 0.2792\n",
            "Epoch 45/200\n",
            "146/146 [==============================] - 2s 10ms/step - loss: 0.8025 - acc: 0.7775 - f1_m: 0.6134 - precision_m: 0.8893 - recall_m: 0.4696 - val_loss: 0.7962 - val_acc: 0.8256 - val_f1_m: 0.4312 - val_precision_m: 0.8733 - val_recall_m: 0.2878\n",
            "Epoch 46/200\n",
            "146/146 [==============================] - 1s 10ms/step - loss: 0.8025 - acc: 0.7791 - f1_m: 0.6112 - precision_m: 0.8841 - recall_m: 0.4684 - val_loss: 0.7962 - val_acc: 0.8212 - val_f1_m: 0.4252 - val_precision_m: 0.8954 - val_recall_m: 0.2803\n",
            "Epoch 47/200\n",
            "146/146 [==============================] - 1s 10ms/step - loss: 0.8007 - acc: 0.7758 - f1_m: 0.6141 - precision_m: 0.8834 - recall_m: 0.4721 - val_loss: 0.7948 - val_acc: 0.8204 - val_f1_m: 0.4279 - val_precision_m: 0.8866 - val_recall_m: 0.2835\n",
            "Epoch 48/200\n",
            "146/146 [==============================] - 1s 10ms/step - loss: 0.7988 - acc: 0.7763 - f1_m: 0.6168 - precision_m: 0.8832 - recall_m: 0.4753 - val_loss: 0.7928 - val_acc: 0.8262 - val_f1_m: 0.6240 - val_precision_m: 0.9111 - val_recall_m: 0.4760\n",
            "Epoch 49/200\n",
            "146/146 [==============================] - 1s 10ms/step - loss: 0.7995 - acc: 0.7768 - f1_m: 0.6170 - precision_m: 0.8832 - recall_m: 0.4759 - val_loss: 0.7919 - val_acc: 0.8259 - val_f1_m: 0.6393 - val_precision_m: 0.9103 - val_recall_m: 0.4940\n",
            "Epoch 50/200\n",
            "146/146 [==============================] - 1s 10ms/step - loss: 0.7972 - acc: 0.7787 - f1_m: 0.6183 - precision_m: 0.8857 - recall_m: 0.4763 - val_loss: 0.7910 - val_acc: 0.8234 - val_f1_m: 0.6494 - val_precision_m: 0.9082 - val_recall_m: 0.5067\n",
            "Epoch 51/200\n",
            "146/146 [==============================] - 2s 10ms/step - loss: 0.7941 - acc: 0.7778 - f1_m: 0.6206 - precision_m: 0.8850 - recall_m: 0.4792 - val_loss: 0.7913 - val_acc: 0.8212 - val_f1_m: 0.6621 - val_precision_m: 0.9075 - val_recall_m: 0.5224\n",
            "Epoch 52/200\n",
            "146/146 [==============================] - 1s 10ms/step - loss: 0.7943 - acc: 0.7815 - f1_m: 0.6215 - precision_m: 0.8817 - recall_m: 0.4811 - val_loss: 0.7891 - val_acc: 0.8251 - val_f1_m: 0.6604 - val_precision_m: 0.9080 - val_recall_m: 0.5202\n",
            "Epoch 53/200\n",
            "146/146 [==============================] - 1s 10ms/step - loss: 0.7921 - acc: 0.7814 - f1_m: 0.6236 - precision_m: 0.8831 - recall_m: 0.4833 - val_loss: 0.7888 - val_acc: 0.8251 - val_f1_m: 0.6641 - val_precision_m: 0.9079 - val_recall_m: 0.5248\n",
            "Epoch 54/200\n",
            "146/146 [==============================] - 1s 10ms/step - loss: 0.7923 - acc: 0.7816 - f1_m: 0.6199 - precision_m: 0.8820 - recall_m: 0.4795 - val_loss: 0.7869 - val_acc: 0.8248 - val_f1_m: 0.6668 - val_precision_m: 0.8924 - val_recall_m: 0.5337\n",
            "Epoch 55/200\n",
            "146/146 [==============================] - 1s 10ms/step - loss: 0.7909 - acc: 0.7822 - f1_m: 0.6230 - precision_m: 0.8819 - recall_m: 0.4834 - val_loss: 0.7857 - val_acc: 0.8256 - val_f1_m: 0.6669 - val_precision_m: 0.8927 - val_recall_m: 0.5337\n",
            "Epoch 56/200\n",
            "146/146 [==============================] - 1s 10ms/step - loss: 0.7890 - acc: 0.7841 - f1_m: 0.6260 - precision_m: 0.8801 - recall_m: 0.4871 - val_loss: 0.7852 - val_acc: 0.8264 - val_f1_m: 0.6699 - val_precision_m: 0.9017 - val_recall_m: 0.5343\n",
            "Epoch 57/200\n",
            "146/146 [==============================] - 1s 10ms/step - loss: 0.7893 - acc: 0.7811 - f1_m: 0.6237 - precision_m: 0.8773 - recall_m: 0.4855 - val_loss: 0.7831 - val_acc: 0.8289 - val_f1_m: 0.6639 - val_precision_m: 0.8973 - val_recall_m: 0.5283\n",
            "Epoch 58/200\n",
            "146/146 [==============================] - 2s 10ms/step - loss: 0.7859 - acc: 0.7848 - f1_m: 0.6252 - precision_m: 0.8773 - recall_m: 0.4870 - val_loss: 0.7826 - val_acc: 0.8273 - val_f1_m: 0.6724 - val_precision_m: 0.8931 - val_recall_m: 0.5408\n",
            "Epoch 59/200\n",
            "146/146 [==============================] - 1s 10ms/step - loss: 0.7877 - acc: 0.7819 - f1_m: 0.6253 - precision_m: 0.8816 - recall_m: 0.4859 - val_loss: 0.7817 - val_acc: 0.8281 - val_f1_m: 0.6741 - val_precision_m: 0.8910 - val_recall_m: 0.5438\n",
            "Epoch 60/200\n",
            "146/146 [==============================] - 1s 10ms/step - loss: 0.7857 - acc: 0.7796 - f1_m: 0.6279 - precision_m: 0.8785 - recall_m: 0.4900 - val_loss: 0.7804 - val_acc: 0.8273 - val_f1_m: 0.6733 - val_precision_m: 0.8914 - val_recall_m: 0.5427\n",
            "Epoch 61/200\n",
            "146/146 [==============================] - 1s 10ms/step - loss: 0.7847 - acc: 0.7835 - f1_m: 0.6268 - precision_m: 0.8811 - recall_m: 0.4877 - val_loss: 0.7797 - val_acc: 0.8275 - val_f1_m: 0.6756 - val_precision_m: 0.8895 - val_recall_m: 0.5462\n",
            "Epoch 62/200\n",
            "146/146 [==============================] - 1s 10ms/step - loss: 0.7832 - acc: 0.7837 - f1_m: 0.6244 - precision_m: 0.8787 - recall_m: 0.4860 - val_loss: 0.7784 - val_acc: 0.8294 - val_f1_m: 0.6753 - val_precision_m: 0.8904 - val_recall_m: 0.5454\n",
            "Epoch 63/200\n",
            "146/146 [==============================] - 1s 10ms/step - loss: 0.7821 - acc: 0.7848 - f1_m: 0.6275 - precision_m: 0.8754 - recall_m: 0.4904 - val_loss: 0.7775 - val_acc: 0.8278 - val_f1_m: 0.6752 - val_precision_m: 0.8888 - val_recall_m: 0.5459\n",
            "Epoch 64/200\n",
            "146/146 [==============================] - 2s 10ms/step - loss: 0.7821 - acc: 0.7819 - f1_m: 0.6280 - precision_m: 0.8753 - recall_m: 0.4911 - val_loss: 0.7765 - val_acc: 0.8281 - val_f1_m: 0.6769 - val_precision_m: 0.8881 - val_recall_m: 0.5484\n",
            "Epoch 65/200\n",
            "146/146 [==============================] - 1s 10ms/step - loss: 0.7794 - acc: 0.7852 - f1_m: 0.6323 - precision_m: 0.8797 - recall_m: 0.4947 - val_loss: 0.7751 - val_acc: 0.8303 - val_f1_m: 0.6753 - val_precision_m: 0.8924 - val_recall_m: 0.5448\n",
            "Epoch 66/200\n",
            "146/146 [==============================] - 1s 10ms/step - loss: 0.7783 - acc: 0.7855 - f1_m: 0.6324 - precision_m: 0.8739 - recall_m: 0.4971 - val_loss: 0.7755 - val_acc: 0.8273 - val_f1_m: 0.6782 - val_precision_m: 0.8876 - val_recall_m: 0.5500\n",
            "Epoch 67/200\n",
            "146/146 [==============================] - 1s 10ms/step - loss: 0.7781 - acc: 0.7840 - f1_m: 0.6296 - precision_m: 0.8740 - recall_m: 0.4931 - val_loss: 0.7733 - val_acc: 0.8300 - val_f1_m: 0.6733 - val_precision_m: 0.8855 - val_recall_m: 0.5448\n",
            "Epoch 68/200\n",
            "146/146 [==============================] - 1s 10ms/step - loss: 0.7755 - acc: 0.7866 - f1_m: 0.6316 - precision_m: 0.8776 - recall_m: 0.4948 - val_loss: 0.7723 - val_acc: 0.8319 - val_f1_m: 0.6776 - val_precision_m: 0.8884 - val_recall_m: 0.5492\n",
            "Epoch 69/200\n",
            "146/146 [==============================] - 1s 10ms/step - loss: 0.7760 - acc: 0.7848 - f1_m: 0.6304 - precision_m: 0.8745 - recall_m: 0.4940 - val_loss: 0.7734 - val_acc: 0.8251 - val_f1_m: 0.6802 - val_precision_m: 0.8661 - val_recall_m: 0.5613\n",
            "Epoch 70/200\n",
            "146/146 [==============================] - 1s 10ms/step - loss: 0.7748 - acc: 0.7854 - f1_m: 0.6322 - precision_m: 0.8735 - recall_m: 0.4970 - val_loss: 0.7715 - val_acc: 0.8251 - val_f1_m: 0.6829 - val_precision_m: 0.8753 - val_recall_m: 0.5611\n",
            "Epoch 71/200\n",
            "146/146 [==============================] - 1s 10ms/step - loss: 0.7743 - acc: 0.7856 - f1_m: 0.6296 - precision_m: 0.8732 - recall_m: 0.4938 - val_loss: 0.7700 - val_acc: 0.8281 - val_f1_m: 0.6779 - val_precision_m: 0.8896 - val_recall_m: 0.5489\n",
            "Epoch 72/200\n",
            "146/146 [==============================] - 1s 10ms/step - loss: 0.7723 - acc: 0.7869 - f1_m: 0.6335 - precision_m: 0.8769 - recall_m: 0.4973 - val_loss: 0.7686 - val_acc: 0.8300 - val_f1_m: 0.6765 - val_precision_m: 0.8787 - val_recall_m: 0.5513\n",
            "Epoch 73/200\n",
            "146/146 [==============================] - 1s 10ms/step - loss: 0.7712 - acc: 0.7899 - f1_m: 0.6344 - precision_m: 0.8733 - recall_m: 0.4996 - val_loss: 0.7684 - val_acc: 0.8256 - val_f1_m: 0.6842 - val_precision_m: 0.8757 - val_recall_m: 0.5627\n",
            "Epoch 74/200\n",
            "146/146 [==============================] - 1s 10ms/step - loss: 0.7706 - acc: 0.7891 - f1_m: 0.6330 - precision_m: 0.8753 - recall_m: 0.4970 - val_loss: 0.7666 - val_acc: 0.8305 - val_f1_m: 0.6799 - val_precision_m: 0.8777 - val_recall_m: 0.5562\n",
            "Epoch 75/200\n",
            "146/146 [==============================] - 1s 10ms/step - loss: 0.7712 - acc: 0.7852 - f1_m: 0.6713 - precision_m: 0.8822 - recall_m: 0.5453 - val_loss: 0.7660 - val_acc: 0.8281 - val_f1_m: 0.6818 - val_precision_m: 0.8759 - val_recall_m: 0.5594\n",
            "Epoch 76/200\n",
            "146/146 [==============================] - 2s 11ms/step - loss: 0.7666 - acc: 0.7914 - f1_m: 0.7305 - precision_m: 0.8837 - recall_m: 0.6235 - val_loss: 0.7651 - val_acc: 0.8278 - val_f1_m: 0.6817 - val_precision_m: 0.8725 - val_recall_m: 0.5605\n",
            "Epoch 77/200\n",
            "146/146 [==============================] - 1s 10ms/step - loss: 0.7692 - acc: 0.7876 - f1_m: 0.7342 - precision_m: 0.8793 - recall_m: 0.6313 - val_loss: 0.7644 - val_acc: 0.8273 - val_f1_m: 0.6826 - val_precision_m: 0.8707 - val_recall_m: 0.5624\n",
            "Epoch 78/200\n",
            "146/146 [==============================] - 1s 10ms/step - loss: 0.7670 - acc: 0.7885 - f1_m: 0.7457 - precision_m: 0.8813 - recall_m: 0.6472 - val_loss: 0.7644 - val_acc: 0.8305 - val_f1_m: 0.6766 - val_precision_m: 0.8876 - val_recall_m: 0.5478\n",
            "Epoch 79/200\n",
            "146/146 [==============================] - 1s 10ms/step - loss: 0.7652 - acc: 0.7870 - f1_m: 0.7502 - precision_m: 0.8820 - recall_m: 0.6536 - val_loss: 0.7627 - val_acc: 0.8275 - val_f1_m: 0.6837 - val_precision_m: 0.8678 - val_recall_m: 0.5652\n",
            "Epoch 80/200\n",
            "146/146 [==============================] - 1s 10ms/step - loss: 0.7653 - acc: 0.7883 - f1_m: 0.7496 - precision_m: 0.8786 - recall_m: 0.6545 - val_loss: 0.7610 - val_acc: 0.8300 - val_f1_m: 0.6817 - val_precision_m: 0.8768 - val_recall_m: 0.5589\n",
            "Epoch 81/200\n",
            "146/146 [==============================] - 1s 10ms/step - loss: 0.7650 - acc: 0.7875 - f1_m: 0.7534 - precision_m: 0.8772 - recall_m: 0.6613 - val_loss: 0.7601 - val_acc: 0.8308 - val_f1_m: 0.6815 - val_precision_m: 0.8752 - val_recall_m: 0.5594\n",
            "Epoch 82/200\n",
            "146/146 [==============================] - 1s 10ms/step - loss: 0.7625 - acc: 0.7883 - f1_m: 0.7565 - precision_m: 0.8769 - recall_m: 0.6660 - val_loss: 0.7592 - val_acc: 0.8305 - val_f1_m: 0.6822 - val_precision_m: 0.8744 - val_recall_m: 0.5605\n",
            "Epoch 83/200\n",
            "146/146 [==============================] - 1s 10ms/step - loss: 0.7597 - acc: 0.7909 - f1_m: 0.7610 - precision_m: 0.8777 - recall_m: 0.6727 - val_loss: 0.7590 - val_acc: 0.8267 - val_f1_m: 0.6857 - val_precision_m: 0.8668 - val_recall_m: 0.5684\n",
            "Epoch 84/200\n",
            "146/146 [==============================] - 1s 10ms/step - loss: 0.7623 - acc: 0.7896 - f1_m: 0.7593 - precision_m: 0.8765 - recall_m: 0.6705 - val_loss: 0.7579 - val_acc: 0.8281 - val_f1_m: 0.6837 - val_precision_m: 0.8667 - val_recall_m: 0.5657\n",
            "Epoch 85/200\n",
            "146/146 [==============================] - 1s 10ms/step - loss: 0.7597 - acc: 0.7896 - f1_m: 0.7610 - precision_m: 0.8765 - recall_m: 0.6732 - val_loss: 0.7571 - val_acc: 0.8275 - val_f1_m: 0.6852 - val_precision_m: 0.8677 - val_recall_m: 0.5673\n",
            "Epoch 86/200\n",
            "146/146 [==============================] - 1s 10ms/step - loss: 0.7592 - acc: 0.7881 - f1_m: 0.7622 - precision_m: 0.8763 - recall_m: 0.6755 - val_loss: 0.7564 - val_acc: 0.8281 - val_f1_m: 0.6843 - val_precision_m: 0.8638 - val_recall_m: 0.5676\n",
            "Epoch 87/200\n",
            "146/146 [==============================] - 1s 10ms/step - loss: 0.7583 - acc: 0.7897 - f1_m: 0.7640 - precision_m: 0.8740 - recall_m: 0.6794 - val_loss: 0.7550 - val_acc: 0.8294 - val_f1_m: 0.6848 - val_precision_m: 0.8660 - val_recall_m: 0.5673\n",
            "Epoch 88/200\n",
            "146/146 [==============================] - 1s 10ms/step - loss: 0.7573 - acc: 0.7891 - f1_m: 0.7641 - precision_m: 0.8755 - recall_m: 0.6785 - val_loss: 0.7538 - val_acc: 0.8303 - val_f1_m: 0.6831 - val_precision_m: 0.8713 - val_recall_m: 0.5630\n",
            "Epoch 89/200\n",
            "146/146 [==============================] - 1s 10ms/step - loss: 0.7549 - acc: 0.7910 - f1_m: 0.7673 - precision_m: 0.8754 - recall_m: 0.6838 - val_loss: 0.7535 - val_acc: 0.8281 - val_f1_m: 0.6850 - val_precision_m: 0.8632 - val_recall_m: 0.5689\n",
            "Epoch 90/200\n",
            "146/146 [==============================] - 1s 10ms/step - loss: 0.7540 - acc: 0.7908 - f1_m: 0.7670 - precision_m: 0.8751 - recall_m: 0.6835 - val_loss: 0.7523 - val_acc: 0.8289 - val_f1_m: 0.6842 - val_precision_m: 0.8665 - val_recall_m: 0.5665\n",
            "Epoch 91/200\n",
            "146/146 [==============================] - 1s 10ms/step - loss: 0.7542 - acc: 0.7895 - f1_m: 0.7685 - precision_m: 0.8736 - recall_m: 0.6867 - val_loss: 0.7514 - val_acc: 0.8300 - val_f1_m: 0.6849 - val_precision_m: 0.8698 - val_recall_m: 0.5660\n",
            "Epoch 92/200\n",
            "146/146 [==============================] - 1s 10ms/step - loss: 0.7502 - acc: 0.7939 - f1_m: 0.7727 - precision_m: 0.8756 - recall_m: 0.6923 - val_loss: 0.7517 - val_acc: 0.8264 - val_f1_m: 0.6852 - val_precision_m: 0.8687 - val_recall_m: 0.5668\n",
            "Epoch 93/200\n",
            "146/146 [==============================] - 1s 10ms/step - loss: 0.7527 - acc: 0.7890 - f1_m: 0.7693 - precision_m: 0.8704 - recall_m: 0.6900 - val_loss: 0.7499 - val_acc: 0.8289 - val_f1_m: 0.6860 - val_precision_m: 0.8640 - val_recall_m: 0.5700\n",
            "Epoch 94/200\n",
            "146/146 [==============================] - 1s 10ms/step - loss: 0.7490 - acc: 0.7951 - f1_m: 0.7748 - precision_m: 0.8743 - recall_m: 0.6964 - val_loss: 0.7484 - val_acc: 0.8325 - val_f1_m: 0.6839 - val_precision_m: 0.8708 - val_recall_m: 0.5643\n",
            "Epoch 95/200\n",
            "146/146 [==============================] - 1s 10ms/step - loss: 0.7519 - acc: 0.7891 - f1_m: 0.7708 - precision_m: 0.8737 - recall_m: 0.6905 - val_loss: 0.7482 - val_acc: 0.8292 - val_f1_m: 0.6879 - val_precision_m: 0.8660 - val_recall_m: 0.5717\n",
            "Epoch 96/200\n",
            "146/146 [==============================] - 1s 10ms/step - loss: 0.7495 - acc: 0.7905 - f1_m: 0.7739 - precision_m: 0.8745 - recall_m: 0.6951 - val_loss: 0.7468 - val_acc: 0.8303 - val_f1_m: 0.6855 - val_precision_m: 0.8656 - val_recall_m: 0.5687\n",
            "Epoch 97/200\n",
            "146/146 [==============================] - 1s 10ms/step - loss: 0.7481 - acc: 0.7931 - f1_m: 0.7733 - precision_m: 0.8742 - recall_m: 0.6942 - val_loss: 0.7460 - val_acc: 0.8316 - val_f1_m: 0.6836 - val_precision_m: 0.8748 - val_recall_m: 0.5622\n",
            "Epoch 98/200\n",
            "146/146 [==============================] - 2s 10ms/step - loss: 0.7483 - acc: 0.7898 - f1_m: 0.7739 - precision_m: 0.8744 - recall_m: 0.6949 - val_loss: 0.7453 - val_acc: 0.8308 - val_f1_m: 0.6864 - val_precision_m: 0.8644 - val_recall_m: 0.5703\n",
            "Epoch 99/200\n",
            "146/146 [==============================] - 1s 10ms/step - loss: 0.7455 - acc: 0.7929 - f1_m: 0.7751 - precision_m: 0.8709 - recall_m: 0.6989 - val_loss: 0.7450 - val_acc: 0.8278 - val_f1_m: 0.6879 - val_precision_m: 0.8612 - val_recall_m: 0.5738\n",
            "Epoch 100/200\n",
            "146/146 [==============================] - 1s 10ms/step - loss: 0.7482 - acc: 0.7879 - f1_m: 0.7741 - precision_m: 0.8695 - recall_m: 0.6982 - val_loss: 0.7435 - val_acc: 0.8305 - val_f1_m: 0.6857 - val_precision_m: 0.8627 - val_recall_m: 0.5701\n",
            "Epoch 101/200\n",
            "146/146 [==============================] - 2s 10ms/step - loss: 0.7441 - acc: 0.7952 - f1_m: 0.7765 - precision_m: 0.8685 - recall_m: 0.7028 - val_loss: 0.7431 - val_acc: 0.8286 - val_f1_m: 0.6885 - val_precision_m: 0.8616 - val_recall_m: 0.5743\n",
            "Epoch 102/200\n",
            "146/146 [==============================] - 1s 10ms/step - loss: 0.7441 - acc: 0.7960 - f1_m: 0.7768 - precision_m: 0.8729 - recall_m: 0.7003 - val_loss: 0.7418 - val_acc: 0.8305 - val_f1_m: 0.6865 - val_precision_m: 0.8634 - val_recall_m: 0.5708\n",
            "Epoch 103/200\n",
            "146/146 [==============================] - 1s 10ms/step - loss: 0.7436 - acc: 0.7917 - f1_m: 0.7758 - precision_m: 0.8704 - recall_m: 0.7003 - val_loss: 0.7405 - val_acc: 0.8316 - val_f1_m: 0.6837 - val_precision_m: 0.8684 - val_recall_m: 0.5651\n",
            "Epoch 104/200\n",
            "146/146 [==============================] - 1s 10ms/step - loss: 0.7415 - acc: 0.7943 - f1_m: 0.7779 - precision_m: 0.8722 - recall_m: 0.7026 - val_loss: 0.7401 - val_acc: 0.8305 - val_f1_m: 0.6844 - val_precision_m: 0.8655 - val_recall_m: 0.5670\n",
            "Epoch 105/200\n",
            "146/146 [==============================] - 1s 10ms/step - loss: 0.7397 - acc: 0.7975 - f1_m: 0.7810 - precision_m: 0.8705 - recall_m: 0.7088 - val_loss: 0.7405 - val_acc: 0.8289 - val_f1_m: 0.6883 - val_precision_m: 0.8535 - val_recall_m: 0.5776\n",
            "Epoch 106/200\n",
            "146/146 [==============================] - 1s 10ms/step - loss: 0.7413 - acc: 0.7915 - f1_m: 0.7784 - precision_m: 0.8712 - recall_m: 0.7041 - val_loss: 0.7384 - val_acc: 0.8300 - val_f1_m: 0.6858 - val_precision_m: 0.8626 - val_recall_m: 0.5703\n",
            "Epoch 107/200\n",
            "146/146 [==============================] - 1s 10ms/step - loss: 0.7368 - acc: 0.7959 - f1_m: 0.7820 - precision_m: 0.8707 - recall_m: 0.7105 - val_loss: 0.7376 - val_acc: 0.8311 - val_f1_m: 0.6857 - val_precision_m: 0.8626 - val_recall_m: 0.5701\n",
            "Epoch 108/200\n",
            "146/146 [==============================] - 1s 10ms/step - loss: 0.7400 - acc: 0.7915 - f1_m: 0.7787 - precision_m: 0.8680 - recall_m: 0.7068 - val_loss: 0.7374 - val_acc: 0.8314 - val_f1_m: 0.6884 - val_precision_m: 0.8581 - val_recall_m: 0.5757\n",
            "Epoch 109/200\n",
            "146/146 [==============================] - 1s 10ms/step - loss: 0.7354 - acc: 0.7965 - f1_m: 0.7840 - precision_m: 0.8705 - recall_m: 0.7139 - val_loss: 0.7356 - val_acc: 0.8303 - val_f1_m: 0.6835 - val_precision_m: 0.8716 - val_recall_m: 0.5633\n",
            "Epoch 110/200\n",
            "146/146 [==============================] - 1s 10ms/step - loss: 0.7365 - acc: 0.7942 - f1_m: 0.7814 - precision_m: 0.8685 - recall_m: 0.7110 - val_loss: 0.7347 - val_acc: 0.8311 - val_f1_m: 0.6849 - val_precision_m: 0.8668 - val_recall_m: 0.5673\n",
            "Epoch 111/200\n",
            "146/146 [==============================] - 1s 10ms/step - loss: 0.7347 - acc: 0.7955 - f1_m: 0.7840 - precision_m: 0.8716 - recall_m: 0.7131 - val_loss: 0.7343 - val_acc: 0.8303 - val_f1_m: 0.6868 - val_precision_m: 0.8616 - val_recall_m: 0.5719\n",
            "Epoch 112/200\n",
            "146/146 [==============================] - 1s 10ms/step - loss: 0.7384 - acc: 0.7902 - f1_m: 0.7783 - precision_m: 0.8707 - recall_m: 0.7043 - val_loss: 0.7341 - val_acc: 0.8294 - val_f1_m: 0.6872 - val_precision_m: 0.8579 - val_recall_m: 0.5741\n",
            "Epoch 113/200\n",
            "146/146 [==============================] - 1s 10ms/step - loss: 0.7321 - acc: 0.7970 - f1_m: 0.7853 - precision_m: 0.8715 - recall_m: 0.7153 - val_loss: 0.7325 - val_acc: 0.8300 - val_f1_m: 0.6861 - val_precision_m: 0.8623 - val_recall_m: 0.5708\n",
            "Epoch 114/200\n",
            "146/146 [==============================] - 1s 10ms/step - loss: 0.7334 - acc: 0.7941 - f1_m: 0.7848 - precision_m: 0.8713 - recall_m: 0.7148 - val_loss: 0.7314 - val_acc: 0.8308 - val_f1_m: 0.8017 - val_precision_m: 0.8763 - val_recall_m: 0.7396\n",
            "Epoch 115/200\n",
            "146/146 [==============================] - 2s 10ms/step - loss: 0.7327 - acc: 0.7928 - f1_m: 0.7832 - precision_m: 0.8685 - recall_m: 0.7137 - val_loss: 0.7308 - val_acc: 0.8300 - val_f1_m: 0.8056 - val_precision_m: 0.8726 - val_recall_m: 0.7488\n",
            "Epoch 116/200\n",
            "146/146 [==============================] - 2s 10ms/step - loss: 0.7299 - acc: 0.7942 - f1_m: 0.7861 - precision_m: 0.8711 - recall_m: 0.7169 - val_loss: 0.7305 - val_acc: 0.8292 - val_f1_m: 0.8068 - val_precision_m: 0.8697 - val_recall_m: 0.7531\n",
            "Epoch 117/200\n",
            "146/146 [==============================] - 1s 10ms/step - loss: 0.7311 - acc: 0.7950 - f1_m: 0.7825 - precision_m: 0.8683 - recall_m: 0.7127 - val_loss: 0.7298 - val_acc: 0.8303 - val_f1_m: 0.8086 - val_precision_m: 0.8670 - val_recall_m: 0.7582\n",
            "Epoch 118/200\n",
            "146/146 [==============================] - 2s 10ms/step - loss: 0.7299 - acc: 0.7945 - f1_m: 0.7862 - precision_m: 0.8683 - recall_m: 0.7190 - val_loss: 0.7281 - val_acc: 0.8292 - val_f1_m: 0.8161 - val_precision_m: 0.8725 - val_recall_m: 0.7671\n",
            "Epoch 119/200\n",
            "146/146 [==============================] - 1s 10ms/step - loss: 0.7290 - acc: 0.7950 - f1_m: 0.7871 - precision_m: 0.8703 - recall_m: 0.7189 - val_loss: 0.7275 - val_acc: 0.8303 - val_f1_m: 0.8125 - val_precision_m: 0.8670 - val_recall_m: 0.7651\n",
            "Epoch 120/200\n",
            "146/146 [==============================] - 1s 10ms/step - loss: 0.7273 - acc: 0.7929 - f1_m: 0.7858 - precision_m: 0.8698 - recall_m: 0.7175 - val_loss: 0.7275 - val_acc: 0.8286 - val_f1_m: 0.8130 - val_precision_m: 0.8656 - val_recall_m: 0.7669\n",
            "Epoch 121/200\n",
            "146/146 [==============================] - 1s 10ms/step - loss: 0.7247 - acc: 0.7983 - f1_m: 0.7887 - precision_m: 0.8702 - recall_m: 0.7220 - val_loss: 0.7259 - val_acc: 0.8311 - val_f1_m: 0.8182 - val_precision_m: 0.8678 - val_recall_m: 0.7745\n",
            "Epoch 122/200\n",
            "146/146 [==============================] - 1s 10ms/step - loss: 0.7242 - acc: 0.7972 - f1_m: 0.7888 - precision_m: 0.8697 - recall_m: 0.7222 - val_loss: 0.7250 - val_acc: 0.8300 - val_f1_m: 0.8190 - val_precision_m: 0.8676 - val_recall_m: 0.7759\n",
            "Epoch 123/200\n",
            "146/146 [==============================] - 1s 10ms/step - loss: 0.7227 - acc: 0.7981 - f1_m: 0.7913 - precision_m: 0.8707 - recall_m: 0.7257 - val_loss: 0.7245 - val_acc: 0.8311 - val_f1_m: 0.8177 - val_precision_m: 0.8696 - val_recall_m: 0.7721\n",
            "Epoch 124/200\n",
            "146/146 [==============================] - 1s 10ms/step - loss: 0.7224 - acc: 0.7973 - f1_m: 0.7905 - precision_m: 0.8711 - recall_m: 0.7243 - val_loss: 0.7236 - val_acc: 0.8297 - val_f1_m: 0.8175 - val_precision_m: 0.8654 - val_recall_m: 0.7751\n",
            "Epoch 125/200\n",
            "146/146 [==============================] - 1s 10ms/step - loss: 0.7233 - acc: 0.7971 - f1_m: 0.7900 - precision_m: 0.8705 - recall_m: 0.7237 - val_loss: 0.7224 - val_acc: 0.8308 - val_f1_m: 0.8220 - val_precision_m: 0.8664 - val_recall_m: 0.7824\n",
            "Epoch 126/200\n",
            "146/146 [==============================] - 1s 10ms/step - loss: 0.7199 - acc: 0.8007 - f1_m: 0.7919 - precision_m: 0.8693 - recall_m: 0.7278 - val_loss: 0.7219 - val_acc: 0.8305 - val_f1_m: 0.8194 - val_precision_m: 0.8652 - val_recall_m: 0.7786\n",
            "Epoch 127/200\n",
            "146/146 [==============================] - 1s 10ms/step - loss: 0.7202 - acc: 0.7998 - f1_m: 0.7917 - precision_m: 0.8715 - recall_m: 0.7259 - val_loss: 0.7209 - val_acc: 0.8308 - val_f1_m: 0.8234 - val_precision_m: 0.8651 - val_recall_m: 0.7859\n",
            "Epoch 128/200\n",
            "146/146 [==============================] - 2s 10ms/step - loss: 0.7187 - acc: 0.7981 - f1_m: 0.7918 - precision_m: 0.8693 - recall_m: 0.7278 - val_loss: 0.7203 - val_acc: 0.8297 - val_f1_m: 0.8237 - val_precision_m: 0.8661 - val_recall_m: 0.7856\n",
            "Epoch 129/200\n",
            "146/146 [==============================] - 2s 11ms/step - loss: 0.7191 - acc: 0.7965 - f1_m: 0.7917 - precision_m: 0.8677 - recall_m: 0.7288 - val_loss: 0.7194 - val_acc: 0.8305 - val_f1_m: 0.8246 - val_precision_m: 0.8638 - val_recall_m: 0.7891\n",
            "Epoch 130/200\n",
            "146/146 [==============================] - 2s 10ms/step - loss: 0.7197 - acc: 0.7965 - f1_m: 0.7894 - precision_m: 0.8673 - recall_m: 0.7251 - val_loss: 0.7194 - val_acc: 0.8289 - val_f1_m: 0.8232 - val_precision_m: 0.8686 - val_recall_m: 0.7827\n",
            "Epoch 131/200\n",
            "146/146 [==============================] - 2s 10ms/step - loss: 0.7176 - acc: 0.7968 - f1_m: 0.7913 - precision_m: 0.8703 - recall_m: 0.7261 - val_loss: 0.7178 - val_acc: 0.8308 - val_f1_m: 0.8249 - val_precision_m: 0.8645 - val_recall_m: 0.7892\n",
            "Epoch 132/200\n",
            "146/146 [==============================] - 1s 10ms/step - loss: 0.7170 - acc: 0.7982 - f1_m: 0.7913 - precision_m: 0.8705 - recall_m: 0.7260 - val_loss: 0.7179 - val_acc: 0.8308 - val_f1_m: 0.8232 - val_precision_m: 0.8600 - val_recall_m: 0.7897\n",
            "Epoch 133/200\n",
            "146/146 [==============================] - 2s 10ms/step - loss: 0.7128 - acc: 0.8003 - f1_m: 0.7946 - precision_m: 0.8694 - recall_m: 0.7323 - val_loss: 0.7166 - val_acc: 0.8311 - val_f1_m: 0.8243 - val_precision_m: 0.8633 - val_recall_m: 0.7889\n",
            "Epoch 134/200\n",
            "146/146 [==============================] - 1s 10ms/step - loss: 0.7148 - acc: 0.7976 - f1_m: 0.7922 - precision_m: 0.8707 - recall_m: 0.7273 - val_loss: 0.7158 - val_acc: 0.8305 - val_f1_m: 0.8236 - val_precision_m: 0.8622 - val_recall_m: 0.7886\n",
            "Epoch 135/200\n",
            "146/146 [==============================] - 2s 10ms/step - loss: 0.7140 - acc: 0.7970 - f1_m: 0.7925 - precision_m: 0.8690 - recall_m: 0.7289 - val_loss: 0.7149 - val_acc: 0.8305 - val_f1_m: 0.8255 - val_precision_m: 0.8626 - val_recall_m: 0.7919\n",
            "Epoch 136/200\n",
            "146/146 [==============================] - 1s 10ms/step - loss: 0.7136 - acc: 0.7978 - f1_m: 0.7924 - precision_m: 0.8682 - recall_m: 0.7294 - val_loss: 0.7141 - val_acc: 0.8305 - val_f1_m: 0.8266 - val_precision_m: 0.8626 - val_recall_m: 0.7938\n",
            "Epoch 137/200\n",
            "146/146 [==============================] - 2s 10ms/step - loss: 0.7116 - acc: 0.7994 - f1_m: 0.7955 - precision_m: 0.8707 - recall_m: 0.7330 - val_loss: 0.7134 - val_acc: 0.8300 - val_f1_m: 0.8259 - val_precision_m: 0.8611 - val_recall_m: 0.7938\n",
            "Epoch 138/200\n",
            "146/146 [==============================] - 2s 11ms/step - loss: 0.7104 - acc: 0.8011 - f1_m: 0.7951 - precision_m: 0.8701 - recall_m: 0.7327 - val_loss: 0.7128 - val_acc: 0.8303 - val_f1_m: 0.8254 - val_precision_m: 0.8609 - val_recall_m: 0.7930\n",
            "Epoch 139/200\n",
            "146/146 [==============================] - 2s 11ms/step - loss: 0.7105 - acc: 0.8002 - f1_m: 0.7951 - precision_m: 0.8699 - recall_m: 0.7329 - val_loss: 0.7118 - val_acc: 0.8308 - val_f1_m: 0.8268 - val_precision_m: 0.8611 - val_recall_m: 0.7954\n",
            "Epoch 140/200\n",
            "146/146 [==============================] - 2s 11ms/step - loss: 0.7091 - acc: 0.8024 - f1_m: 0.7972 - precision_m: 0.8681 - recall_m: 0.7376 - val_loss: 0.7116 - val_acc: 0.8322 - val_f1_m: 0.8243 - val_precision_m: 0.8583 - val_recall_m: 0.7932\n",
            "Epoch 141/200\n",
            "146/146 [==============================] - 2s 11ms/step - loss: 0.7069 - acc: 0.8015 - f1_m: 0.7969 - precision_m: 0.8682 - recall_m: 0.7369 - val_loss: 0.7104 - val_acc: 0.8297 - val_f1_m: 0.8265 - val_precision_m: 0.8589 - val_recall_m: 0.7968\n",
            "Epoch 142/200\n",
            "146/146 [==============================] - 2s 10ms/step - loss: 0.7064 - acc: 0.8017 - f1_m: 0.7964 - precision_m: 0.8698 - recall_m: 0.7352 - val_loss: 0.7095 - val_acc: 0.8303 - val_f1_m: 0.8268 - val_precision_m: 0.8601 - val_recall_m: 0.7962\n",
            "Epoch 143/200\n",
            "146/146 [==============================] - 2s 11ms/step - loss: 0.7064 - acc: 0.8018 - f1_m: 0.7971 - precision_m: 0.8686 - recall_m: 0.7371 - val_loss: 0.7090 - val_acc: 0.8311 - val_f1_m: 0.8270 - val_precision_m: 0.8588 - val_recall_m: 0.7978\n",
            "Epoch 144/200\n",
            "146/146 [==============================] - 2s 11ms/step - loss: 0.7071 - acc: 0.7969 - f1_m: 0.7951 - precision_m: 0.8696 - recall_m: 0.7331 - val_loss: 0.7080 - val_acc: 0.8305 - val_f1_m: 0.8271 - val_precision_m: 0.8591 - val_recall_m: 0.7976\n",
            "Epoch 145/200\n",
            "146/146 [==============================] - 2s 11ms/step - loss: 0.7040 - acc: 0.8013 - f1_m: 0.7973 - precision_m: 0.8705 - recall_m: 0.7360 - val_loss: 0.7076 - val_acc: 0.8292 - val_f1_m: 0.8283 - val_precision_m: 0.8636 - val_recall_m: 0.7962\n",
            "Epoch 146/200\n",
            "146/146 [==============================] - 2s 10ms/step - loss: 0.7038 - acc: 0.8002 - f1_m: 0.7965 - precision_m: 0.8696 - recall_m: 0.7353 - val_loss: 0.7065 - val_acc: 0.8297 - val_f1_m: 0.8292 - val_precision_m: 0.8597 - val_recall_m: 0.8011\n",
            "Epoch 147/200\n",
            "146/146 [==============================] - 2s 10ms/step - loss: 0.7041 - acc: 0.8002 - f1_m: 0.7962 - precision_m: 0.8694 - recall_m: 0.7349 - val_loss: 0.7058 - val_acc: 0.8308 - val_f1_m: 0.8284 - val_precision_m: 0.8580 - val_recall_m: 0.8011\n",
            "Epoch 148/200\n",
            "146/146 [==============================] - 2s 10ms/step - loss: 0.7003 - acc: 0.8034 - f1_m: 0.7995 - precision_m: 0.8701 - recall_m: 0.7401 - val_loss: 0.7055 - val_acc: 0.8311 - val_f1_m: 0.8275 - val_precision_m: 0.8579 - val_recall_m: 0.7995\n",
            "Epoch 149/200\n",
            "146/146 [==============================] - 2s 10ms/step - loss: 0.7032 - acc: 0.8018 - f1_m: 0.7972 - precision_m: 0.8700 - recall_m: 0.7364 - val_loss: 0.7043 - val_acc: 0.8303 - val_f1_m: 0.8285 - val_precision_m: 0.8583 - val_recall_m: 0.8011\n",
            "Epoch 150/200\n",
            "146/146 [==============================] - 1s 10ms/step - loss: 0.7033 - acc: 0.7994 - f1_m: 0.7966 - precision_m: 0.8672 - recall_m: 0.7372 - val_loss: 0.7033 - val_acc: 0.8303 - val_f1_m: 0.8297 - val_precision_m: 0.8589 - val_recall_m: 0.8027\n",
            "Epoch 151/200\n",
            "146/146 [==============================] - 1s 10ms/step - loss: 0.6995 - acc: 0.8012 - f1_m: 0.7996 - precision_m: 0.8691 - recall_m: 0.7411 - val_loss: 0.7031 - val_acc: 0.8314 - val_f1_m: 0.8292 - val_precision_m: 0.8576 - val_recall_m: 0.8030\n",
            "Epoch 152/200\n",
            "146/146 [==============================] - 1s 10ms/step - loss: 0.7014 - acc: 0.7997 - f1_m: 0.7974 - precision_m: 0.8672 - recall_m: 0.7385 - val_loss: 0.7028 - val_acc: 0.8316 - val_f1_m: 0.8274 - val_precision_m: 0.8560 - val_recall_m: 0.8008\n",
            "Epoch 153/200\n",
            "146/146 [==============================] - 1s 10ms/step - loss: 0.6982 - acc: 0.8053 - f1_m: 0.7996 - precision_m: 0.8675 - recall_m: 0.7424 - val_loss: 0.7013 - val_acc: 0.8314 - val_f1_m: 0.8288 - val_precision_m: 0.8570 - val_recall_m: 0.8027\n",
            "Epoch 154/200\n",
            "146/146 [==============================] - 1s 10ms/step - loss: 0.6995 - acc: 0.7984 - f1_m: 0.7975 - precision_m: 0.8672 - recall_m: 0.7389 - val_loss: 0.7008 - val_acc: 0.8303 - val_f1_m: 0.8296 - val_precision_m: 0.8567 - val_recall_m: 0.8043\n",
            "Epoch 155/200\n",
            "146/146 [==============================] - 2s 10ms/step - loss: 0.6961 - acc: 0.8009 - f1_m: 0.8007 - precision_m: 0.8695 - recall_m: 0.7425 - val_loss: 0.7012 - val_acc: 0.8311 - val_f1_m: 0.8265 - val_precision_m: 0.8539 - val_recall_m: 0.8011\n",
            "Epoch 156/200\n",
            "146/146 [==============================] - 1s 10ms/step - loss: 0.6987 - acc: 0.7991 - f1_m: 0.7971 - precision_m: 0.8684 - recall_m: 0.7372 - val_loss: 0.7001 - val_acc: 0.8314 - val_f1_m: 0.8280 - val_precision_m: 0.8550 - val_recall_m: 0.8030\n",
            "Epoch 157/200\n",
            "146/146 [==============================] - 1s 10ms/step - loss: 0.6918 - acc: 0.8044 - f1_m: 0.8040 - precision_m: 0.8705 - recall_m: 0.7474 - val_loss: 0.6989 - val_acc: 0.8311 - val_f1_m: 0.8284 - val_precision_m: 0.8584 - val_recall_m: 0.8008\n",
            "Epoch 158/200\n",
            "146/146 [==============================] - 1s 10ms/step - loss: 0.6940 - acc: 0.8016 - f1_m: 0.8015 - precision_m: 0.8699 - recall_m: 0.7437 - val_loss: 0.6976 - val_acc: 0.8325 - val_f1_m: 0.8290 - val_precision_m: 0.8558 - val_recall_m: 0.8041\n",
            "Epoch 159/200\n",
            "146/146 [==============================] - 1s 10ms/step - loss: 0.6942 - acc: 0.8015 - f1_m: 0.7992 - precision_m: 0.8689 - recall_m: 0.7405 - val_loss: 0.6976 - val_acc: 0.8319 - val_f1_m: 0.8289 - val_precision_m: 0.8562 - val_recall_m: 0.8035\n",
            "Epoch 160/200\n",
            "146/146 [==============================] - 1s 10ms/step - loss: 0.6933 - acc: 0.8020 - f1_m: 0.7996 - precision_m: 0.8675 - recall_m: 0.7421 - val_loss: 0.6961 - val_acc: 0.8311 - val_f1_m: 0.8292 - val_precision_m: 0.8553 - val_recall_m: 0.8049\n",
            "Epoch 161/200\n",
            "146/146 [==============================] - 1s 10ms/step - loss: 0.6912 - acc: 0.8023 - f1_m: 0.8023 - precision_m: 0.8704 - recall_m: 0.7447 - val_loss: 0.6957 - val_acc: 0.8327 - val_f1_m: 0.8301 - val_precision_m: 0.8547 - val_recall_m: 0.8070\n",
            "Epoch 162/200\n",
            "146/146 [==============================] - 1s 10ms/step - loss: 0.6901 - acc: 0.8046 - f1_m: 0.8030 - precision_m: 0.8681 - recall_m: 0.7475 - val_loss: 0.6955 - val_acc: 0.8319 - val_f1_m: 0.8287 - val_precision_m: 0.8546 - val_recall_m: 0.8046\n",
            "Epoch 163/200\n",
            "146/146 [==============================] - 1s 10ms/step - loss: 0.6882 - acc: 0.8032 - f1_m: 0.8035 - precision_m: 0.8695 - recall_m: 0.7475 - val_loss: 0.6946 - val_acc: 0.8316 - val_f1_m: 0.8294 - val_precision_m: 0.8536 - val_recall_m: 0.8068\n",
            "Epoch 164/200\n",
            "146/146 [==============================] - 1s 10ms/step - loss: 0.6905 - acc: 0.8043 - f1_m: 0.8024 - precision_m: 0.8698 - recall_m: 0.7451 - val_loss: 0.6946 - val_acc: 0.8305 - val_f1_m: 0.8289 - val_precision_m: 0.8532 - val_recall_m: 0.8062\n",
            "Epoch 165/200\n",
            "146/146 [==============================] - 1s 10ms/step - loss: 0.6888 - acc: 0.8018 - f1_m: 0.8030 - precision_m: 0.8694 - recall_m: 0.7467 - val_loss: 0.6927 - val_acc: 0.8319 - val_f1_m: 0.8293 - val_precision_m: 0.8538 - val_recall_m: 0.8065\n",
            "Epoch 166/200\n",
            "146/146 [==============================] - 1s 10ms/step - loss: 0.6877 - acc: 0.8025 - f1_m: 0.8031 - precision_m: 0.8696 - recall_m: 0.7465 - val_loss: 0.6920 - val_acc: 0.8319 - val_f1_m: 0.8300 - val_precision_m: 0.8542 - val_recall_m: 0.8073\n",
            "Epoch 167/200\n",
            "146/146 [==============================] - 1s 10ms/step - loss: 0.6876 - acc: 0.8039 - f1_m: 0.8026 - precision_m: 0.8686 - recall_m: 0.7467 - val_loss: 0.6920 - val_acc: 0.8311 - val_f1_m: 0.8290 - val_precision_m: 0.8534 - val_recall_m: 0.8062\n",
            "Epoch 168/200\n",
            "146/146 [==============================] - 2s 10ms/step - loss: 0.6865 - acc: 0.8059 - f1_m: 0.8042 - precision_m: 0.8713 - recall_m: 0.7473 - val_loss: 0.6910 - val_acc: 0.8314 - val_f1_m: 0.8297 - val_precision_m: 0.8527 - val_recall_m: 0.8081\n",
            "Epoch 169/200\n",
            "146/146 [==============================] - 1s 10ms/step - loss: 0.6869 - acc: 0.8009 - f1_m: 0.8026 - precision_m: 0.8716 - recall_m: 0.7444 - val_loss: 0.6899 - val_acc: 0.8322 - val_f1_m: 0.8298 - val_precision_m: 0.8529 - val_recall_m: 0.8081\n",
            "Epoch 170/200\n",
            "146/146 [==============================] - 1s 10ms/step - loss: 0.6866 - acc: 0.8012 - f1_m: 0.8018 - precision_m: 0.8694 - recall_m: 0.7445 - val_loss: 0.6890 - val_acc: 0.8319 - val_f1_m: 0.8305 - val_precision_m: 0.8547 - val_recall_m: 0.8079\n",
            "Epoch 171/200\n",
            "146/146 [==============================] - 1s 10ms/step - loss: 0.6848 - acc: 0.8035 - f1_m: 0.8020 - precision_m: 0.8680 - recall_m: 0.7458 - val_loss: 0.6884 - val_acc: 0.8336 - val_f1_m: 0.8296 - val_precision_m: 0.8525 - val_recall_m: 0.8081\n",
            "Epoch 172/200\n",
            "146/146 [==============================] - 1s 10ms/step - loss: 0.6849 - acc: 0.8018 - f1_m: 0.8018 - precision_m: 0.8680 - recall_m: 0.7456 - val_loss: 0.6879 - val_acc: 0.8330 - val_f1_m: 0.8290 - val_precision_m: 0.8521 - val_recall_m: 0.8073\n",
            "Epoch 173/200\n",
            "146/146 [==============================] - 1s 10ms/step - loss: 0.6821 - acc: 0.8073 - f1_m: 0.8053 - precision_m: 0.8690 - recall_m: 0.7508 - val_loss: 0.6875 - val_acc: 0.8316 - val_f1_m: 0.8299 - val_precision_m: 0.8531 - val_recall_m: 0.8081\n",
            "Epoch 174/200\n",
            "146/146 [==============================] - 1s 10ms/step - loss: 0.6810 - acc: 0.8033 - f1_m: 0.8051 - precision_m: 0.8699 - recall_m: 0.7499 - val_loss: 0.6861 - val_acc: 0.8336 - val_f1_m: 0.8299 - val_precision_m: 0.8523 - val_recall_m: 0.8089\n",
            "Epoch 175/200\n",
            "146/146 [==============================] - 2s 10ms/step - loss: 0.6796 - acc: 0.8061 - f1_m: 0.8057 - precision_m: 0.8714 - recall_m: 0.7497 - val_loss: 0.6855 - val_acc: 0.8338 - val_f1_m: 0.8297 - val_precision_m: 0.8517 - val_recall_m: 0.8092\n",
            "Epoch 176/200\n",
            "146/146 [==============================] - 2s 10ms/step - loss: 0.6814 - acc: 0.8032 - f1_m: 0.8027 - precision_m: 0.8676 - recall_m: 0.7474 - val_loss: 0.6869 - val_acc: 0.8284 - val_f1_m: 0.8291 - val_precision_m: 0.8517 - val_recall_m: 0.8078\n",
            "Epoch 177/200\n",
            "146/146 [==============================] - 2s 11ms/step - loss: 0.6771 - acc: 0.8061 - f1_m: 0.8070 - precision_m: 0.8727 - recall_m: 0.7511 - val_loss: 0.6840 - val_acc: 0.8322 - val_f1_m: 0.8310 - val_precision_m: 0.8534 - val_recall_m: 0.8100\n",
            "Epoch 178/200\n",
            "146/146 [==============================] - 1s 10ms/step - loss: 0.6780 - acc: 0.8052 - f1_m: 0.8056 - precision_m: 0.8691 - recall_m: 0.7513 - val_loss: 0.6836 - val_acc: 0.8344 - val_f1_m: 0.8296 - val_precision_m: 0.8516 - val_recall_m: 0.8089\n",
            "Epoch 179/200\n",
            "146/146 [==============================] - 1s 10ms/step - loss: 0.6779 - acc: 0.8044 - f1_m: 0.8054 - precision_m: 0.8700 - recall_m: 0.7503 - val_loss: 0.6834 - val_acc: 0.8322 - val_f1_m: 0.8302 - val_precision_m: 0.8514 - val_recall_m: 0.8103\n",
            "Epoch 180/200\n",
            "146/146 [==============================] - 1s 10ms/step - loss: 0.6779 - acc: 0.8057 - f1_m: 0.8062 - precision_m: 0.8692 - recall_m: 0.7522 - val_loss: 0.6825 - val_acc: 0.8325 - val_f1_m: 0.8300 - val_precision_m: 0.8507 - val_recall_m: 0.8105\n",
            "Epoch 181/200\n",
            "146/146 [==============================] - 1s 10ms/step - loss: 0.6753 - acc: 0.8045 - f1_m: 0.8067 - precision_m: 0.8716 - recall_m: 0.7513 - val_loss: 0.6823 - val_acc: 0.8325 - val_f1_m: 0.8289 - val_precision_m: 0.8516 - val_recall_m: 0.8076\n",
            "Epoch 182/200\n",
            "146/146 [==============================] - 1s 10ms/step - loss: 0.6743 - acc: 0.8076 - f1_m: 0.8084 - precision_m: 0.8712 - recall_m: 0.7547 - val_loss: 0.6805 - val_acc: 0.8333 - val_f1_m: 0.8313 - val_precision_m: 0.8530 - val_recall_m: 0.8108\n",
            "Epoch 183/200\n",
            "146/146 [==============================] - 1s 10ms/step - loss: 0.6755 - acc: 0.8073 - f1_m: 0.8051 - precision_m: 0.8690 - recall_m: 0.7504 - val_loss: 0.6801 - val_acc: 0.8338 - val_f1_m: 0.8305 - val_precision_m: 0.8512 - val_recall_m: 0.8111\n",
            "Epoch 184/200\n",
            "146/146 [==============================] - 1s 10ms/step - loss: 0.6744 - acc: 0.8063 - f1_m: 0.8057 - precision_m: 0.8701 - recall_m: 0.7506 - val_loss: 0.6799 - val_acc: 0.8355 - val_f1_m: 0.8297 - val_precision_m: 0.8505 - val_recall_m: 0.8100\n",
            "Epoch 185/200\n",
            "146/146 [==============================] - 1s 10ms/step - loss: 0.6745 - acc: 0.8050 - f1_m: 0.8052 - precision_m: 0.8693 - recall_m: 0.7505 - val_loss: 0.6789 - val_acc: 0.8333 - val_f1_m: 0.8299 - val_precision_m: 0.8500 - val_recall_m: 0.8111\n",
            "Epoch 186/200\n",
            "146/146 [==============================] - 1s 10ms/step - loss: 0.6733 - acc: 0.8046 - f1_m: 0.8059 - precision_m: 0.8713 - recall_m: 0.7502 - val_loss: 0.6784 - val_acc: 0.8344 - val_f1_m: 0.8300 - val_precision_m: 0.8505 - val_recall_m: 0.8108\n",
            "Epoch 187/200\n",
            "146/146 [==============================] - 1s 10ms/step - loss: 0.6717 - acc: 0.8054 - f1_m: 0.8084 - precision_m: 0.8720 - recall_m: 0.7540 - val_loss: 0.6777 - val_acc: 0.8341 - val_f1_m: 0.8293 - val_precision_m: 0.8485 - val_recall_m: 0.8111\n",
            "Epoch 188/200\n",
            "146/146 [==============================] - 1s 10ms/step - loss: 0.6712 - acc: 0.8048 - f1_m: 0.8056 - precision_m: 0.8687 - recall_m: 0.7518 - val_loss: 0.6770 - val_acc: 0.8338 - val_f1_m: 0.8307 - val_precision_m: 0.8515 - val_recall_m: 0.8111\n",
            "Epoch 189/200\n",
            "146/146 [==============================] - 1s 10ms/step - loss: 0.6681 - acc: 0.8094 - f1_m: 0.8088 - precision_m: 0.8709 - recall_m: 0.7556 - val_loss: 0.6761 - val_acc: 0.8338 - val_f1_m: 0.8310 - val_precision_m: 0.8524 - val_recall_m: 0.8109\n",
            "Epoch 190/200\n",
            "146/146 [==============================] - 1s 10ms/step - loss: 0.6722 - acc: 0.8047 - f1_m: 0.8046 - precision_m: 0.8697 - recall_m: 0.7491 - val_loss: 0.6763 - val_acc: 0.8308 - val_f1_m: 0.8298 - val_precision_m: 0.8502 - val_recall_m: 0.8105\n",
            "Epoch 191/200\n",
            "146/146 [==============================] - 1s 10ms/step - loss: 0.6702 - acc: 0.8042 - f1_m: 0.8067 - precision_m: 0.8700 - recall_m: 0.7527 - val_loss: 0.6760 - val_acc: 0.8322 - val_f1_m: 0.8288 - val_precision_m: 0.8483 - val_recall_m: 0.8103\n",
            "Epoch 192/200\n",
            "146/146 [==============================] - 1s 10ms/step - loss: 0.6684 - acc: 0.8059 - f1_m: 0.8085 - precision_m: 0.8729 - recall_m: 0.7535 - val_loss: 0.6744 - val_acc: 0.8333 - val_f1_m: 0.8320 - val_precision_m: 0.8523 - val_recall_m: 0.8127\n",
            "Epoch 193/200\n",
            "146/146 [==============================] - 1s 10ms/step - loss: 0.6675 - acc: 0.8074 - f1_m: 0.8076 - precision_m: 0.8697 - recall_m: 0.7543 - val_loss: 0.6741 - val_acc: 0.8325 - val_f1_m: 0.8302 - val_precision_m: 0.8502 - val_recall_m: 0.8113\n",
            "Epoch 194/200\n",
            "146/146 [==============================] - 1s 10ms/step - loss: 0.6664 - acc: 0.8047 - f1_m: 0.8073 - precision_m: 0.8709 - recall_m: 0.7529 - val_loss: 0.6726 - val_acc: 0.8333 - val_f1_m: 0.8315 - val_precision_m: 0.8501 - val_recall_m: 0.8138\n",
            "Epoch 195/200\n",
            "146/146 [==============================] - 1s 10ms/step - loss: 0.6670 - acc: 0.8037 - f1_m: 0.8086 - precision_m: 0.8711 - recall_m: 0.7550 - val_loss: 0.6718 - val_acc: 0.8336 - val_f1_m: 0.8311 - val_precision_m: 0.8499 - val_recall_m: 0.8133\n",
            "Epoch 196/200\n",
            "146/146 [==============================] - 1s 10ms/step - loss: 0.6640 - acc: 0.8079 - f1_m: 0.8099 - precision_m: 0.8721 - recall_m: 0.7566 - val_loss: 0.6712 - val_acc: 0.8338 - val_f1_m: 0.8310 - val_precision_m: 0.8494 - val_recall_m: 0.8135\n",
            "Epoch 197/200\n",
            "146/146 [==============================] - 2s 10ms/step - loss: 0.6642 - acc: 0.8046 - f1_m: 0.8085 - precision_m: 0.8700 - recall_m: 0.7556 - val_loss: 0.6706 - val_acc: 0.8333 - val_f1_m: 0.8316 - val_precision_m: 0.8504 - val_recall_m: 0.8138\n",
            "Epoch 198/200\n",
            "146/146 [==============================] - 1s 10ms/step - loss: 0.6646 - acc: 0.8037 - f1_m: 0.8076 - precision_m: 0.8714 - recall_m: 0.7531 - val_loss: 0.6720 - val_acc: 0.8308 - val_f1_m: 0.8313 - val_precision_m: 0.8510 - val_recall_m: 0.8127\n",
            "Epoch 199/200\n",
            "146/146 [==============================] - 1s 10ms/step - loss: 0.6623 - acc: 0.8079 - f1_m: 0.8096 - precision_m: 0.8716 - recall_m: 0.7563 - val_loss: 0.6704 - val_acc: 0.8327 - val_f1_m: 0.8298 - val_precision_m: 0.8486 - val_recall_m: 0.8122\n",
            "Epoch 200/200\n",
            "146/146 [==============================] - 1s 10ms/step - loss: 0.6631 - acc: 0.8068 - f1_m: 0.8071 - precision_m: 0.8706 - recall_m: 0.7528 - val_loss: 0.6685 - val_acc: 0.8338 - val_f1_m: 0.8309 - val_precision_m: 0.8501 - val_recall_m: 0.8127\n"
          ],
          "name": "stdout"
        }
      ]
    },
    {
      "cell_type": "code",
      "metadata": {
        "id": "zZ5WyBl4D490",
        "colab_type": "code",
        "colab": {
          "base_uri": "https://localhost:8080/",
          "height": 557
        },
        "outputId": "dbe308bf-84f6-4659-86d8-e8b891316617"
      },
      "source": [
        "display_history_loss(history_transformer_ft, \"transformer_ft\")\n",
        "plot_graphs(history_transformer_ft, \"acc\")"
      ],
      "execution_count": null,
      "outputs": [
        {
          "output_type": "display_data",
          "data": {
            "image/png": "[encoded data removed]",
            "text/plain": [
              "<Figure size 432x288 with 1 Axes>"
            ]
          },
          "metadata": {
            "tags": [],
            "needs_background": "light"
          }
        },
        {
          "output_type": "display_data",
          "data": {
            "image/png": "[encoded data removed]",
            "text/plain": [
              "<Figure size 432x288 with 1 Axes>"
            ]
          },
          "metadata": {
            "tags": [],
            "needs_background": "light"
          }
        }
      ]
    },
    {
      "cell_type": "code",
      "metadata": {
        "id": "w48hBa5vEFbJ",
        "colab_type": "code",
        "colab": {
          "base_uri": "https://localhost:8080/",
          "height": 755
        },
        "outputId": "a46bda50-05c1-44a0-f268-3f896e213744"
      },
      "source": [
        "print(X_test.shape)\n",
        "\n",
        "#score_transformer = model_transformer.evaluate(X_test,Y_test)\n",
        "#print(score_transformer[0])\n",
        "#print(score_transformer[1])\n",
        "\n",
        "loss, acc, f1_score, precision, recall = model_transformer_ft.evaluate(X_test, Y_test,  verbose=0 )\n",
        "print_stats(f1_score, precision, recall, acc)\n",
        "custom_evaluate(model_transformer_ft, X1_test,Y1_test)\n",
        "custom_evaluate(model_transformer_ft, X2_test,Y2_test)\n",
        "custom_evaluate(model_transformer_ft, X3_test,Y3_test)\n",
        "custom_evaluate(model_transformer_ft, X4_test,Y4_test)\n",
        "custom_evaluate(model_transformer_ft, X5_test,Y5_test)"
      ],
      "execution_count": null,
      "outputs": [
        {
          "output_type": "stream",
          "text": [
            "(3647, 12)\n",
            "#######################################################\n",
            "F1        : 0.830353319644928\n",
            "Precision : 0.8500233888626099\n",
            "Recall    : 0.8121816515922546\n",
            "Accuracy  : 0.833836019039154\n",
            "#######################################################\n",
            "-------------------------------------\n",
            "#######################################################\n",
            "F1        : 0.8207497000694275\n",
            "Precision : 0.8401288986206055\n",
            "Recall    : 0.8024553656578064\n",
            "Accuracy  : 0.8243513107299805\n",
            "#######################################################\n",
            "-------------------------------------\n",
            "#######################################################\n",
            "F1        : 0.8129767775535583\n",
            "Precision : 0.8339003920555115\n",
            "Recall    : 0.7938057780265808\n",
            "Accuracy  : 0.8103792667388916\n",
            "#######################################################\n",
            "-------------------------------------\n",
            "#######################################################\n",
            "F1        : 0.8081247210502625\n",
            "Precision : 0.8254852294921875\n",
            "Recall    : 0.7917596697807312\n",
            "Accuracy  : 0.8103792667388916\n",
            "#######################################################\n",
            "-------------------------------------\n",
            "#######################################################\n",
            "F1        : 0.8469296097755432\n",
            "Precision : 0.8672214150428772\n",
            "Recall    : 0.827938973903656\n",
            "Accuracy  : 0.8542914390563965\n",
            "#######################################################\n",
            "-------------------------------------\n",
            "#######################################################\n",
            "F1        : 0.8239169716835022\n",
            "Precision : 0.846113383769989\n",
            "Recall    : 0.8036644458770752\n",
            "Accuracy  : 0.826347291469574\n",
            "#######################################################\n"
          ],
          "name": "stdout"
        }
      ]
    },
    {
      "cell_type": "markdown",
      "metadata": {
        "id": "RdY0uLH-nMO0",
        "colab_type": "text"
      },
      "source": [
        "#Statistical Test"
      ]
    },
    {
      "cell_type": "markdown",
      "metadata": {
        "id": "_GSiZwCTE_ev",
        "colab_type": "text"
      },
      "source": [
        "## Annova Test"
      ]
    },
    {
      "cell_type": "code",
      "metadata": {
        "id": "1pM-HjwPQcm8",
        "colab_type": "code",
        "colab": {}
      },
      "source": [
        "#manually filled f1 from results above. for all the sets 1-5 and X_test Y_test.\n",
        "\n",
        "lstm_single_f1_ft =[0.8073,0.7996,0.8017,0.7925,0.8226,0.8014]\n",
        "lstm_double_f1_ft =[0.8018,0.7893,0.7874,0.7833,0.8360,0.7974]\n",
        "lstm_bi_f1_ft =[0.8124,0.8409,0.8048,0.7958,0.8283,0.8142]\n",
        "transformer_f1_ft=[0.8303, 0.8207, 0.8129, 0.8081,0.8469,0.8239]\n",
        "\n",
        "\n",
        "#f1 score\n",
        "lstm_single_f1 = [0.8285,0.8118,0.8004,0.8163,0.8336,0.8389]\n",
        "lstm_double_f1 = [0.8801,0.8787,0.8606,0.8676,0.8709,0.8873]\n",
        "lstm_bi_f1 = [0.8840, 0.8611,0.8293,0.8590,0.8844,0.8756]  \n",
        "transformer_f1 = [0.87743,0.87425,0.84231,0.86626,0.88622, 0.86826]\n",
        "\n",
        "\n",
        "\n",
        "data_f1_ft = {'lstm_single_f1_ft':lstm_single_f1_ft,'lstm_double_f1_ft':lstm_double_f1_ft,'lstm_bi_f1_ft':lstm_bi_f1_ft,'transformer_f1_ft':transformer_f1_ft}\n",
        "#d_ft_normal = {'lstm_single_acc_ft':lstm_single_acc_ft,'lstm_single_acc':lstm_single_acc}\n",
        "data_f1 = {'lstm_single_f1':lstm_single_f1,'lstm_double_f1':lstm_double_f1,'lstm_bi_f1':lstm_bi_f1,'transformer_f1':transformer_f1}\n",
        "\n",
        "data_f1_transformer_keras_ft = {'transformer_f1_ft':transformer_f1_ft,'transformer_f1':transformer_f1}\n",
        "import pandas as pd\n",
        "\n",
        "#fasttext\n",
        "df_f1_ft = pd.DataFrame(data_f1_ft)\n",
        "#df_ft_normal = pd.DataFrame(d_ft_normal)\n",
        "#keras\n",
        "df_data_f1 = pd.DataFrame(data_f1)\n",
        "\n",
        "df_data_f1_transformer_keras_ft = pd.DataFrame(data_f1_transformer_keras_ft)\n"
      ],
      "execution_count": 17,
      "outputs": []
    },
    {
      "cell_type": "code",
      "metadata": {
        "id": "iUB7nAF6m_z1",
        "colab_type": "code",
        "colab": {
          "base_uri": "https://localhost:8080/",
          "height": 230
        },
        "outputId": "17e32ec4-e7e7-4240-bcaa-e7fa311bf1de"
      },
      "source": [
        "df_data_f1"
      ],
      "execution_count": 18,
      "outputs": [
        {
          "output_type": "execute_result",
          "data": {
            "text/html": [
              "<div>\n",
              "<style scoped>\n",
              "    .dataframe tbody tr th:only-of-type {\n",
              "        vertical-align: middle;\n",
              "    }\n",
              "\n",
              "    .dataframe tbody tr th {\n",
              "        vertical-align: top;\n",
              "    }\n",
              "\n",
              "    .dataframe thead th {\n",
              "        text-align: right;\n",
              "    }\n",
              "</style>\n",
              "<table border=\"1\" class=\"dataframe\">\n",
              "  <thead>\n",
              "    <tr style=\"text-align: right;\">\n",
              "      <th></th>\n",
              "      <th>lstm_single_f1</th>\n",
              "      <th>lstm_double_f1</th>\n",
              "      <th>lstm_bi_f1</th>\n",
              "      <th>transformer_f1</th>\n",
              "    </tr>\n",
              "  </thead>\n",
              "  <tbody>\n",
              "    <tr>\n",
              "      <th>0</th>\n",
              "      <td>0.8285</td>\n",
              "      <td>0.8801</td>\n",
              "      <td>0.8840</td>\n",
              "      <td>0.87743</td>\n",
              "    </tr>\n",
              "    <tr>\n",
              "      <th>1</th>\n",
              "      <td>0.8118</td>\n",
              "      <td>0.8787</td>\n",
              "      <td>0.8611</td>\n",
              "      <td>0.87425</td>\n",
              "    </tr>\n",
              "    <tr>\n",
              "      <th>2</th>\n",
              "      <td>0.8004</td>\n",
              "      <td>0.8606</td>\n",
              "      <td>0.8293</td>\n",
              "      <td>0.84231</td>\n",
              "    </tr>\n",
              "    <tr>\n",
              "      <th>3</th>\n",
              "      <td>0.8163</td>\n",
              "      <td>0.8676</td>\n",
              "      <td>0.8590</td>\n",
              "      <td>0.86626</td>\n",
              "    </tr>\n",
              "    <tr>\n",
              "      <th>4</th>\n",
              "      <td>0.8336</td>\n",
              "      <td>0.8709</td>\n",
              "      <td>0.8844</td>\n",
              "      <td>0.88622</td>\n",
              "    </tr>\n",
              "    <tr>\n",
              "      <th>5</th>\n",
              "      <td>0.8389</td>\n",
              "      <td>0.8873</td>\n",
              "      <td>0.8756</td>\n",
              "      <td>0.86826</td>\n",
              "    </tr>\n",
              "  </tbody>\n",
              "</table>\n",
              "</div>"
            ],
            "text/plain": [
              "   lstm_single_f1  lstm_double_f1  lstm_bi_f1  transformer_f1\n",
              "0          0.8285          0.8801      0.8840         0.87743\n",
              "1          0.8118          0.8787      0.8611         0.87425\n",
              "2          0.8004          0.8606      0.8293         0.84231\n",
              "3          0.8163          0.8676      0.8590         0.86626\n",
              "4          0.8336          0.8709      0.8844         0.88622\n",
              "5          0.8389          0.8873      0.8756         0.86826"
            ]
          },
          "metadata": {
            "tags": []
          },
          "execution_count": 18
        }
      ]
    },
    {
      "cell_type": "code",
      "metadata": {
        "id": "wq_yT-6eZgiU",
        "colab_type": "code",
        "colab": {
          "base_uri": "https://localhost:8080/",
          "height": 230
        },
        "outputId": "1babf1bc-5445-4515-9155-dd41ef898a5f"
      },
      "source": [
        "df_f1_ft"
      ],
      "execution_count": 19,
      "outputs": [
        {
          "output_type": "execute_result",
          "data": {
            "text/html": [
              "<div>\n",
              "<style scoped>\n",
              "    .dataframe tbody tr th:only-of-type {\n",
              "        vertical-align: middle;\n",
              "    }\n",
              "\n",
              "    .dataframe tbody tr th {\n",
              "        vertical-align: top;\n",
              "    }\n",
              "\n",
              "    .dataframe thead th {\n",
              "        text-align: right;\n",
              "    }\n",
              "</style>\n",
              "<table border=\"1\" class=\"dataframe\">\n",
              "  <thead>\n",
              "    <tr style=\"text-align: right;\">\n",
              "      <th></th>\n",
              "      <th>lstm_single_f1_ft</th>\n",
              "      <th>lstm_double_f1_ft</th>\n",
              "      <th>lstm_bi_f1_ft</th>\n",
              "      <th>transformer_f1_ft</th>\n",
              "    </tr>\n",
              "  </thead>\n",
              "  <tbody>\n",
              "    <tr>\n",
              "      <th>0</th>\n",
              "      <td>0.8073</td>\n",
              "      <td>0.8018</td>\n",
              "      <td>0.8124</td>\n",
              "      <td>0.8303</td>\n",
              "    </tr>\n",
              "    <tr>\n",
              "      <th>1</th>\n",
              "      <td>0.7996</td>\n",
              "      <td>0.7893</td>\n",
              "      <td>0.8409</td>\n",
              "      <td>0.8207</td>\n",
              "    </tr>\n",
              "    <tr>\n",
              "      <th>2</th>\n",
              "      <td>0.8017</td>\n",
              "      <td>0.7874</td>\n",
              "      <td>0.8048</td>\n",
              "      <td>0.8129</td>\n",
              "    </tr>\n",
              "    <tr>\n",
              "      <th>3</th>\n",
              "      <td>0.7925</td>\n",
              "      <td>0.7833</td>\n",
              "      <td>0.7958</td>\n",
              "      <td>0.8081</td>\n",
              "    </tr>\n",
              "    <tr>\n",
              "      <th>4</th>\n",
              "      <td>0.8226</td>\n",
              "      <td>0.8360</td>\n",
              "      <td>0.8283</td>\n",
              "      <td>0.8469</td>\n",
              "    </tr>\n",
              "    <tr>\n",
              "      <th>5</th>\n",
              "      <td>0.8014</td>\n",
              "      <td>0.7974</td>\n",
              "      <td>0.8142</td>\n",
              "      <td>0.8239</td>\n",
              "    </tr>\n",
              "  </tbody>\n",
              "</table>\n",
              "</div>"
            ],
            "text/plain": [
              "   lstm_single_f1_ft  lstm_double_f1_ft  lstm_bi_f1_ft  transformer_f1_ft\n",
              "0             0.8073             0.8018         0.8124             0.8303\n",
              "1             0.7996             0.7893         0.8409             0.8207\n",
              "2             0.8017             0.7874         0.8048             0.8129\n",
              "3             0.7925             0.7833         0.7958             0.8081\n",
              "4             0.8226             0.8360         0.8283             0.8469\n",
              "5             0.8014             0.7974         0.8142             0.8239"
            ]
          },
          "metadata": {
            "tags": []
          },
          "execution_count": 19
        }
      ]
    },
    {
      "cell_type": "code",
      "metadata": {
        "id": "MX7Z627iRhDH",
        "colab_type": "code",
        "colab": {}
      },
      "source": [
        "#Annova test \n",
        "import scipy.stats as stats\n"
      ],
      "execution_count": 20,
      "outputs": []
    },
    {
      "cell_type": "code",
      "metadata": {
        "id": "mbyEWHVqnI7e",
        "colab_type": "code",
        "colab": {
          "base_uri": "https://localhost:8080/",
          "height": 122
        },
        "outputId": "13fcf7d3-cc3d-465a-e74f-d1e552594b5b"
      },
      "source": [
        "# stats f_oneway functions takes the groups as input and returns F and P-value\n",
        "fvalue, pvalue = stats.f_oneway(df_data_f1['lstm_single_f1'], df_data_f1['lstm_double_f1'], df_data_f1['lstm_bi_f1'], df_data_f1['transformer_f1'])\n",
        "print(fvalue, pvalue)\n",
        "if(pvalue < 0.05):\n",
        "  print(\"reject null hypothesis for all models are same keras embedding\")\n",
        "\n",
        "# stats f_oneway functions takes the groups as input and returns F and P-value\n",
        "fvalue, pvalue = stats.f_oneway(df_f1_ft['lstm_single_f1_ft'], df_f1_ft['lstm_double_f1_ft'], df_f1_ft['lstm_bi_f1_ft'], df_f1_ft['transformer_f1_ft'])\n",
        "print(fvalue, pvalue)\n",
        "if(pvalue < 0.05):\n",
        "  print(\"reject null hypothesis for all models are same fasttext embedding\")\n",
        "\n",
        "\n",
        "# stats f_oneway functions takes the groups as input and returns F and P-value\n",
        "fvalue, pvalue = stats.f_oneway(df_data_f1_transformer_keras_ft['transformer_f1_ft'], df_data_f1_transformer_keras_ft['transformer_f1'])\n",
        "print(fvalue, pvalue)\n",
        "if(pvalue < 0.05):\n",
        "  print(\"reject null hypothesis for transformer_ft and transformer keras are same\")\n",
        "\n",
        "\n"
      ],
      "execution_count": 22,
      "outputs": [
        {
          "output_type": "stream",
          "text": [
            "14.681757458483455 2.7610079338515238e-05\n",
            "reject null hypothesis for all models are same keras embedding\n",
            "3.2290129092003705 0.04425615093081563\n",
            "reject null hypothesis for all models are same fasttext embedding\n",
            "29.822798330866977 0.0002765273912889113\n",
            "reject null hypothesis for transformer_ft and transformer keras are same\n"
          ],
          "name": "stdout"
        }
      ]
    },
    {
      "cell_type": "code",
      "metadata": {
        "id": "5iyOwY43SmTG",
        "colab_type": "code",
        "colab": {
          "base_uri": "https://localhost:8080/",
          "height": 163
        },
        "outputId": "aa2202e8-0375-4a2e-ed76-84d537a74129"
      },
      "source": [
        "# get ANOVA table as R like output\n",
        "import statsmodels.api as sm\n",
        "from statsmodels.formula.api import ols\n",
        "# reshape the d dataframe suitable for statsmodels package \n",
        "d_melt = pd.melt(df_data_f1.reset_index(), id_vars=['index'], value_vars=['lstm_single_f1', 'lstm_double_f1', 'lstm_bi_f1', 'transformer_f1'])\n",
        "# replace column names\n",
        "d_melt.columns = ['index', 'models', 'value']\n",
        "# Ordinary Least Squares (OLS) model\n",
        "model = ols('value ~ C(models)', data=d_melt).fit()\n",
        "anova_table = sm.stats.anova_lm(model, typ=2)\n",
        "anova_table\n",
        "\n",
        "# note: if the data is balanced (equal sample size for each group), Type 1, 2, and 3 sums of squares\n",
        "# (typ parameter) will produce similar results."
      ],
      "execution_count": 7,
      "outputs": [
        {
          "output_type": "stream",
          "text": [
            "/usr/local/lib/python3.6/dist-packages/statsmodels/tools/_testing.py:19: FutureWarning: pandas.util.testing is deprecated. Use the functions in the public API at pandas.testing instead.\n",
            "  import pandas.util.testing as tm\n"
          ],
          "name": "stderr"
        },
        {
          "output_type": "execute_result",
          "data": {
            "text/html": [
              "<div>\n",
              "<style scoped>\n",
              "    .dataframe tbody tr th:only-of-type {\n",
              "        vertical-align: middle;\n",
              "    }\n",
              "\n",
              "    .dataframe tbody tr th {\n",
              "        vertical-align: top;\n",
              "    }\n",
              "\n",
              "    .dataframe thead th {\n",
              "        text-align: right;\n",
              "    }\n",
              "</style>\n",
              "<table border=\"1\" class=\"dataframe\">\n",
              "  <thead>\n",
              "    <tr style=\"text-align: right;\">\n",
              "      <th></th>\n",
              "      <th>sum_sq</th>\n",
              "      <th>df</th>\n",
              "      <th>F</th>\n",
              "      <th>PR(&gt;F)</th>\n",
              "    </tr>\n",
              "  </thead>\n",
              "  <tbody>\n",
              "    <tr>\n",
              "      <th>C(models)</th>\n",
              "      <td>0.010614</td>\n",
              "      <td>3.0</td>\n",
              "      <td>14.681757</td>\n",
              "      <td>0.000028</td>\n",
              "    </tr>\n",
              "    <tr>\n",
              "      <th>Residual</th>\n",
              "      <td>0.004820</td>\n",
              "      <td>20.0</td>\n",
              "      <td>NaN</td>\n",
              "      <td>NaN</td>\n",
              "    </tr>\n",
              "  </tbody>\n",
              "</table>\n",
              "</div>"
            ],
            "text/plain": [
              "             sum_sq    df          F    PR(>F)\n",
              "C(models)  0.010614   3.0  14.681757  0.000028\n",
              "Residual   0.004820  20.0        NaN       NaN"
            ]
          },
          "metadata": {
            "tags": []
          },
          "execution_count": 7
        }
      ]
    },
    {
      "cell_type": "markdown",
      "metadata": {
        "id": "TLU8Wwy4mfRJ",
        "colab_type": "text"
      },
      "source": [
        "The P-value obtained from ANOVA analysis is significant (P<0.05), and therefore, we conclude that there are significant differences among acc.\n"
      ]
    },
    {
      "cell_type": "code",
      "metadata": {
        "id": "g9VMN6VWTnyr",
        "colab_type": "code",
        "colab": {
          "base_uri": "https://localhost:8080/",
          "height": 828
        },
        "outputId": "35294719-87f9-43bd-a1a7-6bb626094923"
      },
      "source": [
        "!pip install pingouin"
      ],
      "execution_count": 8,
      "outputs": [
        {
          "output_type": "stream",
          "text": [
            "Collecting pingouin\n",
            "\u001b[?25l  Downloading https://files.pythonhosted.org/packages/fc/8f/8204d5e8365b687a77e44e4fd9dd3b0c6b735b4aa63404a65d32d09dd7c3/pingouin-0.3.7.tar.gz (218kB)\n",
            "\r\u001b[K     |█▌                              | 10kB 20.3MB/s eta 0:00:01\r\u001b[K     |███                             | 20kB 4.5MB/s eta 0:00:01\r\u001b[K     |████▌                           | 30kB 5.8MB/s eta 0:00:01\r\u001b[K     |██████                          | 40kB 6.1MB/s eta 0:00:01\r\u001b[K     |███████▌                        | 51kB 5.1MB/s eta 0:00:01\r\u001b[K     |█████████                       | 61kB 5.6MB/s eta 0:00:01\r\u001b[K     |██████████▌                     | 71kB 6.1MB/s eta 0:00:01\r\u001b[K     |████████████                    | 81kB 6.8MB/s eta 0:00:01\r\u001b[K     |█████████████▌                  | 92kB 7.5MB/s eta 0:00:01\r\u001b[K     |███████████████                 | 102kB 6.9MB/s eta 0:00:01\r\u001b[K     |████████████████▌               | 112kB 6.9MB/s eta 0:00:01\r\u001b[K     |██████████████████              | 122kB 6.9MB/s eta 0:00:01\r\u001b[K     |███████████████████▌            | 133kB 6.9MB/s eta 0:00:01\r\u001b[K     |█████████████████████           | 143kB 6.9MB/s eta 0:00:01\r\u001b[K     |██████████████████████▌         | 153kB 6.9MB/s eta 0:00:01\r\u001b[K     |████████████████████████        | 163kB 6.9MB/s eta 0:00:01\r\u001b[K     |█████████████████████████▌      | 174kB 6.9MB/s eta 0:00:01\r\u001b[K     |███████████████████████████     | 184kB 6.9MB/s eta 0:00:01\r\u001b[K     |████████████████████████████▌   | 194kB 6.9MB/s eta 0:00:01\r\u001b[K     |██████████████████████████████  | 204kB 6.9MB/s eta 0:00:01\r\u001b[K     |███████████████████████████████▌| 215kB 6.9MB/s eta 0:00:01\r\u001b[K     |████████████████████████████████| 225kB 6.9MB/s \n",
            "\u001b[?25hRequirement already satisfied: numpy>=1.15 in /usr/local/lib/python3.6/dist-packages (from pingouin) (1.18.5)\n",
            "Requirement already satisfied: scipy>=1.3 in /usr/local/lib/python3.6/dist-packages (from pingouin) (1.4.1)\n",
            "Requirement already satisfied: pandas>=0.24 in /usr/local/lib/python3.6/dist-packages (from pingouin) (1.0.5)\n",
            "Requirement already satisfied: matplotlib>=3.0.2 in /usr/local/lib/python3.6/dist-packages (from pingouin) (3.2.2)\n",
            "Requirement already satisfied: seaborn>=0.9.0 in /usr/local/lib/python3.6/dist-packages (from pingouin) (0.10.1)\n",
            "Requirement already satisfied: statsmodels>=0.10.0 in /usr/local/lib/python3.6/dist-packages (from pingouin) (0.10.2)\n",
            "Requirement already satisfied: scikit-learn in /usr/local/lib/python3.6/dist-packages (from pingouin) (0.22.2.post1)\n",
            "Collecting pandas_flavor>=0.1.2\n",
            "  Downloading https://files.pythonhosted.org/packages/9a/57/7fbcff4c0961ed190ac5fcb0bd8194152ee1ee6487edf64fdbae16e2bc4b/pandas_flavor-0.2.0-py2.py3-none-any.whl\n",
            "Collecting outdated\n",
            "  Downloading https://files.pythonhosted.org/packages/86/70/2f166266438a30e94140f00c99c0eac1c45807981052a1d4c123660e1323/outdated-0.2.0.tar.gz\n",
            "Requirement already satisfied: tabulate in /usr/local/lib/python3.6/dist-packages (from pingouin) (0.8.7)\n",
            "Requirement already satisfied: pytz>=2017.2 in /usr/local/lib/python3.6/dist-packages (from pandas>=0.24->pingouin) (2018.9)\n",
            "Requirement already satisfied: python-dateutil>=2.6.1 in /usr/local/lib/python3.6/dist-packages (from pandas>=0.24->pingouin) (2.8.1)\n",
            "Requirement already satisfied: kiwisolver>=1.0.1 in /usr/local/lib/python3.6/dist-packages (from matplotlib>=3.0.2->pingouin) (1.2.0)\n",
            "Requirement already satisfied: pyparsing!=2.0.4,!=2.1.2,!=2.1.6,>=2.0.1 in /usr/local/lib/python3.6/dist-packages (from matplotlib>=3.0.2->pingouin) (2.4.7)\n",
            "Requirement already satisfied: cycler>=0.10 in /usr/local/lib/python3.6/dist-packages (from matplotlib>=3.0.2->pingouin) (0.10.0)\n",
            "Requirement already satisfied: patsy>=0.4.0 in /usr/local/lib/python3.6/dist-packages (from statsmodels>=0.10.0->pingouin) (0.5.1)\n",
            "Requirement already satisfied: joblib>=0.11 in /usr/local/lib/python3.6/dist-packages (from scikit-learn->pingouin) (0.16.0)\n",
            "Requirement already satisfied: xarray in /usr/local/lib/python3.6/dist-packages (from pandas_flavor>=0.1.2->pingouin) (0.15.1)\n",
            "Collecting littleutils\n",
            "  Downloading https://files.pythonhosted.org/packages/4e/b1/bb4e06f010947d67349f863b6a2ad71577f85590180a935f60543f622652/littleutils-0.2.2.tar.gz\n",
            "Requirement already satisfied: requests in /usr/local/lib/python3.6/dist-packages (from outdated->pingouin) (2.23.0)\n",
            "Requirement already satisfied: six>=1.5 in /usr/local/lib/python3.6/dist-packages (from python-dateutil>=2.6.1->pandas>=0.24->pingouin) (1.15.0)\n",
            "Requirement already satisfied: setuptools>=41.2 in /usr/local/lib/python3.6/dist-packages (from xarray->pandas_flavor>=0.1.2->pingouin) (49.2.0)\n",
            "Requirement already satisfied: idna<3,>=2.5 in /usr/local/lib/python3.6/dist-packages (from requests->outdated->pingouin) (2.10)\n",
            "Requirement already satisfied: chardet<4,>=3.0.2 in /usr/local/lib/python3.6/dist-packages (from requests->outdated->pingouin) (3.0.4)\n",
            "Requirement already satisfied: certifi>=2017.4.17 in /usr/local/lib/python3.6/dist-packages (from requests->outdated->pingouin) (2020.6.20)\n",
            "Requirement already satisfied: urllib3!=1.25.0,!=1.25.1,<1.26,>=1.21.1 in /usr/local/lib/python3.6/dist-packages (from requests->outdated->pingouin) (1.24.3)\n",
            "Building wheels for collected packages: pingouin, outdated, littleutils\n",
            "  Building wheel for pingouin (setup.py) ... \u001b[?25l\u001b[?25hdone\n",
            "  Created wheel for pingouin: filename=pingouin-0.3.7-cp36-none-any.whl size=217260 sha256=b8b52dd189f3aa27c3f72a351b63fe98394d88f8e9bd6e93163d87d20facba94\n",
            "  Stored in directory: /root/.cache/pip/wheels/02/92/32/0ed9ac4a9407227f3f070170a26d05f07d6f2a8a68989a8ac3\n",
            "  Building wheel for outdated (setup.py) ... \u001b[?25l\u001b[?25hdone\n",
            "  Created wheel for outdated: filename=outdated-0.2.0-cp36-none-any.whl size=4962 sha256=c58acfd8295dd0047902387a516cab2d57320a52f2892c88a664cca62df9814f\n",
            "  Stored in directory: /root/.cache/pip/wheels/fd/7c/ef/814f514d31197310872b5abf353feb8fef9d67ee658e1e7e39\n",
            "  Building wheel for littleutils (setup.py) ... \u001b[?25l\u001b[?25hdone\n",
            "  Created wheel for littleutils: filename=littleutils-0.2.2-cp36-none-any.whl size=7049 sha256=3baf4ff98ef54c0ed33d06d3620e0780bd3a4b0aa9ca880e043fe61395c2b563\n",
            "  Stored in directory: /root/.cache/pip/wheels/53/16/9f/ac67d15c40243754fd73f620e1b9b6dedc20492ecc19a2bae1\n",
            "Successfully built pingouin outdated littleutils\n",
            "Installing collected packages: pandas-flavor, littleutils, outdated, pingouin\n",
            "Successfully installed littleutils-0.2.2 outdated-0.2.0 pandas-flavor-0.2.0 pingouin-0.3.7\n"
          ],
          "name": "stdout"
        }
      ]
    },
    {
      "cell_type": "markdown",
      "metadata": {
        "id": "4EdCAr39mqb4",
        "colab_type": "text"
      },
      "source": [
        "From ANOVA analysis, we know that model acc differences are statistically significant, but ANOVA does not tell which models are significantly different from each other. To know the pairs of significant different, we will perform multiple pairwise comparison (Post-hoc comparison) analysis using Tukey HSD test\n"
      ]
    },
    {
      "cell_type": "markdown",
      "metadata": {
        "id": "WTSznFBoD6Pa",
        "colab_type": "text"
      },
      "source": [
        "## Turkey Test"
      ]
    },
    {
      "cell_type": "code",
      "metadata": {
        "id": "xH3hLiLOTiyd",
        "colab_type": "code",
        "colab": {
          "base_uri": "https://localhost:8080/",
          "height": 250
        },
        "outputId": "f9057b31-5d28-46cf-e899-dda0f159a710"
      },
      "source": [
        "# load packages\n",
        "from pingouin import pairwise_tukey\n",
        "# perform multiple pairwise comparison (Tukey HSD)\n",
        "# for unbalanced (unequal sample size) data, pairwise_tukey uses Tukey-Kramer test\n",
        "m_comp = pairwise_tukey(data=d_melt, dv='value', between='models')\n",
        "m_comp"
      ],
      "execution_count": 9,
      "outputs": [
        {
          "output_type": "execute_result",
          "data": {
            "text/html": [
              "<div>\n",
              "<style scoped>\n",
              "    .dataframe tbody tr th:only-of-type {\n",
              "        vertical-align: middle;\n",
              "    }\n",
              "\n",
              "    .dataframe tbody tr th {\n",
              "        vertical-align: top;\n",
              "    }\n",
              "\n",
              "    .dataframe thead th {\n",
              "        text-align: right;\n",
              "    }\n",
              "</style>\n",
              "<table border=\"1\" class=\"dataframe\">\n",
              "  <thead>\n",
              "    <tr style=\"text-align: right;\">\n",
              "      <th></th>\n",
              "      <th>A</th>\n",
              "      <th>B</th>\n",
              "      <th>mean(A)</th>\n",
              "      <th>mean(B)</th>\n",
              "      <th>diff</th>\n",
              "      <th>se</th>\n",
              "      <th>T</th>\n",
              "      <th>p-tukey</th>\n",
              "      <th>hedges</th>\n",
              "    </tr>\n",
              "  </thead>\n",
              "  <tbody>\n",
              "    <tr>\n",
              "      <th>0</th>\n",
              "      <td>lstm_bi_f1</td>\n",
              "      <td>lstm_double_f1</td>\n",
              "      <td>0.865567</td>\n",
              "      <td>0.874200</td>\n",
              "      <td>-0.008633</td>\n",
              "      <td>0.008962</td>\n",
              "      <td>-0.963279</td>\n",
              "      <td>0.742635</td>\n",
              "      <td>-0.513369</td>\n",
              "    </tr>\n",
              "    <tr>\n",
              "      <th>1</th>\n",
              "      <td>lstm_bi_f1</td>\n",
              "      <td>lstm_single_f1</td>\n",
              "      <td>0.865567</td>\n",
              "      <td>0.821583</td>\n",
              "      <td>0.043983</td>\n",
              "      <td>0.008962</td>\n",
              "      <td>4.907518</td>\n",
              "      <td>0.001000</td>\n",
              "      <td>2.615406</td>\n",
              "    </tr>\n",
              "    <tr>\n",
              "      <th>2</th>\n",
              "      <td>lstm_bi_f1</td>\n",
              "      <td>transformer_f1</td>\n",
              "      <td>0.865567</td>\n",
              "      <td>0.869122</td>\n",
              "      <td>-0.003555</td>\n",
              "      <td>0.008962</td>\n",
              "      <td>-0.396655</td>\n",
              "      <td>0.900000</td>\n",
              "      <td>-0.211393</td>\n",
              "    </tr>\n",
              "    <tr>\n",
              "      <th>3</th>\n",
              "      <td>lstm_double_f1</td>\n",
              "      <td>lstm_single_f1</td>\n",
              "      <td>0.874200</td>\n",
              "      <td>0.821583</td>\n",
              "      <td>0.052617</td>\n",
              "      <td>0.008962</td>\n",
              "      <td>5.870797</td>\n",
              "      <td>0.001000</td>\n",
              "      <td>3.128775</td>\n",
              "    </tr>\n",
              "    <tr>\n",
              "      <th>4</th>\n",
              "      <td>lstm_double_f1</td>\n",
              "      <td>transformer_f1</td>\n",
              "      <td>0.874200</td>\n",
              "      <td>0.869122</td>\n",
              "      <td>0.005078</td>\n",
              "      <td>0.008962</td>\n",
              "      <td>0.566624</td>\n",
              "      <td>0.900000</td>\n",
              "      <td>0.301976</td>\n",
              "    </tr>\n",
              "    <tr>\n",
              "      <th>5</th>\n",
              "      <td>lstm_single_f1</td>\n",
              "      <td>transformer_f1</td>\n",
              "      <td>0.821583</td>\n",
              "      <td>0.869122</td>\n",
              "      <td>-0.047538</td>\n",
              "      <td>0.008962</td>\n",
              "      <td>-5.304173</td>\n",
              "      <td>0.001000</td>\n",
              "      <td>-2.826799</td>\n",
              "    </tr>\n",
              "  </tbody>\n",
              "</table>\n",
              "</div>"
            ],
            "text/plain": [
              "                A               B   mean(A)  ...         T   p-tukey    hedges\n",
              "0      lstm_bi_f1  lstm_double_f1  0.865567  ... -0.963279  0.742635 -0.513369\n",
              "1      lstm_bi_f1  lstm_single_f1  0.865567  ...  4.907518  0.001000  2.615406\n",
              "2      lstm_bi_f1  transformer_f1  0.865567  ... -0.396655  0.900000 -0.211393\n",
              "3  lstm_double_f1  lstm_single_f1  0.874200  ...  5.870797  0.001000  3.128775\n",
              "4  lstm_double_f1  transformer_f1  0.874200  ...  0.566624  0.900000  0.301976\n",
              "5  lstm_single_f1  transformer_f1  0.821583  ... -5.304173  0.001000 -2.826799\n",
              "\n",
              "[6 rows x 9 columns]"
            ]
          },
          "metadata": {
            "tags": []
          },
          "execution_count": 9
        }
      ]
    },
    {
      "cell_type": "markdown",
      "metadata": {
        "id": "s-xyKLGrmz-5",
        "colab_type": "text"
      },
      "source": [
        "Above results from Tukey HSD suggests that \n",
        "\n",
        "\n",
        "---\n",
        "\n",
        "\n",
        "except (lstm_bi and lstm_double) (lstm_bi and transformer) (lstm_double and transformer)\n",
        "\n",
        "\n",
        "---\n",
        "\n",
        "\n",
        "all other pairwise comparisons for treatments rejects null hypothesis (P-tukey<0.05) and indicates statistical significant differences."
      ]
    },
    {
      "cell_type": "code",
      "metadata": {
        "id": "zh3myYoNLimq",
        "colab_type": "code",
        "colab": {
          "base_uri": "https://localhost:8080/",
          "height": 108
        },
        "outputId": "7f2951aa-e624-4eda-cba2-13b7a5615cdc"
      },
      "source": [
        "# get ANOVA table as R like output\n",
        "import statsmodels.api as sm\n",
        "from statsmodels.formula.api import ols\n",
        "# reshape the d dataframe suitable for statsmodels package \n",
        "d_melt_ft = pd.melt(df_f1_ft.reset_index(), id_vars=['index'], value_vars=['lstm_single_f1_ft', 'lstm_double_f1_ft', 'lstm_bi_f1_ft', 'transformer_f1_ft'])\n",
        "# replace column names\n",
        "d_melt_ft.columns = ['index', 'models', 'value']\n",
        "# Ordinary Least Squares (OLS) model\n",
        "model_ft = ols('value ~ C(models)', data=d_melt).fit()\n",
        "anova_table = sm.stats.anova_lm(model_ft, typ=2)\n",
        "anova_table\n",
        "\n",
        "# note: if the data is balanced (equal sample size for each group), Type 1, 2, and 3 sums of squares\n",
        "# (typ parameter) will produce similar results."
      ],
      "execution_count": 10,
      "outputs": [
        {
          "output_type": "execute_result",
          "data": {
            "text/html": [
              "<div>\n",
              "<style scoped>\n",
              "    .dataframe tbody tr th:only-of-type {\n",
              "        vertical-align: middle;\n",
              "    }\n",
              "\n",
              "    .dataframe tbody tr th {\n",
              "        vertical-align: top;\n",
              "    }\n",
              "\n",
              "    .dataframe thead th {\n",
              "        text-align: right;\n",
              "    }\n",
              "</style>\n",
              "<table border=\"1\" class=\"dataframe\">\n",
              "  <thead>\n",
              "    <tr style=\"text-align: right;\">\n",
              "      <th></th>\n",
              "      <th>sum_sq</th>\n",
              "      <th>df</th>\n",
              "      <th>F</th>\n",
              "      <th>PR(&gt;F)</th>\n",
              "    </tr>\n",
              "  </thead>\n",
              "  <tbody>\n",
              "    <tr>\n",
              "      <th>C(models)</th>\n",
              "      <td>0.010614</td>\n",
              "      <td>3.0</td>\n",
              "      <td>14.681757</td>\n",
              "      <td>0.000028</td>\n",
              "    </tr>\n",
              "    <tr>\n",
              "      <th>Residual</th>\n",
              "      <td>0.004820</td>\n",
              "      <td>20.0</td>\n",
              "      <td>NaN</td>\n",
              "      <td>NaN</td>\n",
              "    </tr>\n",
              "  </tbody>\n",
              "</table>\n",
              "</div>"
            ],
            "text/plain": [
              "             sum_sq    df          F    PR(>F)\n",
              "C(models)  0.010614   3.0  14.681757  0.000028\n",
              "Residual   0.004820  20.0        NaN       NaN"
            ]
          },
          "metadata": {
            "tags": []
          },
          "execution_count": 10
        }
      ]
    },
    {
      "cell_type": "code",
      "metadata": {
        "id": "qNRjVyG7MCi-",
        "colab_type": "code",
        "colab": {
          "base_uri": "https://localhost:8080/",
          "height": 250
        },
        "outputId": "b89d58b7-ea5c-4f47-91d5-db67129a2920"
      },
      "source": [
        "\n",
        "# perform multiple pairwise comparison (Tukey HSD)\n",
        "# for unbalanced (unequal sample size) data, pairwise_tukey uses Tukey-Kramer test\n",
        "m_comp = pairwise_tukey(data=d_melt_ft, dv='value', between='models')\n",
        "m_comp"
      ],
      "execution_count": 11,
      "outputs": [
        {
          "output_type": "execute_result",
          "data": {
            "text/html": [
              "<div>\n",
              "<style scoped>\n",
              "    .dataframe tbody tr th:only-of-type {\n",
              "        vertical-align: middle;\n",
              "    }\n",
              "\n",
              "    .dataframe tbody tr th {\n",
              "        vertical-align: top;\n",
              "    }\n",
              "\n",
              "    .dataframe thead th {\n",
              "        text-align: right;\n",
              "    }\n",
              "</style>\n",
              "<table border=\"1\" class=\"dataframe\">\n",
              "  <thead>\n",
              "    <tr style=\"text-align: right;\">\n",
              "      <th></th>\n",
              "      <th>A</th>\n",
              "      <th>B</th>\n",
              "      <th>mean(A)</th>\n",
              "      <th>mean(B)</th>\n",
              "      <th>diff</th>\n",
              "      <th>se</th>\n",
              "      <th>T</th>\n",
              "      <th>p-tukey</th>\n",
              "      <th>hedges</th>\n",
              "    </tr>\n",
              "  </thead>\n",
              "  <tbody>\n",
              "    <tr>\n",
              "      <th>0</th>\n",
              "      <td>lstm_bi_f1_ft</td>\n",
              "      <td>lstm_double_f1_ft</td>\n",
              "      <td>0.816067</td>\n",
              "      <td>0.799200</td>\n",
              "      <td>0.016867</td>\n",
              "      <td>0.0088</td>\n",
              "      <td>1.916679</td>\n",
              "      <td>0.229693</td>\n",
              "      <td>1.021472</td>\n",
              "    </tr>\n",
              "    <tr>\n",
              "      <th>1</th>\n",
              "      <td>lstm_bi_f1_ft</td>\n",
              "      <td>lstm_single_f1_ft</td>\n",
              "      <td>0.816067</td>\n",
              "      <td>0.804183</td>\n",
              "      <td>0.011883</td>\n",
              "      <td>0.0088</td>\n",
              "      <td>1.350387</td>\n",
              "      <td>0.526376</td>\n",
              "      <td>0.719674</td>\n",
              "    </tr>\n",
              "    <tr>\n",
              "      <th>2</th>\n",
              "      <td>lstm_bi_f1_ft</td>\n",
              "      <td>transformer_f1_ft</td>\n",
              "      <td>0.816067</td>\n",
              "      <td>0.823800</td>\n",
              "      <td>-0.007733</td>\n",
              "      <td>0.0088</td>\n",
              "      <td>-0.878793</td>\n",
              "      <td>0.789833</td>\n",
              "      <td>-0.468343</td>\n",
              "    </tr>\n",
              "    <tr>\n",
              "      <th>3</th>\n",
              "      <td>lstm_double_f1_ft</td>\n",
              "      <td>lstm_single_f1_ft</td>\n",
              "      <td>0.799200</td>\n",
              "      <td>0.804183</td>\n",
              "      <td>-0.004983</td>\n",
              "      <td>0.0088</td>\n",
              "      <td>-0.566291</td>\n",
              "      <td>0.900000</td>\n",
              "      <td>-0.301799</td>\n",
              "    </tr>\n",
              "    <tr>\n",
              "      <th>4</th>\n",
              "      <td>lstm_double_f1_ft</td>\n",
              "      <td>transformer_f1_ft</td>\n",
              "      <td>0.799200</td>\n",
              "      <td>0.823800</td>\n",
              "      <td>-0.024600</td>\n",
              "      <td>0.0088</td>\n",
              "      <td>-2.795472</td>\n",
              "      <td>0.032688</td>\n",
              "      <td>-1.489815</td>\n",
              "    </tr>\n",
              "    <tr>\n",
              "      <th>5</th>\n",
              "      <td>lstm_single_f1_ft</td>\n",
              "      <td>transformer_f1_ft</td>\n",
              "      <td>0.804183</td>\n",
              "      <td>0.823800</td>\n",
              "      <td>-0.019617</td>\n",
              "      <td>0.0088</td>\n",
              "      <td>-2.229181</td>\n",
              "      <td>0.125215</td>\n",
              "      <td>-1.188017</td>\n",
              "    </tr>\n",
              "  </tbody>\n",
              "</table>\n",
              "</div>"
            ],
            "text/plain": [
              "                   A                  B   mean(A)  ...         T   p-tukey    hedges\n",
              "0      lstm_bi_f1_ft  lstm_double_f1_ft  0.816067  ...  1.916679  0.229693  1.021472\n",
              "1      lstm_bi_f1_ft  lstm_single_f1_ft  0.816067  ...  1.350387  0.526376  0.719674\n",
              "2      lstm_bi_f1_ft  transformer_f1_ft  0.816067  ... -0.878793  0.789833 -0.468343\n",
              "3  lstm_double_f1_ft  lstm_single_f1_ft  0.799200  ... -0.566291  0.900000 -0.301799\n",
              "4  lstm_double_f1_ft  transformer_f1_ft  0.799200  ... -2.795472  0.032688 -1.489815\n",
              "5  lstm_single_f1_ft  transformer_f1_ft  0.804183  ... -2.229181  0.125215 -1.188017\n",
              "\n",
              "[6 rows x 9 columns]"
            ]
          },
          "metadata": {
            "tags": []
          },
          "execution_count": 11
        }
      ]
    },
    {
      "cell_type": "markdown",
      "metadata": {
        "id": "Nx-THWeBMZDH",
        "colab_type": "text"
      },
      "source": [
        "The avobe results for fatstext models outlines that double LSTM and Transformer have a significant difference."
      ]
    }
  ]
}